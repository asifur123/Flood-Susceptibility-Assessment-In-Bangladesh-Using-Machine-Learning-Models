{
 "cells": [
  {
   "cell_type": "markdown",
   "id": "c447f641",
   "metadata": {
    "id": "5537b649"
   },
   "source": [
    "### Applying Traditional Machine Learning Algorithm \n",
    "#### Md. Asifur Rahman Asif\n",
    "#### ID: 18.02.04.114"
   ]
  },
  {
   "cell_type": "code",
   "execution_count": 422,
   "id": "9c794a05",
   "metadata": {},
   "outputs": [],
   "source": [
    "import pandas as pd\n",
    "import numpy as np\n",
    "\n",
    "pd.options.display.max_columns = 100\n",
    "pd.options.display.max_rows = 100\n",
    "\n",
    "from sklearn.model_selection import train_test_split\n",
    "from sklearn.model_selection import cross_val_score\n",
    "\n",
    "from sklearn.linear_model import LogisticRegression\n",
    "from sklearn.tree import DecisionTreeClassifier\n",
    "from sklearn.ensemble import RandomForestClassifier\n",
    "from sklearn.neighbors import KNeighborsClassifier\n",
    "\n",
    "from sklearn.metrics import accuracy_score, classification_report, confusion_matrix\n",
    "from sklearn.metrics import roc_curve, roc_auc_score, precision_score, recall_score, f1_score\n",
    "#from sklearn.metrics import plot_confusion_matrix\n",
    "\n",
    "import matplotlib.pyplot as plt\n",
    "import seaborn as sns\n",
    "\n",
    "import warnings\n",
    "warnings.filterwarnings('ignore')"
   ]
  },
  {
   "cell_type": "markdown",
   "id": "c5aae4df",
   "metadata": {
    "id": "c5aae4df"
   },
   "source": [
    "#### Load data"
   ]
  },
  {
   "cell_type": "code",
   "execution_count": 423,
   "id": "eceeca45",
   "metadata": {
    "colab": {
     "base_uri": "https://localhost:8080/",
     "height": 427
    },
    "id": "eceeca45",
    "outputId": "f0294ac3-3122-4446-e882-cf671739ac27"
   },
   "outputs": [
    {
     "data": {
      "text/html": [
       "<div>\n",
       "<style scoped>\n",
       "    .dataframe tbody tr th:only-of-type {\n",
       "        vertical-align: middle;\n",
       "    }\n",
       "\n",
       "    .dataframe tbody tr th {\n",
       "        vertical-align: top;\n",
       "    }\n",
       "\n",
       "    .dataframe thead th {\n",
       "        text-align: right;\n",
       "    }\n",
       "</style>\n",
       "<table border=\"1\" class=\"dataframe\">\n",
       "  <thead>\n",
       "    <tr style=\"text-align: right;\">\n",
       "      <th></th>\n",
       "      <th>Sl</th>\n",
       "      <th>Station_Names</th>\n",
       "      <th>Year</th>\n",
       "      <th>Month</th>\n",
       "      <th>Max_Temp</th>\n",
       "      <th>Min_Temp</th>\n",
       "      <th>Rainfall</th>\n",
       "      <th>Relative_Humidity</th>\n",
       "      <th>Wind_Speed</th>\n",
       "      <th>Cloud_Coverage</th>\n",
       "      <th>Bright_Sunshine</th>\n",
       "      <th>Station_Number</th>\n",
       "      <th>X_COR</th>\n",
       "      <th>Y_COR</th>\n",
       "      <th>LATITUDE</th>\n",
       "      <th>LONGITUDE</th>\n",
       "      <th>ALT</th>\n",
       "      <th>Period</th>\n",
       "      <th>Flood</th>\n",
       "    </tr>\n",
       "  </thead>\n",
       "  <tbody>\n",
       "    <tr>\n",
       "      <th>0</th>\n",
       "      <td>0</td>\n",
       "      <td>Barisal</td>\n",
       "      <td>1949</td>\n",
       "      <td>1</td>\n",
       "      <td>29.4</td>\n",
       "      <td>12.3</td>\n",
       "      <td>0.0</td>\n",
       "      <td>68.0</td>\n",
       "      <td>0.453704</td>\n",
       "      <td>0.6</td>\n",
       "      <td>7.831915</td>\n",
       "      <td>41950</td>\n",
       "      <td>536809.8</td>\n",
       "      <td>510151.9</td>\n",
       "      <td>22.7</td>\n",
       "      <td>90.36</td>\n",
       "      <td>4</td>\n",
       "      <td>1949.01</td>\n",
       "      <td>NaN</td>\n",
       "    </tr>\n",
       "    <tr>\n",
       "      <th>1</th>\n",
       "      <td>1</td>\n",
       "      <td>Barisal</td>\n",
       "      <td>1949</td>\n",
       "      <td>2</td>\n",
       "      <td>33.9</td>\n",
       "      <td>15.2</td>\n",
       "      <td>9.0</td>\n",
       "      <td>63.0</td>\n",
       "      <td>0.659259</td>\n",
       "      <td>0.9</td>\n",
       "      <td>8.314894</td>\n",
       "      <td>41950</td>\n",
       "      <td>536809.8</td>\n",
       "      <td>510151.9</td>\n",
       "      <td>22.7</td>\n",
       "      <td>90.36</td>\n",
       "      <td>4</td>\n",
       "      <td>1949.02</td>\n",
       "      <td>NaN</td>\n",
       "    </tr>\n",
       "    <tr>\n",
       "      <th>2</th>\n",
       "      <td>2</td>\n",
       "      <td>Barisal</td>\n",
       "      <td>1949</td>\n",
       "      <td>3</td>\n",
       "      <td>36.7</td>\n",
       "      <td>20.2</td>\n",
       "      <td>8.0</td>\n",
       "      <td>59.0</td>\n",
       "      <td>1.085185</td>\n",
       "      <td>1.5</td>\n",
       "      <td>8.131915</td>\n",
       "      <td>41950</td>\n",
       "      <td>536809.8</td>\n",
       "      <td>510151.9</td>\n",
       "      <td>22.7</td>\n",
       "      <td>90.36</td>\n",
       "      <td>4</td>\n",
       "      <td>1949.03</td>\n",
       "      <td>NaN</td>\n",
       "    </tr>\n",
       "    <tr>\n",
       "      <th>3</th>\n",
       "      <td>3</td>\n",
       "      <td>Barisal</td>\n",
       "      <td>1949</td>\n",
       "      <td>4</td>\n",
       "      <td>33.9</td>\n",
       "      <td>23.9</td>\n",
       "      <td>140.0</td>\n",
       "      <td>71.0</td>\n",
       "      <td>1.772222</td>\n",
       "      <td>3.9</td>\n",
       "      <td>8.219149</td>\n",
       "      <td>41950</td>\n",
       "      <td>536809.8</td>\n",
       "      <td>510151.9</td>\n",
       "      <td>22.7</td>\n",
       "      <td>90.36</td>\n",
       "      <td>4</td>\n",
       "      <td>1949.04</td>\n",
       "      <td>NaN</td>\n",
       "    </tr>\n",
       "    <tr>\n",
       "      <th>4</th>\n",
       "      <td>4</td>\n",
       "      <td>Barisal</td>\n",
       "      <td>1949</td>\n",
       "      <td>5</td>\n",
       "      <td>35.6</td>\n",
       "      <td>25.0</td>\n",
       "      <td>217.0</td>\n",
       "      <td>76.0</td>\n",
       "      <td>1.703704</td>\n",
       "      <td>4.1</td>\n",
       "      <td>7.046809</td>\n",
       "      <td>41950</td>\n",
       "      <td>536809.8</td>\n",
       "      <td>510151.9</td>\n",
       "      <td>22.7</td>\n",
       "      <td>90.36</td>\n",
       "      <td>4</td>\n",
       "      <td>1949.05</td>\n",
       "      <td>NaN</td>\n",
       "    </tr>\n",
       "    <tr>\n",
       "      <th>5</th>\n",
       "      <td>5</td>\n",
       "      <td>Barisal</td>\n",
       "      <td>1949</td>\n",
       "      <td>6</td>\n",
       "      <td>34.4</td>\n",
       "      <td>25.7</td>\n",
       "      <td>512.0</td>\n",
       "      <td>80.0</td>\n",
       "      <td>1.631481</td>\n",
       "      <td>5.6</td>\n",
       "      <td>4.072340</td>\n",
       "      <td>41950</td>\n",
       "      <td>536809.8</td>\n",
       "      <td>510151.9</td>\n",
       "      <td>22.7</td>\n",
       "      <td>90.36</td>\n",
       "      <td>4</td>\n",
       "      <td>1949.06</td>\n",
       "      <td>1.0</td>\n",
       "    </tr>\n",
       "    <tr>\n",
       "      <th>6</th>\n",
       "      <td>6</td>\n",
       "      <td>Barisal</td>\n",
       "      <td>1949</td>\n",
       "      <td>7</td>\n",
       "      <td>33.4</td>\n",
       "      <td>25.8</td>\n",
       "      <td>575.0</td>\n",
       "      <td>85.0</td>\n",
       "      <td>1.570370</td>\n",
       "      <td>5.4</td>\n",
       "      <td>3.738298</td>\n",
       "      <td>41950</td>\n",
       "      <td>536809.8</td>\n",
       "      <td>510151.9</td>\n",
       "      <td>22.7</td>\n",
       "      <td>90.36</td>\n",
       "      <td>4</td>\n",
       "      <td>1949.07</td>\n",
       "      <td>1.0</td>\n",
       "    </tr>\n",
       "    <tr>\n",
       "      <th>7</th>\n",
       "      <td>7</td>\n",
       "      <td>Barisal</td>\n",
       "      <td>1949</td>\n",
       "      <td>8</td>\n",
       "      <td>33.5</td>\n",
       "      <td>25.7</td>\n",
       "      <td>349.0</td>\n",
       "      <td>86.0</td>\n",
       "      <td>1.329630</td>\n",
       "      <td>5.6</td>\n",
       "      <td>4.272340</td>\n",
       "      <td>41950</td>\n",
       "      <td>536809.8</td>\n",
       "      <td>510151.9</td>\n",
       "      <td>22.7</td>\n",
       "      <td>90.36</td>\n",
       "      <td>4</td>\n",
       "      <td>1949.08</td>\n",
       "      <td>1.0</td>\n",
       "    </tr>\n",
       "    <tr>\n",
       "      <th>8</th>\n",
       "      <td>8</td>\n",
       "      <td>Barisal</td>\n",
       "      <td>1949</td>\n",
       "      <td>9</td>\n",
       "      <td>34.8</td>\n",
       "      <td>25.7</td>\n",
       "      <td>252.0</td>\n",
       "      <td>83.0</td>\n",
       "      <td>0.937037</td>\n",
       "      <td>4.8</td>\n",
       "      <td>4.823404</td>\n",
       "      <td>41950</td>\n",
       "      <td>536809.8</td>\n",
       "      <td>510151.9</td>\n",
       "      <td>22.7</td>\n",
       "      <td>90.36</td>\n",
       "      <td>4</td>\n",
       "      <td>1949.09</td>\n",
       "      <td>NaN</td>\n",
       "    </tr>\n",
       "    <tr>\n",
       "      <th>9</th>\n",
       "      <td>9</td>\n",
       "      <td>Barisal</td>\n",
       "      <td>1949</td>\n",
       "      <td>10</td>\n",
       "      <td>34.0</td>\n",
       "      <td>24.7</td>\n",
       "      <td>128.0</td>\n",
       "      <td>78.0</td>\n",
       "      <td>0.490741</td>\n",
       "      <td>3.1</td>\n",
       "      <td>7.000000</td>\n",
       "      <td>41950</td>\n",
       "      <td>536809.8</td>\n",
       "      <td>510151.9</td>\n",
       "      <td>22.7</td>\n",
       "      <td>90.36</td>\n",
       "      <td>4</td>\n",
       "      <td>1949.10</td>\n",
       "      <td>NaN</td>\n",
       "    </tr>\n",
       "  </tbody>\n",
       "</table>\n",
       "</div>"
      ],
      "text/plain": [
       "   Sl Station_Names  Year  Month  Max_Temp  Min_Temp  Rainfall  \\\n",
       "0   0       Barisal  1949      1      29.4      12.3       0.0   \n",
       "1   1       Barisal  1949      2      33.9      15.2       9.0   \n",
       "2   2       Barisal  1949      3      36.7      20.2       8.0   \n",
       "3   3       Barisal  1949      4      33.9      23.9     140.0   \n",
       "4   4       Barisal  1949      5      35.6      25.0     217.0   \n",
       "5   5       Barisal  1949      6      34.4      25.7     512.0   \n",
       "6   6       Barisal  1949      7      33.4      25.8     575.0   \n",
       "7   7       Barisal  1949      8      33.5      25.7     349.0   \n",
       "8   8       Barisal  1949      9      34.8      25.7     252.0   \n",
       "9   9       Barisal  1949     10      34.0      24.7     128.0   \n",
       "\n",
       "   Relative_Humidity  Wind_Speed  Cloud_Coverage  Bright_Sunshine  \\\n",
       "0               68.0    0.453704             0.6         7.831915   \n",
       "1               63.0    0.659259             0.9         8.314894   \n",
       "2               59.0    1.085185             1.5         8.131915   \n",
       "3               71.0    1.772222             3.9         8.219149   \n",
       "4               76.0    1.703704             4.1         7.046809   \n",
       "5               80.0    1.631481             5.6         4.072340   \n",
       "6               85.0    1.570370             5.4         3.738298   \n",
       "7               86.0    1.329630             5.6         4.272340   \n",
       "8               83.0    0.937037             4.8         4.823404   \n",
       "9               78.0    0.490741             3.1         7.000000   \n",
       "\n",
       "   Station_Number     X_COR     Y_COR  LATITUDE  LONGITUDE  ALT   Period  \\\n",
       "0           41950  536809.8  510151.9      22.7      90.36    4  1949.01   \n",
       "1           41950  536809.8  510151.9      22.7      90.36    4  1949.02   \n",
       "2           41950  536809.8  510151.9      22.7      90.36    4  1949.03   \n",
       "3           41950  536809.8  510151.9      22.7      90.36    4  1949.04   \n",
       "4           41950  536809.8  510151.9      22.7      90.36    4  1949.05   \n",
       "5           41950  536809.8  510151.9      22.7      90.36    4  1949.06   \n",
       "6           41950  536809.8  510151.9      22.7      90.36    4  1949.07   \n",
       "7           41950  536809.8  510151.9      22.7      90.36    4  1949.08   \n",
       "8           41950  536809.8  510151.9      22.7      90.36    4  1949.09   \n",
       "9           41950  536809.8  510151.9      22.7      90.36    4  1949.10   \n",
       "\n",
       "   Flood  \n",
       "0    NaN  \n",
       "1    NaN  \n",
       "2    NaN  \n",
       "3    NaN  \n",
       "4    NaN  \n",
       "5    1.0  \n",
       "6    1.0  \n",
       "7    1.0  \n",
       "8    NaN  \n",
       "9    NaN  "
      ]
     },
     "metadata": {},
     "output_type": "display_data"
    }
   ],
   "source": [
    "df = pd.read_csv(\"FloodTrain.csv\")\n",
    "#test = pd.read_excel(\"FloodTest.xlsx\")\n",
    "\n",
    "display(df.head(10))"
   ]
  },
  {
   "cell_type": "markdown",
   "id": "27473bb4",
   "metadata": {
    "id": "27473bb4"
   },
   "source": [
    "#### Data Preprocessing"
   ]
  },
  {
   "cell_type": "code",
   "execution_count": 424,
   "id": "0f04ef76",
   "metadata": {
    "colab": {
     "base_uri": "https://localhost:8080/"
    },
    "id": "0f04ef76",
    "outputId": "07f717cb-7927-4970-a6cf-85941854977c"
   },
   "outputs": [
    {
     "data": {
      "text/plain": [
       "Sl                       0\n",
       "Station_Names            0\n",
       "Year                     0\n",
       "Month                    0\n",
       "Max_Temp                 0\n",
       "Min_Temp                 0\n",
       "Rainfall                 0\n",
       "Relative_Humidity        0\n",
       "Wind_Speed               0\n",
       "Cloud_Coverage           0\n",
       "Bright_Sunshine          0\n",
       "Station_Number           0\n",
       "X_COR                    0\n",
       "Y_COR                    0\n",
       "LATITUDE                 0\n",
       "LONGITUDE                0\n",
       "ALT                      0\n",
       "Period                   0\n",
       "Flood                16051\n",
       "dtype: int64"
      ]
     },
     "execution_count": 424,
     "metadata": {},
     "output_type": "execute_result"
    }
   ],
   "source": [
    "df.isnull().sum()"
   ]
  },
  {
   "cell_type": "code",
   "execution_count": 425,
   "id": "65144935",
   "metadata": {
    "id": "65144935"
   },
   "outputs": [],
   "source": [
    "df['Flood'] = df['Flood'].fillna(0)"
   ]
  },
  {
   "cell_type": "code",
   "execution_count": 426,
   "id": "257b93a2",
   "metadata": {},
   "outputs": [],
   "source": [
    "df['Flood'] = df['Flood'].astype('int64')"
   ]
  },
  {
   "cell_type": "code",
   "execution_count": 427,
   "id": "aa17fbb9",
   "metadata": {
    "id": "aa17fbb9",
    "outputId": "67ec5b99-1905-4c3e-d22c-e19416a2612a"
   },
   "outputs": [
    {
     "name": "stdout",
     "output_type": "stream",
     "text": [
      "<class 'pandas.core.frame.DataFrame'>\n",
      "RangeIndex: 20544 entries, 0 to 20543\n",
      "Data columns (total 19 columns):\n",
      " #   Column             Non-Null Count  Dtype  \n",
      "---  ------             --------------  -----  \n",
      " 0   Sl                 20544 non-null  int64  \n",
      " 1   Station_Names      20544 non-null  object \n",
      " 2   Year               20544 non-null  int64  \n",
      " 3   Month              20544 non-null  int64  \n",
      " 4   Max_Temp           20544 non-null  float64\n",
      " 5   Min_Temp           20544 non-null  float64\n",
      " 6   Rainfall           20544 non-null  float64\n",
      " 7   Relative_Humidity  20544 non-null  float64\n",
      " 8   Wind_Speed         20544 non-null  float64\n",
      " 9   Cloud_Coverage     20544 non-null  float64\n",
      " 10  Bright_Sunshine    20544 non-null  float64\n",
      " 11  Station_Number     20544 non-null  int64  \n",
      " 12  X_COR              20544 non-null  float64\n",
      " 13  Y_COR              20544 non-null  float64\n",
      " 14  LATITUDE           20544 non-null  float64\n",
      " 15  LONGITUDE          20544 non-null  float64\n",
      " 16  ALT                20544 non-null  int64  \n",
      " 17  Period             20544 non-null  float64\n",
      " 18  Flood              20544 non-null  int64  \n",
      "dtypes: float64(12), int64(6), object(1)\n",
      "memory usage: 3.0+ MB\n"
     ]
    }
   ],
   "source": [
    "df.info()"
   ]
  },
  {
   "cell_type": "markdown",
   "id": "7a56016a",
   "metadata": {
    "id": "7a56016a"
   },
   "source": [
    "#### Label Encoding"
   ]
  },
  {
   "cell_type": "code",
   "execution_count": 428,
   "id": "ac0b276a",
   "metadata": {
    "colab": {
     "base_uri": "https://localhost:8080/"
    },
    "id": "ac0b276a",
    "outputId": "f6a0360f-3118-436b-ae26-da7b0858f3dc"
   },
   "outputs": [
    {
     "name": "stdout",
     "output_type": "stream",
     "text": [
      "['Barisal' 'Bhola' 'Bogra' 'Chandpur' 'Chittagong (City-Ambagan)'\n",
      " 'Chittagong (IAP-Patenga)' 'Comilla' \"Cox's Bazar\" 'Dhaka' 'Dinajpur'\n",
      " 'Faridpur' 'Feni' 'Hatiya' 'Ishurdi' 'Jessore' 'Khepupara' 'Khulna'\n",
      " 'Kutubdia' 'Madaripur' 'Maijdee Court' 'Mongla' 'Mymensingh' 'Patuakhali'\n",
      " 'Rajshahi' 'Rangamati' 'Rangpur' 'Sandwip' 'Satkhira' 'Sitakunda'\n",
      " 'Srimangal' 'Sylhet' 'Tangail' 'Teknaf']\n"
     ]
    }
   ],
   "source": [
    "from sklearn import preprocessing\n",
    "le = preprocessing.LabelEncoder()\n",
    "columns = ['Station_Names']\n",
    "\n",
    "for col in columns:\n",
    "    df[col]=le.fit_transform(df[col])\n",
    "    \n",
    "print(le.classes_)"
   ]
  },
  {
   "cell_type": "markdown",
   "id": "d54f96f4",
   "metadata": {},
   "source": [
    "#### Random Oversampling Imbalanced Datasets"
   ]
  },
  {
   "cell_type": "code",
   "execution_count": 429,
   "id": "5c2e7a2b",
   "metadata": {},
   "outputs": [
    {
     "data": {
      "text/plain": [
       "0    16412\n",
       "1     4132\n",
       "Name: Flood, dtype: int64"
      ]
     },
     "execution_count": 429,
     "metadata": {},
     "output_type": "execute_result"
    }
   ],
   "source": [
    "df['Flood'].value_counts()"
   ]
  },
  {
   "cell_type": "code",
   "execution_count": 430,
   "id": "591e6c6c",
   "metadata": {},
   "outputs": [
    {
     "data": {
      "text/html": [
       "<div>\n",
       "<style scoped>\n",
       "    .dataframe tbody tr th:only-of-type {\n",
       "        vertical-align: middle;\n",
       "    }\n",
       "\n",
       "    .dataframe tbody tr th {\n",
       "        vertical-align: top;\n",
       "    }\n",
       "\n",
       "    .dataframe thead th {\n",
       "        text-align: right;\n",
       "    }\n",
       "</style>\n",
       "<table border=\"1\" class=\"dataframe\">\n",
       "  <thead>\n",
       "    <tr style=\"text-align: right;\">\n",
       "      <th></th>\n",
       "      <th>Sl</th>\n",
       "      <th>Station_Names</th>\n",
       "      <th>Year</th>\n",
       "      <th>Month</th>\n",
       "      <th>Max_Temp</th>\n",
       "      <th>Min_Temp</th>\n",
       "      <th>Rainfall</th>\n",
       "      <th>Relative_Humidity</th>\n",
       "      <th>Wind_Speed</th>\n",
       "      <th>Cloud_Coverage</th>\n",
       "      <th>Bright_Sunshine</th>\n",
       "      <th>Station_Number</th>\n",
       "      <th>X_COR</th>\n",
       "      <th>Y_COR</th>\n",
       "      <th>LATITUDE</th>\n",
       "      <th>LONGITUDE</th>\n",
       "      <th>ALT</th>\n",
       "      <th>Period</th>\n",
       "      <th>Flood</th>\n",
       "    </tr>\n",
       "  </thead>\n",
       "  <tbody>\n",
       "    <tr>\n",
       "      <th>0</th>\n",
       "      <td>0</td>\n",
       "      <td>0</td>\n",
       "      <td>1949</td>\n",
       "      <td>1</td>\n",
       "      <td>29.4</td>\n",
       "      <td>12.3</td>\n",
       "      <td>0.0</td>\n",
       "      <td>68.0</td>\n",
       "      <td>0.453704</td>\n",
       "      <td>0.6</td>\n",
       "      <td>7.831915</td>\n",
       "      <td>41950</td>\n",
       "      <td>536809.8</td>\n",
       "      <td>510151.9</td>\n",
       "      <td>22.70</td>\n",
       "      <td>90.36</td>\n",
       "      <td>4</td>\n",
       "      <td>1949.01</td>\n",
       "      <td>0</td>\n",
       "    </tr>\n",
       "    <tr>\n",
       "      <th>1</th>\n",
       "      <td>1</td>\n",
       "      <td>0</td>\n",
       "      <td>1949</td>\n",
       "      <td>2</td>\n",
       "      <td>33.9</td>\n",
       "      <td>15.2</td>\n",
       "      <td>9.0</td>\n",
       "      <td>63.0</td>\n",
       "      <td>0.659259</td>\n",
       "      <td>0.9</td>\n",
       "      <td>8.314894</td>\n",
       "      <td>41950</td>\n",
       "      <td>536809.8</td>\n",
       "      <td>510151.9</td>\n",
       "      <td>22.70</td>\n",
       "      <td>90.36</td>\n",
       "      <td>4</td>\n",
       "      <td>1949.02</td>\n",
       "      <td>0</td>\n",
       "    </tr>\n",
       "    <tr>\n",
       "      <th>2</th>\n",
       "      <td>2</td>\n",
       "      <td>0</td>\n",
       "      <td>1949</td>\n",
       "      <td>3</td>\n",
       "      <td>36.7</td>\n",
       "      <td>20.2</td>\n",
       "      <td>8.0</td>\n",
       "      <td>59.0</td>\n",
       "      <td>1.085185</td>\n",
       "      <td>1.5</td>\n",
       "      <td>8.131915</td>\n",
       "      <td>41950</td>\n",
       "      <td>536809.8</td>\n",
       "      <td>510151.9</td>\n",
       "      <td>22.70</td>\n",
       "      <td>90.36</td>\n",
       "      <td>4</td>\n",
       "      <td>1949.03</td>\n",
       "      <td>0</td>\n",
       "    </tr>\n",
       "    <tr>\n",
       "      <th>3</th>\n",
       "      <td>3</td>\n",
       "      <td>0</td>\n",
       "      <td>1949</td>\n",
       "      <td>4</td>\n",
       "      <td>33.9</td>\n",
       "      <td>23.9</td>\n",
       "      <td>140.0</td>\n",
       "      <td>71.0</td>\n",
       "      <td>1.772222</td>\n",
       "      <td>3.9</td>\n",
       "      <td>8.219149</td>\n",
       "      <td>41950</td>\n",
       "      <td>536809.8</td>\n",
       "      <td>510151.9</td>\n",
       "      <td>22.70</td>\n",
       "      <td>90.36</td>\n",
       "      <td>4</td>\n",
       "      <td>1949.04</td>\n",
       "      <td>0</td>\n",
       "    </tr>\n",
       "    <tr>\n",
       "      <th>4</th>\n",
       "      <td>4</td>\n",
       "      <td>0</td>\n",
       "      <td>1949</td>\n",
       "      <td>5</td>\n",
       "      <td>35.6</td>\n",
       "      <td>25.0</td>\n",
       "      <td>217.0</td>\n",
       "      <td>76.0</td>\n",
       "      <td>1.703704</td>\n",
       "      <td>4.1</td>\n",
       "      <td>7.046809</td>\n",
       "      <td>41950</td>\n",
       "      <td>536809.8</td>\n",
       "      <td>510151.9</td>\n",
       "      <td>22.70</td>\n",
       "      <td>90.36</td>\n",
       "      <td>4</td>\n",
       "      <td>1949.05</td>\n",
       "      <td>0</td>\n",
       "    </tr>\n",
       "    <tr>\n",
       "      <th>...</th>\n",
       "      <td>...</td>\n",
       "      <td>...</td>\n",
       "      <td>...</td>\n",
       "      <td>...</td>\n",
       "      <td>...</td>\n",
       "      <td>...</td>\n",
       "      <td>...</td>\n",
       "      <td>...</td>\n",
       "      <td>...</td>\n",
       "      <td>...</td>\n",
       "      <td>...</td>\n",
       "      <td>...</td>\n",
       "      <td>...</td>\n",
       "      <td>...</td>\n",
       "      <td>...</td>\n",
       "      <td>...</td>\n",
       "      <td>...</td>\n",
       "      <td>...</td>\n",
       "      <td>...</td>\n",
       "    </tr>\n",
       "    <tr>\n",
       "      <th>20539</th>\n",
       "      <td>20539</td>\n",
       "      <td>32</td>\n",
       "      <td>2013</td>\n",
       "      <td>8</td>\n",
       "      <td>32.5</td>\n",
       "      <td>25.4</td>\n",
       "      <td>851.0</td>\n",
       "      <td>88.0</td>\n",
       "      <td>2.500000</td>\n",
       "      <td>6.2</td>\n",
       "      <td>3.800000</td>\n",
       "      <td>41998</td>\n",
       "      <td>734765.4</td>\n",
       "      <td>308914.1</td>\n",
       "      <td>20.87</td>\n",
       "      <td>92.26</td>\n",
       "      <td>4</td>\n",
       "      <td>2013.08</td>\n",
       "      <td>1</td>\n",
       "    </tr>\n",
       "    <tr>\n",
       "      <th>20540</th>\n",
       "      <td>20540</td>\n",
       "      <td>32</td>\n",
       "      <td>2013</td>\n",
       "      <td>9</td>\n",
       "      <td>32.6</td>\n",
       "      <td>25.7</td>\n",
       "      <td>329.0</td>\n",
       "      <td>88.0</td>\n",
       "      <td>3.000000</td>\n",
       "      <td>6.1</td>\n",
       "      <td>4.200000</td>\n",
       "      <td>41998</td>\n",
       "      <td>734765.4</td>\n",
       "      <td>308914.1</td>\n",
       "      <td>20.87</td>\n",
       "      <td>92.26</td>\n",
       "      <td>4</td>\n",
       "      <td>2013.09</td>\n",
       "      <td>0</td>\n",
       "    </tr>\n",
       "    <tr>\n",
       "      <th>20541</th>\n",
       "      <td>20541</td>\n",
       "      <td>32</td>\n",
       "      <td>2013</td>\n",
       "      <td>10</td>\n",
       "      <td>33.1</td>\n",
       "      <td>24.8</td>\n",
       "      <td>271.0</td>\n",
       "      <td>85.0</td>\n",
       "      <td>2.500000</td>\n",
       "      <td>4.4</td>\n",
       "      <td>5.600000</td>\n",
       "      <td>41998</td>\n",
       "      <td>734765.4</td>\n",
       "      <td>308914.1</td>\n",
       "      <td>20.87</td>\n",
       "      <td>92.26</td>\n",
       "      <td>4</td>\n",
       "      <td>2013.10</td>\n",
       "      <td>0</td>\n",
       "    </tr>\n",
       "    <tr>\n",
       "      <th>20542</th>\n",
       "      <td>20542</td>\n",
       "      <td>32</td>\n",
       "      <td>2013</td>\n",
       "      <td>11</td>\n",
       "      <td>32.5</td>\n",
       "      <td>20.0</td>\n",
       "      <td>0.0</td>\n",
       "      <td>79.0</td>\n",
       "      <td>2.100000</td>\n",
       "      <td>1.7</td>\n",
       "      <td>8.400000</td>\n",
       "      <td>41998</td>\n",
       "      <td>734765.4</td>\n",
       "      <td>308914.1</td>\n",
       "      <td>20.87</td>\n",
       "      <td>92.26</td>\n",
       "      <td>4</td>\n",
       "      <td>2013.11</td>\n",
       "      <td>0</td>\n",
       "    </tr>\n",
       "    <tr>\n",
       "      <th>20543</th>\n",
       "      <td>20543</td>\n",
       "      <td>32</td>\n",
       "      <td>2013</td>\n",
       "      <td>12</td>\n",
       "      <td>29.9</td>\n",
       "      <td>16.5</td>\n",
       "      <td>0.0</td>\n",
       "      <td>72.0</td>\n",
       "      <td>3.000000</td>\n",
       "      <td>0.9</td>\n",
       "      <td>8.100000</td>\n",
       "      <td>41998</td>\n",
       "      <td>734765.4</td>\n",
       "      <td>308914.1</td>\n",
       "      <td>20.87</td>\n",
       "      <td>92.26</td>\n",
       "      <td>4</td>\n",
       "      <td>2013.12</td>\n",
       "      <td>0</td>\n",
       "    </tr>\n",
       "  </tbody>\n",
       "</table>\n",
       "<p>20544 rows × 19 columns</p>\n",
       "</div>"
      ],
      "text/plain": [
       "          Sl  Station_Names  Year  Month  Max_Temp  Min_Temp  Rainfall  \\\n",
       "0          0              0  1949      1      29.4      12.3       0.0   \n",
       "1          1              0  1949      2      33.9      15.2       9.0   \n",
       "2          2              0  1949      3      36.7      20.2       8.0   \n",
       "3          3              0  1949      4      33.9      23.9     140.0   \n",
       "4          4              0  1949      5      35.6      25.0     217.0   \n",
       "...      ...            ...   ...    ...       ...       ...       ...   \n",
       "20539  20539             32  2013      8      32.5      25.4     851.0   \n",
       "20540  20540             32  2013      9      32.6      25.7     329.0   \n",
       "20541  20541             32  2013     10      33.1      24.8     271.0   \n",
       "20542  20542             32  2013     11      32.5      20.0       0.0   \n",
       "20543  20543             32  2013     12      29.9      16.5       0.0   \n",
       "\n",
       "       Relative_Humidity  Wind_Speed  Cloud_Coverage  Bright_Sunshine  \\\n",
       "0                   68.0    0.453704             0.6         7.831915   \n",
       "1                   63.0    0.659259             0.9         8.314894   \n",
       "2                   59.0    1.085185             1.5         8.131915   \n",
       "3                   71.0    1.772222             3.9         8.219149   \n",
       "4                   76.0    1.703704             4.1         7.046809   \n",
       "...                  ...         ...             ...              ...   \n",
       "20539               88.0    2.500000             6.2         3.800000   \n",
       "20540               88.0    3.000000             6.1         4.200000   \n",
       "20541               85.0    2.500000             4.4         5.600000   \n",
       "20542               79.0    2.100000             1.7         8.400000   \n",
       "20543               72.0    3.000000             0.9         8.100000   \n",
       "\n",
       "       Station_Number     X_COR     Y_COR  LATITUDE  LONGITUDE  ALT   Period  \\\n",
       "0               41950  536809.8  510151.9     22.70      90.36    4  1949.01   \n",
       "1               41950  536809.8  510151.9     22.70      90.36    4  1949.02   \n",
       "2               41950  536809.8  510151.9     22.70      90.36    4  1949.03   \n",
       "3               41950  536809.8  510151.9     22.70      90.36    4  1949.04   \n",
       "4               41950  536809.8  510151.9     22.70      90.36    4  1949.05   \n",
       "...               ...       ...       ...       ...        ...  ...      ...   \n",
       "20539           41998  734765.4  308914.1     20.87      92.26    4  2013.08   \n",
       "20540           41998  734765.4  308914.1     20.87      92.26    4  2013.09   \n",
       "20541           41998  734765.4  308914.1     20.87      92.26    4  2013.10   \n",
       "20542           41998  734765.4  308914.1     20.87      92.26    4  2013.11   \n",
       "20543           41998  734765.4  308914.1     20.87      92.26    4  2013.12   \n",
       "\n",
       "       Flood  \n",
       "0          0  \n",
       "1          0  \n",
       "2          0  \n",
       "3          0  \n",
       "4          0  \n",
       "...      ...  \n",
       "20539      1  \n",
       "20540      0  \n",
       "20541      0  \n",
       "20542      0  \n",
       "20543      0  \n",
       "\n",
       "[20544 rows x 19 columns]"
      ]
     },
     "execution_count": 430,
     "metadata": {},
     "output_type": "execute_result"
    }
   ],
   "source": [
    "df"
   ]
  },
  {
   "cell_type": "code",
   "execution_count": 431,
   "id": "c8db2160",
   "metadata": {},
   "outputs": [],
   "source": [
    "#from imblearn.over_sampling import SMOTE\n",
    "#sm = SMOTE(sampling_strategy='minority', random_state=42)\n",
    "#oversampled_X, oversampled_Y = sm.fit_resample(df.drop('Flood', axis=1), df['Flood'])\n",
    "#df = pd.concat([pd.DataFrame(oversampled_Y), pd.DataFrame(oversampled_X)], axis=1)"
   ]
  },
  {
   "cell_type": "code",
   "execution_count": 432,
   "id": "7c7610ec",
   "metadata": {},
   "outputs": [
    {
     "data": {
      "text/html": [
       "<div>\n",
       "<style scoped>\n",
       "    .dataframe tbody tr th:only-of-type {\n",
       "        vertical-align: middle;\n",
       "    }\n",
       "\n",
       "    .dataframe tbody tr th {\n",
       "        vertical-align: top;\n",
       "    }\n",
       "\n",
       "    .dataframe thead th {\n",
       "        text-align: right;\n",
       "    }\n",
       "</style>\n",
       "<table border=\"1\" class=\"dataframe\">\n",
       "  <thead>\n",
       "    <tr style=\"text-align: right;\">\n",
       "      <th></th>\n",
       "      <th>Sl</th>\n",
       "      <th>Station_Names</th>\n",
       "      <th>Year</th>\n",
       "      <th>Month</th>\n",
       "      <th>Max_Temp</th>\n",
       "      <th>Min_Temp</th>\n",
       "      <th>Rainfall</th>\n",
       "      <th>Relative_Humidity</th>\n",
       "      <th>Wind_Speed</th>\n",
       "      <th>Cloud_Coverage</th>\n",
       "      <th>Bright_Sunshine</th>\n",
       "      <th>Station_Number</th>\n",
       "      <th>X_COR</th>\n",
       "      <th>Y_COR</th>\n",
       "      <th>LATITUDE</th>\n",
       "      <th>LONGITUDE</th>\n",
       "      <th>ALT</th>\n",
       "      <th>Period</th>\n",
       "      <th>Flood</th>\n",
       "    </tr>\n",
       "  </thead>\n",
       "  <tbody>\n",
       "    <tr>\n",
       "      <th>0</th>\n",
       "      <td>0</td>\n",
       "      <td>0</td>\n",
       "      <td>1949</td>\n",
       "      <td>1</td>\n",
       "      <td>29.4</td>\n",
       "      <td>12.3</td>\n",
       "      <td>0.0</td>\n",
       "      <td>68.0</td>\n",
       "      <td>0.453704</td>\n",
       "      <td>0.6</td>\n",
       "      <td>7.831915</td>\n",
       "      <td>41950</td>\n",
       "      <td>536809.8</td>\n",
       "      <td>510151.9</td>\n",
       "      <td>22.70</td>\n",
       "      <td>90.36</td>\n",
       "      <td>4</td>\n",
       "      <td>1949.01</td>\n",
       "      <td>0</td>\n",
       "    </tr>\n",
       "    <tr>\n",
       "      <th>1</th>\n",
       "      <td>1</td>\n",
       "      <td>0</td>\n",
       "      <td>1949</td>\n",
       "      <td>2</td>\n",
       "      <td>33.9</td>\n",
       "      <td>15.2</td>\n",
       "      <td>9.0</td>\n",
       "      <td>63.0</td>\n",
       "      <td>0.659259</td>\n",
       "      <td>0.9</td>\n",
       "      <td>8.314894</td>\n",
       "      <td>41950</td>\n",
       "      <td>536809.8</td>\n",
       "      <td>510151.9</td>\n",
       "      <td>22.70</td>\n",
       "      <td>90.36</td>\n",
       "      <td>4</td>\n",
       "      <td>1949.02</td>\n",
       "      <td>0</td>\n",
       "    </tr>\n",
       "    <tr>\n",
       "      <th>2</th>\n",
       "      <td>2</td>\n",
       "      <td>0</td>\n",
       "      <td>1949</td>\n",
       "      <td>3</td>\n",
       "      <td>36.7</td>\n",
       "      <td>20.2</td>\n",
       "      <td>8.0</td>\n",
       "      <td>59.0</td>\n",
       "      <td>1.085185</td>\n",
       "      <td>1.5</td>\n",
       "      <td>8.131915</td>\n",
       "      <td>41950</td>\n",
       "      <td>536809.8</td>\n",
       "      <td>510151.9</td>\n",
       "      <td>22.70</td>\n",
       "      <td>90.36</td>\n",
       "      <td>4</td>\n",
       "      <td>1949.03</td>\n",
       "      <td>0</td>\n",
       "    </tr>\n",
       "    <tr>\n",
       "      <th>3</th>\n",
       "      <td>3</td>\n",
       "      <td>0</td>\n",
       "      <td>1949</td>\n",
       "      <td>4</td>\n",
       "      <td>33.9</td>\n",
       "      <td>23.9</td>\n",
       "      <td>140.0</td>\n",
       "      <td>71.0</td>\n",
       "      <td>1.772222</td>\n",
       "      <td>3.9</td>\n",
       "      <td>8.219149</td>\n",
       "      <td>41950</td>\n",
       "      <td>536809.8</td>\n",
       "      <td>510151.9</td>\n",
       "      <td>22.70</td>\n",
       "      <td>90.36</td>\n",
       "      <td>4</td>\n",
       "      <td>1949.04</td>\n",
       "      <td>0</td>\n",
       "    </tr>\n",
       "    <tr>\n",
       "      <th>4</th>\n",
       "      <td>4</td>\n",
       "      <td>0</td>\n",
       "      <td>1949</td>\n",
       "      <td>5</td>\n",
       "      <td>35.6</td>\n",
       "      <td>25.0</td>\n",
       "      <td>217.0</td>\n",
       "      <td>76.0</td>\n",
       "      <td>1.703704</td>\n",
       "      <td>4.1</td>\n",
       "      <td>7.046809</td>\n",
       "      <td>41950</td>\n",
       "      <td>536809.8</td>\n",
       "      <td>510151.9</td>\n",
       "      <td>22.70</td>\n",
       "      <td>90.36</td>\n",
       "      <td>4</td>\n",
       "      <td>1949.05</td>\n",
       "      <td>0</td>\n",
       "    </tr>\n",
       "    <tr>\n",
       "      <th>...</th>\n",
       "      <td>...</td>\n",
       "      <td>...</td>\n",
       "      <td>...</td>\n",
       "      <td>...</td>\n",
       "      <td>...</td>\n",
       "      <td>...</td>\n",
       "      <td>...</td>\n",
       "      <td>...</td>\n",
       "      <td>...</td>\n",
       "      <td>...</td>\n",
       "      <td>...</td>\n",
       "      <td>...</td>\n",
       "      <td>...</td>\n",
       "      <td>...</td>\n",
       "      <td>...</td>\n",
       "      <td>...</td>\n",
       "      <td>...</td>\n",
       "      <td>...</td>\n",
       "      <td>...</td>\n",
       "    </tr>\n",
       "    <tr>\n",
       "      <th>20539</th>\n",
       "      <td>20539</td>\n",
       "      <td>32</td>\n",
       "      <td>2013</td>\n",
       "      <td>8</td>\n",
       "      <td>32.5</td>\n",
       "      <td>25.4</td>\n",
       "      <td>851.0</td>\n",
       "      <td>88.0</td>\n",
       "      <td>2.500000</td>\n",
       "      <td>6.2</td>\n",
       "      <td>3.800000</td>\n",
       "      <td>41998</td>\n",
       "      <td>734765.4</td>\n",
       "      <td>308914.1</td>\n",
       "      <td>20.87</td>\n",
       "      <td>92.26</td>\n",
       "      <td>4</td>\n",
       "      <td>2013.08</td>\n",
       "      <td>1</td>\n",
       "    </tr>\n",
       "    <tr>\n",
       "      <th>20540</th>\n",
       "      <td>20540</td>\n",
       "      <td>32</td>\n",
       "      <td>2013</td>\n",
       "      <td>9</td>\n",
       "      <td>32.6</td>\n",
       "      <td>25.7</td>\n",
       "      <td>329.0</td>\n",
       "      <td>88.0</td>\n",
       "      <td>3.000000</td>\n",
       "      <td>6.1</td>\n",
       "      <td>4.200000</td>\n",
       "      <td>41998</td>\n",
       "      <td>734765.4</td>\n",
       "      <td>308914.1</td>\n",
       "      <td>20.87</td>\n",
       "      <td>92.26</td>\n",
       "      <td>4</td>\n",
       "      <td>2013.09</td>\n",
       "      <td>0</td>\n",
       "    </tr>\n",
       "    <tr>\n",
       "      <th>20541</th>\n",
       "      <td>20541</td>\n",
       "      <td>32</td>\n",
       "      <td>2013</td>\n",
       "      <td>10</td>\n",
       "      <td>33.1</td>\n",
       "      <td>24.8</td>\n",
       "      <td>271.0</td>\n",
       "      <td>85.0</td>\n",
       "      <td>2.500000</td>\n",
       "      <td>4.4</td>\n",
       "      <td>5.600000</td>\n",
       "      <td>41998</td>\n",
       "      <td>734765.4</td>\n",
       "      <td>308914.1</td>\n",
       "      <td>20.87</td>\n",
       "      <td>92.26</td>\n",
       "      <td>4</td>\n",
       "      <td>2013.10</td>\n",
       "      <td>0</td>\n",
       "    </tr>\n",
       "    <tr>\n",
       "      <th>20542</th>\n",
       "      <td>20542</td>\n",
       "      <td>32</td>\n",
       "      <td>2013</td>\n",
       "      <td>11</td>\n",
       "      <td>32.5</td>\n",
       "      <td>20.0</td>\n",
       "      <td>0.0</td>\n",
       "      <td>79.0</td>\n",
       "      <td>2.100000</td>\n",
       "      <td>1.7</td>\n",
       "      <td>8.400000</td>\n",
       "      <td>41998</td>\n",
       "      <td>734765.4</td>\n",
       "      <td>308914.1</td>\n",
       "      <td>20.87</td>\n",
       "      <td>92.26</td>\n",
       "      <td>4</td>\n",
       "      <td>2013.11</td>\n",
       "      <td>0</td>\n",
       "    </tr>\n",
       "    <tr>\n",
       "      <th>20543</th>\n",
       "      <td>20543</td>\n",
       "      <td>32</td>\n",
       "      <td>2013</td>\n",
       "      <td>12</td>\n",
       "      <td>29.9</td>\n",
       "      <td>16.5</td>\n",
       "      <td>0.0</td>\n",
       "      <td>72.0</td>\n",
       "      <td>3.000000</td>\n",
       "      <td>0.9</td>\n",
       "      <td>8.100000</td>\n",
       "      <td>41998</td>\n",
       "      <td>734765.4</td>\n",
       "      <td>308914.1</td>\n",
       "      <td>20.87</td>\n",
       "      <td>92.26</td>\n",
       "      <td>4</td>\n",
       "      <td>2013.12</td>\n",
       "      <td>0</td>\n",
       "    </tr>\n",
       "  </tbody>\n",
       "</table>\n",
       "<p>20544 rows × 19 columns</p>\n",
       "</div>"
      ],
      "text/plain": [
       "          Sl  Station_Names  Year  Month  Max_Temp  Min_Temp  Rainfall  \\\n",
       "0          0              0  1949      1      29.4      12.3       0.0   \n",
       "1          1              0  1949      2      33.9      15.2       9.0   \n",
       "2          2              0  1949      3      36.7      20.2       8.0   \n",
       "3          3              0  1949      4      33.9      23.9     140.0   \n",
       "4          4              0  1949      5      35.6      25.0     217.0   \n",
       "...      ...            ...   ...    ...       ...       ...       ...   \n",
       "20539  20539             32  2013      8      32.5      25.4     851.0   \n",
       "20540  20540             32  2013      9      32.6      25.7     329.0   \n",
       "20541  20541             32  2013     10      33.1      24.8     271.0   \n",
       "20542  20542             32  2013     11      32.5      20.0       0.0   \n",
       "20543  20543             32  2013     12      29.9      16.5       0.0   \n",
       "\n",
       "       Relative_Humidity  Wind_Speed  Cloud_Coverage  Bright_Sunshine  \\\n",
       "0                   68.0    0.453704             0.6         7.831915   \n",
       "1                   63.0    0.659259             0.9         8.314894   \n",
       "2                   59.0    1.085185             1.5         8.131915   \n",
       "3                   71.0    1.772222             3.9         8.219149   \n",
       "4                   76.0    1.703704             4.1         7.046809   \n",
       "...                  ...         ...             ...              ...   \n",
       "20539               88.0    2.500000             6.2         3.800000   \n",
       "20540               88.0    3.000000             6.1         4.200000   \n",
       "20541               85.0    2.500000             4.4         5.600000   \n",
       "20542               79.0    2.100000             1.7         8.400000   \n",
       "20543               72.0    3.000000             0.9         8.100000   \n",
       "\n",
       "       Station_Number     X_COR     Y_COR  LATITUDE  LONGITUDE  ALT   Period  \\\n",
       "0               41950  536809.8  510151.9     22.70      90.36    4  1949.01   \n",
       "1               41950  536809.8  510151.9     22.70      90.36    4  1949.02   \n",
       "2               41950  536809.8  510151.9     22.70      90.36    4  1949.03   \n",
       "3               41950  536809.8  510151.9     22.70      90.36    4  1949.04   \n",
       "4               41950  536809.8  510151.9     22.70      90.36    4  1949.05   \n",
       "...               ...       ...       ...       ...        ...  ...      ...   \n",
       "20539           41998  734765.4  308914.1     20.87      92.26    4  2013.08   \n",
       "20540           41998  734765.4  308914.1     20.87      92.26    4  2013.09   \n",
       "20541           41998  734765.4  308914.1     20.87      92.26    4  2013.10   \n",
       "20542           41998  734765.4  308914.1     20.87      92.26    4  2013.11   \n",
       "20543           41998  734765.4  308914.1     20.87      92.26    4  2013.12   \n",
       "\n",
       "       Flood  \n",
       "0          0  \n",
       "1          0  \n",
       "2          0  \n",
       "3          0  \n",
       "4          0  \n",
       "...      ...  \n",
       "20539      1  \n",
       "20540      0  \n",
       "20541      0  \n",
       "20542      0  \n",
       "20543      0  \n",
       "\n",
       "[20544 rows x 19 columns]"
      ]
     },
     "execution_count": 432,
     "metadata": {},
     "output_type": "execute_result"
    }
   ],
   "source": [
    "df"
   ]
  },
  {
   "cell_type": "markdown",
   "id": "2deed8cf",
   "metadata": {
    "id": "2deed8cf"
   },
   "source": [
    "#### Standardization"
   ]
  },
  {
   "cell_type": "code",
   "execution_count": 433,
   "id": "fb3489bb",
   "metadata": {
    "id": "fb3489bb"
   },
   "outputs": [],
   "source": [
    "from sklearn.preprocessing import StandardScaler"
   ]
  },
  {
   "cell_type": "code",
   "execution_count": 434,
   "id": "78b306aa",
   "metadata": {
    "id": "78b306aa"
   },
   "outputs": [],
   "source": [
    "scaler = StandardScaler()"
   ]
  },
  {
   "cell_type": "code",
   "execution_count": 435,
   "id": "17b82187",
   "metadata": {
    "colab": {
     "base_uri": "https://localhost:8080/"
    },
    "id": "17b82187",
    "outputId": "71892fa7-96dd-4a23-fb17-d99d047fea6c"
   },
   "outputs": [
    {
     "data": {
      "text/html": [
       "<style>#sk-container-id-19 {color: black;background-color: white;}#sk-container-id-19 pre{padding: 0;}#sk-container-id-19 div.sk-toggleable {background-color: white;}#sk-container-id-19 label.sk-toggleable__label {cursor: pointer;display: block;width: 100%;margin-bottom: 0;padding: 0.3em;box-sizing: border-box;text-align: center;}#sk-container-id-19 label.sk-toggleable__label-arrow:before {content: \"▸\";float: left;margin-right: 0.25em;color: #696969;}#sk-container-id-19 label.sk-toggleable__label-arrow:hover:before {color: black;}#sk-container-id-19 div.sk-estimator:hover label.sk-toggleable__label-arrow:before {color: black;}#sk-container-id-19 div.sk-toggleable__content {max-height: 0;max-width: 0;overflow: hidden;text-align: left;background-color: #f0f8ff;}#sk-container-id-19 div.sk-toggleable__content pre {margin: 0.2em;color: black;border-radius: 0.25em;background-color: #f0f8ff;}#sk-container-id-19 input.sk-toggleable__control:checked~div.sk-toggleable__content {max-height: 200px;max-width: 100%;overflow: auto;}#sk-container-id-19 input.sk-toggleable__control:checked~label.sk-toggleable__label-arrow:before {content: \"▾\";}#sk-container-id-19 div.sk-estimator input.sk-toggleable__control:checked~label.sk-toggleable__label {background-color: #d4ebff;}#sk-container-id-19 div.sk-label input.sk-toggleable__control:checked~label.sk-toggleable__label {background-color: #d4ebff;}#sk-container-id-19 input.sk-hidden--visually {border: 0;clip: rect(1px 1px 1px 1px);clip: rect(1px, 1px, 1px, 1px);height: 1px;margin: -1px;overflow: hidden;padding: 0;position: absolute;width: 1px;}#sk-container-id-19 div.sk-estimator {font-family: monospace;background-color: #f0f8ff;border: 1px dotted black;border-radius: 0.25em;box-sizing: border-box;margin-bottom: 0.5em;}#sk-container-id-19 div.sk-estimator:hover {background-color: #d4ebff;}#sk-container-id-19 div.sk-parallel-item::after {content: \"\";width: 100%;border-bottom: 1px solid gray;flex-grow: 1;}#sk-container-id-19 div.sk-label:hover label.sk-toggleable__label {background-color: #d4ebff;}#sk-container-id-19 div.sk-serial::before {content: \"\";position: absolute;border-left: 1px solid gray;box-sizing: border-box;top: 0;bottom: 0;left: 50%;z-index: 0;}#sk-container-id-19 div.sk-serial {display: flex;flex-direction: column;align-items: center;background-color: white;padding-right: 0.2em;padding-left: 0.2em;position: relative;}#sk-container-id-19 div.sk-item {position: relative;z-index: 1;}#sk-container-id-19 div.sk-parallel {display: flex;align-items: stretch;justify-content: center;background-color: white;position: relative;}#sk-container-id-19 div.sk-item::before, #sk-container-id-19 div.sk-parallel-item::before {content: \"\";position: absolute;border-left: 1px solid gray;box-sizing: border-box;top: 0;bottom: 0;left: 50%;z-index: -1;}#sk-container-id-19 div.sk-parallel-item {display: flex;flex-direction: column;z-index: 1;position: relative;background-color: white;}#sk-container-id-19 div.sk-parallel-item:first-child::after {align-self: flex-end;width: 50%;}#sk-container-id-19 div.sk-parallel-item:last-child::after {align-self: flex-start;width: 50%;}#sk-container-id-19 div.sk-parallel-item:only-child::after {width: 0;}#sk-container-id-19 div.sk-dashed-wrapped {border: 1px dashed gray;margin: 0 0.4em 0.5em 0.4em;box-sizing: border-box;padding-bottom: 0.4em;background-color: white;}#sk-container-id-19 div.sk-label label {font-family: monospace;font-weight: bold;display: inline-block;line-height: 1.2em;}#sk-container-id-19 div.sk-label-container {text-align: center;}#sk-container-id-19 div.sk-container {/* jupyter's `normalize.less` sets `[hidden] { display: none; }` but bootstrap.min.css set `[hidden] { display: none !important; }` so we also need the `!important` here to be able to override the default hidden behavior on the sphinx rendered scikit-learn.org. See: https://github.com/scikit-learn/scikit-learn/issues/21755 */display: inline-block !important;position: relative;}#sk-container-id-19 div.sk-text-repr-fallback {display: none;}</style><div id=\"sk-container-id-19\" class=\"sk-top-container\"><div class=\"sk-text-repr-fallback\"><pre>StandardScaler()</pre><b>In a Jupyter environment, please rerun this cell to show the HTML representation or trust the notebook. <br />On GitHub, the HTML representation is unable to render, please try loading this page with nbviewer.org.</b></div><div class=\"sk-container\" hidden><div class=\"sk-item\"><div class=\"sk-estimator sk-toggleable\"><input class=\"sk-toggleable__control sk-hidden--visually\" id=\"sk-estimator-id-19\" type=\"checkbox\" checked><label for=\"sk-estimator-id-19\" class=\"sk-toggleable__label sk-toggleable__label-arrow\">StandardScaler</label><div class=\"sk-toggleable__content\"><pre>StandardScaler()</pre></div></div></div></div></div>"
      ],
      "text/plain": [
       "StandardScaler()"
      ]
     },
     "execution_count": 435,
     "metadata": {},
     "output_type": "execute_result"
    }
   ],
   "source": [
    "scaler.fit(df.drop('Flood', axis=1))"
   ]
  },
  {
   "cell_type": "code",
   "execution_count": 436,
   "id": "19dff852",
   "metadata": {
    "id": "19dff852"
   },
   "outputs": [],
   "source": [
    "scaled_features =scaler.transform(df.drop('Flood', axis=1))"
   ]
  },
  {
   "cell_type": "code",
   "execution_count": 437,
   "id": "d63cc8c7",
   "metadata": {
    "colab": {
     "base_uri": "https://localhost:8080/"
    },
    "id": "d63cc8c7",
    "outputId": "feb7547d-f330-45e0-da11-5fdbc1498fe5"
   },
   "outputs": [
    {
     "data": {
      "text/plain": [
       "array([[-1.7319665 , -1.64737873, -2.0631562 , ..., -0.12013518,\n",
       "        -0.69165038, -2.06627539],\n",
       "       [-1.73179788, -1.64737873, -2.0631562 , ..., -0.12013518,\n",
       "        -0.69165038, -2.06570754],\n",
       "       [-1.73162926, -1.64737873, -2.0631562 , ..., -0.12013518,\n",
       "        -0.69165038, -2.0651397 ],\n",
       "       ...,\n",
       "       [ 1.73162926,  1.74471314,  1.57106615, ...,  1.59359493,\n",
       "        -0.69165038,  1.57305059],\n",
       "       [ 1.73179788,  1.74471314,  1.57106615, ...,  1.59359493,\n",
       "        -0.69165038,  1.57361844],\n",
       "       [ 1.7319665 ,  1.74471314,  1.57106615, ...,  1.59359493,\n",
       "        -0.69165038,  1.57418628]])"
      ]
     },
     "execution_count": 437,
     "metadata": {},
     "output_type": "execute_result"
    }
   ],
   "source": [
    "scaled_features"
   ]
  },
  {
   "cell_type": "code",
   "execution_count": 438,
   "id": "f3158c46",
   "metadata": {},
   "outputs": [],
   "source": [
    "df_feat = pd.DataFrame(scaled_features, columns=df.columns[1:])"
   ]
  },
  {
   "cell_type": "code",
   "execution_count": 439,
   "id": "3e1af219",
   "metadata": {},
   "outputs": [],
   "source": [
    "df_feat=df_feat.drop('Flood', axis=1)"
   ]
  },
  {
   "cell_type": "code",
   "execution_count": 440,
   "id": "4f2cf522",
   "metadata": {},
   "outputs": [
    {
     "data": {
      "text/html": [
       "<div>\n",
       "<style scoped>\n",
       "    .dataframe tbody tr th:only-of-type {\n",
       "        vertical-align: middle;\n",
       "    }\n",
       "\n",
       "    .dataframe tbody tr th {\n",
       "        vertical-align: top;\n",
       "    }\n",
       "\n",
       "    .dataframe thead th {\n",
       "        text-align: right;\n",
       "    }\n",
       "</style>\n",
       "<table border=\"1\" class=\"dataframe\">\n",
       "  <thead>\n",
       "    <tr style=\"text-align: right;\">\n",
       "      <th></th>\n",
       "      <th>Station_Names</th>\n",
       "      <th>Year</th>\n",
       "      <th>Month</th>\n",
       "      <th>Max_Temp</th>\n",
       "      <th>Min_Temp</th>\n",
       "      <th>Rainfall</th>\n",
       "      <th>Relative_Humidity</th>\n",
       "      <th>Wind_Speed</th>\n",
       "      <th>Cloud_Coverage</th>\n",
       "      <th>Bright_Sunshine</th>\n",
       "      <th>Station_Number</th>\n",
       "      <th>X_COR</th>\n",
       "      <th>Y_COR</th>\n",
       "      <th>LATITUDE</th>\n",
       "      <th>LONGITUDE</th>\n",
       "      <th>ALT</th>\n",
       "      <th>Period</th>\n",
       "    </tr>\n",
       "  </thead>\n",
       "  <tbody>\n",
       "    <tr>\n",
       "      <th>0</th>\n",
       "      <td>-1.731967</td>\n",
       "      <td>-1.647379</td>\n",
       "      <td>-2.063156</td>\n",
       "      <td>-1.593255</td>\n",
       "      <td>-1.370192</td>\n",
       "      <td>-1.791480</td>\n",
       "      <td>-0.825871</td>\n",
       "      <td>-1.499448</td>\n",
       "      <td>-0.922217</td>\n",
       "      <td>-1.384926</td>\n",
       "      <td>0.808311</td>\n",
       "      <td>0.408091</td>\n",
       "      <td>-0.111122</td>\n",
       "      <td>-0.529267</td>\n",
       "      <td>-0.542452</td>\n",
       "      <td>-0.120135</td>\n",
       "      <td>-0.69165</td>\n",
       "    </tr>\n",
       "    <tr>\n",
       "      <th>1</th>\n",
       "      <td>-1.731798</td>\n",
       "      <td>-1.647379</td>\n",
       "      <td>-2.063156</td>\n",
       "      <td>-1.303572</td>\n",
       "      <td>0.151966</td>\n",
       "      <td>-1.205559</td>\n",
       "      <td>-0.788478</td>\n",
       "      <td>-2.151531</td>\n",
       "      <td>-0.725028</td>\n",
       "      <td>-1.240955</td>\n",
       "      <td>1.084628</td>\n",
       "      <td>0.408091</td>\n",
       "      <td>-0.111122</td>\n",
       "      <td>-0.529267</td>\n",
       "      <td>-0.542452</td>\n",
       "      <td>-0.120135</td>\n",
       "      <td>-0.69165</td>\n",
       "    </tr>\n",
       "    <tr>\n",
       "      <th>2</th>\n",
       "      <td>-1.731629</td>\n",
       "      <td>-1.647379</td>\n",
       "      <td>-2.063156</td>\n",
       "      <td>-1.013890</td>\n",
       "      <td>1.099087</td>\n",
       "      <td>-0.195349</td>\n",
       "      <td>-0.792633</td>\n",
       "      <td>-2.673197</td>\n",
       "      <td>-0.316438</td>\n",
       "      <td>-0.953011</td>\n",
       "      <td>0.979944</td>\n",
       "      <td>0.408091</td>\n",
       "      <td>-0.111122</td>\n",
       "      <td>-0.529267</td>\n",
       "      <td>-0.542452</td>\n",
       "      <td>-0.120135</td>\n",
       "      <td>-0.69165</td>\n",
       "    </tr>\n",
       "    <tr>\n",
       "      <th>3</th>\n",
       "      <td>-1.731461</td>\n",
       "      <td>-1.647379</td>\n",
       "      <td>-2.063156</td>\n",
       "      <td>-0.724207</td>\n",
       "      <td>0.151966</td>\n",
       "      <td>0.552207</td>\n",
       "      <td>-0.244203</td>\n",
       "      <td>-1.108198</td>\n",
       "      <td>0.342636</td>\n",
       "      <td>0.198764</td>\n",
       "      <td>1.029851</td>\n",
       "      <td>0.408091</td>\n",
       "      <td>-0.111122</td>\n",
       "      <td>-0.529267</td>\n",
       "      <td>-0.542452</td>\n",
       "      <td>-0.120135</td>\n",
       "      <td>-0.69165</td>\n",
       "    </tr>\n",
       "    <tr>\n",
       "      <th>4</th>\n",
       "      <td>-1.731292</td>\n",
       "      <td>-1.647379</td>\n",
       "      <td>-2.063156</td>\n",
       "      <td>-0.434524</td>\n",
       "      <td>0.727003</td>\n",
       "      <td>0.774453</td>\n",
       "      <td>0.075714</td>\n",
       "      <td>-0.456116</td>\n",
       "      <td>0.276906</td>\n",
       "      <td>0.294745</td>\n",
       "      <td>0.359144</td>\n",
       "      <td>0.408091</td>\n",
       "      <td>-0.111122</td>\n",
       "      <td>-0.529267</td>\n",
       "      <td>-0.542452</td>\n",
       "      <td>-0.120135</td>\n",
       "      <td>-0.69165</td>\n",
       "    </tr>\n",
       "    <tr>\n",
       "      <th>...</th>\n",
       "      <td>...</td>\n",
       "      <td>...</td>\n",
       "      <td>...</td>\n",
       "      <td>...</td>\n",
       "      <td>...</td>\n",
       "      <td>...</td>\n",
       "      <td>...</td>\n",
       "      <td>...</td>\n",
       "      <td>...</td>\n",
       "      <td>...</td>\n",
       "      <td>...</td>\n",
       "      <td>...</td>\n",
       "      <td>...</td>\n",
       "      <td>...</td>\n",
       "      <td>...</td>\n",
       "      <td>...</td>\n",
       "      <td>...</td>\n",
       "    </tr>\n",
       "    <tr>\n",
       "      <th>20539</th>\n",
       "      <td>1.731292</td>\n",
       "      <td>1.744713</td>\n",
       "      <td>1.571066</td>\n",
       "      <td>0.434524</td>\n",
       "      <td>-0.321594</td>\n",
       "      <td>0.855270</td>\n",
       "      <td>2.709837</td>\n",
       "      <td>1.108883</td>\n",
       "      <td>1.040792</td>\n",
       "      <td>1.302549</td>\n",
       "      <td>-1.498387</td>\n",
       "      <td>1.722582</td>\n",
       "      <td>1.594962</td>\n",
       "      <td>-2.069986</td>\n",
       "      <td>-2.126576</td>\n",
       "      <td>1.593595</td>\n",
       "      <td>-0.69165</td>\n",
       "    </tr>\n",
       "    <tr>\n",
       "      <th>20540</th>\n",
       "      <td>1.731461</td>\n",
       "      <td>1.744713</td>\n",
       "      <td>1.571066</td>\n",
       "      <td>0.724207</td>\n",
       "      <td>-0.287769</td>\n",
       "      <td>0.915882</td>\n",
       "      <td>0.541048</td>\n",
       "      <td>1.108883</td>\n",
       "      <td>1.520441</td>\n",
       "      <td>1.254558</td>\n",
       "      <td>-1.269543</td>\n",
       "      <td>1.722582</td>\n",
       "      <td>1.594962</td>\n",
       "      <td>-2.069986</td>\n",
       "      <td>-2.126576</td>\n",
       "      <td>1.593595</td>\n",
       "      <td>-0.69165</td>\n",
       "    </tr>\n",
       "    <tr>\n",
       "      <th>20541</th>\n",
       "      <td>1.731629</td>\n",
       "      <td>1.744713</td>\n",
       "      <td>1.571066</td>\n",
       "      <td>1.013890</td>\n",
       "      <td>-0.118640</td>\n",
       "      <td>0.734044</td>\n",
       "      <td>0.300071</td>\n",
       "      <td>0.717633</td>\n",
       "      <td>1.040792</td>\n",
       "      <td>0.438717</td>\n",
       "      <td>-0.468590</td>\n",
       "      <td>1.722582</td>\n",
       "      <td>1.594962</td>\n",
       "      <td>-2.069986</td>\n",
       "      <td>-2.126576</td>\n",
       "      <td>1.593595</td>\n",
       "      <td>-0.69165</td>\n",
       "    </tr>\n",
       "    <tr>\n",
       "      <th>20542</th>\n",
       "      <td>1.731798</td>\n",
       "      <td>1.744713</td>\n",
       "      <td>1.571066</td>\n",
       "      <td>1.303572</td>\n",
       "      <td>-0.321594</td>\n",
       "      <td>-0.235757</td>\n",
       "      <td>-0.825871</td>\n",
       "      <td>-0.064866</td>\n",
       "      <td>0.657073</td>\n",
       "      <td>-0.857030</td>\n",
       "      <td>1.133318</td>\n",
       "      <td>1.722582</td>\n",
       "      <td>1.594962</td>\n",
       "      <td>-2.069986</td>\n",
       "      <td>-2.126576</td>\n",
       "      <td>1.593595</td>\n",
       "      <td>-0.69165</td>\n",
       "    </tr>\n",
       "    <tr>\n",
       "      <th>20543</th>\n",
       "      <td>1.731967</td>\n",
       "      <td>1.744713</td>\n",
       "      <td>1.571066</td>\n",
       "      <td>1.593255</td>\n",
       "      <td>-1.201064</td>\n",
       "      <td>-0.942904</td>\n",
       "      <td>-0.825871</td>\n",
       "      <td>-0.977782</td>\n",
       "      <td>1.520441</td>\n",
       "      <td>-1.240955</td>\n",
       "      <td>0.961685</td>\n",
       "      <td>1.722582</td>\n",
       "      <td>1.594962</td>\n",
       "      <td>-2.069986</td>\n",
       "      <td>-2.126576</td>\n",
       "      <td>1.593595</td>\n",
       "      <td>-0.69165</td>\n",
       "    </tr>\n",
       "  </tbody>\n",
       "</table>\n",
       "<p>20544 rows × 17 columns</p>\n",
       "</div>"
      ],
      "text/plain": [
       "       Station_Names      Year     Month  Max_Temp  Min_Temp  Rainfall  \\\n",
       "0          -1.731967 -1.647379 -2.063156 -1.593255 -1.370192 -1.791480   \n",
       "1          -1.731798 -1.647379 -2.063156 -1.303572  0.151966 -1.205559   \n",
       "2          -1.731629 -1.647379 -2.063156 -1.013890  1.099087 -0.195349   \n",
       "3          -1.731461 -1.647379 -2.063156 -0.724207  0.151966  0.552207   \n",
       "4          -1.731292 -1.647379 -2.063156 -0.434524  0.727003  0.774453   \n",
       "...              ...       ...       ...       ...       ...       ...   \n",
       "20539       1.731292  1.744713  1.571066  0.434524 -0.321594  0.855270   \n",
       "20540       1.731461  1.744713  1.571066  0.724207 -0.287769  0.915882   \n",
       "20541       1.731629  1.744713  1.571066  1.013890 -0.118640  0.734044   \n",
       "20542       1.731798  1.744713  1.571066  1.303572 -0.321594 -0.235757   \n",
       "20543       1.731967  1.744713  1.571066  1.593255 -1.201064 -0.942904   \n",
       "\n",
       "       Relative_Humidity  Wind_Speed  Cloud_Coverage  Bright_Sunshine  \\\n",
       "0              -0.825871   -1.499448       -0.922217        -1.384926   \n",
       "1              -0.788478   -2.151531       -0.725028        -1.240955   \n",
       "2              -0.792633   -2.673197       -0.316438        -0.953011   \n",
       "3              -0.244203   -1.108198        0.342636         0.198764   \n",
       "4               0.075714   -0.456116        0.276906         0.294745   \n",
       "...                  ...         ...             ...              ...   \n",
       "20539           2.709837    1.108883        1.040792         1.302549   \n",
       "20540           0.541048    1.108883        1.520441         1.254558   \n",
       "20541           0.300071    0.717633        1.040792         0.438717   \n",
       "20542          -0.825871   -0.064866        0.657073        -0.857030   \n",
       "20543          -0.825871   -0.977782        1.520441        -1.240955   \n",
       "\n",
       "       Station_Number     X_COR     Y_COR  LATITUDE  LONGITUDE       ALT  \\\n",
       "0            0.808311  0.408091 -0.111122 -0.529267  -0.542452 -0.120135   \n",
       "1            1.084628  0.408091 -0.111122 -0.529267  -0.542452 -0.120135   \n",
       "2            0.979944  0.408091 -0.111122 -0.529267  -0.542452 -0.120135   \n",
       "3            1.029851  0.408091 -0.111122 -0.529267  -0.542452 -0.120135   \n",
       "4            0.359144  0.408091 -0.111122 -0.529267  -0.542452 -0.120135   \n",
       "...               ...       ...       ...       ...        ...       ...   \n",
       "20539       -1.498387  1.722582  1.594962 -2.069986  -2.126576  1.593595   \n",
       "20540       -1.269543  1.722582  1.594962 -2.069986  -2.126576  1.593595   \n",
       "20541       -0.468590  1.722582  1.594962 -2.069986  -2.126576  1.593595   \n",
       "20542        1.133318  1.722582  1.594962 -2.069986  -2.126576  1.593595   \n",
       "20543        0.961685  1.722582  1.594962 -2.069986  -2.126576  1.593595   \n",
       "\n",
       "        Period  \n",
       "0     -0.69165  \n",
       "1     -0.69165  \n",
       "2     -0.69165  \n",
       "3     -0.69165  \n",
       "4     -0.69165  \n",
       "...        ...  \n",
       "20539 -0.69165  \n",
       "20540 -0.69165  \n",
       "20541 -0.69165  \n",
       "20542 -0.69165  \n",
       "20543 -0.69165  \n",
       "\n",
       "[20544 rows x 17 columns]"
      ]
     },
     "execution_count": 440,
     "metadata": {},
     "output_type": "execute_result"
    }
   ],
   "source": [
    "df_feat"
   ]
  },
  {
   "cell_type": "code",
   "execution_count": 441,
   "id": "690a0fa3",
   "metadata": {},
   "outputs": [],
   "source": [
    "df_feat = pd.concat([pd.DataFrame(df_feat), pd.DataFrame(df['Flood'])], axis=1)"
   ]
  },
  {
   "cell_type": "code",
   "execution_count": 442,
   "id": "4d72904e",
   "metadata": {},
   "outputs": [
    {
     "data": {
      "text/html": [
       "<div>\n",
       "<style scoped>\n",
       "    .dataframe tbody tr th:only-of-type {\n",
       "        vertical-align: middle;\n",
       "    }\n",
       "\n",
       "    .dataframe tbody tr th {\n",
       "        vertical-align: top;\n",
       "    }\n",
       "\n",
       "    .dataframe thead th {\n",
       "        text-align: right;\n",
       "    }\n",
       "</style>\n",
       "<table border=\"1\" class=\"dataframe\">\n",
       "  <thead>\n",
       "    <tr style=\"text-align: right;\">\n",
       "      <th></th>\n",
       "      <th>Station_Names</th>\n",
       "      <th>Year</th>\n",
       "      <th>Month</th>\n",
       "      <th>Max_Temp</th>\n",
       "      <th>Min_Temp</th>\n",
       "      <th>Rainfall</th>\n",
       "      <th>Relative_Humidity</th>\n",
       "      <th>Wind_Speed</th>\n",
       "      <th>Cloud_Coverage</th>\n",
       "      <th>Bright_Sunshine</th>\n",
       "      <th>Station_Number</th>\n",
       "      <th>X_COR</th>\n",
       "      <th>Y_COR</th>\n",
       "      <th>LATITUDE</th>\n",
       "      <th>LONGITUDE</th>\n",
       "      <th>ALT</th>\n",
       "      <th>Period</th>\n",
       "      <th>Flood</th>\n",
       "    </tr>\n",
       "  </thead>\n",
       "  <tbody>\n",
       "    <tr>\n",
       "      <th>0</th>\n",
       "      <td>-1.731967</td>\n",
       "      <td>-1.647379</td>\n",
       "      <td>-2.063156</td>\n",
       "      <td>-1.593255</td>\n",
       "      <td>-1.370192</td>\n",
       "      <td>-1.791480</td>\n",
       "      <td>-0.825871</td>\n",
       "      <td>-1.499448</td>\n",
       "      <td>-0.922217</td>\n",
       "      <td>-1.384926</td>\n",
       "      <td>0.808311</td>\n",
       "      <td>0.408091</td>\n",
       "      <td>-0.111122</td>\n",
       "      <td>-0.529267</td>\n",
       "      <td>-0.542452</td>\n",
       "      <td>-0.120135</td>\n",
       "      <td>-0.69165</td>\n",
       "      <td>0</td>\n",
       "    </tr>\n",
       "    <tr>\n",
       "      <th>1</th>\n",
       "      <td>-1.731798</td>\n",
       "      <td>-1.647379</td>\n",
       "      <td>-2.063156</td>\n",
       "      <td>-1.303572</td>\n",
       "      <td>0.151966</td>\n",
       "      <td>-1.205559</td>\n",
       "      <td>-0.788478</td>\n",
       "      <td>-2.151531</td>\n",
       "      <td>-0.725028</td>\n",
       "      <td>-1.240955</td>\n",
       "      <td>1.084628</td>\n",
       "      <td>0.408091</td>\n",
       "      <td>-0.111122</td>\n",
       "      <td>-0.529267</td>\n",
       "      <td>-0.542452</td>\n",
       "      <td>-0.120135</td>\n",
       "      <td>-0.69165</td>\n",
       "      <td>0</td>\n",
       "    </tr>\n",
       "    <tr>\n",
       "      <th>2</th>\n",
       "      <td>-1.731629</td>\n",
       "      <td>-1.647379</td>\n",
       "      <td>-2.063156</td>\n",
       "      <td>-1.013890</td>\n",
       "      <td>1.099087</td>\n",
       "      <td>-0.195349</td>\n",
       "      <td>-0.792633</td>\n",
       "      <td>-2.673197</td>\n",
       "      <td>-0.316438</td>\n",
       "      <td>-0.953011</td>\n",
       "      <td>0.979944</td>\n",
       "      <td>0.408091</td>\n",
       "      <td>-0.111122</td>\n",
       "      <td>-0.529267</td>\n",
       "      <td>-0.542452</td>\n",
       "      <td>-0.120135</td>\n",
       "      <td>-0.69165</td>\n",
       "      <td>0</td>\n",
       "    </tr>\n",
       "    <tr>\n",
       "      <th>3</th>\n",
       "      <td>-1.731461</td>\n",
       "      <td>-1.647379</td>\n",
       "      <td>-2.063156</td>\n",
       "      <td>-0.724207</td>\n",
       "      <td>0.151966</td>\n",
       "      <td>0.552207</td>\n",
       "      <td>-0.244203</td>\n",
       "      <td>-1.108198</td>\n",
       "      <td>0.342636</td>\n",
       "      <td>0.198764</td>\n",
       "      <td>1.029851</td>\n",
       "      <td>0.408091</td>\n",
       "      <td>-0.111122</td>\n",
       "      <td>-0.529267</td>\n",
       "      <td>-0.542452</td>\n",
       "      <td>-0.120135</td>\n",
       "      <td>-0.69165</td>\n",
       "      <td>0</td>\n",
       "    </tr>\n",
       "    <tr>\n",
       "      <th>4</th>\n",
       "      <td>-1.731292</td>\n",
       "      <td>-1.647379</td>\n",
       "      <td>-2.063156</td>\n",
       "      <td>-0.434524</td>\n",
       "      <td>0.727003</td>\n",
       "      <td>0.774453</td>\n",
       "      <td>0.075714</td>\n",
       "      <td>-0.456116</td>\n",
       "      <td>0.276906</td>\n",
       "      <td>0.294745</td>\n",
       "      <td>0.359144</td>\n",
       "      <td>0.408091</td>\n",
       "      <td>-0.111122</td>\n",
       "      <td>-0.529267</td>\n",
       "      <td>-0.542452</td>\n",
       "      <td>-0.120135</td>\n",
       "      <td>-0.69165</td>\n",
       "      <td>0</td>\n",
       "    </tr>\n",
       "    <tr>\n",
       "      <th>...</th>\n",
       "      <td>...</td>\n",
       "      <td>...</td>\n",
       "      <td>...</td>\n",
       "      <td>...</td>\n",
       "      <td>...</td>\n",
       "      <td>...</td>\n",
       "      <td>...</td>\n",
       "      <td>...</td>\n",
       "      <td>...</td>\n",
       "      <td>...</td>\n",
       "      <td>...</td>\n",
       "      <td>...</td>\n",
       "      <td>...</td>\n",
       "      <td>...</td>\n",
       "      <td>...</td>\n",
       "      <td>...</td>\n",
       "      <td>...</td>\n",
       "      <td>...</td>\n",
       "    </tr>\n",
       "    <tr>\n",
       "      <th>20539</th>\n",
       "      <td>1.731292</td>\n",
       "      <td>1.744713</td>\n",
       "      <td>1.571066</td>\n",
       "      <td>0.434524</td>\n",
       "      <td>-0.321594</td>\n",
       "      <td>0.855270</td>\n",
       "      <td>2.709837</td>\n",
       "      <td>1.108883</td>\n",
       "      <td>1.040792</td>\n",
       "      <td>1.302549</td>\n",
       "      <td>-1.498387</td>\n",
       "      <td>1.722582</td>\n",
       "      <td>1.594962</td>\n",
       "      <td>-2.069986</td>\n",
       "      <td>-2.126576</td>\n",
       "      <td>1.593595</td>\n",
       "      <td>-0.69165</td>\n",
       "      <td>1</td>\n",
       "    </tr>\n",
       "    <tr>\n",
       "      <th>20540</th>\n",
       "      <td>1.731461</td>\n",
       "      <td>1.744713</td>\n",
       "      <td>1.571066</td>\n",
       "      <td>0.724207</td>\n",
       "      <td>-0.287769</td>\n",
       "      <td>0.915882</td>\n",
       "      <td>0.541048</td>\n",
       "      <td>1.108883</td>\n",
       "      <td>1.520441</td>\n",
       "      <td>1.254558</td>\n",
       "      <td>-1.269543</td>\n",
       "      <td>1.722582</td>\n",
       "      <td>1.594962</td>\n",
       "      <td>-2.069986</td>\n",
       "      <td>-2.126576</td>\n",
       "      <td>1.593595</td>\n",
       "      <td>-0.69165</td>\n",
       "      <td>0</td>\n",
       "    </tr>\n",
       "    <tr>\n",
       "      <th>20541</th>\n",
       "      <td>1.731629</td>\n",
       "      <td>1.744713</td>\n",
       "      <td>1.571066</td>\n",
       "      <td>1.013890</td>\n",
       "      <td>-0.118640</td>\n",
       "      <td>0.734044</td>\n",
       "      <td>0.300071</td>\n",
       "      <td>0.717633</td>\n",
       "      <td>1.040792</td>\n",
       "      <td>0.438717</td>\n",
       "      <td>-0.468590</td>\n",
       "      <td>1.722582</td>\n",
       "      <td>1.594962</td>\n",
       "      <td>-2.069986</td>\n",
       "      <td>-2.126576</td>\n",
       "      <td>1.593595</td>\n",
       "      <td>-0.69165</td>\n",
       "      <td>0</td>\n",
       "    </tr>\n",
       "    <tr>\n",
       "      <th>20542</th>\n",
       "      <td>1.731798</td>\n",
       "      <td>1.744713</td>\n",
       "      <td>1.571066</td>\n",
       "      <td>1.303572</td>\n",
       "      <td>-0.321594</td>\n",
       "      <td>-0.235757</td>\n",
       "      <td>-0.825871</td>\n",
       "      <td>-0.064866</td>\n",
       "      <td>0.657073</td>\n",
       "      <td>-0.857030</td>\n",
       "      <td>1.133318</td>\n",
       "      <td>1.722582</td>\n",
       "      <td>1.594962</td>\n",
       "      <td>-2.069986</td>\n",
       "      <td>-2.126576</td>\n",
       "      <td>1.593595</td>\n",
       "      <td>-0.69165</td>\n",
       "      <td>0</td>\n",
       "    </tr>\n",
       "    <tr>\n",
       "      <th>20543</th>\n",
       "      <td>1.731967</td>\n",
       "      <td>1.744713</td>\n",
       "      <td>1.571066</td>\n",
       "      <td>1.593255</td>\n",
       "      <td>-1.201064</td>\n",
       "      <td>-0.942904</td>\n",
       "      <td>-0.825871</td>\n",
       "      <td>-0.977782</td>\n",
       "      <td>1.520441</td>\n",
       "      <td>-1.240955</td>\n",
       "      <td>0.961685</td>\n",
       "      <td>1.722582</td>\n",
       "      <td>1.594962</td>\n",
       "      <td>-2.069986</td>\n",
       "      <td>-2.126576</td>\n",
       "      <td>1.593595</td>\n",
       "      <td>-0.69165</td>\n",
       "      <td>0</td>\n",
       "    </tr>\n",
       "  </tbody>\n",
       "</table>\n",
       "<p>20544 rows × 18 columns</p>\n",
       "</div>"
      ],
      "text/plain": [
       "       Station_Names      Year     Month  Max_Temp  Min_Temp  Rainfall  \\\n",
       "0          -1.731967 -1.647379 -2.063156 -1.593255 -1.370192 -1.791480   \n",
       "1          -1.731798 -1.647379 -2.063156 -1.303572  0.151966 -1.205559   \n",
       "2          -1.731629 -1.647379 -2.063156 -1.013890  1.099087 -0.195349   \n",
       "3          -1.731461 -1.647379 -2.063156 -0.724207  0.151966  0.552207   \n",
       "4          -1.731292 -1.647379 -2.063156 -0.434524  0.727003  0.774453   \n",
       "...              ...       ...       ...       ...       ...       ...   \n",
       "20539       1.731292  1.744713  1.571066  0.434524 -0.321594  0.855270   \n",
       "20540       1.731461  1.744713  1.571066  0.724207 -0.287769  0.915882   \n",
       "20541       1.731629  1.744713  1.571066  1.013890 -0.118640  0.734044   \n",
       "20542       1.731798  1.744713  1.571066  1.303572 -0.321594 -0.235757   \n",
       "20543       1.731967  1.744713  1.571066  1.593255 -1.201064 -0.942904   \n",
       "\n",
       "       Relative_Humidity  Wind_Speed  Cloud_Coverage  Bright_Sunshine  \\\n",
       "0              -0.825871   -1.499448       -0.922217        -1.384926   \n",
       "1              -0.788478   -2.151531       -0.725028        -1.240955   \n",
       "2              -0.792633   -2.673197       -0.316438        -0.953011   \n",
       "3              -0.244203   -1.108198        0.342636         0.198764   \n",
       "4               0.075714   -0.456116        0.276906         0.294745   \n",
       "...                  ...         ...             ...              ...   \n",
       "20539           2.709837    1.108883        1.040792         1.302549   \n",
       "20540           0.541048    1.108883        1.520441         1.254558   \n",
       "20541           0.300071    0.717633        1.040792         0.438717   \n",
       "20542          -0.825871   -0.064866        0.657073        -0.857030   \n",
       "20543          -0.825871   -0.977782        1.520441        -1.240955   \n",
       "\n",
       "       Station_Number     X_COR     Y_COR  LATITUDE  LONGITUDE       ALT  \\\n",
       "0            0.808311  0.408091 -0.111122 -0.529267  -0.542452 -0.120135   \n",
       "1            1.084628  0.408091 -0.111122 -0.529267  -0.542452 -0.120135   \n",
       "2            0.979944  0.408091 -0.111122 -0.529267  -0.542452 -0.120135   \n",
       "3            1.029851  0.408091 -0.111122 -0.529267  -0.542452 -0.120135   \n",
       "4            0.359144  0.408091 -0.111122 -0.529267  -0.542452 -0.120135   \n",
       "...               ...       ...       ...       ...        ...       ...   \n",
       "20539       -1.498387  1.722582  1.594962 -2.069986  -2.126576  1.593595   \n",
       "20540       -1.269543  1.722582  1.594962 -2.069986  -2.126576  1.593595   \n",
       "20541       -0.468590  1.722582  1.594962 -2.069986  -2.126576  1.593595   \n",
       "20542        1.133318  1.722582  1.594962 -2.069986  -2.126576  1.593595   \n",
       "20543        0.961685  1.722582  1.594962 -2.069986  -2.126576  1.593595   \n",
       "\n",
       "        Period  Flood  \n",
       "0     -0.69165      0  \n",
       "1     -0.69165      0  \n",
       "2     -0.69165      0  \n",
       "3     -0.69165      0  \n",
       "4     -0.69165      0  \n",
       "...        ...    ...  \n",
       "20539 -0.69165      1  \n",
       "20540 -0.69165      0  \n",
       "20541 -0.69165      0  \n",
       "20542 -0.69165      0  \n",
       "20543 -0.69165      0  \n",
       "\n",
       "[20544 rows x 18 columns]"
      ]
     },
     "execution_count": 442,
     "metadata": {},
     "output_type": "execute_result"
    }
   ],
   "source": [
    "df_feat"
   ]
  },
  {
   "cell_type": "code",
   "execution_count": 443,
   "id": "768c2a32",
   "metadata": {},
   "outputs": [
    {
     "data": {
      "text/plain": [
       "0    16412\n",
       "1     4132\n",
       "Name: Flood, dtype: int64"
      ]
     },
     "execution_count": 443,
     "metadata": {},
     "output_type": "execute_result"
    }
   ],
   "source": [
    "df['Flood'].value_counts()"
   ]
  },
  {
   "cell_type": "code",
   "execution_count": 444,
   "id": "b68a3fd9",
   "metadata": {},
   "outputs": [
    {
     "data": {
      "text/plain": [
       "0    16412\n",
       "1     4132\n",
       "Name: Flood, dtype: int64"
      ]
     },
     "execution_count": 444,
     "metadata": {},
     "output_type": "execute_result"
    }
   ],
   "source": [
    "df_feat['Flood'].value_counts()"
   ]
  },
  {
   "cell_type": "code",
   "execution_count": 445,
   "id": "7773a476",
   "metadata": {},
   "outputs": [],
   "source": [
    "from imblearn.under_sampling import EditedNearestNeighbours\n",
    "undersample = EditedNearestNeighbours(n_neighbors=630)\n",
    "undersample_X, undersample_Y = undersample.fit_resample(df_feat.drop('Flood', axis=1), df_feat['Flood'])\n",
    "df_feat = pd.concat([pd.DataFrame(undersample_Y), pd.DataFrame(undersample_X)], axis=1)"
   ]
  },
  {
   "cell_type": "code",
   "execution_count": 446,
   "id": "bc699e51",
   "metadata": {},
   "outputs": [
    {
     "data": {
      "text/plain": [
       "0    4135\n",
       "1    4132\n",
       "Name: Flood, dtype: int64"
      ]
     },
     "execution_count": 446,
     "metadata": {},
     "output_type": "execute_result"
    }
   ],
   "source": [
    "df_feat['Flood'].value_counts()"
   ]
  },
  {
   "cell_type": "code",
   "execution_count": 447,
   "id": "7b5dedae",
   "metadata": {},
   "outputs": [
    {
     "data": {
      "text/html": [
       "<div>\n",
       "<style scoped>\n",
       "    .dataframe tbody tr th:only-of-type {\n",
       "        vertical-align: middle;\n",
       "    }\n",
       "\n",
       "    .dataframe tbody tr th {\n",
       "        vertical-align: top;\n",
       "    }\n",
       "\n",
       "    .dataframe thead th {\n",
       "        text-align: right;\n",
       "    }\n",
       "</style>\n",
       "<table border=\"1\" class=\"dataframe\">\n",
       "  <thead>\n",
       "    <tr style=\"text-align: right;\">\n",
       "      <th></th>\n",
       "      <th>Flood</th>\n",
       "      <th>Station_Names</th>\n",
       "      <th>Year</th>\n",
       "      <th>Month</th>\n",
       "      <th>Max_Temp</th>\n",
       "      <th>Min_Temp</th>\n",
       "      <th>Rainfall</th>\n",
       "      <th>Relative_Humidity</th>\n",
       "      <th>Wind_Speed</th>\n",
       "      <th>Cloud_Coverage</th>\n",
       "      <th>Bright_Sunshine</th>\n",
       "      <th>Station_Number</th>\n",
       "      <th>X_COR</th>\n",
       "      <th>Y_COR</th>\n",
       "      <th>LATITUDE</th>\n",
       "      <th>LONGITUDE</th>\n",
       "      <th>ALT</th>\n",
       "      <th>Period</th>\n",
       "    </tr>\n",
       "  </thead>\n",
       "  <tbody>\n",
       "    <tr>\n",
       "      <th>0</th>\n",
       "      <td>0</td>\n",
       "      <td>-1.731967</td>\n",
       "      <td>-1.647379</td>\n",
       "      <td>-2.063156</td>\n",
       "      <td>-1.593255</td>\n",
       "      <td>-1.370192</td>\n",
       "      <td>-1.791480</td>\n",
       "      <td>-0.825871</td>\n",
       "      <td>-1.499448</td>\n",
       "      <td>-0.922217</td>\n",
       "      <td>-1.384926</td>\n",
       "      <td>0.808311</td>\n",
       "      <td>0.408091</td>\n",
       "      <td>-0.111122</td>\n",
       "      <td>-0.529267</td>\n",
       "      <td>-0.542452</td>\n",
       "      <td>-0.120135</td>\n",
       "      <td>-0.69165</td>\n",
       "    </tr>\n",
       "    <tr>\n",
       "      <th>1</th>\n",
       "      <td>0</td>\n",
       "      <td>-1.731798</td>\n",
       "      <td>-1.647379</td>\n",
       "      <td>-2.063156</td>\n",
       "      <td>-1.303572</td>\n",
       "      <td>0.151966</td>\n",
       "      <td>-1.205559</td>\n",
       "      <td>-0.788478</td>\n",
       "      <td>-2.151531</td>\n",
       "      <td>-0.725028</td>\n",
       "      <td>-1.240955</td>\n",
       "      <td>1.084628</td>\n",
       "      <td>0.408091</td>\n",
       "      <td>-0.111122</td>\n",
       "      <td>-0.529267</td>\n",
       "      <td>-0.542452</td>\n",
       "      <td>-0.120135</td>\n",
       "      <td>-0.69165</td>\n",
       "    </tr>\n",
       "    <tr>\n",
       "      <th>2</th>\n",
       "      <td>0</td>\n",
       "      <td>-1.730112</td>\n",
       "      <td>-1.647379</td>\n",
       "      <td>-2.063156</td>\n",
       "      <td>1.593255</td>\n",
       "      <td>-1.268715</td>\n",
       "      <td>-1.751072</td>\n",
       "      <td>-0.825871</td>\n",
       "      <td>-1.760281</td>\n",
       "      <td>-1.034135</td>\n",
       "      <td>-1.528898</td>\n",
       "      <td>0.747448</td>\n",
       "      <td>0.408091</td>\n",
       "      <td>-0.111122</td>\n",
       "      <td>-0.529267</td>\n",
       "      <td>-0.542452</td>\n",
       "      <td>-0.120135</td>\n",
       "      <td>-0.69165</td>\n",
       "    </tr>\n",
       "    <tr>\n",
       "      <th>3</th>\n",
       "      <td>0</td>\n",
       "      <td>-1.729943</td>\n",
       "      <td>-1.647379</td>\n",
       "      <td>-2.006371</td>\n",
       "      <td>-1.593255</td>\n",
       "      <td>-1.167238</td>\n",
       "      <td>-1.427805</td>\n",
       "      <td>-0.825871</td>\n",
       "      <td>-0.325699</td>\n",
       "      <td>-0.922217</td>\n",
       "      <td>-1.288945</td>\n",
       "      <td>0.808311</td>\n",
       "      <td>0.408091</td>\n",
       "      <td>-0.111122</td>\n",
       "      <td>-0.529267</td>\n",
       "      <td>-0.542452</td>\n",
       "      <td>-0.120135</td>\n",
       "      <td>-0.69165</td>\n",
       "    </tr>\n",
       "    <tr>\n",
       "      <th>4</th>\n",
       "      <td>0</td>\n",
       "      <td>-1.728088</td>\n",
       "      <td>-1.647379</td>\n",
       "      <td>-2.006371</td>\n",
       "      <td>1.593255</td>\n",
       "      <td>-1.133412</td>\n",
       "      <td>-1.448009</td>\n",
       "      <td>-0.825871</td>\n",
       "      <td>-1.499448</td>\n",
       "      <td>-1.034135</td>\n",
       "      <td>-0.953011</td>\n",
       "      <td>0.747448</td>\n",
       "      <td>0.408091</td>\n",
       "      <td>-0.111122</td>\n",
       "      <td>-0.529267</td>\n",
       "      <td>-0.542452</td>\n",
       "      <td>-0.120135</td>\n",
       "      <td>-0.69165</td>\n",
       "    </tr>\n",
       "    <tr>\n",
       "      <th>...</th>\n",
       "      <td>...</td>\n",
       "      <td>...</td>\n",
       "      <td>...</td>\n",
       "      <td>...</td>\n",
       "      <td>...</td>\n",
       "      <td>...</td>\n",
       "      <td>...</td>\n",
       "      <td>...</td>\n",
       "      <td>...</td>\n",
       "      <td>...</td>\n",
       "      <td>...</td>\n",
       "      <td>...</td>\n",
       "      <td>...</td>\n",
       "      <td>...</td>\n",
       "      <td>...</td>\n",
       "      <td>...</td>\n",
       "      <td>...</td>\n",
       "      <td>...</td>\n",
       "    </tr>\n",
       "    <tr>\n",
       "      <th>8262</th>\n",
       "      <td>1</td>\n",
       "      <td>1.729437</td>\n",
       "      <td>1.744713</td>\n",
       "      <td>1.514281</td>\n",
       "      <td>0.724207</td>\n",
       "      <td>-0.118640</td>\n",
       "      <td>0.915882</td>\n",
       "      <td>1.234894</td>\n",
       "      <td>0.978466</td>\n",
       "      <td>0.561143</td>\n",
       "      <td>1.062596</td>\n",
       "      <td>-0.296957</td>\n",
       "      <td>1.722582</td>\n",
       "      <td>1.594962</td>\n",
       "      <td>-2.069986</td>\n",
       "      <td>-2.126576</td>\n",
       "      <td>1.593595</td>\n",
       "      <td>-0.69165</td>\n",
       "    </tr>\n",
       "    <tr>\n",
       "      <th>8263</th>\n",
       "      <td>1</td>\n",
       "      <td>1.730786</td>\n",
       "      <td>1.744713</td>\n",
       "      <td>1.571066</td>\n",
       "      <td>-0.434524</td>\n",
       "      <td>0.253443</td>\n",
       "      <td>0.734044</td>\n",
       "      <td>2.302669</td>\n",
       "      <td>0.717633</td>\n",
       "      <td>2.191950</td>\n",
       "      <td>0.966614</td>\n",
       "      <td>-1.441176</td>\n",
       "      <td>1.722582</td>\n",
       "      <td>1.594962</td>\n",
       "      <td>-2.069986</td>\n",
       "      <td>-2.126576</td>\n",
       "      <td>1.593595</td>\n",
       "      <td>-0.69165</td>\n",
       "    </tr>\n",
       "    <tr>\n",
       "      <th>8264</th>\n",
       "      <td>1</td>\n",
       "      <td>1.730955</td>\n",
       "      <td>1.744713</td>\n",
       "      <td>1.571066</td>\n",
       "      <td>-0.144841</td>\n",
       "      <td>-0.084814</td>\n",
       "      <td>0.936086</td>\n",
       "      <td>2.585194</td>\n",
       "      <td>0.978466</td>\n",
       "      <td>2.000091</td>\n",
       "      <td>1.302549</td>\n",
       "      <td>-1.040700</td>\n",
       "      <td>1.722582</td>\n",
       "      <td>1.594962</td>\n",
       "      <td>-2.069986</td>\n",
       "      <td>-2.126576</td>\n",
       "      <td>1.593595</td>\n",
       "      <td>-0.69165</td>\n",
       "    </tr>\n",
       "    <tr>\n",
       "      <th>8265</th>\n",
       "      <td>1</td>\n",
       "      <td>1.731123</td>\n",
       "      <td>1.744713</td>\n",
       "      <td>1.571066</td>\n",
       "      <td>0.144841</td>\n",
       "      <td>-0.423072</td>\n",
       "      <td>0.835065</td>\n",
       "      <td>3.856553</td>\n",
       "      <td>1.239300</td>\n",
       "      <td>1.808231</td>\n",
       "      <td>1.446521</td>\n",
       "      <td>-1.612809</td>\n",
       "      <td>1.722582</td>\n",
       "      <td>1.594962</td>\n",
       "      <td>-2.069986</td>\n",
       "      <td>-2.126576</td>\n",
       "      <td>1.593595</td>\n",
       "      <td>-0.69165</td>\n",
       "    </tr>\n",
       "    <tr>\n",
       "      <th>8266</th>\n",
       "      <td>1</td>\n",
       "      <td>1.731292</td>\n",
       "      <td>1.744713</td>\n",
       "      <td>1.571066</td>\n",
       "      <td>0.434524</td>\n",
       "      <td>-0.321594</td>\n",
       "      <td>0.855270</td>\n",
       "      <td>2.709837</td>\n",
       "      <td>1.108883</td>\n",
       "      <td>1.040792</td>\n",
       "      <td>1.302549</td>\n",
       "      <td>-1.498387</td>\n",
       "      <td>1.722582</td>\n",
       "      <td>1.594962</td>\n",
       "      <td>-2.069986</td>\n",
       "      <td>-2.126576</td>\n",
       "      <td>1.593595</td>\n",
       "      <td>-0.69165</td>\n",
       "    </tr>\n",
       "  </tbody>\n",
       "</table>\n",
       "<p>8267 rows × 18 columns</p>\n",
       "</div>"
      ],
      "text/plain": [
       "      Flood  Station_Names      Year     Month  Max_Temp  Min_Temp  Rainfall  \\\n",
       "0         0      -1.731967 -1.647379 -2.063156 -1.593255 -1.370192 -1.791480   \n",
       "1         0      -1.731798 -1.647379 -2.063156 -1.303572  0.151966 -1.205559   \n",
       "2         0      -1.730112 -1.647379 -2.063156  1.593255 -1.268715 -1.751072   \n",
       "3         0      -1.729943 -1.647379 -2.006371 -1.593255 -1.167238 -1.427805   \n",
       "4         0      -1.728088 -1.647379 -2.006371  1.593255 -1.133412 -1.448009   \n",
       "...     ...            ...       ...       ...       ...       ...       ...   \n",
       "8262      1       1.729437  1.744713  1.514281  0.724207 -0.118640  0.915882   \n",
       "8263      1       1.730786  1.744713  1.571066 -0.434524  0.253443  0.734044   \n",
       "8264      1       1.730955  1.744713  1.571066 -0.144841 -0.084814  0.936086   \n",
       "8265      1       1.731123  1.744713  1.571066  0.144841 -0.423072  0.835065   \n",
       "8266      1       1.731292  1.744713  1.571066  0.434524 -0.321594  0.855270   \n",
       "\n",
       "      Relative_Humidity  Wind_Speed  Cloud_Coverage  Bright_Sunshine  \\\n",
       "0             -0.825871   -1.499448       -0.922217        -1.384926   \n",
       "1             -0.788478   -2.151531       -0.725028        -1.240955   \n",
       "2             -0.825871   -1.760281       -1.034135        -1.528898   \n",
       "3             -0.825871   -0.325699       -0.922217        -1.288945   \n",
       "4             -0.825871   -1.499448       -1.034135        -0.953011   \n",
       "...                 ...         ...             ...              ...   \n",
       "8262           1.234894    0.978466        0.561143         1.062596   \n",
       "8263           2.302669    0.717633        2.191950         0.966614   \n",
       "8264           2.585194    0.978466        2.000091         1.302549   \n",
       "8265           3.856553    1.239300        1.808231         1.446521   \n",
       "8266           2.709837    1.108883        1.040792         1.302549   \n",
       "\n",
       "      Station_Number     X_COR     Y_COR  LATITUDE  LONGITUDE       ALT  \\\n",
       "0           0.808311  0.408091 -0.111122 -0.529267  -0.542452 -0.120135   \n",
       "1           1.084628  0.408091 -0.111122 -0.529267  -0.542452 -0.120135   \n",
       "2           0.747448  0.408091 -0.111122 -0.529267  -0.542452 -0.120135   \n",
       "3           0.808311  0.408091 -0.111122 -0.529267  -0.542452 -0.120135   \n",
       "4           0.747448  0.408091 -0.111122 -0.529267  -0.542452 -0.120135   \n",
       "...              ...       ...       ...       ...        ...       ...   \n",
       "8262       -0.296957  1.722582  1.594962 -2.069986  -2.126576  1.593595   \n",
       "8263       -1.441176  1.722582  1.594962 -2.069986  -2.126576  1.593595   \n",
       "8264       -1.040700  1.722582  1.594962 -2.069986  -2.126576  1.593595   \n",
       "8265       -1.612809  1.722582  1.594962 -2.069986  -2.126576  1.593595   \n",
       "8266       -1.498387  1.722582  1.594962 -2.069986  -2.126576  1.593595   \n",
       "\n",
       "       Period  \n",
       "0    -0.69165  \n",
       "1    -0.69165  \n",
       "2    -0.69165  \n",
       "3    -0.69165  \n",
       "4    -0.69165  \n",
       "...       ...  \n",
       "8262 -0.69165  \n",
       "8263 -0.69165  \n",
       "8264 -0.69165  \n",
       "8265 -0.69165  \n",
       "8266 -0.69165  \n",
       "\n",
       "[8267 rows x 18 columns]"
      ]
     },
     "execution_count": 447,
     "metadata": {},
     "output_type": "execute_result"
    }
   ],
   "source": [
    "df_feat"
   ]
  },
  {
   "cell_type": "code",
   "execution_count": null,
   "id": "ec21ec9c",
   "metadata": {},
   "outputs": [],
   "source": []
  },
  {
   "cell_type": "markdown",
   "id": "3a095ac5",
   "metadata": {
    "id": "3a095ac5"
   },
   "source": [
    "#### Train test seperation"
   ]
  },
  {
   "cell_type": "code",
   "execution_count": 448,
   "id": "3a11042e",
   "metadata": {
    "id": "3a11042e"
   },
   "outputs": [],
   "source": [
    "from sklearn.model_selection import train_test_split"
   ]
  },
  {
   "cell_type": "code",
   "execution_count": 449,
   "id": "07ce8c68",
   "metadata": {
    "id": "07ce8c68"
   },
   "outputs": [
    {
     "data": {
      "text/plain": [
       "(1654, 5)"
      ]
     },
     "execution_count": 449,
     "metadata": {},
     "output_type": "execute_result"
    }
   ],
   "source": [
    "#X = df_feat.drop(['Sl','Station_Names','Year', 'Month', 'Max_Temp', 'Wind_Speed', 'Bright_Sunshine','Station_Number','X_COR','Y_COR','LATITUDE','LONGITUDE','ALT','Period' ],axis=1)\n",
    "\n",
    "X = df_feat.drop(['Station_Names','Year', 'Month', 'Max_Temp', 'Wind_Speed','Station_Number','X_COR','Y_COR','LATITUDE','LONGITUDE','ALT','Period','Flood'],axis=1)\n",
    "y = df_feat['Flood']\n",
    "X_train, X_test, y_train, y_test = train_test_split(X, y, test_size=0.2, random_state=50)\n",
    "X_test.shape"
   ]
  },
  {
   "cell_type": "code",
   "execution_count": null,
   "id": "4199ad45",
   "metadata": {},
   "outputs": [],
   "source": []
  },
  {
   "cell_type": "markdown",
   "id": "60e5f2a9",
   "metadata": {
    "id": "60e5f2a9"
   },
   "source": [
    "#### KNN"
   ]
  },
  {
   "cell_type": "code",
   "execution_count": 450,
   "id": "6bae8522",
   "metadata": {
    "id": "6bae8522"
   },
   "outputs": [],
   "source": [
    "knn = KNeighborsClassifier(algorithm='ball_tree', leaf_size=6, metric='manhattan', n_neighbors=8, weights='distance')"
   ]
  },
  {
   "cell_type": "code",
   "execution_count": 451,
   "id": "d5f0aece",
   "metadata": {
    "colab": {
     "base_uri": "https://localhost:8080/"
    },
    "id": "d5f0aece",
    "outputId": "0c33e0d5-664e-4c7c-fc0d-4f360f13f3bf"
   },
   "outputs": [
    {
     "data": {
      "text/html": [
       "<style>#sk-container-id-20 {color: black;background-color: white;}#sk-container-id-20 pre{padding: 0;}#sk-container-id-20 div.sk-toggleable {background-color: white;}#sk-container-id-20 label.sk-toggleable__label {cursor: pointer;display: block;width: 100%;margin-bottom: 0;padding: 0.3em;box-sizing: border-box;text-align: center;}#sk-container-id-20 label.sk-toggleable__label-arrow:before {content: \"▸\";float: left;margin-right: 0.25em;color: #696969;}#sk-container-id-20 label.sk-toggleable__label-arrow:hover:before {color: black;}#sk-container-id-20 div.sk-estimator:hover label.sk-toggleable__label-arrow:before {color: black;}#sk-container-id-20 div.sk-toggleable__content {max-height: 0;max-width: 0;overflow: hidden;text-align: left;background-color: #f0f8ff;}#sk-container-id-20 div.sk-toggleable__content pre {margin: 0.2em;color: black;border-radius: 0.25em;background-color: #f0f8ff;}#sk-container-id-20 input.sk-toggleable__control:checked~div.sk-toggleable__content {max-height: 200px;max-width: 100%;overflow: auto;}#sk-container-id-20 input.sk-toggleable__control:checked~label.sk-toggleable__label-arrow:before {content: \"▾\";}#sk-container-id-20 div.sk-estimator input.sk-toggleable__control:checked~label.sk-toggleable__label {background-color: #d4ebff;}#sk-container-id-20 div.sk-label input.sk-toggleable__control:checked~label.sk-toggleable__label {background-color: #d4ebff;}#sk-container-id-20 input.sk-hidden--visually {border: 0;clip: rect(1px 1px 1px 1px);clip: rect(1px, 1px, 1px, 1px);height: 1px;margin: -1px;overflow: hidden;padding: 0;position: absolute;width: 1px;}#sk-container-id-20 div.sk-estimator {font-family: monospace;background-color: #f0f8ff;border: 1px dotted black;border-radius: 0.25em;box-sizing: border-box;margin-bottom: 0.5em;}#sk-container-id-20 div.sk-estimator:hover {background-color: #d4ebff;}#sk-container-id-20 div.sk-parallel-item::after {content: \"\";width: 100%;border-bottom: 1px solid gray;flex-grow: 1;}#sk-container-id-20 div.sk-label:hover label.sk-toggleable__label {background-color: #d4ebff;}#sk-container-id-20 div.sk-serial::before {content: \"\";position: absolute;border-left: 1px solid gray;box-sizing: border-box;top: 0;bottom: 0;left: 50%;z-index: 0;}#sk-container-id-20 div.sk-serial {display: flex;flex-direction: column;align-items: center;background-color: white;padding-right: 0.2em;padding-left: 0.2em;position: relative;}#sk-container-id-20 div.sk-item {position: relative;z-index: 1;}#sk-container-id-20 div.sk-parallel {display: flex;align-items: stretch;justify-content: center;background-color: white;position: relative;}#sk-container-id-20 div.sk-item::before, #sk-container-id-20 div.sk-parallel-item::before {content: \"\";position: absolute;border-left: 1px solid gray;box-sizing: border-box;top: 0;bottom: 0;left: 50%;z-index: -1;}#sk-container-id-20 div.sk-parallel-item {display: flex;flex-direction: column;z-index: 1;position: relative;background-color: white;}#sk-container-id-20 div.sk-parallel-item:first-child::after {align-self: flex-end;width: 50%;}#sk-container-id-20 div.sk-parallel-item:last-child::after {align-self: flex-start;width: 50%;}#sk-container-id-20 div.sk-parallel-item:only-child::after {width: 0;}#sk-container-id-20 div.sk-dashed-wrapped {border: 1px dashed gray;margin: 0 0.4em 0.5em 0.4em;box-sizing: border-box;padding-bottom: 0.4em;background-color: white;}#sk-container-id-20 div.sk-label label {font-family: monospace;font-weight: bold;display: inline-block;line-height: 1.2em;}#sk-container-id-20 div.sk-label-container {text-align: center;}#sk-container-id-20 div.sk-container {/* jupyter's `normalize.less` sets `[hidden] { display: none; }` but bootstrap.min.css set `[hidden] { display: none !important; }` so we also need the `!important` here to be able to override the default hidden behavior on the sphinx rendered scikit-learn.org. See: https://github.com/scikit-learn/scikit-learn/issues/21755 */display: inline-block !important;position: relative;}#sk-container-id-20 div.sk-text-repr-fallback {display: none;}</style><div id=\"sk-container-id-20\" class=\"sk-top-container\"><div class=\"sk-text-repr-fallback\"><pre>KNeighborsClassifier(algorithm=&#x27;ball_tree&#x27;, leaf_size=6, metric=&#x27;manhattan&#x27;,\n",
       "                     n_neighbors=8, weights=&#x27;distance&#x27;)</pre><b>In a Jupyter environment, please rerun this cell to show the HTML representation or trust the notebook. <br />On GitHub, the HTML representation is unable to render, please try loading this page with nbviewer.org.</b></div><div class=\"sk-container\" hidden><div class=\"sk-item\"><div class=\"sk-estimator sk-toggleable\"><input class=\"sk-toggleable__control sk-hidden--visually\" id=\"sk-estimator-id-20\" type=\"checkbox\" checked><label for=\"sk-estimator-id-20\" class=\"sk-toggleable__label sk-toggleable__label-arrow\">KNeighborsClassifier</label><div class=\"sk-toggleable__content\"><pre>KNeighborsClassifier(algorithm=&#x27;ball_tree&#x27;, leaf_size=6, metric=&#x27;manhattan&#x27;,\n",
       "                     n_neighbors=8, weights=&#x27;distance&#x27;)</pre></div></div></div></div></div>"
      ],
      "text/plain": [
       "KNeighborsClassifier(algorithm='ball_tree', leaf_size=6, metric='manhattan',\n",
       "                     n_neighbors=8, weights='distance')"
      ]
     },
     "execution_count": 451,
     "metadata": {},
     "output_type": "execute_result"
    }
   ],
   "source": [
    "knn.fit(X_train,y_train)"
   ]
  },
  {
   "cell_type": "markdown",
   "id": "1d063722",
   "metadata": {},
   "source": [
    "#### Training Accuracy"
   ]
  },
  {
   "cell_type": "code",
   "execution_count": 452,
   "id": "1799cbb5",
   "metadata": {},
   "outputs": [],
   "source": [
    "pred = knn.predict(X_train)"
   ]
  },
  {
   "cell_type": "code",
   "execution_count": 453,
   "id": "48143974",
   "metadata": {},
   "outputs": [
    {
     "name": "stdout",
     "output_type": "stream",
     "text": [
      "1.0\n"
     ]
    }
   ],
   "source": [
    "accuracy = accuracy_score(y_train,pred)\n",
    "print(accuracy)"
   ]
  },
  {
   "cell_type": "markdown",
   "id": "d2886155",
   "metadata": {},
   "source": [
    "#### Cross Validation"
   ]
  },
  {
   "cell_type": "code",
   "execution_count": 454,
   "id": "1540839e",
   "metadata": {},
   "outputs": [],
   "source": [
    "from sklearn.model_selection import cross_val_score,cross_val_predict\n",
    "knn_acc=cross_val_score(knn,X_train,y_train,cv=5,scoring='accuracy',n_jobs=-1)\n",
    "knn_proba=cross_val_predict(knn,X_train,y_train,cv=5,method='predict_proba')"
   ]
  },
  {
   "cell_type": "markdown",
   "id": "16af509d",
   "metadata": {},
   "source": [
    "#### Validation Accuracy"
   ]
  },
  {
   "cell_type": "code",
   "execution_count": 455,
   "id": "301eeca9",
   "metadata": {},
   "outputs": [
    {
     "data": {
      "text/plain": [
       "array([0.99924414, 0.99848828, 0.99924414, 0.99848714, 0.99848714])"
      ]
     },
     "execution_count": 455,
     "metadata": {},
     "output_type": "execute_result"
    }
   ],
   "source": [
    "knn_acc"
   ]
  },
  {
   "cell_type": "code",
   "execution_count": 456,
   "id": "d9f83ef4",
   "metadata": {},
   "outputs": [
    {
     "data": {
      "text/plain": [
       "0.9987901699593941"
      ]
     },
     "execution_count": 456,
     "metadata": {},
     "output_type": "execute_result"
    }
   ],
   "source": [
    "knn_acc.mean()"
   ]
  },
  {
   "cell_type": "code",
   "execution_count": 457,
   "id": "b137fc5f",
   "metadata": {
    "id": "b137fc5f"
   },
   "outputs": [],
   "source": [
    "from sklearn.metrics import classification_report, confusion_matrix"
   ]
  },
  {
   "cell_type": "markdown",
   "id": "702ca1af",
   "metadata": {},
   "source": [
    "#### Test Accuracy"
   ]
  },
  {
   "cell_type": "code",
   "execution_count": 458,
   "id": "41400cf3",
   "metadata": {},
   "outputs": [],
   "source": [
    "pred = knn.predict(X_test)"
   ]
  },
  {
   "cell_type": "code",
   "execution_count": 459,
   "id": "c32586b4",
   "metadata": {},
   "outputs": [
    {
     "name": "stdout",
     "output_type": "stream",
     "text": [
      "0.998186215235792\n"
     ]
    }
   ],
   "source": [
    "accuracy = accuracy_score(y_test,pred)\n",
    "print(accuracy)"
   ]
  },
  {
   "cell_type": "markdown",
   "id": "1f20332f",
   "metadata": {
    "id": "1f20332f"
   },
   "source": [
    "#### Confusion Matrix"
   ]
  },
  {
   "cell_type": "code",
   "execution_count": 460,
   "id": "eca5bb37",
   "metadata": {
    "colab": {
     "base_uri": "https://localhost:8080/"
    },
    "id": "eca5bb37",
    "outputId": "968e90c8-74c9-4cf2-e35a-2a82e79b6bcb"
   },
   "outputs": [
    {
     "name": "stdout",
     "output_type": "stream",
     "text": [
      "confusion_matrix: \n",
      " [[819   0]\n",
      " [  3 832]]\n",
      "              precision    recall  f1-score   support\n",
      "\n",
      "           0       1.00      1.00      1.00       819\n",
      "           1       1.00      1.00      1.00       835\n",
      "\n",
      "    accuracy                           1.00      1654\n",
      "   macro avg       1.00      1.00      1.00      1654\n",
      "weighted avg       1.00      1.00      1.00      1654\n",
      "\n"
     ]
    }
   ],
   "source": [
    "confusion_matrix_ = confusion_matrix(y_test, pred)\n",
    "\n",
    "print('confusion_matrix: \\n', confusion_matrix_)\n",
    "print(classification_report(y_test, pred))\n"
   ]
  },
  {
   "cell_type": "code",
   "execution_count": 461,
   "id": "e5d25747",
   "metadata": {
    "colab": {
     "base_uri": "https://localhost:8080/"
    },
    "id": "e5d25747",
    "outputId": "9cc4f638-520a-4ee1-9109-05d3a22171dd"
   },
   "outputs": [
    {
     "name": "stdout",
     "output_type": "stream",
     "text": [
      "True Negatives =  819\n",
      "False Negatives =  3\n",
      "False Positives =  0\n",
      "True Positives =  832\n"
     ]
    }
   ],
   "source": [
    "TN = confusion_matrix_[0,0]\n",
    "print(\"True Negatives = \", TN)\n",
    "\n",
    "FN = confusion_matrix_[1,0]\n",
    "print(\"False Negatives = \", FN)\n",
    "\n",
    "FP = confusion_matrix_[0,1]\n",
    "print(\"False Positives = \", FP)\n",
    "\n",
    "TP = confusion_matrix_[1,1]\n",
    "print(\"True Positives = \", TP)\n"
   ]
  },
  {
   "cell_type": "markdown",
   "id": "38cdca08",
   "metadata": {},
   "source": [
    "#### True Positive Rate, Flase Positive Rate"
   ]
  },
  {
   "cell_type": "code",
   "execution_count": 462,
   "id": "af5eba07",
   "metadata": {},
   "outputs": [
    {
     "name": "stdout",
     "output_type": "stream",
     "text": [
      "True Positive Rate =  1.0\n",
      "False Positive Rate =  0.0\n"
     ]
    }
   ],
   "source": [
    "TPR = np.round(TP/(TP+FN), 2)\n",
    "FPR = np.round(FP/(FP+TN), 2)\n",
    "\n",
    "print(\"True Positive Rate = \", TPR)\n",
    "print(\"False Positive Rate = \", FPR)"
   ]
  },
  {
   "cell_type": "markdown",
   "id": "e98fa852",
   "metadata": {},
   "source": [
    "#### ROC: Receiver operating Characteristics and AUC: Area Under the Curve"
   ]
  },
  {
   "cell_type": "code",
   "execution_count": 463,
   "id": "3a805b1a",
   "metadata": {},
   "outputs": [
    {
     "data": {
      "image/png": "[encoded data removed]",
      "text/plain": [
       "<Figure size 1000x800 with 1 Axes>"
      ]
     },
     "metadata": {},
     "output_type": "display_data"
    }
   ],
   "source": [
    "fpr, tpr, thr = roc_curve(y_test, pred)\n",
    "auc = np.round(roc_auc_score(y_test, pred), 2)\n",
    "\n",
    "plt.figure(figsize=(10, 8))\n",
    "plt.plot(fpr, \n",
    "         tpr, \n",
    "         color='green', \n",
    "         lw=2, \n",
    "         label=\"Curve Area = \" +str(auc))\n",
    "\n",
    "plt.plot([0, 1], [0, 1], color='blue', lw=2, linestyle='--')\n",
    "plt.xlabel('False Positive Rate (FPR)')\n",
    "plt.ylabel('True Positive Rate (TPR)')\n",
    "plt.title('ROC curve')\n",
    "plt.legend(loc=\"lower right\")\n",
    "plt.show()"
   ]
  },
  {
   "cell_type": "code",
   "execution_count": 464,
   "id": "62e2d620",
   "metadata": {},
   "outputs": [
    {
     "name": "stdout",
     "output_type": "stream",
     "text": [
      ">1, train: 1.000, test: 0.998\n",
      ">2, train: 0.999, test: 0.998\n",
      ">3, train: 0.999, test: 0.998\n",
      ">4, train: 0.999, test: 0.997\n",
      ">5, train: 0.999, test: 0.998\n",
      ">6, train: 0.999, test: 0.998\n",
      ">7, train: 0.999, test: 0.998\n",
      ">8, train: 0.999, test: 0.997\n",
      ">9, train: 0.999, test: 0.997\n",
      ">10, train: 0.999, test: 0.997\n",
      ">11, train: 0.999, test: 0.998\n",
      ">12, train: 0.999, test: 0.998\n",
      ">13, train: 0.998, test: 0.998\n",
      ">14, train: 0.998, test: 0.998\n",
      ">15, train: 0.999, test: 0.998\n",
      ">16, train: 0.999, test: 0.998\n",
      ">17, train: 0.999, test: 0.998\n",
      ">18, train: 0.999, test: 0.998\n",
      ">19, train: 0.999, test: 0.998\n"
     ]
    },
    {
     "data": {
      "image/png": "[encoded data removed]",
      "text/plain": [
       "<Figure size 640x480 with 1 Axes>"
      ]
     },
     "metadata": {},
     "output_type": "display_data"
    }
   ],
   "source": [
    "from sklearn.datasets import make_classification\n",
    "from sklearn.model_selection import train_test_split\n",
    "from sklearn.metrics import accuracy_score\n",
    "from sklearn.neighbors import KNeighborsClassifier\n",
    "from matplotlib import pyplot\n",
    "\n",
    "train_scores, test_scores = list(), list()\n",
    "values = [i for i in range(1, 20)]\n",
    "for i in values:\n",
    "    model = KNeighborsClassifier(n_neighbors=i)\n",
    "    model.fit(X_train, y_train)\n",
    "    train_yhat = model.predict(X_train)\n",
    "    train_acc = accuracy_score(y_train, train_yhat)\n",
    "    train_scores.append(train_acc)\n",
    "    test_yhat = model.predict(X_test)\n",
    "    test_acc = accuracy_score(y_test, test_yhat)\n",
    "    test_scores.append(test_acc)\n",
    "    print('>%d, train: %.3f, test: %.3f' % (i, train_acc, test_acc))\n",
    "pyplot.plot(values, train_scores, '-o', label='Train')\n",
    "pyplot.plot(values, test_scores, '-o', label='Test')\n",
    "pyplot.legend()\n",
    "pyplot.show()"
   ]
  },
  {
   "cell_type": "code",
   "execution_count": 465,
   "id": "98238964",
   "metadata": {},
   "outputs": [],
   "source": [
    "error_rate = []\n",
    "\n",
    "for i in range(1,40):\n",
    "    \n",
    "    knn = KNeighborsClassifier(n_neighbors=i)\n",
    "    knn.fit(X_train,y_train)\n",
    "    pred_i = knn.predict(X_test)\n",
    "    error_rate.append(np.mean(pred_i != y_test))"
   ]
  },
  {
   "cell_type": "code",
   "execution_count": 466,
   "id": "79c1ce5f",
   "metadata": {},
   "outputs": [
    {
     "data": {
      "image/png": "[encoded data removed]",
      "text/plain": [
       "<Figure size 1000x600 with 1 Axes>"
      ]
     },
     "metadata": {},
     "output_type": "display_data"
    }
   ],
   "source": [
    "plt.figure(figsize=(10,6))\n",
    "plt.plot(range(1,40), error_rate, color='blue', linestyle='dashed', marker='o',\n",
    "        markerfacecolor='red', markersize=10)\n",
    "plt.title(\"Error Rate Vs K Value\")\n",
    "\n",
    "plt.xlabel('K')\n",
    "plt.xlabel('Error Rate')\n",
    "plt.show()"
   ]
  },
  {
   "cell_type": "markdown",
   "id": "5d956575",
   "metadata": {},
   "source": [
    "#### Determining the best value of K"
   ]
  },
  {
   "cell_type": "code",
   "execution_count": 467,
   "id": "f2db92e9",
   "metadata": {},
   "outputs": [
    {
     "name": "stdout",
     "output_type": "stream",
     "text": [
      "1\n",
      "Accuracy =  0.998186215235792\n",
      "Precision =  1.0\n",
      "Recall =  1.0\n",
      "f1 score =  1.0\n",
      "\n",
      "2\n",
      "Accuracy =  0.9975816203143894\n",
      "Precision =  1.0\n",
      "Recall =  1.0\n",
      "f1 score =  1.0\n",
      "\n",
      "3\n",
      "Accuracy =  0.998186215235792\n",
      "Precision =  1.0\n",
      "Recall =  1.0\n",
      "f1 score =  1.0\n",
      "\n",
      "4\n",
      "Accuracy =  0.9969770253929867\n",
      "Precision =  1.0\n",
      "Recall =  0.99\n",
      "f1 score =  0.99\n",
      "\n",
      "5\n",
      "Accuracy =  0.9975816203143894\n",
      "Precision =  1.0\n",
      "Recall =  1.0\n",
      "f1 score =  1.0\n",
      "\n",
      "6\n",
      "Accuracy =  0.9975816203143894\n",
      "Precision =  1.0\n",
      "Recall =  1.0\n",
      "f1 score =  1.0\n",
      "\n",
      "7\n",
      "Accuracy =  0.998186215235792\n",
      "Precision =  1.0\n",
      "Recall =  1.0\n",
      "f1 score =  1.0\n",
      "\n",
      "8\n",
      "Accuracy =  0.9969770253929867\n",
      "Precision =  1.0\n",
      "Recall =  0.99\n",
      "f1 score =  0.99\n",
      "\n",
      "9\n",
      "Accuracy =  0.9969770253929867\n",
      "Precision =  1.0\n",
      "Recall =  0.99\n",
      "f1 score =  0.99\n",
      "\n",
      "10\n",
      "Accuracy =  0.9969770253929867\n",
      "Precision =  1.0\n",
      "Recall =  0.99\n",
      "f1 score =  0.99\n",
      "\n",
      "11\n",
      "Accuracy =  0.998186215235792\n",
      "Precision =  1.0\n",
      "Recall =  1.0\n",
      "f1 score =  1.0\n",
      "\n",
      "12\n",
      "Accuracy =  0.998186215235792\n",
      "Precision =  1.0\n",
      "Recall =  1.0\n",
      "f1 score =  1.0\n",
      "\n",
      "13\n",
      "Accuracy =  0.998186215235792\n",
      "Precision =  1.0\n",
      "Recall =  1.0\n",
      "f1 score =  1.0\n",
      "\n",
      "14\n",
      "Accuracy =  0.998186215235792\n",
      "Precision =  1.0\n",
      "Recall =  1.0\n",
      "f1 score =  1.0\n",
      "\n",
      "15\n",
      "Accuracy =  0.998186215235792\n",
      "Precision =  1.0\n",
      "Recall =  1.0\n",
      "f1 score =  1.0\n",
      "\n",
      "16\n",
      "Accuracy =  0.998186215235792\n",
      "Precision =  1.0\n",
      "Recall =  1.0\n",
      "f1 score =  1.0\n",
      "\n",
      "17\n",
      "Accuracy =  0.998186215235792\n",
      "Precision =  1.0\n",
      "Recall =  1.0\n",
      "f1 score =  1.0\n",
      "\n",
      "18\n",
      "Accuracy =  0.998186215235792\n",
      "Precision =  1.0\n",
      "Recall =  1.0\n",
      "f1 score =  1.0\n",
      "\n",
      "19\n",
      "Accuracy =  0.998186215235792\n",
      "Precision =  1.0\n",
      "Recall =  1.0\n",
      "f1 score =  1.0\n",
      "\n"
     ]
    }
   ],
   "source": [
    "for i in range(1,20):\n",
    "    \n",
    "    knn = KNeighborsClassifier(n_neighbors=i)\n",
    "    knn.fit(X_train,y_train)\n",
    "    pred = knn.predict(X_test)\n",
    "    \n",
    "    confusion_matrix_ = confusion_matrix(y_test, pred)\n",
    "\n",
    "    TN = confusion_matrix_[0,0]\n",
    "   \n",
    "    FN = confusion_matrix_[1,0]\n",
    "\n",
    "    FP = confusion_matrix_[0,1]\n",
    "\n",
    "    TP = confusion_matrix_[1,1]\n",
    "\n",
    "    accuracy = accuracy_score(y_test,pred)\n",
    "    \n",
    "    precision = np.round(TP/(TP+FP), 2)\n",
    "    recall = np.round(TP/(TP+FN), 2)\n",
    "    f1_score_ = np.round((2*precision*recall)/(precision+recall), 2)\n",
    "    \n",
    "    print(i)\n",
    "    print(\"Accuracy = \",accuracy)\n",
    "    print(\"Precision = \", precision)\n",
    "    print(\"Recall = \", recall)\n",
    "    print(\"f1 score = \", f1_score_)\n",
    "    print()"
   ]
  },
  {
   "cell_type": "markdown",
   "id": "43f348fa",
   "metadata": {},
   "source": [
    "#### Hyperparameter Tuning"
   ]
  },
  {
   "cell_type": "code",
   "execution_count": 468,
   "id": "76532d97",
   "metadata": {},
   "outputs": [
    {
     "name": "stdout",
     "output_type": "stream",
     "text": [
      "              precision    recall  f1-score   support\n",
      "\n",
      "           0       1.00      1.00      1.00       819\n",
      "           1       1.00      1.00      1.00       835\n",
      "\n",
      "    accuracy                           1.00      1654\n",
      "   macro avg       1.00      1.00      1.00      1654\n",
      "weighted avg       1.00      1.00      1.00      1654\n",
      "\n",
      "[[819   0]\n",
      " [  4 831]]\n",
      "{'leaf_size': 1, 'metric': 'euclidean', 'n_neighbors': 5, 'weights': 'uniform'}\n"
     ]
    }
   ],
   "source": [
    "from sklearn.model_selection import GridSearchCV\n",
    "from sklearn.model_selection import RepeatedStratifiedKFold\n",
    "seed=50\n",
    "knn_params = {   \n",
    "    \"n_neighbors\": range(1, 20, 2),\n",
    "    \"weights\": [\"uniform\", \"distance\"],\n",
    "    \"metric\": [\"euclidean\", \"manhattan\", \"minkowski\"],\n",
    "    \"leaf_size\": range(1, 35, 5)\n",
    "   \n",
    "}\n",
    "\n",
    "knn = KNeighborsClassifier()\n",
    "\n",
    "cv = RepeatedStratifiedKFold(n_splits=10, n_repeats=3, random_state=seed)\n",
    "grid_search = GridSearchCV(estimator=knn, param_grid=knn_params, n_jobs=1, cv=cv, scoring=\"accuracy\", error_score=0)\n",
    "grid_result = grid_search.fit(X_train,y_train)\n",
    "\n",
    "kfinal_model = knn.set_params(**grid_result.best_params_)\n",
    "kfinal_model.fit(X_train,y_train)\n",
    "kpred = kfinal_model.predict(X_test)\n",
    "\n",
    "print(classification_report(y_test, kpred))\n",
    "print(confusion_matrix(y_test, kpred))\n",
    "\n",
    "print(grid_result.best_params_)"
   ]
  },
  {
   "cell_type": "markdown",
   "id": "62d57264",
   "metadata": {},
   "source": [
    "#### 'leaf_size': 6, 'metric': 'manhattan', 'n_neighbors': 7, 'weights': 'distance'"
   ]
  },
  {
   "cell_type": "markdown",
   "id": "6255db26",
   "metadata": {},
   "source": [
    "#### ROC: Receiver operating Characteristics and AUC: Area Under the Curve"
   ]
  },
  {
   "cell_type": "code",
   "execution_count": 469,
   "id": "7f0f2607-27ae-461a-9a4a-7c2c7ed03c28",
   "metadata": {},
   "outputs": [
    {
     "data": {
      "image/png": "[encoded data removed]",
      "text/plain": [
       "<Figure size 1000x800 with 1 Axes>"
      ]
     },
     "metadata": {},
     "output_type": "display_data"
    }
   ],
   "source": [
    "fpr, tpr, thr = roc_curve(y_test, grid_result.predict_proba(X_test)[:,1])\n",
    "auc = np.round(roc_auc_score(y_test, kpred), 2)\n",
    "\n",
    "plt.figure(figsize=(10, 8))\n",
    "plt.plot(fpr, \n",
    "         tpr, \n",
    "         color='green', \n",
    "         lw=2, \n",
    "         label=\"Curve Area = \" +str(auc))\n",
    "\n",
    "plt.plot([0, 1], [0, 1], color='blue', lw=2, linestyle='--')\n",
    "plt.xlabel('False Positive Rate (FPR)')\n",
    "plt.ylabel('True Positive Rate (TPR)')\n",
    "plt.title('ROC curve of KNN')\n",
    "plt.legend(loc=\"lower right\")\n",
    "plt.show()"
   ]
  },
  {
   "cell_type": "markdown",
   "id": "d0009a7c",
   "metadata": {},
   "source": [
    "#### Training Accuracy"
   ]
  },
  {
   "cell_type": "code",
   "execution_count": 470,
   "id": "b5ad0f5d",
   "metadata": {},
   "outputs": [],
   "source": [
    "predh = kfinal_model.predict(X_train)"
   ]
  },
  {
   "cell_type": "code",
   "execution_count": 471,
   "id": "b2ac1504",
   "metadata": {},
   "outputs": [
    {
     "name": "stdout",
     "output_type": "stream",
     "text": [
      "0.9992439135037048\n"
     ]
    }
   ],
   "source": [
    "accuracy = accuracy_score(y_train,predh)\n",
    "print(accuracy)"
   ]
  },
  {
   "cell_type": "markdown",
   "id": "3063f219",
   "metadata": {},
   "source": [
    "#### Cross Validation"
   ]
  },
  {
   "cell_type": "code",
   "execution_count": 472,
   "id": "e2a33a61",
   "metadata": {},
   "outputs": [],
   "source": [
    "from sklearn.model_selection import cross_val_score,cross_val_predict\n",
    "knnh_acc=cross_val_score(kfinal_model,X_train,y_train,cv=5,scoring='accuracy',n_jobs=-1)\n",
    "knnh_proba=cross_val_predict(kfinal_model,X_train,y_train,cv=5,method='predict_proba')"
   ]
  },
  {
   "cell_type": "markdown",
   "id": "261285a6",
   "metadata": {},
   "source": [
    "#### Validation Accuracy"
   ]
  },
  {
   "cell_type": "code",
   "execution_count": 473,
   "id": "ea351fc8",
   "metadata": {},
   "outputs": [
    {
     "data": {
      "text/plain": [
       "array([0.99924414, 0.99848828, 1.        , 0.99848714, 0.99848714])"
      ]
     },
     "execution_count": 473,
     "metadata": {},
     "output_type": "execute_result"
    }
   ],
   "source": [
    "knnh_acc"
   ]
  },
  {
   "cell_type": "code",
   "execution_count": 474,
   "id": "95c7000e",
   "metadata": {},
   "outputs": [
    {
     "data": {
      "text/plain": [
       "0.9989413415391372"
      ]
     },
     "execution_count": 474,
     "metadata": {},
     "output_type": "execute_result"
    }
   ],
   "source": [
    "knnh_acc.mean()"
   ]
  },
  {
   "cell_type": "markdown",
   "id": "f4290167",
   "metadata": {
    "id": "f4290167"
   },
   "source": [
    "#### Test Accuracy"
   ]
  },
  {
   "cell_type": "code",
   "execution_count": 475,
   "id": "0563ca6c",
   "metadata": {},
   "outputs": [],
   "source": [
    "pred = kfinal_model.predict(X_test) "
   ]
  },
  {
   "cell_type": "code",
   "execution_count": 476,
   "id": "659da2a3",
   "metadata": {
    "colab": {
     "base_uri": "https://localhost:8080/"
    },
    "id": "659da2a3",
    "outputId": "725ad09f-7225-43a7-c3f1-254231f10889"
   },
   "outputs": [
    {
     "name": "stdout",
     "output_type": "stream",
     "text": [
      "0.9975816203143894\n"
     ]
    }
   ],
   "source": [
    "accuracy = accuracy_score(y_test,pred)\n",
    "print(accuracy)"
   ]
  },
  {
   "cell_type": "markdown",
   "id": "c197ae60",
   "metadata": {},
   "source": [
    "#### Confusion Matrix"
   ]
  },
  {
   "cell_type": "code",
   "execution_count": 477,
   "id": "63d06ac6",
   "metadata": {},
   "outputs": [
    {
     "name": "stdout",
     "output_type": "stream",
     "text": [
      "confusion_matrix: \n",
      " [[819   0]\n",
      " [  4 831]]\n",
      "              precision    recall  f1-score   support\n",
      "\n",
      "           0       1.00      1.00      1.00       819\n",
      "           1       1.00      1.00      1.00       835\n",
      "\n",
      "    accuracy                           1.00      1654\n",
      "   macro avg       1.00      1.00      1.00      1654\n",
      "weighted avg       1.00      1.00      1.00      1654\n",
      "\n"
     ]
    }
   ],
   "source": [
    "confusion_matrix_ = confusion_matrix(y_test,pred)\n",
    "print('confusion_matrix: \\n', confusion_matrix_)\n",
    "print(classification_report(y_test,pred))"
   ]
  },
  {
   "cell_type": "code",
   "execution_count": 478,
   "id": "b4b6c9a7",
   "metadata": {},
   "outputs": [
    {
     "name": "stdout",
     "output_type": "stream",
     "text": [
      "True Negatives =  819\n",
      "False Negatives =  4\n",
      "False Positives =  0\n",
      "True Positives =  831\n"
     ]
    }
   ],
   "source": [
    "TN = confusion_matrix_[0,0]\n",
    "print(\"True Negatives = \", TN)\n",
    "\n",
    "FN = confusion_matrix_[1,0]\n",
    "print(\"False Negatives = \", FN)\n",
    "\n",
    "FP = confusion_matrix_[0,1]\n",
    "print(\"False Positives = \", FP)\n",
    "\n",
    "TP = confusion_matrix_[1,1]\n",
    "print(\"True Positives = \", TP)"
   ]
  },
  {
   "cell_type": "markdown",
   "id": "a6004a97",
   "metadata": {
    "id": "a6004a97"
   },
   "source": [
    "#### True Positive Rate, False Positive Rate"
   ]
  },
  {
   "cell_type": "code",
   "execution_count": 479,
   "id": "f5435353",
   "metadata": {
    "colab": {
     "base_uri": "https://localhost:8080/"
    },
    "id": "f5435353",
    "outputId": "b557a637-256a-42ed-dbbf-22bb1d483f63"
   },
   "outputs": [
    {
     "name": "stdout",
     "output_type": "stream",
     "text": [
      "True Positive Rate =  1.0\n",
      "False Positive Rate =  0.0\n"
     ]
    }
   ],
   "source": [
    "TPR = np.round(TP/(TP+FN), 2)\n",
    "FPR = np.round(FP/(FP+TN), 2)\n",
    "\n",
    "print(\"True Positive Rate = \", TPR)\n",
    "print(\"False Positive Rate = \", FPR)"
   ]
  },
  {
   "cell_type": "code",
   "execution_count": 480,
   "id": "d9641fbf",
   "metadata": {},
   "outputs": [],
   "source": [
    "# plot_confusion_matrix(grid_result, \n",
    "#                       X_test, \n",
    "#                       y_test, \n",
    "#                       display_labels=[\"No Flood\", \"Flood\"],\n",
    "#                       cmap='Blues')\n",
    "# plt.show()"
   ]
  },
  {
   "cell_type": "markdown",
   "id": "499cdea8",
   "metadata": {
    "id": "499cdea8"
   },
   "source": [
    "#### Decision Tree"
   ]
  },
  {
   "cell_type": "code",
   "execution_count": 481,
   "id": "4dc0ebe3",
   "metadata": {
    "id": "4dc0ebe3"
   },
   "outputs": [],
   "source": [
    "X = df_feat.drop(['Station_Names','Year', 'Month', 'Max_Temp', 'Wind_Speed','Station_Number','X_COR','Y_COR','LATITUDE','LONGITUDE','ALT','Period','Flood'],axis=1)\n",
    "y = df_feat['Flood']\n",
    "\n",
    "X_train, X_test, y_train, y_test = train_test_split(X, y, test_size=0.2, random_state=50)"
   ]
  },
  {
   "cell_type": "code",
   "execution_count": 482,
   "id": "c48e831f",
   "metadata": {
    "id": "c48e831f",
    "outputId": "88df8bf7-7d96-4445-f779-adc125e233f8"
   },
   "outputs": [
    {
     "data": {
      "text/html": [
       "<style>#sk-container-id-21 {color: black;background-color: white;}#sk-container-id-21 pre{padding: 0;}#sk-container-id-21 div.sk-toggleable {background-color: white;}#sk-container-id-21 label.sk-toggleable__label {cursor: pointer;display: block;width: 100%;margin-bottom: 0;padding: 0.3em;box-sizing: border-box;text-align: center;}#sk-container-id-21 label.sk-toggleable__label-arrow:before {content: \"▸\";float: left;margin-right: 0.25em;color: #696969;}#sk-container-id-21 label.sk-toggleable__label-arrow:hover:before {color: black;}#sk-container-id-21 div.sk-estimator:hover label.sk-toggleable__label-arrow:before {color: black;}#sk-container-id-21 div.sk-toggleable__content {max-height: 0;max-width: 0;overflow: hidden;text-align: left;background-color: #f0f8ff;}#sk-container-id-21 div.sk-toggleable__content pre {margin: 0.2em;color: black;border-radius: 0.25em;background-color: #f0f8ff;}#sk-container-id-21 input.sk-toggleable__control:checked~div.sk-toggleable__content {max-height: 200px;max-width: 100%;overflow: auto;}#sk-container-id-21 input.sk-toggleable__control:checked~label.sk-toggleable__label-arrow:before {content: \"▾\";}#sk-container-id-21 div.sk-estimator input.sk-toggleable__control:checked~label.sk-toggleable__label {background-color: #d4ebff;}#sk-container-id-21 div.sk-label input.sk-toggleable__control:checked~label.sk-toggleable__label {background-color: #d4ebff;}#sk-container-id-21 input.sk-hidden--visually {border: 0;clip: rect(1px 1px 1px 1px);clip: rect(1px, 1px, 1px, 1px);height: 1px;margin: -1px;overflow: hidden;padding: 0;position: absolute;width: 1px;}#sk-container-id-21 div.sk-estimator {font-family: monospace;background-color: #f0f8ff;border: 1px dotted black;border-radius: 0.25em;box-sizing: border-box;margin-bottom: 0.5em;}#sk-container-id-21 div.sk-estimator:hover {background-color: #d4ebff;}#sk-container-id-21 div.sk-parallel-item::after {content: \"\";width: 100%;border-bottom: 1px solid gray;flex-grow: 1;}#sk-container-id-21 div.sk-label:hover label.sk-toggleable__label {background-color: #d4ebff;}#sk-container-id-21 div.sk-serial::before {content: \"\";position: absolute;border-left: 1px solid gray;box-sizing: border-box;top: 0;bottom: 0;left: 50%;z-index: 0;}#sk-container-id-21 div.sk-serial {display: flex;flex-direction: column;align-items: center;background-color: white;padding-right: 0.2em;padding-left: 0.2em;position: relative;}#sk-container-id-21 div.sk-item {position: relative;z-index: 1;}#sk-container-id-21 div.sk-parallel {display: flex;align-items: stretch;justify-content: center;background-color: white;position: relative;}#sk-container-id-21 div.sk-item::before, #sk-container-id-21 div.sk-parallel-item::before {content: \"\";position: absolute;border-left: 1px solid gray;box-sizing: border-box;top: 0;bottom: 0;left: 50%;z-index: -1;}#sk-container-id-21 div.sk-parallel-item {display: flex;flex-direction: column;z-index: 1;position: relative;background-color: white;}#sk-container-id-21 div.sk-parallel-item:first-child::after {align-self: flex-end;width: 50%;}#sk-container-id-21 div.sk-parallel-item:last-child::after {align-self: flex-start;width: 50%;}#sk-container-id-21 div.sk-parallel-item:only-child::after {width: 0;}#sk-container-id-21 div.sk-dashed-wrapped {border: 1px dashed gray;margin: 0 0.4em 0.5em 0.4em;box-sizing: border-box;padding-bottom: 0.4em;background-color: white;}#sk-container-id-21 div.sk-label label {font-family: monospace;font-weight: bold;display: inline-block;line-height: 1.2em;}#sk-container-id-21 div.sk-label-container {text-align: center;}#sk-container-id-21 div.sk-container {/* jupyter's `normalize.less` sets `[hidden] { display: none; }` but bootstrap.min.css set `[hidden] { display: none !important; }` so we also need the `!important` here to be able to override the default hidden behavior on the sphinx rendered scikit-learn.org. See: https://github.com/scikit-learn/scikit-learn/issues/21755 */display: inline-block !important;position: relative;}#sk-container-id-21 div.sk-text-repr-fallback {display: none;}</style><div id=\"sk-container-id-21\" class=\"sk-top-container\"><div class=\"sk-text-repr-fallback\"><pre>DecisionTreeClassifier(random_state=50)</pre><b>In a Jupyter environment, please rerun this cell to show the HTML representation or trust the notebook. <br />On GitHub, the HTML representation is unable to render, please try loading this page with nbviewer.org.</b></div><div class=\"sk-container\" hidden><div class=\"sk-item\"><div class=\"sk-estimator sk-toggleable\"><input class=\"sk-toggleable__control sk-hidden--visually\" id=\"sk-estimator-id-21\" type=\"checkbox\" checked><label for=\"sk-estimator-id-21\" class=\"sk-toggleable__label sk-toggleable__label-arrow\">DecisionTreeClassifier</label><div class=\"sk-toggleable__content\"><pre>DecisionTreeClassifier(random_state=50)</pre></div></div></div></div></div>"
      ],
      "text/plain": [
       "DecisionTreeClassifier(random_state=50)"
      ]
     },
     "execution_count": 482,
     "metadata": {},
     "output_type": "execute_result"
    }
   ],
   "source": [
    "from sklearn.tree import DecisionTreeClassifier\n",
    "dtree = DecisionTreeClassifier(random_state=50)\n",
    "dtree.fit(X_train,y_train)"
   ]
  },
  {
   "cell_type": "code",
   "execution_count": 483,
   "id": "a049e798",
   "metadata": {
    "id": "a049e798",
    "outputId": "3dfec343-e771-40d3-ca53-d6918686c744"
   },
   "outputs": [
    {
     "data": {
      "image/png": "[encoded data removed]",
      "text/plain": [
       "<Figure size 1500x1500 with 1 Axes>"
      ]
     },
     "metadata": {},
     "output_type": "display_data"
    }
   ],
   "source": [
    "from sklearn.tree import plot_tree\n",
    "plt.figure(figsize=(15, 15))\n",
    "plot_tree(dtree, filled=True, rounded=True, class_names = [\"No Flood\", 'Flood'],\n",
    "         feature_names = X.columns, max_depth=2, fontsize=12)\n",
    "\n",
    "plt.show()"
   ]
  },
  {
   "cell_type": "code",
   "execution_count": 484,
   "id": "2b733b5c",
   "metadata": {
    "id": "2b733b5c"
   },
   "outputs": [],
   "source": [
    "dpred = dtree.predict(X_test)"
   ]
  },
  {
   "cell_type": "markdown",
   "id": "240c95da",
   "metadata": {
    "id": "240c95da"
   },
   "source": [
    "#### Confusion Matrix"
   ]
  },
  {
   "cell_type": "code",
   "execution_count": 485,
   "id": "8d3cb3ae",
   "metadata": {
    "id": "8d3cb3ae",
    "outputId": "aa4d2f57-6f79-463f-963b-bf72a81c4e78"
   },
   "outputs": [
    {
     "name": "stdout",
     "output_type": "stream",
     "text": [
      "confusion_matrix: \n",
      " [[818   1]\n",
      " [  1 834]]\n",
      "              precision    recall  f1-score   support\n",
      "\n",
      "           0       1.00      1.00      1.00       819\n",
      "           1       1.00      1.00      1.00       835\n",
      "\n",
      "    accuracy                           1.00      1654\n",
      "   macro avg       1.00      1.00      1.00      1654\n",
      "weighted avg       1.00      1.00      1.00      1654\n",
      "\n"
     ]
    }
   ],
   "source": [
    "confusion_matrix_ = confusion_matrix(y_test, dpred)\n",
    "print('confusion_matrix: \\n', confusion_matrix_)\n",
    "print(classification_report(y_test, dpred))"
   ]
  },
  {
   "cell_type": "code",
   "execution_count": 486,
   "id": "756bbfaf",
   "metadata": {
    "id": "756bbfaf",
    "outputId": "2da6c99d-6981-4e39-b705-c869379cd6e0"
   },
   "outputs": [
    {
     "name": "stdout",
     "output_type": "stream",
     "text": [
      "True Negatives =  818\n",
      "False Negatives =  1\n",
      "False Positives =  1\n",
      "True Positives =  834\n"
     ]
    }
   ],
   "source": [
    "DTN = confusion_matrix_[0,0]\n",
    "print(\"True Negatives = \", DTN)\n",
    "\n",
    "DFN = confusion_matrix_[1,0]\n",
    "print(\"False Negatives = \", DFN)\n",
    "\n",
    "DFP = confusion_matrix_[0,1]\n",
    "print(\"False Positives = \", DFP)\n",
    "\n",
    "DTP = confusion_matrix_[1,1]\n",
    "print(\"True Positives = \", DTP)"
   ]
  },
  {
   "cell_type": "markdown",
   "id": "ce1deb3a",
   "metadata": {
    "id": "ce1deb3a"
   },
   "source": [
    "#### Test Accuracy"
   ]
  },
  {
   "cell_type": "code",
   "execution_count": 487,
   "id": "35503c93",
   "metadata": {
    "id": "35503c93",
    "outputId": "d3a914c1-5a95-46b4-d3d5-228b02326fac"
   },
   "outputs": [
    {
     "name": "stdout",
     "output_type": "stream",
     "text": [
      "0.9987908101571947\n"
     ]
    }
   ],
   "source": [
    "accuracy = accuracy_score(y_test,dpred)\n",
    "print(accuracy)"
   ]
  },
  {
   "cell_type": "markdown",
   "id": "cff5cf5b",
   "metadata": {
    "id": "cff5cf5b"
   },
   "source": [
    "#### True Positive Rate, False Positive Rate"
   ]
  },
  {
   "cell_type": "code",
   "execution_count": 488,
   "id": "9812926f",
   "metadata": {
    "id": "9812926f",
    "outputId": "1179a5d7-6dcc-421f-e556-4a16dfae0c80"
   },
   "outputs": [
    {
     "name": "stdout",
     "output_type": "stream",
     "text": [
      "True Positive Rate =  1.0\n",
      "False Positive Rate =  0.0\n"
     ]
    }
   ],
   "source": [
    "DTPR = np.round(DTP/(DTP+DFN), 2)\n",
    "DFPR = np.round(DFP/(DFP+DTN), 2)\n",
    "\n",
    "print(\"True Positive Rate = \", DTPR)\n",
    "print(\"False Positive Rate = \", DFPR)"
   ]
  },
  {
   "cell_type": "markdown",
   "id": "23b76a20",
   "metadata": {
    "id": "23b76a20"
   },
   "source": [
    "#### ROC: Receiver operating Characteristics and AUC: Area Under the Curve"
   ]
  },
  {
   "cell_type": "code",
   "execution_count": 489,
   "id": "26437637",
   "metadata": {
    "id": "26437637",
    "outputId": "96ffa98a-abfb-46d2-ae0a-e8e567d91809"
   },
   "outputs": [
    {
     "data": {
      "image/png": "[encoded data removed]",
      "text/plain": [
       "<Figure size 1000x800 with 1 Axes>"
      ]
     },
     "metadata": {},
     "output_type": "display_data"
    }
   ],
   "source": [
    "fpr, tpr, thr = roc_curve(y_test, dpred)\n",
    "auc = np.round(roc_auc_score(y_test, dpred), 2)\n",
    "\n",
    "plt.figure(figsize=(10, 8))\n",
    "plt.plot(fpr, \n",
    "         tpr, \n",
    "         color='green', \n",
    "         lw=2, \n",
    "         label=\"Curve Area = \" +str(auc))\n",
    "\n",
    "plt.plot([0, 1], [0, 1], color='blue', lw=2, linestyle='--')\n",
    "plt.xlabel('False Positive Rate (FPR)')\n",
    "plt.ylabel('True Positive Rate (TPR)')\n",
    "plt.title('ROC curve')\n",
    "plt.legend(loc=\"lower right\")\n",
    "plt.show()"
   ]
  },
  {
   "cell_type": "markdown",
   "id": "7c528fbe",
   "metadata": {
    "id": "7c528fbe"
   },
   "source": [
    "#### Hyperparameter Tuning"
   ]
  },
  {
   "cell_type": "code",
   "execution_count": 490,
   "id": "f730d896",
   "metadata": {
    "scrolled": true
   },
   "outputs": [
    {
     "name": "stdout",
     "output_type": "stream",
     "text": [
      "              precision    recall  f1-score   support\n",
      "\n",
      "           0       1.00      1.00      1.00       819\n",
      "           1       1.00      1.00      1.00       835\n",
      "\n",
      "    accuracy                           1.00      1654\n",
      "   macro avg       1.00      1.00      1.00      1654\n",
      "weighted avg       1.00      1.00      1.00      1654\n",
      "\n",
      "[[819   0]\n",
      " [  1 834]]\n",
      "{'criterion': 'gini', 'max_depth': 12, 'max_features': 'auto'}\n"
     ]
    }
   ],
   "source": [
    "from sklearn.model_selection import GridSearchCV\n",
    "from sklearn.model_selection import RepeatedStratifiedKFold\n",
    "seed=50\n",
    "dtree_params = {   \n",
    "    \"max_depth\": range(1, 20, 2),\n",
    "    \"criterion\": ['gini','entropy'],\n",
    "    \"max_features\": ['auto'],\n",
    "    \"max_depth\": range(3,20 , 1),\n",
    "   \n",
    "}\n",
    "\n",
    "dtree = DecisionTreeClassifier()\n",
    "\n",
    "cv = RepeatedStratifiedKFold(n_splits=10, n_repeats=3, random_state=seed)\n",
    "grid_search = GridSearchCV(estimator=dtree, param_grid=dtree_params, n_jobs=1, cv=cv, scoring=\"accuracy\", error_score=0)\n",
    "grid_result = grid_search.fit(X_train,y_train)\n",
    "\n",
    "dfinal_model = dtree.set_params(**grid_result.best_params_)\n",
    "dfinal_model.fit(X_train,y_train)\n",
    "dpredh = dfinal_model.predict(X_test)\n",
    "\n",
    "print(classification_report(y_test, dpredh))\n",
    "print(confusion_matrix(y_test, dpredh))\n",
    "\n",
    "print(grid_result.best_params_)"
   ]
  },
  {
   "cell_type": "code",
   "execution_count": 491,
   "id": "13a11478",
   "metadata": {},
   "outputs": [],
   "source": [
    "#X = df_feat.drop(['Sl','Station_Names','Year', 'Month', 'Max_Temp', 'Wind_Speed', 'Bright_Sunshine','Station_Number','X_COR','Y_COR','LATITUDE','LONGITUDE','ALT','Period' ],axis=1)\n",
    "X = df_feat.drop(['Station_Names','Year', 'Month', 'Max_Temp', 'Wind_Speed','Station_Number','X_COR','Y_COR','LATITUDE','LONGITUDE','ALT','Period','Flood'],axis=1)\n",
    "y = df_feat['Flood']\n",
    "\n",
    "\n",
    "X_train, X_test, y_train, y_test = train_test_split(X, y, test_size=0.2, random_state=50)"
   ]
  },
  {
   "cell_type": "code",
   "execution_count": 492,
   "id": "618ff17c",
   "metadata": {},
   "outputs": [],
   "source": [
    "# dtreeh = DecisionTreeClassifier(criterion = 'gini', max_depth = 19, max_features = 'auto')\n",
    "# dtreeh.fit(X_train,y_train)"
   ]
  },
  {
   "cell_type": "markdown",
   "id": "96b3b33f",
   "metadata": {},
   "source": [
    "#### Training Accuracy"
   ]
  },
  {
   "cell_type": "code",
   "execution_count": 493,
   "id": "498c4c37",
   "metadata": {},
   "outputs": [],
   "source": [
    "dpredh = dfinal_model.predict(X_train)"
   ]
  },
  {
   "cell_type": "code",
   "execution_count": 494,
   "id": "e5af7d1f",
   "metadata": {},
   "outputs": [
    {
     "name": "stdout",
     "output_type": "stream",
     "text": [
      "1.0\n"
     ]
    }
   ],
   "source": [
    "accuracy = accuracy_score(y_train,dpredh)\n",
    "print(accuracy)"
   ]
  },
  {
   "cell_type": "markdown",
   "id": "a6bee157",
   "metadata": {},
   "source": [
    "#### Cross Validation"
   ]
  },
  {
   "cell_type": "code",
   "execution_count": 495,
   "id": "4d4a8e01",
   "metadata": {},
   "outputs": [],
   "source": [
    "from sklearn.model_selection import cross_val_score,cross_val_predict\n",
    "dtc_acc=cross_val_score(dfinal_model,X_train,y_train,cv=5,scoring='accuracy',n_jobs=-1)\n",
    "dtc_proba=cross_val_predict(dfinal_model,X_train,y_train,cv=5,method='predict_proba')"
   ]
  },
  {
   "cell_type": "markdown",
   "id": "4cc935f1",
   "metadata": {},
   "source": [
    "#### Validation Accuracy"
   ]
  },
  {
   "cell_type": "code",
   "execution_count": 496,
   "id": "6c12ce95",
   "metadata": {},
   "outputs": [
    {
     "data": {
      "text/plain": [
       "array([0.99924414, 0.99773243, 0.99697657, 0.99848714, 0.99848714])"
      ]
     },
     "execution_count": 496,
     "metadata": {},
     "output_type": "execute_result"
    }
   ],
   "source": [
    "dtc_acc"
   ]
  },
  {
   "cell_type": "code",
   "execution_count": 497,
   "id": "dc46e4c3",
   "metadata": {},
   "outputs": [
    {
     "data": {
      "text/plain": [
       "0.998185483640422"
      ]
     },
     "execution_count": 497,
     "metadata": {},
     "output_type": "execute_result"
    }
   ],
   "source": [
    "dtc_acc.mean()"
   ]
  },
  {
   "cell_type": "markdown",
   "id": "53a2dc5c",
   "metadata": {},
   "source": [
    "#### Test Accuracy"
   ]
  },
  {
   "cell_type": "code",
   "execution_count": 498,
   "id": "97d29571",
   "metadata": {},
   "outputs": [],
   "source": [
    "dpredht = dfinal_model.predict(X_test)"
   ]
  },
  {
   "cell_type": "code",
   "execution_count": 499,
   "id": "9c80fa05",
   "metadata": {
    "id": "9c80fa05",
    "outputId": "768df9ae-b968-46e5-d038-2fb88c3bfd19"
   },
   "outputs": [
    {
     "name": "stdout",
     "output_type": "stream",
     "text": [
      "0.9993954050785974\n"
     ]
    }
   ],
   "source": [
    "accuracy = accuracy_score(y_test,dpredht)\n",
    "print(accuracy)"
   ]
  },
  {
   "cell_type": "code",
   "execution_count": 500,
   "id": "ff92fe4f",
   "metadata": {},
   "outputs": [
    {
     "name": "stdout",
     "output_type": "stream",
     "text": [
      "confusion_matrix: \n",
      " [[819   0]\n",
      " [  1 834]]\n",
      "              precision    recall  f1-score   support\n",
      "\n",
      "           0       1.00      1.00      1.00       819\n",
      "           1       1.00      1.00      1.00       835\n",
      "\n",
      "    accuracy                           1.00      1654\n",
      "   macro avg       1.00      1.00      1.00      1654\n",
      "weighted avg       1.00      1.00      1.00      1654\n",
      "\n"
     ]
    }
   ],
   "source": [
    "confusion_matrix_ = confusion_matrix(y_test, dpredht)\n",
    "print('confusion_matrix: \\n', confusion_matrix_)\n",
    "print(classification_report(y_test, dpredht))"
   ]
  },
  {
   "cell_type": "code",
   "execution_count": 501,
   "id": "53683edb",
   "metadata": {},
   "outputs": [],
   "source": [
    "# plot_confusion_matrix(dtreeh, \n",
    "#                       X_test, \n",
    "#                       y_test, \n",
    "#                       display_labels=[\"No Flood\", \"Flood\"],\n",
    "#                       cmap='Blues')\n",
    "# plt.show()"
   ]
  },
  {
   "cell_type": "code",
   "execution_count": 502,
   "id": "b7454bfa",
   "metadata": {
    "id": "b7454bfa",
    "outputId": "3d235b04-92f6-4081-d753-da281f010e47"
   },
   "outputs": [
    {
     "data": {
      "image/png": "[encoded data removed]",
      "text/plain": [
       "<Figure size 1000x800 with 1 Axes>"
      ]
     },
     "metadata": {},
     "output_type": "display_data"
    }
   ],
   "source": [
    "fpr, tpr, thr = roc_curve(y_test, grid_result.predict_proba(X_test)[:,1])\n",
    "auc = np.round(roc_auc_score(y_test, dpredht), 2)\n",
    "\n",
    "plt.figure(figsize=(10, 8))\n",
    "plt.plot(fpr, \n",
    "         tpr, \n",
    "         color='green', \n",
    "         lw=2, \n",
    "         label=\"Curve Area = \" +str(auc))\n",
    "\n",
    "plt.plot([0, 1], [0, 1], color='blue', lw=2, linestyle='--')\n",
    "plt.xlabel('False Positive Rate (FPR)')\n",
    "plt.ylabel('True Positive Rate (TPR)')\n",
    "plt.title('ROC curve')\n",
    "plt.legend(loc=\"lower right\")\n",
    "plt.show()"
   ]
  },
  {
   "cell_type": "markdown",
   "id": "6fce1fbb",
   "metadata": {
    "id": "6fce1fbb"
   },
   "source": [
    "#### Random Forest"
   ]
  },
  {
   "cell_type": "code",
   "execution_count": 503,
   "id": "db660b44",
   "metadata": {
    "id": "db660b44"
   },
   "outputs": [],
   "source": [
    "#X = df_feat.drop(['Sl','Station_Names','Year', 'Month', 'Max_Temp', 'Wind_Speed', 'Bright_Sunshine','Station_Number','X_COR','Y_COR','LATITUDE','LONGITUDE','ALT','Period' ],axis=1)\n",
    "X = df_feat.drop(['Station_Names','Year', 'Month', 'Max_Temp', 'Wind_Speed','Station_Number','X_COR','Y_COR','LATITUDE','LONGITUDE','ALT','Period','Flood'],axis=1)\n",
    "y = df_feat['Flood']\n",
    "\n",
    "X_train, X_test, y_train, y_test = train_test_split(X, y, test_size=0.2, random_state=50)"
   ]
  },
  {
   "cell_type": "code",
   "execution_count": 504,
   "id": "9a8ded3f",
   "metadata": {
    "id": "9a8ded3f",
    "outputId": "e5af7b2c-d9a7-4782-e208-9d78cc5137dd"
   },
   "outputs": [
    {
     "data": {
      "text/html": [
       "<style>#sk-container-id-22 {color: black;background-color: white;}#sk-container-id-22 pre{padding: 0;}#sk-container-id-22 div.sk-toggleable {background-color: white;}#sk-container-id-22 label.sk-toggleable__label {cursor: pointer;display: block;width: 100%;margin-bottom: 0;padding: 0.3em;box-sizing: border-box;text-align: center;}#sk-container-id-22 label.sk-toggleable__label-arrow:before {content: \"▸\";float: left;margin-right: 0.25em;color: #696969;}#sk-container-id-22 label.sk-toggleable__label-arrow:hover:before {color: black;}#sk-container-id-22 div.sk-estimator:hover label.sk-toggleable__label-arrow:before {color: black;}#sk-container-id-22 div.sk-toggleable__content {max-height: 0;max-width: 0;overflow: hidden;text-align: left;background-color: #f0f8ff;}#sk-container-id-22 div.sk-toggleable__content pre {margin: 0.2em;color: black;border-radius: 0.25em;background-color: #f0f8ff;}#sk-container-id-22 input.sk-toggleable__control:checked~div.sk-toggleable__content {max-height: 200px;max-width: 100%;overflow: auto;}#sk-container-id-22 input.sk-toggleable__control:checked~label.sk-toggleable__label-arrow:before {content: \"▾\";}#sk-container-id-22 div.sk-estimator input.sk-toggleable__control:checked~label.sk-toggleable__label {background-color: #d4ebff;}#sk-container-id-22 div.sk-label input.sk-toggleable__control:checked~label.sk-toggleable__label {background-color: #d4ebff;}#sk-container-id-22 input.sk-hidden--visually {border: 0;clip: rect(1px 1px 1px 1px);clip: rect(1px, 1px, 1px, 1px);height: 1px;margin: -1px;overflow: hidden;padding: 0;position: absolute;width: 1px;}#sk-container-id-22 div.sk-estimator {font-family: monospace;background-color: #f0f8ff;border: 1px dotted black;border-radius: 0.25em;box-sizing: border-box;margin-bottom: 0.5em;}#sk-container-id-22 div.sk-estimator:hover {background-color: #d4ebff;}#sk-container-id-22 div.sk-parallel-item::after {content: \"\";width: 100%;border-bottom: 1px solid gray;flex-grow: 1;}#sk-container-id-22 div.sk-label:hover label.sk-toggleable__label {background-color: #d4ebff;}#sk-container-id-22 div.sk-serial::before {content: \"\";position: absolute;border-left: 1px solid gray;box-sizing: border-box;top: 0;bottom: 0;left: 50%;z-index: 0;}#sk-container-id-22 div.sk-serial {display: flex;flex-direction: column;align-items: center;background-color: white;padding-right: 0.2em;padding-left: 0.2em;position: relative;}#sk-container-id-22 div.sk-item {position: relative;z-index: 1;}#sk-container-id-22 div.sk-parallel {display: flex;align-items: stretch;justify-content: center;background-color: white;position: relative;}#sk-container-id-22 div.sk-item::before, #sk-container-id-22 div.sk-parallel-item::before {content: \"\";position: absolute;border-left: 1px solid gray;box-sizing: border-box;top: 0;bottom: 0;left: 50%;z-index: -1;}#sk-container-id-22 div.sk-parallel-item {display: flex;flex-direction: column;z-index: 1;position: relative;background-color: white;}#sk-container-id-22 div.sk-parallel-item:first-child::after {align-self: flex-end;width: 50%;}#sk-container-id-22 div.sk-parallel-item:last-child::after {align-self: flex-start;width: 50%;}#sk-container-id-22 div.sk-parallel-item:only-child::after {width: 0;}#sk-container-id-22 div.sk-dashed-wrapped {border: 1px dashed gray;margin: 0 0.4em 0.5em 0.4em;box-sizing: border-box;padding-bottom: 0.4em;background-color: white;}#sk-container-id-22 div.sk-label label {font-family: monospace;font-weight: bold;display: inline-block;line-height: 1.2em;}#sk-container-id-22 div.sk-label-container {text-align: center;}#sk-container-id-22 div.sk-container {/* jupyter's `normalize.less` sets `[hidden] { display: none; }` but bootstrap.min.css set `[hidden] { display: none !important; }` so we also need the `!important` here to be able to override the default hidden behavior on the sphinx rendered scikit-learn.org. See: https://github.com/scikit-learn/scikit-learn/issues/21755 */display: inline-block !important;position: relative;}#sk-container-id-22 div.sk-text-repr-fallback {display: none;}</style><div id=\"sk-container-id-22\" class=\"sk-top-container\"><div class=\"sk-text-repr-fallback\"><pre>RandomForestClassifier(random_state=50)</pre><b>In a Jupyter environment, please rerun this cell to show the HTML representation or trust the notebook. <br />On GitHub, the HTML representation is unable to render, please try loading this page with nbviewer.org.</b></div><div class=\"sk-container\" hidden><div class=\"sk-item\"><div class=\"sk-estimator sk-toggleable\"><input class=\"sk-toggleable__control sk-hidden--visually\" id=\"sk-estimator-id-22\" type=\"checkbox\" checked><label for=\"sk-estimator-id-22\" class=\"sk-toggleable__label sk-toggleable__label-arrow\">RandomForestClassifier</label><div class=\"sk-toggleable__content\"><pre>RandomForestClassifier(random_state=50)</pre></div></div></div></div></div>"
      ],
      "text/plain": [
       "RandomForestClassifier(random_state=50)"
      ]
     },
     "execution_count": 504,
     "metadata": {},
     "output_type": "execute_result"
    }
   ],
   "source": [
    "from sklearn.ensemble import RandomForestClassifier\n",
    "#rfc = RandomForestClassifier(n_estimators=200)\n",
    "#n_estimators=48, 83, 100, 120\n",
    "rfc = RandomForestClassifier(random_state=50)\n",
    "rfc.fit(X_train,y_train)"
   ]
  },
  {
   "cell_type": "markdown",
   "id": "10bcc38e",
   "metadata": {},
   "source": [
    "#### Training Accuracy"
   ]
  },
  {
   "cell_type": "code",
   "execution_count": 505,
   "id": "ca4e6810",
   "metadata": {},
   "outputs": [],
   "source": [
    "rfc_pred = rfc.predict(X_train)"
   ]
  },
  {
   "cell_type": "code",
   "execution_count": 506,
   "id": "047ab7f1",
   "metadata": {},
   "outputs": [
    {
     "name": "stdout",
     "output_type": "stream",
     "text": [
      "1.0\n"
     ]
    }
   ],
   "source": [
    "accuracy = accuracy_score(y_train,rfc_pred)\n",
    "print(accuracy)"
   ]
  },
  {
   "cell_type": "markdown",
   "id": "b73a39fc",
   "metadata": {},
   "source": [
    "#### Cross Validation"
   ]
  },
  {
   "cell_type": "code",
   "execution_count": 507,
   "id": "c2861ec2",
   "metadata": {},
   "outputs": [],
   "source": [
    "from sklearn.model_selection import cross_val_score,cross_val_predict\n",
    "rfc_acc=cross_val_score(rfc,X_train,y_train,cv=5,scoring='accuracy',n_jobs=-1)\n",
    "rfc_proba=cross_val_predict(rfc,X_train,y_train,cv=5,method='predict_proba')"
   ]
  },
  {
   "cell_type": "markdown",
   "id": "a619b4bc",
   "metadata": {},
   "source": [
    "#### Validation Accuracy"
   ]
  },
  {
   "cell_type": "code",
   "execution_count": 508,
   "id": "95b9fd24",
   "metadata": {},
   "outputs": [
    {
     "data": {
      "text/plain": [
       "array([0.99773243, 0.99773243, 1.        , 0.99848714, 0.99848714])"
      ]
     },
     "execution_count": 508,
     "metadata": {},
     "output_type": "execute_result"
    }
   ],
   "source": [
    "rfc_acc"
   ]
  },
  {
   "cell_type": "code",
   "execution_count": 509,
   "id": "1324ab61",
   "metadata": {},
   "outputs": [
    {
     "data": {
      "text/plain": [
       "0.9984878267999081"
      ]
     },
     "execution_count": 509,
     "metadata": {},
     "output_type": "execute_result"
    }
   ],
   "source": [
    "rfc_acc.mean()"
   ]
  },
  {
   "cell_type": "markdown",
   "id": "0e0955d0",
   "metadata": {},
   "source": [
    "#### Test Accuracy"
   ]
  },
  {
   "cell_type": "code",
   "execution_count": 510,
   "id": "88d898c7",
   "metadata": {},
   "outputs": [],
   "source": [
    "rfc_pred = rfc.predict(X_test)"
   ]
  },
  {
   "cell_type": "code",
   "execution_count": 511,
   "id": "27a0ec06",
   "metadata": {},
   "outputs": [
    {
     "name": "stdout",
     "output_type": "stream",
     "text": [
      "0.9993954050785974\n"
     ]
    }
   ],
   "source": [
    "accuracy = accuracy_score(y_test,rfc_pred)\n",
    "print(accuracy)"
   ]
  },
  {
   "cell_type": "markdown",
   "id": "cc5ae134",
   "metadata": {
    "id": "cc5ae134"
   },
   "source": [
    "#### Confusion Matrix"
   ]
  },
  {
   "cell_type": "code",
   "execution_count": 512,
   "id": "6b02750d",
   "metadata": {
    "id": "6b02750d",
    "outputId": "c44aae72-ec4d-498c-ccca-1ba5b7d4b75c"
   },
   "outputs": [
    {
     "name": "stdout",
     "output_type": "stream",
     "text": [
      "confusion_matrix: \n",
      " [[819   0]\n",
      " [  1 834]]\n",
      "              precision    recall  f1-score   support\n",
      "\n",
      "           0       1.00      1.00      1.00       819\n",
      "           1       1.00      1.00      1.00       835\n",
      "\n",
      "    accuracy                           1.00      1654\n",
      "   macro avg       1.00      1.00      1.00      1654\n",
      "weighted avg       1.00      1.00      1.00      1654\n",
      "\n"
     ]
    }
   ],
   "source": [
    "confusion_matrix_ = confusion_matrix(y_test, rfc_pred)\n",
    "\n",
    "print('confusion_matrix: \\n', confusion_matrix_)\n",
    "print(classification_report(y_test, rfc_pred))"
   ]
  },
  {
   "cell_type": "code",
   "execution_count": 513,
   "id": "bbf261b4",
   "metadata": {
    "id": "bbf261b4",
    "outputId": "1bca5bfe-d7c4-41ca-bd5e-20321fc3556b"
   },
   "outputs": [
    {
     "name": "stdout",
     "output_type": "stream",
     "text": [
      "True Negatives =  819\n",
      "False Negatives =  1\n",
      "False Positives =  0\n",
      "True Positives =  834\n"
     ]
    }
   ],
   "source": [
    "TN = confusion_matrix_[0,0]\n",
    "print(\"True Negatives = \", TN)\n",
    "\n",
    "FN = confusion_matrix_[1,0]\n",
    "print(\"False Negatives = \", FN)\n",
    "\n",
    "FP = confusion_matrix_[0,1]\n",
    "print(\"False Positives = \", FP)\n",
    "\n",
    "TP = confusion_matrix_[1,1]\n",
    "print(\"True Positives = \", TP)"
   ]
  },
  {
   "cell_type": "markdown",
   "id": "d6fa4856",
   "metadata": {
    "id": "d6fa4856"
   },
   "source": [
    "#### True Positive Rate, False Positive Rate"
   ]
  },
  {
   "cell_type": "code",
   "execution_count": 514,
   "id": "06993b97",
   "metadata": {
    "id": "06993b97",
    "outputId": "746e57ef-5649-40c9-d650-51326bce4585"
   },
   "outputs": [
    {
     "name": "stdout",
     "output_type": "stream",
     "text": [
      "True Positive Rate =  1.0\n",
      "False Positive Rate =  0.0\n"
     ]
    }
   ],
   "source": [
    "TPR = np.round(TP/(TP+FN), 2)\n",
    "FPR = np.round(FP/(FP+TN), 2)\n",
    "\n",
    "print(\"True Positive Rate = \", TPR)\n",
    "print(\"False Positive Rate = \", FPR)"
   ]
  },
  {
   "cell_type": "markdown",
   "id": "78ed332e",
   "metadata": {
    "id": "78ed332e"
   },
   "source": [
    "#### ROC: Receiver operating Characteristics and AUC: Area Under the Curve"
   ]
  },
  {
   "cell_type": "code",
   "execution_count": 515,
   "id": "d3deb2c1",
   "metadata": {
    "id": "d3deb2c1",
    "outputId": "32395eed-da0b-46c1-9a5f-4c990005660d"
   },
   "outputs": [
    {
     "data": {
      "image/png": "[encoded data removed]",
      "text/plain": [
       "<Figure size 1000x800 with 1 Axes>"
      ]
     },
     "metadata": {},
     "output_type": "display_data"
    }
   ],
   "source": [
    "fpr, tpr, thr = roc_curve(y_test, rfc_pred)\n",
    "auc = np.round(roc_auc_score(y_test, rfc_pred), 2)\n",
    "\n",
    "plt.figure(figsize=(10, 8))\n",
    "plt.plot(fpr, \n",
    "         tpr, \n",
    "         color='green', \n",
    "         lw=2, \n",
    "         label=\"Curve Area = \" +str(auc))\n",
    "\n",
    "plt.plot([0, 1], [0, 1], color='blue', lw=2, linestyle='--')\n",
    "plt.xlabel('False Positive Rate (FPR)')\n",
    "plt.ylabel('True Positive Rate (TPR)')\n",
    "plt.title('ROC curve')\n",
    "plt.legend(loc=\"lower right\")\n",
    "plt.show()\n"
   ]
  },
  {
   "cell_type": "code",
   "execution_count": 516,
   "id": "0ea1f13f",
   "metadata": {},
   "outputs": [],
   "source": [
    "# plot_confusion_matrix(rfc, \n",
    "#                       X_test, \n",
    "#                       y_test, \n",
    "#                       display_labels=[\"No Flood\", \"Flood\"],\n",
    "#                       cmap='Blues')\n",
    "# plt.show()"
   ]
  },
  {
   "cell_type": "code",
   "execution_count": 517,
   "id": "b8e9973b",
   "metadata": {},
   "outputs": [],
   "source": [
    "# from sklearn.model_selection import GridSearchCV\n",
    "# from sklearn.model_selection import RepeatedStratifiedKFold\n",
    "# seed=50\n",
    "# rf_params = {   \n",
    "#     \"n_estimators\": [100, 200, 300],\n",
    "#     \"max_depth\": range(1, 20, 2),\n",
    "#     \"criterion\": ['gini','entropy'],\n",
    "#     \"max_features\": ['auto'],\n",
    "# }\n",
    "\n",
    "# rf = RandomForestClassifier()\n",
    "\n",
    "# cv = RepeatedStratifiedKFold(n_splits=10, n_repeats=3, random_state=seed)\n",
    "# grid_search = GridSearchCV(estimator=rf, param_grid=rf_params, n_jobs=1, cv=cv, scoring=\"accuracy\", error_score=0)\n",
    "# grid_result = grid_search.fit(X_train,y_train)\n",
    "\n",
    "# rf_final_model = rf.set_params(**grid_result.best_params_)\n",
    "# rf_final_model.fit(X_train,y_train)\n",
    "# rf_predh = rf_final_model.predict(X_test)\n",
    "\n",
    "# print(classification_report(y_test, rf_predh))\n",
    "# print(confusion_matrix(y_test, rf_predh))\n",
    "\n",
    "# print(grid_result.best_params_)"
   ]
  },
  {
   "cell_type": "code",
   "execution_count": 518,
   "id": "eaed112a",
   "metadata": {},
   "outputs": [],
   "source": [
    "# predh = rf_final_model.predict(X_train)"
   ]
  },
  {
   "cell_type": "code",
   "execution_count": 519,
   "id": "19ddbeeb",
   "metadata": {},
   "outputs": [],
   "source": [
    "# accuracy = accuracy_score(y_train,predh)\n",
    "# print(accuracy)"
   ]
  },
  {
   "cell_type": "markdown",
   "id": "8890cc4e",
   "metadata": {},
   "source": [
    "#### SVC"
   ]
  },
  {
   "cell_type": "code",
   "execution_count": 520,
   "id": "7681181b",
   "metadata": {},
   "outputs": [],
   "source": [
    "#X = df_feat.drop(['Sl','Station_Names','Year', 'Month', 'Max_Temp', 'Wind_Speed', 'Bright_Sunshine','Station_Number','X_COR','Y_COR','LATITUDE','LONGITUDE','ALT','Period' ],axis=1)\n",
    "X = df_feat.drop(['Station_Names','Year', 'Month', 'Max_Temp', 'Wind_Speed','Station_Number','X_COR','Y_COR','LATITUDE','LONGITUDE','ALT','Period','Flood'],axis=1)\n",
    "y = df_feat['Flood']\n",
    "\n",
    "\n",
    "X_train, X_test, y_train, y_test = train_test_split(X, y, test_size=0.2, random_state=50)"
   ]
  },
  {
   "cell_type": "code",
   "execution_count": 521,
   "id": "a3290679",
   "metadata": {},
   "outputs": [],
   "source": [
    "from sklearn.svm import SVC\n",
    "svc_algo = SVC(C=1000,gamma=1,random_state=50,probability=True)\n"
   ]
  },
  {
   "cell_type": "code",
   "execution_count": 522,
   "id": "2718955b",
   "metadata": {},
   "outputs": [
    {
     "data": {
      "text/html": [
       "<style>#sk-container-id-23 {color: black;background-color: white;}#sk-container-id-23 pre{padding: 0;}#sk-container-id-23 div.sk-toggleable {background-color: white;}#sk-container-id-23 label.sk-toggleable__label {cursor: pointer;display: block;width: 100%;margin-bottom: 0;padding: 0.3em;box-sizing: border-box;text-align: center;}#sk-container-id-23 label.sk-toggleable__label-arrow:before {content: \"▸\";float: left;margin-right: 0.25em;color: #696969;}#sk-container-id-23 label.sk-toggleable__label-arrow:hover:before {color: black;}#sk-container-id-23 div.sk-estimator:hover label.sk-toggleable__label-arrow:before {color: black;}#sk-container-id-23 div.sk-toggleable__content {max-height: 0;max-width: 0;overflow: hidden;text-align: left;background-color: #f0f8ff;}#sk-container-id-23 div.sk-toggleable__content pre {margin: 0.2em;color: black;border-radius: 0.25em;background-color: #f0f8ff;}#sk-container-id-23 input.sk-toggleable__control:checked~div.sk-toggleable__content {max-height: 200px;max-width: 100%;overflow: auto;}#sk-container-id-23 input.sk-toggleable__control:checked~label.sk-toggleable__label-arrow:before {content: \"▾\";}#sk-container-id-23 div.sk-estimator input.sk-toggleable__control:checked~label.sk-toggleable__label {background-color: #d4ebff;}#sk-container-id-23 div.sk-label input.sk-toggleable__control:checked~label.sk-toggleable__label {background-color: #d4ebff;}#sk-container-id-23 input.sk-hidden--visually {border: 0;clip: rect(1px 1px 1px 1px);clip: rect(1px, 1px, 1px, 1px);height: 1px;margin: -1px;overflow: hidden;padding: 0;position: absolute;width: 1px;}#sk-container-id-23 div.sk-estimator {font-family: monospace;background-color: #f0f8ff;border: 1px dotted black;border-radius: 0.25em;box-sizing: border-box;margin-bottom: 0.5em;}#sk-container-id-23 div.sk-estimator:hover {background-color: #d4ebff;}#sk-container-id-23 div.sk-parallel-item::after {content: \"\";width: 100%;border-bottom: 1px solid gray;flex-grow: 1;}#sk-container-id-23 div.sk-label:hover label.sk-toggleable__label {background-color: #d4ebff;}#sk-container-id-23 div.sk-serial::before {content: \"\";position: absolute;border-left: 1px solid gray;box-sizing: border-box;top: 0;bottom: 0;left: 50%;z-index: 0;}#sk-container-id-23 div.sk-serial {display: flex;flex-direction: column;align-items: center;background-color: white;padding-right: 0.2em;padding-left: 0.2em;position: relative;}#sk-container-id-23 div.sk-item {position: relative;z-index: 1;}#sk-container-id-23 div.sk-parallel {display: flex;align-items: stretch;justify-content: center;background-color: white;position: relative;}#sk-container-id-23 div.sk-item::before, #sk-container-id-23 div.sk-parallel-item::before {content: \"\";position: absolute;border-left: 1px solid gray;box-sizing: border-box;top: 0;bottom: 0;left: 50%;z-index: -1;}#sk-container-id-23 div.sk-parallel-item {display: flex;flex-direction: column;z-index: 1;position: relative;background-color: white;}#sk-container-id-23 div.sk-parallel-item:first-child::after {align-self: flex-end;width: 50%;}#sk-container-id-23 div.sk-parallel-item:last-child::after {align-self: flex-start;width: 50%;}#sk-container-id-23 div.sk-parallel-item:only-child::after {width: 0;}#sk-container-id-23 div.sk-dashed-wrapped {border: 1px dashed gray;margin: 0 0.4em 0.5em 0.4em;box-sizing: border-box;padding-bottom: 0.4em;background-color: white;}#sk-container-id-23 div.sk-label label {font-family: monospace;font-weight: bold;display: inline-block;line-height: 1.2em;}#sk-container-id-23 div.sk-label-container {text-align: center;}#sk-container-id-23 div.sk-container {/* jupyter's `normalize.less` sets `[hidden] { display: none; }` but bootstrap.min.css set `[hidden] { display: none !important; }` so we also need the `!important` here to be able to override the default hidden behavior on the sphinx rendered scikit-learn.org. See: https://github.com/scikit-learn/scikit-learn/issues/21755 */display: inline-block !important;position: relative;}#sk-container-id-23 div.sk-text-repr-fallback {display: none;}</style><div id=\"sk-container-id-23\" class=\"sk-top-container\"><div class=\"sk-text-repr-fallback\"><pre>SVC(C=1000, gamma=1, probability=True, random_state=50)</pre><b>In a Jupyter environment, please rerun this cell to show the HTML representation or trust the notebook. <br />On GitHub, the HTML representation is unable to render, please try loading this page with nbviewer.org.</b></div><div class=\"sk-container\" hidden><div class=\"sk-item\"><div class=\"sk-estimator sk-toggleable\"><input class=\"sk-toggleable__control sk-hidden--visually\" id=\"sk-estimator-id-23\" type=\"checkbox\" checked><label for=\"sk-estimator-id-23\" class=\"sk-toggleable__label sk-toggleable__label-arrow\">SVC</label><div class=\"sk-toggleable__content\"><pre>SVC(C=1000, gamma=1, probability=True, random_state=50)</pre></div></div></div></div></div>"
      ],
      "text/plain": [
       "SVC(C=1000, gamma=1, probability=True, random_state=50)"
      ]
     },
     "execution_count": 522,
     "metadata": {},
     "output_type": "execute_result"
    }
   ],
   "source": [
    "svc_algo.fit(X_train,y_train)"
   ]
  },
  {
   "cell_type": "markdown",
   "id": "9e39d35d",
   "metadata": {},
   "source": [
    "#### Training Accuracy"
   ]
  },
  {
   "cell_type": "code",
   "execution_count": 523,
   "id": "461aa0b2",
   "metadata": {},
   "outputs": [],
   "source": [
    "svc_pred = svc_algo.predict(X_train)"
   ]
  },
  {
   "cell_type": "code",
   "execution_count": 524,
   "id": "f53e7f3c",
   "metadata": {},
   "outputs": [
    {
     "name": "stdout",
     "output_type": "stream",
     "text": [
      "1.0\n"
     ]
    }
   ],
   "source": [
    "accuracy = accuracy_score(y_train,svc_pred)\n",
    "print(accuracy)"
   ]
  },
  {
   "cell_type": "markdown",
   "id": "9a08fd85",
   "metadata": {},
   "source": [
    "#### Cross Validation"
   ]
  },
  {
   "cell_type": "code",
   "execution_count": 525,
   "id": "dda54d6b",
   "metadata": {},
   "outputs": [],
   "source": [
    "from sklearn.model_selection import cross_val_score,cross_val_predict\n",
    "svc_acc=cross_val_score(svc_algo,X_train,y_train,cv=5,scoring='accuracy',n_jobs=-1)\n",
    "svc_proba=cross_val_predict(svc_algo,X_train,y_train,cv=5,method='predict_proba')"
   ]
  },
  {
   "cell_type": "markdown",
   "id": "924b1f52",
   "metadata": {},
   "source": [
    "#### Validation Accuracy"
   ]
  },
  {
   "cell_type": "code",
   "execution_count": 526,
   "id": "21b31d02",
   "metadata": {},
   "outputs": [
    {
     "data": {
      "text/plain": [
       "array([1.        , 0.99848828, 0.99924414, 0.99773071, 0.99546142])"
      ]
     },
     "execution_count": 526,
     "metadata": {},
     "output_type": "execute_result"
    }
   ],
   "source": [
    "svc_acc"
   ]
  },
  {
   "cell_type": "code",
   "execution_count": 527,
   "id": "166fbba0",
   "metadata": {},
   "outputs": [
    {
     "data": {
      "text/plain": [
       "0.9981849118870947"
      ]
     },
     "execution_count": 527,
     "metadata": {},
     "output_type": "execute_result"
    }
   ],
   "source": [
    "svc_acc.mean()"
   ]
  },
  {
   "cell_type": "markdown",
   "id": "8435f133",
   "metadata": {},
   "source": [
    "#### Test Accuracy"
   ]
  },
  {
   "cell_type": "code",
   "execution_count": 528,
   "id": "f211af19",
   "metadata": {},
   "outputs": [],
   "source": [
    "svc_pred = svc_algo.predict(X_test)"
   ]
  },
  {
   "cell_type": "code",
   "execution_count": 529,
   "id": "9283b8df",
   "metadata": {},
   "outputs": [
    {
     "name": "stdout",
     "output_type": "stream",
     "text": [
      "0.9987908101571947\n"
     ]
    }
   ],
   "source": [
    "accuracy = accuracy_score(y_test,svc_pred)\n",
    "print(accuracy)"
   ]
  },
  {
   "cell_type": "markdown",
   "id": "8200c7f0",
   "metadata": {},
   "source": [
    "#### Confusion Matrix"
   ]
  },
  {
   "cell_type": "code",
   "execution_count": 530,
   "id": "b6b5cd82",
   "metadata": {},
   "outputs": [
    {
     "name": "stdout",
     "output_type": "stream",
     "text": [
      "confusion_matrix: \n",
      " [[819   0]\n",
      " [  2 833]]\n",
      "              precision    recall  f1-score   support\n",
      "\n",
      "           0       1.00      1.00      1.00       819\n",
      "           1       1.00      1.00      1.00       835\n",
      "\n",
      "    accuracy                           1.00      1654\n",
      "   macro avg       1.00      1.00      1.00      1654\n",
      "weighted avg       1.00      1.00      1.00      1654\n",
      "\n"
     ]
    }
   ],
   "source": [
    "confusion_matrix_ = confusion_matrix(y_test, svc_pred)\n",
    "print('confusion_matrix: \\n', confusion_matrix_)\n",
    "\n",
    "print(classification_report(y_test, svc_pred))"
   ]
  },
  {
   "cell_type": "code",
   "execution_count": 531,
   "id": "0f4c31ed",
   "metadata": {},
   "outputs": [
    {
     "name": "stdout",
     "output_type": "stream",
     "text": [
      "True Negatives =  819\n",
      "False Negatives =  2\n",
      "False Positives =  0\n",
      "True Positives =  833\n"
     ]
    }
   ],
   "source": [
    "TN = confusion_matrix_[0,0]\n",
    "print(\"True Negatives = \", TN)\n",
    "\n",
    "FN = confusion_matrix_[1,0]\n",
    "print(\"False Negatives = \", FN)\n",
    "\n",
    "FP = confusion_matrix_[0,1]\n",
    "print(\"False Positives = \", FP)\n",
    "\n",
    "TP = confusion_matrix_[1,1]\n",
    "print(\"True Positives = \", TP)"
   ]
  },
  {
   "cell_type": "markdown",
   "id": "d8c5bb88",
   "metadata": {},
   "source": [
    "#### True Positive Rate, False Positive Rate"
   ]
  },
  {
   "cell_type": "code",
   "execution_count": 532,
   "id": "d0c0edd2",
   "metadata": {},
   "outputs": [
    {
     "name": "stdout",
     "output_type": "stream",
     "text": [
      "True Positive Rate =  1.0\n",
      "False Positive Rate =  0.0\n"
     ]
    }
   ],
   "source": [
    "TPR = np.round(TP/(TP+FN), 2)\n",
    "FPR = np.round(FP/(FP+TN), 2)\n",
    "\n",
    "print(\"True Positive Rate = \", TPR)\n",
    "print(\"False Positive Rate = \", FPR)"
   ]
  },
  {
   "cell_type": "markdown",
   "id": "2e1a582a",
   "metadata": {},
   "source": [
    "#### ROC: Receiver operating Characteristics and AUC: Area Under the Curve"
   ]
  },
  {
   "cell_type": "code",
   "execution_count": 533,
   "id": "b0b2690c",
   "metadata": {},
   "outputs": [
    {
     "data": {
      "image/png": "[encoded data removed]",
      "text/plain": [
       "<Figure size 1000x800 with 1 Axes>"
      ]
     },
     "metadata": {},
     "output_type": "display_data"
    }
   ],
   "source": [
    "fpr, tpr, thr = roc_curve(y_test, svc_pred)\n",
    "auc = np.round(roc_auc_score(y_test, svc_pred), 2)\n",
    "\n",
    "plt.figure(figsize=(10, 8))\n",
    "plt.plot(fpr, \n",
    "         tpr, \n",
    "         color='green', \n",
    "         lw=2, \n",
    "         label=\"Curve Area = \" +str(auc))\n",
    "\n",
    "plt.plot([0, 1], [0, 1], color='blue', lw=2, linestyle='--')\n",
    "plt.xlabel('False Positive Rate (FPR)')\n",
    "plt.ylabel('True Positive Rate (TPR)')\n",
    "plt.title('ROC curve')\n",
    "plt.legend(loc=\"lower right\")\n",
    "plt.show()"
   ]
  },
  {
   "cell_type": "code",
   "execution_count": 534,
   "id": "80e638d9",
   "metadata": {},
   "outputs": [],
   "source": [
    "# plot_confusion_matrix(svc_algo, \n",
    "#                       X_test, \n",
    "#                       y_test, \n",
    "#                       display_labels=[\"No Flood\", \"Flood\"],\n",
    "#                       cmap='Blues')\n",
    "# plt.show()"
   ]
  },
  {
   "cell_type": "markdown",
   "id": "4ecc7545",
   "metadata": {},
   "source": [
    "#### Xg Boost"
   ]
  },
  {
   "cell_type": "code",
   "execution_count": 535,
   "id": "74cd0051",
   "metadata": {},
   "outputs": [],
   "source": [
    "X = df_feat.drop(['Station_Names','Year', 'Month', 'Max_Temp', 'Wind_Speed','Station_Number','X_COR','Y_COR','LATITUDE','LONGITUDE','ALT','Period','Flood'],axis=1)\n",
    "y = df_feat['Flood']\n",
    "\n",
    "\n",
    "X_train, X_test, y_train, y_test = train_test_split(X, y, test_size=0.2, random_state=50)"
   ]
  },
  {
   "cell_type": "code",
   "execution_count": 536,
   "id": "f321d869",
   "metadata": {},
   "outputs": [],
   "source": [
    "from xgboost import XGBClassifier"
   ]
  },
  {
   "cell_type": "code",
   "execution_count": 537,
   "id": "32db8503",
   "metadata": {},
   "outputs": [],
   "source": [
    "xgb_model = XGBClassifier(objective=\"binary:logistic\", random_state=50, eval_metric=\"auc\")"
   ]
  },
  {
   "cell_type": "code",
   "execution_count": 538,
   "id": "60eb708e",
   "metadata": {},
   "outputs": [
    {
     "data": {
      "text/html": [
       "<style>#sk-container-id-24 {color: black;background-color: white;}#sk-container-id-24 pre{padding: 0;}#sk-container-id-24 div.sk-toggleable {background-color: white;}#sk-container-id-24 label.sk-toggleable__label {cursor: pointer;display: block;width: 100%;margin-bottom: 0;padding: 0.3em;box-sizing: border-box;text-align: center;}#sk-container-id-24 label.sk-toggleable__label-arrow:before {content: \"▸\";float: left;margin-right: 0.25em;color: #696969;}#sk-container-id-24 label.sk-toggleable__label-arrow:hover:before {color: black;}#sk-container-id-24 div.sk-estimator:hover label.sk-toggleable__label-arrow:before {color: black;}#sk-container-id-24 div.sk-toggleable__content {max-height: 0;max-width: 0;overflow: hidden;text-align: left;background-color: #f0f8ff;}#sk-container-id-24 div.sk-toggleable__content pre {margin: 0.2em;color: black;border-radius: 0.25em;background-color: #f0f8ff;}#sk-container-id-24 input.sk-toggleable__control:checked~div.sk-toggleable__content {max-height: 200px;max-width: 100%;overflow: auto;}#sk-container-id-24 input.sk-toggleable__control:checked~label.sk-toggleable__label-arrow:before {content: \"▾\";}#sk-container-id-24 div.sk-estimator input.sk-toggleable__control:checked~label.sk-toggleable__label {background-color: #d4ebff;}#sk-container-id-24 div.sk-label input.sk-toggleable__control:checked~label.sk-toggleable__label {background-color: #d4ebff;}#sk-container-id-24 input.sk-hidden--visually {border: 0;clip: rect(1px 1px 1px 1px);clip: rect(1px, 1px, 1px, 1px);height: 1px;margin: -1px;overflow: hidden;padding: 0;position: absolute;width: 1px;}#sk-container-id-24 div.sk-estimator {font-family: monospace;background-color: #f0f8ff;border: 1px dotted black;border-radius: 0.25em;box-sizing: border-box;margin-bottom: 0.5em;}#sk-container-id-24 div.sk-estimator:hover {background-color: #d4ebff;}#sk-container-id-24 div.sk-parallel-item::after {content: \"\";width: 100%;border-bottom: 1px solid gray;flex-grow: 1;}#sk-container-id-24 div.sk-label:hover label.sk-toggleable__label {background-color: #d4ebff;}#sk-container-id-24 div.sk-serial::before {content: \"\";position: absolute;border-left: 1px solid gray;box-sizing: border-box;top: 0;bottom: 0;left: 50%;z-index: 0;}#sk-container-id-24 div.sk-serial {display: flex;flex-direction: column;align-items: center;background-color: white;padding-right: 0.2em;padding-left: 0.2em;position: relative;}#sk-container-id-24 div.sk-item {position: relative;z-index: 1;}#sk-container-id-24 div.sk-parallel {display: flex;align-items: stretch;justify-content: center;background-color: white;position: relative;}#sk-container-id-24 div.sk-item::before, #sk-container-id-24 div.sk-parallel-item::before {content: \"\";position: absolute;border-left: 1px solid gray;box-sizing: border-box;top: 0;bottom: 0;left: 50%;z-index: -1;}#sk-container-id-24 div.sk-parallel-item {display: flex;flex-direction: column;z-index: 1;position: relative;background-color: white;}#sk-container-id-24 div.sk-parallel-item:first-child::after {align-self: flex-end;width: 50%;}#sk-container-id-24 div.sk-parallel-item:last-child::after {align-self: flex-start;width: 50%;}#sk-container-id-24 div.sk-parallel-item:only-child::after {width: 0;}#sk-container-id-24 div.sk-dashed-wrapped {border: 1px dashed gray;margin: 0 0.4em 0.5em 0.4em;box-sizing: border-box;padding-bottom: 0.4em;background-color: white;}#sk-container-id-24 div.sk-label label {font-family: monospace;font-weight: bold;display: inline-block;line-height: 1.2em;}#sk-container-id-24 div.sk-label-container {text-align: center;}#sk-container-id-24 div.sk-container {/* jupyter's `normalize.less` sets `[hidden] { display: none; }` but bootstrap.min.css set `[hidden] { display: none !important; }` so we also need the `!important` here to be able to override the default hidden behavior on the sphinx rendered scikit-learn.org. See: https://github.com/scikit-learn/scikit-learn/issues/21755 */display: inline-block !important;position: relative;}#sk-container-id-24 div.sk-text-repr-fallback {display: none;}</style><div id=\"sk-container-id-24\" class=\"sk-top-container\"><div class=\"sk-text-repr-fallback\"><pre>XGBClassifier(base_score=0.5, booster=&#x27;gbtree&#x27;, colsample_bylevel=1,\n",
       "              colsample_bynode=1, colsample_bytree=1, enable_categorical=False,\n",
       "              eval_metric=&#x27;auc&#x27;, gamma=0, gpu_id=-1, importance_type=None,\n",
       "              interaction_constraints=&#x27;&#x27;, learning_rate=0.300000012,\n",
       "              max_delta_step=0, max_depth=6, min_child_weight=1, missing=nan,\n",
       "              monotone_constraints=&#x27;()&#x27;, n_estimators=100, n_jobs=6,\n",
       "              num_parallel_tree=1, predictor=&#x27;auto&#x27;, random_state=50,\n",
       "              reg_alpha=0, reg_lambda=1, scale_pos_weight=1, subsample=1,\n",
       "              tree_method=&#x27;exact&#x27;, validate_parameters=1, verbosity=None)</pre><b>In a Jupyter environment, please rerun this cell to show the HTML representation or trust the notebook. <br />On GitHub, the HTML representation is unable to render, please try loading this page with nbviewer.org.</b></div><div class=\"sk-container\" hidden><div class=\"sk-item\"><div class=\"sk-estimator sk-toggleable\"><input class=\"sk-toggleable__control sk-hidden--visually\" id=\"sk-estimator-id-24\" type=\"checkbox\" checked><label for=\"sk-estimator-id-24\" class=\"sk-toggleable__label sk-toggleable__label-arrow\">XGBClassifier</label><div class=\"sk-toggleable__content\"><pre>XGBClassifier(base_score=0.5, booster=&#x27;gbtree&#x27;, colsample_bylevel=1,\n",
       "              colsample_bynode=1, colsample_bytree=1, enable_categorical=False,\n",
       "              eval_metric=&#x27;auc&#x27;, gamma=0, gpu_id=-1, importance_type=None,\n",
       "              interaction_constraints=&#x27;&#x27;, learning_rate=0.300000012,\n",
       "              max_delta_step=0, max_depth=6, min_child_weight=1, missing=nan,\n",
       "              monotone_constraints=&#x27;()&#x27;, n_estimators=100, n_jobs=6,\n",
       "              num_parallel_tree=1, predictor=&#x27;auto&#x27;, random_state=50,\n",
       "              reg_alpha=0, reg_lambda=1, scale_pos_weight=1, subsample=1,\n",
       "              tree_method=&#x27;exact&#x27;, validate_parameters=1, verbosity=None)</pre></div></div></div></div></div>"
      ],
      "text/plain": [
       "XGBClassifier(base_score=0.5, booster='gbtree', colsample_bylevel=1,\n",
       "              colsample_bynode=1, colsample_bytree=1, enable_categorical=False,\n",
       "              eval_metric='auc', gamma=0, gpu_id=-1, importance_type=None,\n",
       "              interaction_constraints='', learning_rate=0.300000012,\n",
       "              max_delta_step=0, max_depth=6, min_child_weight=1, missing=nan,\n",
       "              monotone_constraints='()', n_estimators=100, n_jobs=6,\n",
       "              num_parallel_tree=1, predictor='auto', random_state=50,\n",
       "              reg_alpha=0, reg_lambda=1, scale_pos_weight=1, subsample=1,\n",
       "              tree_method='exact', validate_parameters=1, verbosity=None)"
      ]
     },
     "execution_count": 538,
     "metadata": {},
     "output_type": "execute_result"
    }
   ],
   "source": [
    "xgb_model.fit(X_train,y_train)"
   ]
  },
  {
   "cell_type": "markdown",
   "id": "dd63655a",
   "metadata": {},
   "source": [
    "#### Training Accuracy "
   ]
  },
  {
   "cell_type": "code",
   "execution_count": 539,
   "id": "6de2c550",
   "metadata": {},
   "outputs": [],
   "source": [
    "xgb_pred = xgb_model.predict(X_train)"
   ]
  },
  {
   "cell_type": "code",
   "execution_count": 540,
   "id": "0fe6e490",
   "metadata": {},
   "outputs": [
    {
     "name": "stdout",
     "output_type": "stream",
     "text": [
      "0.999848782700741\n"
     ]
    }
   ],
   "source": [
    "accuracy = accuracy_score(y_train,xgb_pred)\n",
    "print(accuracy)"
   ]
  },
  {
   "cell_type": "markdown",
   "id": "4c5658c8",
   "metadata": {},
   "source": [
    "#### Cross Validation"
   ]
  },
  {
   "cell_type": "code",
   "execution_count": 541,
   "id": "656fa6f6",
   "metadata": {},
   "outputs": [],
   "source": [
    "from sklearn.model_selection import cross_val_score,cross_val_predict\n",
    "xgb_acc=cross_val_score(xgb_model,X_train,y_train,cv=5,scoring='accuracy',n_jobs=-1)\n",
    "xgb_proba=cross_val_predict(xgb_model,X_train,y_train,cv=5,method='predict_proba')"
   ]
  },
  {
   "cell_type": "markdown",
   "id": "01c807b2",
   "metadata": {},
   "source": [
    "#### Validation Accuracy"
   ]
  },
  {
   "cell_type": "code",
   "execution_count": 542,
   "id": "2133deea",
   "metadata": {},
   "outputs": [
    {
     "data": {
      "text/plain": [
       "array([0.99924414, 0.99848828, 0.99848828, 0.99848714, 0.99924357])"
      ]
     },
     "execution_count": 542,
     "metadata": {},
     "output_type": "execute_result"
    }
   ],
   "source": [
    "xgb_acc"
   ]
  },
  {
   "cell_type": "code",
   "execution_count": 543,
   "id": "bad6416a",
   "metadata": {},
   "outputs": [
    {
     "data": {
      "text/plain": [
       "0.9987902843100596"
      ]
     },
     "execution_count": 543,
     "metadata": {},
     "output_type": "execute_result"
    }
   ],
   "source": [
    "xgb_acc.mean()"
   ]
  },
  {
   "cell_type": "markdown",
   "id": "ca61bbff",
   "metadata": {},
   "source": [
    "#### Test Accuracy"
   ]
  },
  {
   "cell_type": "code",
   "execution_count": 544,
   "id": "090d8b00",
   "metadata": {},
   "outputs": [],
   "source": [
    "xgb_pred = xgb_model.predict(X_test)"
   ]
  },
  {
   "cell_type": "code",
   "execution_count": 545,
   "id": "2bfdf4f0",
   "metadata": {},
   "outputs": [
    {
     "name": "stdout",
     "output_type": "stream",
     "text": [
      "0.9993954050785974\n"
     ]
    }
   ],
   "source": [
    "accuracy = accuracy_score(y_test,xgb_pred)\n",
    "print(accuracy)"
   ]
  },
  {
   "cell_type": "markdown",
   "id": "3b0b43f8",
   "metadata": {},
   "source": [
    "#### Confusion Matrix"
   ]
  },
  {
   "cell_type": "code",
   "execution_count": 546,
   "id": "051934df",
   "metadata": {},
   "outputs": [
    {
     "name": "stdout",
     "output_type": "stream",
     "text": [
      "confusion_matrix: \n",
      " [[819   0]\n",
      " [  1 834]]\n",
      "              precision    recall  f1-score   support\n",
      "\n",
      "           0       1.00      1.00      1.00       819\n",
      "           1       1.00      1.00      1.00       835\n",
      "\n",
      "    accuracy                           1.00      1654\n",
      "   macro avg       1.00      1.00      1.00      1654\n",
      "weighted avg       1.00      1.00      1.00      1654\n",
      "\n"
     ]
    }
   ],
   "source": [
    "confusion_matrix_ = confusion_matrix(y_test, xgb_pred)\n",
    "print('confusion_matrix: \\n', confusion_matrix_)\n",
    "\n",
    "print(classification_report(y_test, xgb_pred))"
   ]
  },
  {
   "cell_type": "code",
   "execution_count": 547,
   "id": "91805ecd",
   "metadata": {},
   "outputs": [
    {
     "name": "stdout",
     "output_type": "stream",
     "text": [
      "True Negatives =  819\n",
      "False Negatives =  1\n",
      "False Positives =  0\n",
      "True Positives =  834\n"
     ]
    }
   ],
   "source": [
    "TN = confusion_matrix_[0,0]\n",
    "print(\"True Negatives = \", TN)\n",
    "\n",
    "FN = confusion_matrix_[1,0]\n",
    "print(\"False Negatives = \", FN)\n",
    "\n",
    "FP = confusion_matrix_[0,1]\n",
    "print(\"False Positives = \", FP)\n",
    "\n",
    "TP = confusion_matrix_[1,1]\n",
    "print(\"True Positives = \", TP)"
   ]
  },
  {
   "cell_type": "code",
   "execution_count": 548,
   "id": "337d5d0b",
   "metadata": {},
   "outputs": [],
   "source": [
    "# plot_confusion_matrix(xgb_model, \n",
    "#                       X_test, \n",
    "#                       y_test, \n",
    "#                       display_labels=[\"No Flood\", \"Flood\"],\n",
    "#                       cmap='Blues')\n",
    "# plt.show()"
   ]
  },
  {
   "cell_type": "markdown",
   "id": "37fed64d",
   "metadata": {},
   "source": [
    "#### ROC: Receiver operating Characteristics and AUC: Area Under the Curve"
   ]
  },
  {
   "cell_type": "code",
   "execution_count": 549,
   "id": "2d07474e",
   "metadata": {},
   "outputs": [
    {
     "data": {
      "image/png": "[encoded data removed]",
      "text/plain": [
       "<Figure size 1000x800 with 1 Axes>"
      ]
     },
     "metadata": {},
     "output_type": "display_data"
    }
   ],
   "source": [
    "fpr, tpr, thr = roc_curve(y_test, xgb_pred)\n",
    "auc = np.round(roc_auc_score(y_test, xgb_pred), 2)\n",
    "\n",
    "plt.figure(figsize=(10, 8))\n",
    "plt.plot(fpr, \n",
    "         tpr, \n",
    "         color='green', \n",
    "         lw=2, \n",
    "         label=\"Curve Area = \" +str(auc))\n",
    "\n",
    "plt.plot([0, 1], [0, 1], color='blue', lw=2, linestyle='--')\n",
    "plt.xlabel('False Positive Rate (FPR)')\n",
    "plt.ylabel('True Positive Rate (TPR)')\n",
    "plt.title('ROC curve')\n",
    "plt.legend(loc=\"lower right\")\n",
    "plt.show()"
   ]
  },
  {
   "cell_type": "code",
   "execution_count": null,
   "id": "105495b5",
   "metadata": {},
   "outputs": [],
   "source": [
    "models = []\n",
    "from sklearn.neighbors import KNeighborsClassifier\n",
    "from sklearn.tree import DecisionTreeClassifier\n",
    "from sklearn.ensemble import RandomForestClassifier\n",
    "from sklearn.svm import SVC\n",
    "from xgboost import XGBClassifier\n",
    "#{'leaf_size': 26, 'metric': 'manhattan', 'n_neighbors': 1, 'weights': 'uniform'}\n",
    "models.append(('KNN', KNeighborsClassifier(leaf_size = 26, metric ='manhattan', n_neighbors = 1, weights = 'uniform')))\n",
    "models.append(('DTC', DecisionTreeClassifier(criterion = 'gini', max_depth = 19, max_features = 'auto', random_state=50)))\n",
    "models.append(('RFC', RandomForestClassifier(random_state=50)))\n",
    "models.append(('SVC', SVC(C=1000,gamma=1,random_state=50,probability=True)))\n",
    "models.append(('XG Boost', XGBClassifier(objective=\"binary:logistic\", random_state=50, eval_metric=\"auc\")))\n",
    "\n",
    "names = []\n",
    "scores = []\n",
    "rec = []\n",
    "pre = []\n",
    "f = []\n",
    "roc = []\n",
    "for name, model in models:\n",
    "    model.fit(X_train, y_train)\n",
    "    y_pred = model.predict(X_test)\n",
    "    scores.append(round((accuracy_score(y_test, y_pred)*100), 2))\n",
    "    pre.append(round((precision_score(y_test,y_pred)*100), 2))\n",
    "    rec.append(round((recall_score(y_test,y_pred)*100), 2))           \n",
    "    f.append(round((f1_score(y_test,y_pred)*100), 2))          \n",
    "    roc.append(round((roc_auc_score(y_test,y_pred)*100), 2))\n",
    "    \n",
    "    names.append(name)\n",
    "tr_split = pd.DataFrame({'Name': names, 'Accuracy': scores, 'Precision': pre, 'Recall': rec, \"F1-Score\": f, \"ROC Score\": roc})\n",
    "tr_split\n"
   ]
  },
  {
   "cell_type": "code",
   "execution_count": null,
   "id": "47bb28a6",
   "metadata": {},
   "outputs": [],
   "source": [
    "import seaborn as sns\n",
    "axis = sns.barplot(x = 'Name', y = 'Accuracy', data =tr_split )\n",
    "axis.set(xlabel='Classifier Models', ylabel='Accuracy of the Model')\n",
    "for p in axis.patches:\n",
    "    height = p.get_height()\n",
    "    axis.text(p.get_x() + p.get_width()/2, height + 0.90, '{:1.4f}'.format(height), ha=\"center\") \n",
    "    \n",
    "plt.show()"
   ]
  },
  {
   "cell_type": "code",
   "execution_count": null,
   "id": "79b1d682",
   "metadata": {},
   "outputs": [],
   "source": [
    "import seaborn as sns\n",
    "axis = sns.barplot(x = 'Name', y = 'Precision', data =tr_split )\n",
    "axis.set(xlabel='Classifier Models', ylabel='Precision of the Model')\n",
    "for p in axis.patches:\n",
    "    height = p.get_height()\n",
    "    axis.text(p.get_x() + p.get_width()/2, height + 0.90, '{:1.4f}'.format(height), ha=\"center\") \n",
    "    \n",
    "plt.show()"
   ]
  },
  {
   "cell_type": "code",
   "execution_count": null,
   "id": "625687d7",
   "metadata": {},
   "outputs": [],
   "source": [
    "import seaborn as sns\n",
    "axis = sns.barplot(x = 'Name', y = 'Recall', data =tr_split )\n",
    "axis.set(xlabel='Classifier Models', ylabel='Recall of the Model')\n",
    "for p in axis.patches:\n",
    "    height = p.get_height()\n",
    "    axis.text(p.get_x() + p.get_width()/2, height + 0.90, '{:1.4f}'.format(height), ha=\"center\") \n",
    "    \n",
    "plt.show()"
   ]
  },
  {
   "cell_type": "code",
   "execution_count": null,
   "id": "a5e764a5",
   "metadata": {},
   "outputs": [],
   "source": [
    "import seaborn as sns\n",
    "axis = sns.barplot(x = 'Name', y = 'F1-Score', data =tr_split )\n",
    "axis.set(xlabel='Classifier Models', ylabel='F1-Score of the Model')\n",
    "for p in axis.patches:\n",
    "    height = p.get_height()\n",
    "    axis.text(p.get_x() + p.get_width()/2, height + 0.90, '{:1.4f}'.format(height), ha=\"center\") \n",
    "    \n",
    "plt.show()"
   ]
  },
  {
   "cell_type": "code",
   "execution_count": null,
   "id": "ba686b13",
   "metadata": {},
   "outputs": [],
   "source": [
    "import seaborn as sns\n",
    "axis = sns.barplot(x = 'Name', y = 'ROC Score', data =tr_split )\n",
    "axis.set(xlabel='Classifier Models', ylabel='ROC Score of the Model')\n",
    "for p in axis.patches:\n",
    "    height = p.get_height()\n",
    "    axis.text(p.get_x() + p.get_width()/2, height + 0.90, '{:1.4f}'.format(height), ha=\"center\") \n",
    "    \n",
    "plt.show()\n"
   ]
  },
  {
   "cell_type": "code",
   "execution_count": null,
   "id": "4836e6cf",
   "metadata": {},
   "outputs": [],
   "source": []
  }
 ],
 "metadata": {
  "colab": {
   "collapsed_sections": [
    "1f20332f",
    "04b02011",
    "f4290167",
    "a6004a97",
    "a3853f18",
    "499cdea8",
    "240c95da",
    "ce1deb3a",
    "cff5cf5b",
    "23b76a20",
    "7c528fbe",
    "6fce1fbb",
    "cc5ae134",
    "8473e37c",
    "d6fa4856",
    "78ed332e"
   ],
   "provenance": []
  },
  "kernelspec": {
   "display_name": "Python 3 (ipykernel)",
   "language": "python",
   "name": "python3"
  },
  "language_info": {
   "codemirror_mode": {
    "name": "ipython",
    "version": 3
   },
   "file_extension": ".py",
   "mimetype": "text/x-python",
   "name": "python",
   "nbconvert_exporter": "python",
   "pygments_lexer": "ipython3",
   "version": "3.9.12"
  }
 },
 "nbformat": 4,
 "nbformat_minor": 5
}

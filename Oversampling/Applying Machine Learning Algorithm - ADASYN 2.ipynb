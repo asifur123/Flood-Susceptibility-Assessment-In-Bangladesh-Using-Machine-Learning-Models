{
 "cells": [
  {
   "cell_type": "markdown",
   "id": "c447f641",
   "metadata": {
    "id": "5537b649"
   },
   "source": [
    "### Applying Traditional Machine Learning Algorithm \n",
    "#### Md. Asifur Rahman Asif\n",
    "#### ID: 18.02.04.114"
   ]
  },
  {
   "cell_type": "code",
   "execution_count": 55,
   "id": "9c794a05",
   "metadata": {},
   "outputs": [],
   "source": [
    "import pandas as pd\n",
    "import numpy as np\n",
    "\n",
    "pd.options.display.max_columns = 100\n",
    "pd.options.display.max_rows = 100\n",
    "\n",
    "from sklearn.model_selection import train_test_split\n",
    "from sklearn.model_selection import cross_val_score\n",
    "\n",
    "from sklearn.linear_model import LogisticRegression\n",
    "from sklearn.tree import DecisionTreeClassifier\n",
    "from sklearn.ensemble import RandomForestClassifier\n",
    "from sklearn.neighbors import KNeighborsClassifier\n",
    "\n",
    "from sklearn.metrics import accuracy_score, classification_report, confusion_matrix\n",
    "from sklearn.metrics import roc_curve, roc_auc_score, precision_score, recall_score, f1_score\n",
    "#from sklearn.metrics import plot_confusion_matrix\n",
    "\n",
    "import matplotlib.pyplot as plt\n",
    "import seaborn as sns\n",
    "\n",
    "import warnings\n",
    "warnings.filterwarnings('ignore')"
   ]
  },
  {
   "cell_type": "markdown",
   "id": "c5aae4df",
   "metadata": {
    "id": "c5aae4df"
   },
   "source": [
    "#### Load data"
   ]
  },
  {
   "cell_type": "code",
   "execution_count": 56,
   "id": "eceeca45",
   "metadata": {
    "colab": {
     "base_uri": "https://localhost:8080/",
     "height": 427
    },
    "id": "eceeca45",
    "outputId": "f0294ac3-3122-4446-e882-cf671739ac27"
   },
   "outputs": [
    {
     "data": {
      "text/html": [
       "<div>\n",
       "<style scoped>\n",
       "    .dataframe tbody tr th:only-of-type {\n",
       "        vertical-align: middle;\n",
       "    }\n",
       "\n",
       "    .dataframe tbody tr th {\n",
       "        vertical-align: top;\n",
       "    }\n",
       "\n",
       "    .dataframe thead th {\n",
       "        text-align: right;\n",
       "    }\n",
       "</style>\n",
       "<table border=\"1\" class=\"dataframe\">\n",
       "  <thead>\n",
       "    <tr style=\"text-align: right;\">\n",
       "      <th></th>\n",
       "      <th>Sl</th>\n",
       "      <th>Station_Names</th>\n",
       "      <th>Year</th>\n",
       "      <th>Month</th>\n",
       "      <th>Max_Temp</th>\n",
       "      <th>Min_Temp</th>\n",
       "      <th>Rainfall</th>\n",
       "      <th>Relative_Humidity</th>\n",
       "      <th>Wind_Speed</th>\n",
       "      <th>Cloud_Coverage</th>\n",
       "      <th>Bright_Sunshine</th>\n",
       "      <th>Station_Number</th>\n",
       "      <th>X_COR</th>\n",
       "      <th>Y_COR</th>\n",
       "      <th>LATITUDE</th>\n",
       "      <th>LONGITUDE</th>\n",
       "      <th>ALT</th>\n",
       "      <th>Period</th>\n",
       "      <th>Flood</th>\n",
       "    </tr>\n",
       "  </thead>\n",
       "  <tbody>\n",
       "    <tr>\n",
       "      <th>0</th>\n",
       "      <td>0</td>\n",
       "      <td>Barisal</td>\n",
       "      <td>1949</td>\n",
       "      <td>1</td>\n",
       "      <td>29.4</td>\n",
       "      <td>12.3</td>\n",
       "      <td>0.0</td>\n",
       "      <td>68.0</td>\n",
       "      <td>0.453704</td>\n",
       "      <td>0.6</td>\n",
       "      <td>7.831915</td>\n",
       "      <td>41950</td>\n",
       "      <td>536809.8</td>\n",
       "      <td>510151.9</td>\n",
       "      <td>22.7</td>\n",
       "      <td>90.36</td>\n",
       "      <td>4</td>\n",
       "      <td>1949.01</td>\n",
       "      <td>NaN</td>\n",
       "    </tr>\n",
       "    <tr>\n",
       "      <th>1</th>\n",
       "      <td>1</td>\n",
       "      <td>Barisal</td>\n",
       "      <td>1949</td>\n",
       "      <td>2</td>\n",
       "      <td>33.9</td>\n",
       "      <td>15.2</td>\n",
       "      <td>9.0</td>\n",
       "      <td>63.0</td>\n",
       "      <td>0.659259</td>\n",
       "      <td>0.9</td>\n",
       "      <td>8.314894</td>\n",
       "      <td>41950</td>\n",
       "      <td>536809.8</td>\n",
       "      <td>510151.9</td>\n",
       "      <td>22.7</td>\n",
       "      <td>90.36</td>\n",
       "      <td>4</td>\n",
       "      <td>1949.02</td>\n",
       "      <td>NaN</td>\n",
       "    </tr>\n",
       "    <tr>\n",
       "      <th>2</th>\n",
       "      <td>2</td>\n",
       "      <td>Barisal</td>\n",
       "      <td>1949</td>\n",
       "      <td>3</td>\n",
       "      <td>36.7</td>\n",
       "      <td>20.2</td>\n",
       "      <td>8.0</td>\n",
       "      <td>59.0</td>\n",
       "      <td>1.085185</td>\n",
       "      <td>1.5</td>\n",
       "      <td>8.131915</td>\n",
       "      <td>41950</td>\n",
       "      <td>536809.8</td>\n",
       "      <td>510151.9</td>\n",
       "      <td>22.7</td>\n",
       "      <td>90.36</td>\n",
       "      <td>4</td>\n",
       "      <td>1949.03</td>\n",
       "      <td>NaN</td>\n",
       "    </tr>\n",
       "    <tr>\n",
       "      <th>3</th>\n",
       "      <td>3</td>\n",
       "      <td>Barisal</td>\n",
       "      <td>1949</td>\n",
       "      <td>4</td>\n",
       "      <td>33.9</td>\n",
       "      <td>23.9</td>\n",
       "      <td>140.0</td>\n",
       "      <td>71.0</td>\n",
       "      <td>1.772222</td>\n",
       "      <td>3.9</td>\n",
       "      <td>8.219149</td>\n",
       "      <td>41950</td>\n",
       "      <td>536809.8</td>\n",
       "      <td>510151.9</td>\n",
       "      <td>22.7</td>\n",
       "      <td>90.36</td>\n",
       "      <td>4</td>\n",
       "      <td>1949.04</td>\n",
       "      <td>NaN</td>\n",
       "    </tr>\n",
       "    <tr>\n",
       "      <th>4</th>\n",
       "      <td>4</td>\n",
       "      <td>Barisal</td>\n",
       "      <td>1949</td>\n",
       "      <td>5</td>\n",
       "      <td>35.6</td>\n",
       "      <td>25.0</td>\n",
       "      <td>217.0</td>\n",
       "      <td>76.0</td>\n",
       "      <td>1.703704</td>\n",
       "      <td>4.1</td>\n",
       "      <td>7.046809</td>\n",
       "      <td>41950</td>\n",
       "      <td>536809.8</td>\n",
       "      <td>510151.9</td>\n",
       "      <td>22.7</td>\n",
       "      <td>90.36</td>\n",
       "      <td>4</td>\n",
       "      <td>1949.05</td>\n",
       "      <td>NaN</td>\n",
       "    </tr>\n",
       "    <tr>\n",
       "      <th>5</th>\n",
       "      <td>5</td>\n",
       "      <td>Barisal</td>\n",
       "      <td>1949</td>\n",
       "      <td>6</td>\n",
       "      <td>34.4</td>\n",
       "      <td>25.7</td>\n",
       "      <td>512.0</td>\n",
       "      <td>80.0</td>\n",
       "      <td>1.631481</td>\n",
       "      <td>5.6</td>\n",
       "      <td>4.072340</td>\n",
       "      <td>41950</td>\n",
       "      <td>536809.8</td>\n",
       "      <td>510151.9</td>\n",
       "      <td>22.7</td>\n",
       "      <td>90.36</td>\n",
       "      <td>4</td>\n",
       "      <td>1949.06</td>\n",
       "      <td>1.0</td>\n",
       "    </tr>\n",
       "    <tr>\n",
       "      <th>6</th>\n",
       "      <td>6</td>\n",
       "      <td>Barisal</td>\n",
       "      <td>1949</td>\n",
       "      <td>7</td>\n",
       "      <td>33.4</td>\n",
       "      <td>25.8</td>\n",
       "      <td>575.0</td>\n",
       "      <td>85.0</td>\n",
       "      <td>1.570370</td>\n",
       "      <td>5.4</td>\n",
       "      <td>3.738298</td>\n",
       "      <td>41950</td>\n",
       "      <td>536809.8</td>\n",
       "      <td>510151.9</td>\n",
       "      <td>22.7</td>\n",
       "      <td>90.36</td>\n",
       "      <td>4</td>\n",
       "      <td>1949.07</td>\n",
       "      <td>1.0</td>\n",
       "    </tr>\n",
       "    <tr>\n",
       "      <th>7</th>\n",
       "      <td>7</td>\n",
       "      <td>Barisal</td>\n",
       "      <td>1949</td>\n",
       "      <td>8</td>\n",
       "      <td>33.5</td>\n",
       "      <td>25.7</td>\n",
       "      <td>349.0</td>\n",
       "      <td>86.0</td>\n",
       "      <td>1.329630</td>\n",
       "      <td>5.6</td>\n",
       "      <td>4.272340</td>\n",
       "      <td>41950</td>\n",
       "      <td>536809.8</td>\n",
       "      <td>510151.9</td>\n",
       "      <td>22.7</td>\n",
       "      <td>90.36</td>\n",
       "      <td>4</td>\n",
       "      <td>1949.08</td>\n",
       "      <td>1.0</td>\n",
       "    </tr>\n",
       "    <tr>\n",
       "      <th>8</th>\n",
       "      <td>8</td>\n",
       "      <td>Barisal</td>\n",
       "      <td>1949</td>\n",
       "      <td>9</td>\n",
       "      <td>34.8</td>\n",
       "      <td>25.7</td>\n",
       "      <td>252.0</td>\n",
       "      <td>83.0</td>\n",
       "      <td>0.937037</td>\n",
       "      <td>4.8</td>\n",
       "      <td>4.823404</td>\n",
       "      <td>41950</td>\n",
       "      <td>536809.8</td>\n",
       "      <td>510151.9</td>\n",
       "      <td>22.7</td>\n",
       "      <td>90.36</td>\n",
       "      <td>4</td>\n",
       "      <td>1949.09</td>\n",
       "      <td>NaN</td>\n",
       "    </tr>\n",
       "    <tr>\n",
       "      <th>9</th>\n",
       "      <td>9</td>\n",
       "      <td>Barisal</td>\n",
       "      <td>1949</td>\n",
       "      <td>10</td>\n",
       "      <td>34.0</td>\n",
       "      <td>24.7</td>\n",
       "      <td>128.0</td>\n",
       "      <td>78.0</td>\n",
       "      <td>0.490741</td>\n",
       "      <td>3.1</td>\n",
       "      <td>7.000000</td>\n",
       "      <td>41950</td>\n",
       "      <td>536809.8</td>\n",
       "      <td>510151.9</td>\n",
       "      <td>22.7</td>\n",
       "      <td>90.36</td>\n",
       "      <td>4</td>\n",
       "      <td>1949.10</td>\n",
       "      <td>NaN</td>\n",
       "    </tr>\n",
       "  </tbody>\n",
       "</table>\n",
       "</div>"
      ],
      "text/plain": [
       "   Sl Station_Names  Year  Month  Max_Temp  Min_Temp  Rainfall  \\\n",
       "0   0       Barisal  1949      1      29.4      12.3       0.0   \n",
       "1   1       Barisal  1949      2      33.9      15.2       9.0   \n",
       "2   2       Barisal  1949      3      36.7      20.2       8.0   \n",
       "3   3       Barisal  1949      4      33.9      23.9     140.0   \n",
       "4   4       Barisal  1949      5      35.6      25.0     217.0   \n",
       "5   5       Barisal  1949      6      34.4      25.7     512.0   \n",
       "6   6       Barisal  1949      7      33.4      25.8     575.0   \n",
       "7   7       Barisal  1949      8      33.5      25.7     349.0   \n",
       "8   8       Barisal  1949      9      34.8      25.7     252.0   \n",
       "9   9       Barisal  1949     10      34.0      24.7     128.0   \n",
       "\n",
       "   Relative_Humidity  Wind_Speed  Cloud_Coverage  Bright_Sunshine  \\\n",
       "0               68.0    0.453704             0.6         7.831915   \n",
       "1               63.0    0.659259             0.9         8.314894   \n",
       "2               59.0    1.085185             1.5         8.131915   \n",
       "3               71.0    1.772222             3.9         8.219149   \n",
       "4               76.0    1.703704             4.1         7.046809   \n",
       "5               80.0    1.631481             5.6         4.072340   \n",
       "6               85.0    1.570370             5.4         3.738298   \n",
       "7               86.0    1.329630             5.6         4.272340   \n",
       "8               83.0    0.937037             4.8         4.823404   \n",
       "9               78.0    0.490741             3.1         7.000000   \n",
       "\n",
       "   Station_Number     X_COR     Y_COR  LATITUDE  LONGITUDE  ALT   Period  \\\n",
       "0           41950  536809.8  510151.9      22.7      90.36    4  1949.01   \n",
       "1           41950  536809.8  510151.9      22.7      90.36    4  1949.02   \n",
       "2           41950  536809.8  510151.9      22.7      90.36    4  1949.03   \n",
       "3           41950  536809.8  510151.9      22.7      90.36    4  1949.04   \n",
       "4           41950  536809.8  510151.9      22.7      90.36    4  1949.05   \n",
       "5           41950  536809.8  510151.9      22.7      90.36    4  1949.06   \n",
       "6           41950  536809.8  510151.9      22.7      90.36    4  1949.07   \n",
       "7           41950  536809.8  510151.9      22.7      90.36    4  1949.08   \n",
       "8           41950  536809.8  510151.9      22.7      90.36    4  1949.09   \n",
       "9           41950  536809.8  510151.9      22.7      90.36    4  1949.10   \n",
       "\n",
       "   Flood  \n",
       "0    NaN  \n",
       "1    NaN  \n",
       "2    NaN  \n",
       "3    NaN  \n",
       "4    NaN  \n",
       "5    1.0  \n",
       "6    1.0  \n",
       "7    1.0  \n",
       "8    NaN  \n",
       "9    NaN  "
      ]
     },
     "metadata": {},
     "output_type": "display_data"
    }
   ],
   "source": [
    "df = pd.read_csv(\"FloodTrain.csv\")\n",
    "#test = pd.read_excel(\"FloodTest.xlsx\")\n",
    "\n",
    "display(df.head(10))"
   ]
  },
  {
   "cell_type": "markdown",
   "id": "27473bb4",
   "metadata": {
    "id": "27473bb4"
   },
   "source": [
    "#### Data Preprocessing"
   ]
  },
  {
   "cell_type": "code",
   "execution_count": 57,
   "id": "0f04ef76",
   "metadata": {
    "colab": {
     "base_uri": "https://localhost:8080/"
    },
    "id": "0f04ef76",
    "outputId": "07f717cb-7927-4970-a6cf-85941854977c"
   },
   "outputs": [
    {
     "data": {
      "text/plain": [
       "Sl                       0\n",
       "Station_Names            0\n",
       "Year                     0\n",
       "Month                    0\n",
       "Max_Temp                 0\n",
       "Min_Temp                 0\n",
       "Rainfall                 0\n",
       "Relative_Humidity        0\n",
       "Wind_Speed               0\n",
       "Cloud_Coverage           0\n",
       "Bright_Sunshine          0\n",
       "Station_Number           0\n",
       "X_COR                    0\n",
       "Y_COR                    0\n",
       "LATITUDE                 0\n",
       "LONGITUDE                0\n",
       "ALT                      0\n",
       "Period                   0\n",
       "Flood                16051\n",
       "dtype: int64"
      ]
     },
     "execution_count": 57,
     "metadata": {},
     "output_type": "execute_result"
    }
   ],
   "source": [
    "df.isnull().sum()"
   ]
  },
  {
   "cell_type": "code",
   "execution_count": 58,
   "id": "65144935",
   "metadata": {
    "id": "65144935"
   },
   "outputs": [],
   "source": [
    "df['Flood'] = df['Flood'].fillna(0)"
   ]
  },
  {
   "cell_type": "code",
   "execution_count": 59,
   "id": "257b93a2",
   "metadata": {},
   "outputs": [],
   "source": [
    "df['Flood'] = df['Flood'].astype('int64')"
   ]
  },
  {
   "cell_type": "code",
   "execution_count": 60,
   "id": "aa17fbb9",
   "metadata": {
    "id": "aa17fbb9",
    "outputId": "67ec5b99-1905-4c3e-d22c-e19416a2612a"
   },
   "outputs": [
    {
     "name": "stdout",
     "output_type": "stream",
     "text": [
      "<class 'pandas.core.frame.DataFrame'>\n",
      "RangeIndex: 20544 entries, 0 to 20543\n",
      "Data columns (total 19 columns):\n",
      " #   Column             Non-Null Count  Dtype  \n",
      "---  ------             --------------  -----  \n",
      " 0   Sl                 20544 non-null  int64  \n",
      " 1   Station_Names      20544 non-null  object \n",
      " 2   Year               20544 non-null  int64  \n",
      " 3   Month              20544 non-null  int64  \n",
      " 4   Max_Temp           20544 non-null  float64\n",
      " 5   Min_Temp           20544 non-null  float64\n",
      " 6   Rainfall           20544 non-null  float64\n",
      " 7   Relative_Humidity  20544 non-null  float64\n",
      " 8   Wind_Speed         20544 non-null  float64\n",
      " 9   Cloud_Coverage     20544 non-null  float64\n",
      " 10  Bright_Sunshine    20544 non-null  float64\n",
      " 11  Station_Number     20544 non-null  int64  \n",
      " 12  X_COR              20544 non-null  float64\n",
      " 13  Y_COR              20544 non-null  float64\n",
      " 14  LATITUDE           20544 non-null  float64\n",
      " 15  LONGITUDE          20544 non-null  float64\n",
      " 16  ALT                20544 non-null  int64  \n",
      " 17  Period             20544 non-null  float64\n",
      " 18  Flood              20544 non-null  int64  \n",
      "dtypes: float64(12), int64(6), object(1)\n",
      "memory usage: 3.0+ MB\n"
     ]
    }
   ],
   "source": [
    "df.info()"
   ]
  },
  {
   "cell_type": "markdown",
   "id": "7a56016a",
   "metadata": {
    "id": "7a56016a"
   },
   "source": [
    "#### Label Encoding"
   ]
  },
  {
   "cell_type": "code",
   "execution_count": 61,
   "id": "ac0b276a",
   "metadata": {
    "colab": {
     "base_uri": "https://localhost:8080/"
    },
    "id": "ac0b276a",
    "outputId": "f6a0360f-3118-436b-ae26-da7b0858f3dc"
   },
   "outputs": [
    {
     "name": "stdout",
     "output_type": "stream",
     "text": [
      "['Barisal' 'Bhola' 'Bogra' 'Chandpur' 'Chittagong (City-Ambagan)'\n",
      " 'Chittagong (IAP-Patenga)' 'Comilla' \"Cox's Bazar\" 'Dhaka' 'Dinajpur'\n",
      " 'Faridpur' 'Feni' 'Hatiya' 'Ishurdi' 'Jessore' 'Khepupara' 'Khulna'\n",
      " 'Kutubdia' 'Madaripur' 'Maijdee Court' 'Mongla' 'Mymensingh' 'Patuakhali'\n",
      " 'Rajshahi' 'Rangamati' 'Rangpur' 'Sandwip' 'Satkhira' 'Sitakunda'\n",
      " 'Srimangal' 'Sylhet' 'Tangail' 'Teknaf']\n"
     ]
    }
   ],
   "source": [
    "from sklearn import preprocessing\n",
    "le = preprocessing.LabelEncoder()\n",
    "columns = ['Station_Names']\n",
    "\n",
    "for col in columns:\n",
    "    df[col]=le.fit_transform(df[col])\n",
    "    \n",
    "print(le.classes_)"
   ]
  },
  {
   "cell_type": "markdown",
   "id": "d54f96f4",
   "metadata": {},
   "source": [
    "#### Random Oversampling Imbalanced Datasets"
   ]
  },
  {
   "cell_type": "code",
   "execution_count": 62,
   "id": "5c2e7a2b",
   "metadata": {},
   "outputs": [
    {
     "data": {
      "text/plain": [
       "0    16412\n",
       "1     4132\n",
       "Name: Flood, dtype: int64"
      ]
     },
     "execution_count": 62,
     "metadata": {},
     "output_type": "execute_result"
    }
   ],
   "source": [
    "df['Flood'].value_counts()"
   ]
  },
  {
   "cell_type": "code",
   "execution_count": 63,
   "id": "591e6c6c",
   "metadata": {},
   "outputs": [
    {
     "data": {
      "text/html": [
       "<div>\n",
       "<style scoped>\n",
       "    .dataframe tbody tr th:only-of-type {\n",
       "        vertical-align: middle;\n",
       "    }\n",
       "\n",
       "    .dataframe tbody tr th {\n",
       "        vertical-align: top;\n",
       "    }\n",
       "\n",
       "    .dataframe thead th {\n",
       "        text-align: right;\n",
       "    }\n",
       "</style>\n",
       "<table border=\"1\" class=\"dataframe\">\n",
       "  <thead>\n",
       "    <tr style=\"text-align: right;\">\n",
       "      <th></th>\n",
       "      <th>Sl</th>\n",
       "      <th>Station_Names</th>\n",
       "      <th>Year</th>\n",
       "      <th>Month</th>\n",
       "      <th>Max_Temp</th>\n",
       "      <th>Min_Temp</th>\n",
       "      <th>Rainfall</th>\n",
       "      <th>Relative_Humidity</th>\n",
       "      <th>Wind_Speed</th>\n",
       "      <th>Cloud_Coverage</th>\n",
       "      <th>Bright_Sunshine</th>\n",
       "      <th>Station_Number</th>\n",
       "      <th>X_COR</th>\n",
       "      <th>Y_COR</th>\n",
       "      <th>LATITUDE</th>\n",
       "      <th>LONGITUDE</th>\n",
       "      <th>ALT</th>\n",
       "      <th>Period</th>\n",
       "      <th>Flood</th>\n",
       "    </tr>\n",
       "  </thead>\n",
       "  <tbody>\n",
       "    <tr>\n",
       "      <th>0</th>\n",
       "      <td>0</td>\n",
       "      <td>0</td>\n",
       "      <td>1949</td>\n",
       "      <td>1</td>\n",
       "      <td>29.4</td>\n",
       "      <td>12.3</td>\n",
       "      <td>0.0</td>\n",
       "      <td>68.0</td>\n",
       "      <td>0.453704</td>\n",
       "      <td>0.6</td>\n",
       "      <td>7.831915</td>\n",
       "      <td>41950</td>\n",
       "      <td>536809.8</td>\n",
       "      <td>510151.9</td>\n",
       "      <td>22.70</td>\n",
       "      <td>90.36</td>\n",
       "      <td>4</td>\n",
       "      <td>1949.01</td>\n",
       "      <td>0</td>\n",
       "    </tr>\n",
       "    <tr>\n",
       "      <th>1</th>\n",
       "      <td>1</td>\n",
       "      <td>0</td>\n",
       "      <td>1949</td>\n",
       "      <td>2</td>\n",
       "      <td>33.9</td>\n",
       "      <td>15.2</td>\n",
       "      <td>9.0</td>\n",
       "      <td>63.0</td>\n",
       "      <td>0.659259</td>\n",
       "      <td>0.9</td>\n",
       "      <td>8.314894</td>\n",
       "      <td>41950</td>\n",
       "      <td>536809.8</td>\n",
       "      <td>510151.9</td>\n",
       "      <td>22.70</td>\n",
       "      <td>90.36</td>\n",
       "      <td>4</td>\n",
       "      <td>1949.02</td>\n",
       "      <td>0</td>\n",
       "    </tr>\n",
       "    <tr>\n",
       "      <th>2</th>\n",
       "      <td>2</td>\n",
       "      <td>0</td>\n",
       "      <td>1949</td>\n",
       "      <td>3</td>\n",
       "      <td>36.7</td>\n",
       "      <td>20.2</td>\n",
       "      <td>8.0</td>\n",
       "      <td>59.0</td>\n",
       "      <td>1.085185</td>\n",
       "      <td>1.5</td>\n",
       "      <td>8.131915</td>\n",
       "      <td>41950</td>\n",
       "      <td>536809.8</td>\n",
       "      <td>510151.9</td>\n",
       "      <td>22.70</td>\n",
       "      <td>90.36</td>\n",
       "      <td>4</td>\n",
       "      <td>1949.03</td>\n",
       "      <td>0</td>\n",
       "    </tr>\n",
       "    <tr>\n",
       "      <th>3</th>\n",
       "      <td>3</td>\n",
       "      <td>0</td>\n",
       "      <td>1949</td>\n",
       "      <td>4</td>\n",
       "      <td>33.9</td>\n",
       "      <td>23.9</td>\n",
       "      <td>140.0</td>\n",
       "      <td>71.0</td>\n",
       "      <td>1.772222</td>\n",
       "      <td>3.9</td>\n",
       "      <td>8.219149</td>\n",
       "      <td>41950</td>\n",
       "      <td>536809.8</td>\n",
       "      <td>510151.9</td>\n",
       "      <td>22.70</td>\n",
       "      <td>90.36</td>\n",
       "      <td>4</td>\n",
       "      <td>1949.04</td>\n",
       "      <td>0</td>\n",
       "    </tr>\n",
       "    <tr>\n",
       "      <th>4</th>\n",
       "      <td>4</td>\n",
       "      <td>0</td>\n",
       "      <td>1949</td>\n",
       "      <td>5</td>\n",
       "      <td>35.6</td>\n",
       "      <td>25.0</td>\n",
       "      <td>217.0</td>\n",
       "      <td>76.0</td>\n",
       "      <td>1.703704</td>\n",
       "      <td>4.1</td>\n",
       "      <td>7.046809</td>\n",
       "      <td>41950</td>\n",
       "      <td>536809.8</td>\n",
       "      <td>510151.9</td>\n",
       "      <td>22.70</td>\n",
       "      <td>90.36</td>\n",
       "      <td>4</td>\n",
       "      <td>1949.05</td>\n",
       "      <td>0</td>\n",
       "    </tr>\n",
       "    <tr>\n",
       "      <th>...</th>\n",
       "      <td>...</td>\n",
       "      <td>...</td>\n",
       "      <td>...</td>\n",
       "      <td>...</td>\n",
       "      <td>...</td>\n",
       "      <td>...</td>\n",
       "      <td>...</td>\n",
       "      <td>...</td>\n",
       "      <td>...</td>\n",
       "      <td>...</td>\n",
       "      <td>...</td>\n",
       "      <td>...</td>\n",
       "      <td>...</td>\n",
       "      <td>...</td>\n",
       "      <td>...</td>\n",
       "      <td>...</td>\n",
       "      <td>...</td>\n",
       "      <td>...</td>\n",
       "      <td>...</td>\n",
       "    </tr>\n",
       "    <tr>\n",
       "      <th>20539</th>\n",
       "      <td>20539</td>\n",
       "      <td>32</td>\n",
       "      <td>2013</td>\n",
       "      <td>8</td>\n",
       "      <td>32.5</td>\n",
       "      <td>25.4</td>\n",
       "      <td>851.0</td>\n",
       "      <td>88.0</td>\n",
       "      <td>2.500000</td>\n",
       "      <td>6.2</td>\n",
       "      <td>3.800000</td>\n",
       "      <td>41998</td>\n",
       "      <td>734765.4</td>\n",
       "      <td>308914.1</td>\n",
       "      <td>20.87</td>\n",
       "      <td>92.26</td>\n",
       "      <td>4</td>\n",
       "      <td>2013.08</td>\n",
       "      <td>1</td>\n",
       "    </tr>\n",
       "    <tr>\n",
       "      <th>20540</th>\n",
       "      <td>20540</td>\n",
       "      <td>32</td>\n",
       "      <td>2013</td>\n",
       "      <td>9</td>\n",
       "      <td>32.6</td>\n",
       "      <td>25.7</td>\n",
       "      <td>329.0</td>\n",
       "      <td>88.0</td>\n",
       "      <td>3.000000</td>\n",
       "      <td>6.1</td>\n",
       "      <td>4.200000</td>\n",
       "      <td>41998</td>\n",
       "      <td>734765.4</td>\n",
       "      <td>308914.1</td>\n",
       "      <td>20.87</td>\n",
       "      <td>92.26</td>\n",
       "      <td>4</td>\n",
       "      <td>2013.09</td>\n",
       "      <td>0</td>\n",
       "    </tr>\n",
       "    <tr>\n",
       "      <th>20541</th>\n",
       "      <td>20541</td>\n",
       "      <td>32</td>\n",
       "      <td>2013</td>\n",
       "      <td>10</td>\n",
       "      <td>33.1</td>\n",
       "      <td>24.8</td>\n",
       "      <td>271.0</td>\n",
       "      <td>85.0</td>\n",
       "      <td>2.500000</td>\n",
       "      <td>4.4</td>\n",
       "      <td>5.600000</td>\n",
       "      <td>41998</td>\n",
       "      <td>734765.4</td>\n",
       "      <td>308914.1</td>\n",
       "      <td>20.87</td>\n",
       "      <td>92.26</td>\n",
       "      <td>4</td>\n",
       "      <td>2013.10</td>\n",
       "      <td>0</td>\n",
       "    </tr>\n",
       "    <tr>\n",
       "      <th>20542</th>\n",
       "      <td>20542</td>\n",
       "      <td>32</td>\n",
       "      <td>2013</td>\n",
       "      <td>11</td>\n",
       "      <td>32.5</td>\n",
       "      <td>20.0</td>\n",
       "      <td>0.0</td>\n",
       "      <td>79.0</td>\n",
       "      <td>2.100000</td>\n",
       "      <td>1.7</td>\n",
       "      <td>8.400000</td>\n",
       "      <td>41998</td>\n",
       "      <td>734765.4</td>\n",
       "      <td>308914.1</td>\n",
       "      <td>20.87</td>\n",
       "      <td>92.26</td>\n",
       "      <td>4</td>\n",
       "      <td>2013.11</td>\n",
       "      <td>0</td>\n",
       "    </tr>\n",
       "    <tr>\n",
       "      <th>20543</th>\n",
       "      <td>20543</td>\n",
       "      <td>32</td>\n",
       "      <td>2013</td>\n",
       "      <td>12</td>\n",
       "      <td>29.9</td>\n",
       "      <td>16.5</td>\n",
       "      <td>0.0</td>\n",
       "      <td>72.0</td>\n",
       "      <td>3.000000</td>\n",
       "      <td>0.9</td>\n",
       "      <td>8.100000</td>\n",
       "      <td>41998</td>\n",
       "      <td>734765.4</td>\n",
       "      <td>308914.1</td>\n",
       "      <td>20.87</td>\n",
       "      <td>92.26</td>\n",
       "      <td>4</td>\n",
       "      <td>2013.12</td>\n",
       "      <td>0</td>\n",
       "    </tr>\n",
       "  </tbody>\n",
       "</table>\n",
       "<p>20544 rows × 19 columns</p>\n",
       "</div>"
      ],
      "text/plain": [
       "          Sl  Station_Names  Year  Month  Max_Temp  Min_Temp  Rainfall  \\\n",
       "0          0              0  1949      1      29.4      12.3       0.0   \n",
       "1          1              0  1949      2      33.9      15.2       9.0   \n",
       "2          2              0  1949      3      36.7      20.2       8.0   \n",
       "3          3              0  1949      4      33.9      23.9     140.0   \n",
       "4          4              0  1949      5      35.6      25.0     217.0   \n",
       "...      ...            ...   ...    ...       ...       ...       ...   \n",
       "20539  20539             32  2013      8      32.5      25.4     851.0   \n",
       "20540  20540             32  2013      9      32.6      25.7     329.0   \n",
       "20541  20541             32  2013     10      33.1      24.8     271.0   \n",
       "20542  20542             32  2013     11      32.5      20.0       0.0   \n",
       "20543  20543             32  2013     12      29.9      16.5       0.0   \n",
       "\n",
       "       Relative_Humidity  Wind_Speed  Cloud_Coverage  Bright_Sunshine  \\\n",
       "0                   68.0    0.453704             0.6         7.831915   \n",
       "1                   63.0    0.659259             0.9         8.314894   \n",
       "2                   59.0    1.085185             1.5         8.131915   \n",
       "3                   71.0    1.772222             3.9         8.219149   \n",
       "4                   76.0    1.703704             4.1         7.046809   \n",
       "...                  ...         ...             ...              ...   \n",
       "20539               88.0    2.500000             6.2         3.800000   \n",
       "20540               88.0    3.000000             6.1         4.200000   \n",
       "20541               85.0    2.500000             4.4         5.600000   \n",
       "20542               79.0    2.100000             1.7         8.400000   \n",
       "20543               72.0    3.000000             0.9         8.100000   \n",
       "\n",
       "       Station_Number     X_COR     Y_COR  LATITUDE  LONGITUDE  ALT   Period  \\\n",
       "0               41950  536809.8  510151.9     22.70      90.36    4  1949.01   \n",
       "1               41950  536809.8  510151.9     22.70      90.36    4  1949.02   \n",
       "2               41950  536809.8  510151.9     22.70      90.36    4  1949.03   \n",
       "3               41950  536809.8  510151.9     22.70      90.36    4  1949.04   \n",
       "4               41950  536809.8  510151.9     22.70      90.36    4  1949.05   \n",
       "...               ...       ...       ...       ...        ...  ...      ...   \n",
       "20539           41998  734765.4  308914.1     20.87      92.26    4  2013.08   \n",
       "20540           41998  734765.4  308914.1     20.87      92.26    4  2013.09   \n",
       "20541           41998  734765.4  308914.1     20.87      92.26    4  2013.10   \n",
       "20542           41998  734765.4  308914.1     20.87      92.26    4  2013.11   \n",
       "20543           41998  734765.4  308914.1     20.87      92.26    4  2013.12   \n",
       "\n",
       "       Flood  \n",
       "0          0  \n",
       "1          0  \n",
       "2          0  \n",
       "3          0  \n",
       "4          0  \n",
       "...      ...  \n",
       "20539      1  \n",
       "20540      0  \n",
       "20541      0  \n",
       "20542      0  \n",
       "20543      0  \n",
       "\n",
       "[20544 rows x 19 columns]"
      ]
     },
     "execution_count": 63,
     "metadata": {},
     "output_type": "execute_result"
    }
   ],
   "source": [
    "df"
   ]
  },
  {
   "cell_type": "code",
   "execution_count": 64,
   "id": "c8db2160",
   "metadata": {},
   "outputs": [],
   "source": [
    "#from imblearn.over_sampling import SMOTE\n",
    "#sm = SMOTE(sampling_strategy='minority', random_state=42)\n",
    "#oversampled_X, oversampled_Y = sm.fit_resample(df.drop('Flood', axis=1), df['Flood'])\n",
    "#df = pd.concat([pd.DataFrame(oversampled_Y), pd.DataFrame(oversampled_X)], axis=1)"
   ]
  },
  {
   "cell_type": "code",
   "execution_count": 65,
   "id": "7c7610ec",
   "metadata": {},
   "outputs": [
    {
     "data": {
      "text/html": [
       "<div>\n",
       "<style scoped>\n",
       "    .dataframe tbody tr th:only-of-type {\n",
       "        vertical-align: middle;\n",
       "    }\n",
       "\n",
       "    .dataframe tbody tr th {\n",
       "        vertical-align: top;\n",
       "    }\n",
       "\n",
       "    .dataframe thead th {\n",
       "        text-align: right;\n",
       "    }\n",
       "</style>\n",
       "<table border=\"1\" class=\"dataframe\">\n",
       "  <thead>\n",
       "    <tr style=\"text-align: right;\">\n",
       "      <th></th>\n",
       "      <th>Sl</th>\n",
       "      <th>Station_Names</th>\n",
       "      <th>Year</th>\n",
       "      <th>Month</th>\n",
       "      <th>Max_Temp</th>\n",
       "      <th>Min_Temp</th>\n",
       "      <th>Rainfall</th>\n",
       "      <th>Relative_Humidity</th>\n",
       "      <th>Wind_Speed</th>\n",
       "      <th>Cloud_Coverage</th>\n",
       "      <th>Bright_Sunshine</th>\n",
       "      <th>Station_Number</th>\n",
       "      <th>X_COR</th>\n",
       "      <th>Y_COR</th>\n",
       "      <th>LATITUDE</th>\n",
       "      <th>LONGITUDE</th>\n",
       "      <th>ALT</th>\n",
       "      <th>Period</th>\n",
       "      <th>Flood</th>\n",
       "    </tr>\n",
       "  </thead>\n",
       "  <tbody>\n",
       "    <tr>\n",
       "      <th>0</th>\n",
       "      <td>0</td>\n",
       "      <td>0</td>\n",
       "      <td>1949</td>\n",
       "      <td>1</td>\n",
       "      <td>29.4</td>\n",
       "      <td>12.3</td>\n",
       "      <td>0.0</td>\n",
       "      <td>68.0</td>\n",
       "      <td>0.453704</td>\n",
       "      <td>0.6</td>\n",
       "      <td>7.831915</td>\n",
       "      <td>41950</td>\n",
       "      <td>536809.8</td>\n",
       "      <td>510151.9</td>\n",
       "      <td>22.70</td>\n",
       "      <td>90.36</td>\n",
       "      <td>4</td>\n",
       "      <td>1949.01</td>\n",
       "      <td>0</td>\n",
       "    </tr>\n",
       "    <tr>\n",
       "      <th>1</th>\n",
       "      <td>1</td>\n",
       "      <td>0</td>\n",
       "      <td>1949</td>\n",
       "      <td>2</td>\n",
       "      <td>33.9</td>\n",
       "      <td>15.2</td>\n",
       "      <td>9.0</td>\n",
       "      <td>63.0</td>\n",
       "      <td>0.659259</td>\n",
       "      <td>0.9</td>\n",
       "      <td>8.314894</td>\n",
       "      <td>41950</td>\n",
       "      <td>536809.8</td>\n",
       "      <td>510151.9</td>\n",
       "      <td>22.70</td>\n",
       "      <td>90.36</td>\n",
       "      <td>4</td>\n",
       "      <td>1949.02</td>\n",
       "      <td>0</td>\n",
       "    </tr>\n",
       "    <tr>\n",
       "      <th>2</th>\n",
       "      <td>2</td>\n",
       "      <td>0</td>\n",
       "      <td>1949</td>\n",
       "      <td>3</td>\n",
       "      <td>36.7</td>\n",
       "      <td>20.2</td>\n",
       "      <td>8.0</td>\n",
       "      <td>59.0</td>\n",
       "      <td>1.085185</td>\n",
       "      <td>1.5</td>\n",
       "      <td>8.131915</td>\n",
       "      <td>41950</td>\n",
       "      <td>536809.8</td>\n",
       "      <td>510151.9</td>\n",
       "      <td>22.70</td>\n",
       "      <td>90.36</td>\n",
       "      <td>4</td>\n",
       "      <td>1949.03</td>\n",
       "      <td>0</td>\n",
       "    </tr>\n",
       "    <tr>\n",
       "      <th>3</th>\n",
       "      <td>3</td>\n",
       "      <td>0</td>\n",
       "      <td>1949</td>\n",
       "      <td>4</td>\n",
       "      <td>33.9</td>\n",
       "      <td>23.9</td>\n",
       "      <td>140.0</td>\n",
       "      <td>71.0</td>\n",
       "      <td>1.772222</td>\n",
       "      <td>3.9</td>\n",
       "      <td>8.219149</td>\n",
       "      <td>41950</td>\n",
       "      <td>536809.8</td>\n",
       "      <td>510151.9</td>\n",
       "      <td>22.70</td>\n",
       "      <td>90.36</td>\n",
       "      <td>4</td>\n",
       "      <td>1949.04</td>\n",
       "      <td>0</td>\n",
       "    </tr>\n",
       "    <tr>\n",
       "      <th>4</th>\n",
       "      <td>4</td>\n",
       "      <td>0</td>\n",
       "      <td>1949</td>\n",
       "      <td>5</td>\n",
       "      <td>35.6</td>\n",
       "      <td>25.0</td>\n",
       "      <td>217.0</td>\n",
       "      <td>76.0</td>\n",
       "      <td>1.703704</td>\n",
       "      <td>4.1</td>\n",
       "      <td>7.046809</td>\n",
       "      <td>41950</td>\n",
       "      <td>536809.8</td>\n",
       "      <td>510151.9</td>\n",
       "      <td>22.70</td>\n",
       "      <td>90.36</td>\n",
       "      <td>4</td>\n",
       "      <td>1949.05</td>\n",
       "      <td>0</td>\n",
       "    </tr>\n",
       "    <tr>\n",
       "      <th>...</th>\n",
       "      <td>...</td>\n",
       "      <td>...</td>\n",
       "      <td>...</td>\n",
       "      <td>...</td>\n",
       "      <td>...</td>\n",
       "      <td>...</td>\n",
       "      <td>...</td>\n",
       "      <td>...</td>\n",
       "      <td>...</td>\n",
       "      <td>...</td>\n",
       "      <td>...</td>\n",
       "      <td>...</td>\n",
       "      <td>...</td>\n",
       "      <td>...</td>\n",
       "      <td>...</td>\n",
       "      <td>...</td>\n",
       "      <td>...</td>\n",
       "      <td>...</td>\n",
       "      <td>...</td>\n",
       "    </tr>\n",
       "    <tr>\n",
       "      <th>20539</th>\n",
       "      <td>20539</td>\n",
       "      <td>32</td>\n",
       "      <td>2013</td>\n",
       "      <td>8</td>\n",
       "      <td>32.5</td>\n",
       "      <td>25.4</td>\n",
       "      <td>851.0</td>\n",
       "      <td>88.0</td>\n",
       "      <td>2.500000</td>\n",
       "      <td>6.2</td>\n",
       "      <td>3.800000</td>\n",
       "      <td>41998</td>\n",
       "      <td>734765.4</td>\n",
       "      <td>308914.1</td>\n",
       "      <td>20.87</td>\n",
       "      <td>92.26</td>\n",
       "      <td>4</td>\n",
       "      <td>2013.08</td>\n",
       "      <td>1</td>\n",
       "    </tr>\n",
       "    <tr>\n",
       "      <th>20540</th>\n",
       "      <td>20540</td>\n",
       "      <td>32</td>\n",
       "      <td>2013</td>\n",
       "      <td>9</td>\n",
       "      <td>32.6</td>\n",
       "      <td>25.7</td>\n",
       "      <td>329.0</td>\n",
       "      <td>88.0</td>\n",
       "      <td>3.000000</td>\n",
       "      <td>6.1</td>\n",
       "      <td>4.200000</td>\n",
       "      <td>41998</td>\n",
       "      <td>734765.4</td>\n",
       "      <td>308914.1</td>\n",
       "      <td>20.87</td>\n",
       "      <td>92.26</td>\n",
       "      <td>4</td>\n",
       "      <td>2013.09</td>\n",
       "      <td>0</td>\n",
       "    </tr>\n",
       "    <tr>\n",
       "      <th>20541</th>\n",
       "      <td>20541</td>\n",
       "      <td>32</td>\n",
       "      <td>2013</td>\n",
       "      <td>10</td>\n",
       "      <td>33.1</td>\n",
       "      <td>24.8</td>\n",
       "      <td>271.0</td>\n",
       "      <td>85.0</td>\n",
       "      <td>2.500000</td>\n",
       "      <td>4.4</td>\n",
       "      <td>5.600000</td>\n",
       "      <td>41998</td>\n",
       "      <td>734765.4</td>\n",
       "      <td>308914.1</td>\n",
       "      <td>20.87</td>\n",
       "      <td>92.26</td>\n",
       "      <td>4</td>\n",
       "      <td>2013.10</td>\n",
       "      <td>0</td>\n",
       "    </tr>\n",
       "    <tr>\n",
       "      <th>20542</th>\n",
       "      <td>20542</td>\n",
       "      <td>32</td>\n",
       "      <td>2013</td>\n",
       "      <td>11</td>\n",
       "      <td>32.5</td>\n",
       "      <td>20.0</td>\n",
       "      <td>0.0</td>\n",
       "      <td>79.0</td>\n",
       "      <td>2.100000</td>\n",
       "      <td>1.7</td>\n",
       "      <td>8.400000</td>\n",
       "      <td>41998</td>\n",
       "      <td>734765.4</td>\n",
       "      <td>308914.1</td>\n",
       "      <td>20.87</td>\n",
       "      <td>92.26</td>\n",
       "      <td>4</td>\n",
       "      <td>2013.11</td>\n",
       "      <td>0</td>\n",
       "    </tr>\n",
       "    <tr>\n",
       "      <th>20543</th>\n",
       "      <td>20543</td>\n",
       "      <td>32</td>\n",
       "      <td>2013</td>\n",
       "      <td>12</td>\n",
       "      <td>29.9</td>\n",
       "      <td>16.5</td>\n",
       "      <td>0.0</td>\n",
       "      <td>72.0</td>\n",
       "      <td>3.000000</td>\n",
       "      <td>0.9</td>\n",
       "      <td>8.100000</td>\n",
       "      <td>41998</td>\n",
       "      <td>734765.4</td>\n",
       "      <td>308914.1</td>\n",
       "      <td>20.87</td>\n",
       "      <td>92.26</td>\n",
       "      <td>4</td>\n",
       "      <td>2013.12</td>\n",
       "      <td>0</td>\n",
       "    </tr>\n",
       "  </tbody>\n",
       "</table>\n",
       "<p>20544 rows × 19 columns</p>\n",
       "</div>"
      ],
      "text/plain": [
       "          Sl  Station_Names  Year  Month  Max_Temp  Min_Temp  Rainfall  \\\n",
       "0          0              0  1949      1      29.4      12.3       0.0   \n",
       "1          1              0  1949      2      33.9      15.2       9.0   \n",
       "2          2              0  1949      3      36.7      20.2       8.0   \n",
       "3          3              0  1949      4      33.9      23.9     140.0   \n",
       "4          4              0  1949      5      35.6      25.0     217.0   \n",
       "...      ...            ...   ...    ...       ...       ...       ...   \n",
       "20539  20539             32  2013      8      32.5      25.4     851.0   \n",
       "20540  20540             32  2013      9      32.6      25.7     329.0   \n",
       "20541  20541             32  2013     10      33.1      24.8     271.0   \n",
       "20542  20542             32  2013     11      32.5      20.0       0.0   \n",
       "20543  20543             32  2013     12      29.9      16.5       0.0   \n",
       "\n",
       "       Relative_Humidity  Wind_Speed  Cloud_Coverage  Bright_Sunshine  \\\n",
       "0                   68.0    0.453704             0.6         7.831915   \n",
       "1                   63.0    0.659259             0.9         8.314894   \n",
       "2                   59.0    1.085185             1.5         8.131915   \n",
       "3                   71.0    1.772222             3.9         8.219149   \n",
       "4                   76.0    1.703704             4.1         7.046809   \n",
       "...                  ...         ...             ...              ...   \n",
       "20539               88.0    2.500000             6.2         3.800000   \n",
       "20540               88.0    3.000000             6.1         4.200000   \n",
       "20541               85.0    2.500000             4.4         5.600000   \n",
       "20542               79.0    2.100000             1.7         8.400000   \n",
       "20543               72.0    3.000000             0.9         8.100000   \n",
       "\n",
       "       Station_Number     X_COR     Y_COR  LATITUDE  LONGITUDE  ALT   Period  \\\n",
       "0               41950  536809.8  510151.9     22.70      90.36    4  1949.01   \n",
       "1               41950  536809.8  510151.9     22.70      90.36    4  1949.02   \n",
       "2               41950  536809.8  510151.9     22.70      90.36    4  1949.03   \n",
       "3               41950  536809.8  510151.9     22.70      90.36    4  1949.04   \n",
       "4               41950  536809.8  510151.9     22.70      90.36    4  1949.05   \n",
       "...               ...       ...       ...       ...        ...  ...      ...   \n",
       "20539           41998  734765.4  308914.1     20.87      92.26    4  2013.08   \n",
       "20540           41998  734765.4  308914.1     20.87      92.26    4  2013.09   \n",
       "20541           41998  734765.4  308914.1     20.87      92.26    4  2013.10   \n",
       "20542           41998  734765.4  308914.1     20.87      92.26    4  2013.11   \n",
       "20543           41998  734765.4  308914.1     20.87      92.26    4  2013.12   \n",
       "\n",
       "       Flood  \n",
       "0          0  \n",
       "1          0  \n",
       "2          0  \n",
       "3          0  \n",
       "4          0  \n",
       "...      ...  \n",
       "20539      1  \n",
       "20540      0  \n",
       "20541      0  \n",
       "20542      0  \n",
       "20543      0  \n",
       "\n",
       "[20544 rows x 19 columns]"
      ]
     },
     "execution_count": 65,
     "metadata": {},
     "output_type": "execute_result"
    }
   ],
   "source": [
    "df"
   ]
  },
  {
   "cell_type": "markdown",
   "id": "2deed8cf",
   "metadata": {
    "id": "2deed8cf"
   },
   "source": [
    "#### Standardization"
   ]
  },
  {
   "cell_type": "code",
   "execution_count": 66,
   "id": "fb3489bb",
   "metadata": {
    "id": "fb3489bb"
   },
   "outputs": [],
   "source": [
    "from sklearn.preprocessing import StandardScaler"
   ]
  },
  {
   "cell_type": "code",
   "execution_count": 67,
   "id": "78b306aa",
   "metadata": {
    "id": "78b306aa"
   },
   "outputs": [],
   "source": [
    "scaler = StandardScaler()"
   ]
  },
  {
   "cell_type": "code",
   "execution_count": 68,
   "id": "17b82187",
   "metadata": {
    "colab": {
     "base_uri": "https://localhost:8080/"
    },
    "id": "17b82187",
    "outputId": "71892fa7-96dd-4a23-fb17-d99d047fea6c"
   },
   "outputs": [
    {
     "data": {
      "text/html": [
       "<style>#sk-container-id-3 {color: black;background-color: white;}#sk-container-id-3 pre{padding: 0;}#sk-container-id-3 div.sk-toggleable {background-color: white;}#sk-container-id-3 label.sk-toggleable__label {cursor: pointer;display: block;width: 100%;margin-bottom: 0;padding: 0.3em;box-sizing: border-box;text-align: center;}#sk-container-id-3 label.sk-toggleable__label-arrow:before {content: \"▸\";float: left;margin-right: 0.25em;color: #696969;}#sk-container-id-3 label.sk-toggleable__label-arrow:hover:before {color: black;}#sk-container-id-3 div.sk-estimator:hover label.sk-toggleable__label-arrow:before {color: black;}#sk-container-id-3 div.sk-toggleable__content {max-height: 0;max-width: 0;overflow: hidden;text-align: left;background-color: #f0f8ff;}#sk-container-id-3 div.sk-toggleable__content pre {margin: 0.2em;color: black;border-radius: 0.25em;background-color: #f0f8ff;}#sk-container-id-3 input.sk-toggleable__control:checked~div.sk-toggleable__content {max-height: 200px;max-width: 100%;overflow: auto;}#sk-container-id-3 input.sk-toggleable__control:checked~label.sk-toggleable__label-arrow:before {content: \"▾\";}#sk-container-id-3 div.sk-estimator input.sk-toggleable__control:checked~label.sk-toggleable__label {background-color: #d4ebff;}#sk-container-id-3 div.sk-label input.sk-toggleable__control:checked~label.sk-toggleable__label {background-color: #d4ebff;}#sk-container-id-3 input.sk-hidden--visually {border: 0;clip: rect(1px 1px 1px 1px);clip: rect(1px, 1px, 1px, 1px);height: 1px;margin: -1px;overflow: hidden;padding: 0;position: absolute;width: 1px;}#sk-container-id-3 div.sk-estimator {font-family: monospace;background-color: #f0f8ff;border: 1px dotted black;border-radius: 0.25em;box-sizing: border-box;margin-bottom: 0.5em;}#sk-container-id-3 div.sk-estimator:hover {background-color: #d4ebff;}#sk-container-id-3 div.sk-parallel-item::after {content: \"\";width: 100%;border-bottom: 1px solid gray;flex-grow: 1;}#sk-container-id-3 div.sk-label:hover label.sk-toggleable__label {background-color: #d4ebff;}#sk-container-id-3 div.sk-serial::before {content: \"\";position: absolute;border-left: 1px solid gray;box-sizing: border-box;top: 0;bottom: 0;left: 50%;z-index: 0;}#sk-container-id-3 div.sk-serial {display: flex;flex-direction: column;align-items: center;background-color: white;padding-right: 0.2em;padding-left: 0.2em;position: relative;}#sk-container-id-3 div.sk-item {position: relative;z-index: 1;}#sk-container-id-3 div.sk-parallel {display: flex;align-items: stretch;justify-content: center;background-color: white;position: relative;}#sk-container-id-3 div.sk-item::before, #sk-container-id-3 div.sk-parallel-item::before {content: \"\";position: absolute;border-left: 1px solid gray;box-sizing: border-box;top: 0;bottom: 0;left: 50%;z-index: -1;}#sk-container-id-3 div.sk-parallel-item {display: flex;flex-direction: column;z-index: 1;position: relative;background-color: white;}#sk-container-id-3 div.sk-parallel-item:first-child::after {align-self: flex-end;width: 50%;}#sk-container-id-3 div.sk-parallel-item:last-child::after {align-self: flex-start;width: 50%;}#sk-container-id-3 div.sk-parallel-item:only-child::after {width: 0;}#sk-container-id-3 div.sk-dashed-wrapped {border: 1px dashed gray;margin: 0 0.4em 0.5em 0.4em;box-sizing: border-box;padding-bottom: 0.4em;background-color: white;}#sk-container-id-3 div.sk-label label {font-family: monospace;font-weight: bold;display: inline-block;line-height: 1.2em;}#sk-container-id-3 div.sk-label-container {text-align: center;}#sk-container-id-3 div.sk-container {/* jupyter's `normalize.less` sets `[hidden] { display: none; }` but bootstrap.min.css set `[hidden] { display: none !important; }` so we also need the `!important` here to be able to override the default hidden behavior on the sphinx rendered scikit-learn.org. See: https://github.com/scikit-learn/scikit-learn/issues/21755 */display: inline-block !important;position: relative;}#sk-container-id-3 div.sk-text-repr-fallback {display: none;}</style><div id=\"sk-container-id-3\" class=\"sk-top-container\"><div class=\"sk-text-repr-fallback\"><pre>StandardScaler()</pre><b>In a Jupyter environment, please rerun this cell to show the HTML representation or trust the notebook. <br />On GitHub, the HTML representation is unable to render, please try loading this page with nbviewer.org.</b></div><div class=\"sk-container\" hidden><div class=\"sk-item\"><div class=\"sk-estimator sk-toggleable\"><input class=\"sk-toggleable__control sk-hidden--visually\" id=\"sk-estimator-id-3\" type=\"checkbox\" checked><label for=\"sk-estimator-id-3\" class=\"sk-toggleable__label sk-toggleable__label-arrow\">StandardScaler</label><div class=\"sk-toggleable__content\"><pre>StandardScaler()</pre></div></div></div></div></div>"
      ],
      "text/plain": [
       "StandardScaler()"
      ]
     },
     "execution_count": 68,
     "metadata": {},
     "output_type": "execute_result"
    }
   ],
   "source": [
    "scaler.fit(df.drop('Flood', axis=1))"
   ]
  },
  {
   "cell_type": "code",
   "execution_count": 69,
   "id": "19dff852",
   "metadata": {
    "id": "19dff852"
   },
   "outputs": [],
   "source": [
    "scaled_features =scaler.transform(df.drop('Flood', axis=1))"
   ]
  },
  {
   "cell_type": "code",
   "execution_count": 70,
   "id": "d63cc8c7",
   "metadata": {
    "colab": {
     "base_uri": "https://localhost:8080/"
    },
    "id": "d63cc8c7",
    "outputId": "feb7547d-f330-45e0-da11-5fdbc1498fe5"
   },
   "outputs": [
    {
     "data": {
      "text/plain": [
       "array([[-1.7319665 , -1.64737873, -2.0631562 , ..., -0.12013518,\n",
       "        -0.69165038, -2.06627539],\n",
       "       [-1.73179788, -1.64737873, -2.0631562 , ..., -0.12013518,\n",
       "        -0.69165038, -2.06570754],\n",
       "       [-1.73162926, -1.64737873, -2.0631562 , ..., -0.12013518,\n",
       "        -0.69165038, -2.0651397 ],\n",
       "       ...,\n",
       "       [ 1.73162926,  1.74471314,  1.57106615, ...,  1.59359493,\n",
       "        -0.69165038,  1.57305059],\n",
       "       [ 1.73179788,  1.74471314,  1.57106615, ...,  1.59359493,\n",
       "        -0.69165038,  1.57361844],\n",
       "       [ 1.7319665 ,  1.74471314,  1.57106615, ...,  1.59359493,\n",
       "        -0.69165038,  1.57418628]])"
      ]
     },
     "execution_count": 70,
     "metadata": {},
     "output_type": "execute_result"
    }
   ],
   "source": [
    "scaled_features"
   ]
  },
  {
   "cell_type": "code",
   "execution_count": 71,
   "id": "f3158c46",
   "metadata": {},
   "outputs": [],
   "source": [
    "df_feat = pd.DataFrame(scaled_features, columns=df.columns[1:])"
   ]
  },
  {
   "cell_type": "code",
   "execution_count": 72,
   "id": "3e1af219",
   "metadata": {},
   "outputs": [],
   "source": [
    "df_feat=df_feat.drop('Flood', axis=1)"
   ]
  },
  {
   "cell_type": "code",
   "execution_count": 73,
   "id": "4f2cf522",
   "metadata": {},
   "outputs": [
    {
     "data": {
      "text/html": [
       "<div>\n",
       "<style scoped>\n",
       "    .dataframe tbody tr th:only-of-type {\n",
       "        vertical-align: middle;\n",
       "    }\n",
       "\n",
       "    .dataframe tbody tr th {\n",
       "        vertical-align: top;\n",
       "    }\n",
       "\n",
       "    .dataframe thead th {\n",
       "        text-align: right;\n",
       "    }\n",
       "</style>\n",
       "<table border=\"1\" class=\"dataframe\">\n",
       "  <thead>\n",
       "    <tr style=\"text-align: right;\">\n",
       "      <th></th>\n",
       "      <th>Station_Names</th>\n",
       "      <th>Year</th>\n",
       "      <th>Month</th>\n",
       "      <th>Max_Temp</th>\n",
       "      <th>Min_Temp</th>\n",
       "      <th>Rainfall</th>\n",
       "      <th>Relative_Humidity</th>\n",
       "      <th>Wind_Speed</th>\n",
       "      <th>Cloud_Coverage</th>\n",
       "      <th>Bright_Sunshine</th>\n",
       "      <th>Station_Number</th>\n",
       "      <th>X_COR</th>\n",
       "      <th>Y_COR</th>\n",
       "      <th>LATITUDE</th>\n",
       "      <th>LONGITUDE</th>\n",
       "      <th>ALT</th>\n",
       "      <th>Period</th>\n",
       "    </tr>\n",
       "  </thead>\n",
       "  <tbody>\n",
       "    <tr>\n",
       "      <th>0</th>\n",
       "      <td>-1.731967</td>\n",
       "      <td>-1.647379</td>\n",
       "      <td>-2.063156</td>\n",
       "      <td>-1.593255</td>\n",
       "      <td>-1.370192</td>\n",
       "      <td>-1.791480</td>\n",
       "      <td>-0.825871</td>\n",
       "      <td>-1.499448</td>\n",
       "      <td>-0.922217</td>\n",
       "      <td>-1.384926</td>\n",
       "      <td>0.808311</td>\n",
       "      <td>0.408091</td>\n",
       "      <td>-0.111122</td>\n",
       "      <td>-0.529267</td>\n",
       "      <td>-0.542452</td>\n",
       "      <td>-0.120135</td>\n",
       "      <td>-0.69165</td>\n",
       "    </tr>\n",
       "    <tr>\n",
       "      <th>1</th>\n",
       "      <td>-1.731798</td>\n",
       "      <td>-1.647379</td>\n",
       "      <td>-2.063156</td>\n",
       "      <td>-1.303572</td>\n",
       "      <td>0.151966</td>\n",
       "      <td>-1.205559</td>\n",
       "      <td>-0.788478</td>\n",
       "      <td>-2.151531</td>\n",
       "      <td>-0.725028</td>\n",
       "      <td>-1.240955</td>\n",
       "      <td>1.084628</td>\n",
       "      <td>0.408091</td>\n",
       "      <td>-0.111122</td>\n",
       "      <td>-0.529267</td>\n",
       "      <td>-0.542452</td>\n",
       "      <td>-0.120135</td>\n",
       "      <td>-0.69165</td>\n",
       "    </tr>\n",
       "    <tr>\n",
       "      <th>2</th>\n",
       "      <td>-1.731629</td>\n",
       "      <td>-1.647379</td>\n",
       "      <td>-2.063156</td>\n",
       "      <td>-1.013890</td>\n",
       "      <td>1.099087</td>\n",
       "      <td>-0.195349</td>\n",
       "      <td>-0.792633</td>\n",
       "      <td>-2.673197</td>\n",
       "      <td>-0.316438</td>\n",
       "      <td>-0.953011</td>\n",
       "      <td>0.979944</td>\n",
       "      <td>0.408091</td>\n",
       "      <td>-0.111122</td>\n",
       "      <td>-0.529267</td>\n",
       "      <td>-0.542452</td>\n",
       "      <td>-0.120135</td>\n",
       "      <td>-0.69165</td>\n",
       "    </tr>\n",
       "    <tr>\n",
       "      <th>3</th>\n",
       "      <td>-1.731461</td>\n",
       "      <td>-1.647379</td>\n",
       "      <td>-2.063156</td>\n",
       "      <td>-0.724207</td>\n",
       "      <td>0.151966</td>\n",
       "      <td>0.552207</td>\n",
       "      <td>-0.244203</td>\n",
       "      <td>-1.108198</td>\n",
       "      <td>0.342636</td>\n",
       "      <td>0.198764</td>\n",
       "      <td>1.029851</td>\n",
       "      <td>0.408091</td>\n",
       "      <td>-0.111122</td>\n",
       "      <td>-0.529267</td>\n",
       "      <td>-0.542452</td>\n",
       "      <td>-0.120135</td>\n",
       "      <td>-0.69165</td>\n",
       "    </tr>\n",
       "    <tr>\n",
       "      <th>4</th>\n",
       "      <td>-1.731292</td>\n",
       "      <td>-1.647379</td>\n",
       "      <td>-2.063156</td>\n",
       "      <td>-0.434524</td>\n",
       "      <td>0.727003</td>\n",
       "      <td>0.774453</td>\n",
       "      <td>0.075714</td>\n",
       "      <td>-0.456116</td>\n",
       "      <td>0.276906</td>\n",
       "      <td>0.294745</td>\n",
       "      <td>0.359144</td>\n",
       "      <td>0.408091</td>\n",
       "      <td>-0.111122</td>\n",
       "      <td>-0.529267</td>\n",
       "      <td>-0.542452</td>\n",
       "      <td>-0.120135</td>\n",
       "      <td>-0.69165</td>\n",
       "    </tr>\n",
       "    <tr>\n",
       "      <th>...</th>\n",
       "      <td>...</td>\n",
       "      <td>...</td>\n",
       "      <td>...</td>\n",
       "      <td>...</td>\n",
       "      <td>...</td>\n",
       "      <td>...</td>\n",
       "      <td>...</td>\n",
       "      <td>...</td>\n",
       "      <td>...</td>\n",
       "      <td>...</td>\n",
       "      <td>...</td>\n",
       "      <td>...</td>\n",
       "      <td>...</td>\n",
       "      <td>...</td>\n",
       "      <td>...</td>\n",
       "      <td>...</td>\n",
       "      <td>...</td>\n",
       "    </tr>\n",
       "    <tr>\n",
       "      <th>20539</th>\n",
       "      <td>1.731292</td>\n",
       "      <td>1.744713</td>\n",
       "      <td>1.571066</td>\n",
       "      <td>0.434524</td>\n",
       "      <td>-0.321594</td>\n",
       "      <td>0.855270</td>\n",
       "      <td>2.709837</td>\n",
       "      <td>1.108883</td>\n",
       "      <td>1.040792</td>\n",
       "      <td>1.302549</td>\n",
       "      <td>-1.498387</td>\n",
       "      <td>1.722582</td>\n",
       "      <td>1.594962</td>\n",
       "      <td>-2.069986</td>\n",
       "      <td>-2.126576</td>\n",
       "      <td>1.593595</td>\n",
       "      <td>-0.69165</td>\n",
       "    </tr>\n",
       "    <tr>\n",
       "      <th>20540</th>\n",
       "      <td>1.731461</td>\n",
       "      <td>1.744713</td>\n",
       "      <td>1.571066</td>\n",
       "      <td>0.724207</td>\n",
       "      <td>-0.287769</td>\n",
       "      <td>0.915882</td>\n",
       "      <td>0.541048</td>\n",
       "      <td>1.108883</td>\n",
       "      <td>1.520441</td>\n",
       "      <td>1.254558</td>\n",
       "      <td>-1.269543</td>\n",
       "      <td>1.722582</td>\n",
       "      <td>1.594962</td>\n",
       "      <td>-2.069986</td>\n",
       "      <td>-2.126576</td>\n",
       "      <td>1.593595</td>\n",
       "      <td>-0.69165</td>\n",
       "    </tr>\n",
       "    <tr>\n",
       "      <th>20541</th>\n",
       "      <td>1.731629</td>\n",
       "      <td>1.744713</td>\n",
       "      <td>1.571066</td>\n",
       "      <td>1.013890</td>\n",
       "      <td>-0.118640</td>\n",
       "      <td>0.734044</td>\n",
       "      <td>0.300071</td>\n",
       "      <td>0.717633</td>\n",
       "      <td>1.040792</td>\n",
       "      <td>0.438717</td>\n",
       "      <td>-0.468590</td>\n",
       "      <td>1.722582</td>\n",
       "      <td>1.594962</td>\n",
       "      <td>-2.069986</td>\n",
       "      <td>-2.126576</td>\n",
       "      <td>1.593595</td>\n",
       "      <td>-0.69165</td>\n",
       "    </tr>\n",
       "    <tr>\n",
       "      <th>20542</th>\n",
       "      <td>1.731798</td>\n",
       "      <td>1.744713</td>\n",
       "      <td>1.571066</td>\n",
       "      <td>1.303572</td>\n",
       "      <td>-0.321594</td>\n",
       "      <td>-0.235757</td>\n",
       "      <td>-0.825871</td>\n",
       "      <td>-0.064866</td>\n",
       "      <td>0.657073</td>\n",
       "      <td>-0.857030</td>\n",
       "      <td>1.133318</td>\n",
       "      <td>1.722582</td>\n",
       "      <td>1.594962</td>\n",
       "      <td>-2.069986</td>\n",
       "      <td>-2.126576</td>\n",
       "      <td>1.593595</td>\n",
       "      <td>-0.69165</td>\n",
       "    </tr>\n",
       "    <tr>\n",
       "      <th>20543</th>\n",
       "      <td>1.731967</td>\n",
       "      <td>1.744713</td>\n",
       "      <td>1.571066</td>\n",
       "      <td>1.593255</td>\n",
       "      <td>-1.201064</td>\n",
       "      <td>-0.942904</td>\n",
       "      <td>-0.825871</td>\n",
       "      <td>-0.977782</td>\n",
       "      <td>1.520441</td>\n",
       "      <td>-1.240955</td>\n",
       "      <td>0.961685</td>\n",
       "      <td>1.722582</td>\n",
       "      <td>1.594962</td>\n",
       "      <td>-2.069986</td>\n",
       "      <td>-2.126576</td>\n",
       "      <td>1.593595</td>\n",
       "      <td>-0.69165</td>\n",
       "    </tr>\n",
       "  </tbody>\n",
       "</table>\n",
       "<p>20544 rows × 17 columns</p>\n",
       "</div>"
      ],
      "text/plain": [
       "       Station_Names      Year     Month  Max_Temp  Min_Temp  Rainfall  \\\n",
       "0          -1.731967 -1.647379 -2.063156 -1.593255 -1.370192 -1.791480   \n",
       "1          -1.731798 -1.647379 -2.063156 -1.303572  0.151966 -1.205559   \n",
       "2          -1.731629 -1.647379 -2.063156 -1.013890  1.099087 -0.195349   \n",
       "3          -1.731461 -1.647379 -2.063156 -0.724207  0.151966  0.552207   \n",
       "4          -1.731292 -1.647379 -2.063156 -0.434524  0.727003  0.774453   \n",
       "...              ...       ...       ...       ...       ...       ...   \n",
       "20539       1.731292  1.744713  1.571066  0.434524 -0.321594  0.855270   \n",
       "20540       1.731461  1.744713  1.571066  0.724207 -0.287769  0.915882   \n",
       "20541       1.731629  1.744713  1.571066  1.013890 -0.118640  0.734044   \n",
       "20542       1.731798  1.744713  1.571066  1.303572 -0.321594 -0.235757   \n",
       "20543       1.731967  1.744713  1.571066  1.593255 -1.201064 -0.942904   \n",
       "\n",
       "       Relative_Humidity  Wind_Speed  Cloud_Coverage  Bright_Sunshine  \\\n",
       "0              -0.825871   -1.499448       -0.922217        -1.384926   \n",
       "1              -0.788478   -2.151531       -0.725028        -1.240955   \n",
       "2              -0.792633   -2.673197       -0.316438        -0.953011   \n",
       "3              -0.244203   -1.108198        0.342636         0.198764   \n",
       "4               0.075714   -0.456116        0.276906         0.294745   \n",
       "...                  ...         ...             ...              ...   \n",
       "20539           2.709837    1.108883        1.040792         1.302549   \n",
       "20540           0.541048    1.108883        1.520441         1.254558   \n",
       "20541           0.300071    0.717633        1.040792         0.438717   \n",
       "20542          -0.825871   -0.064866        0.657073        -0.857030   \n",
       "20543          -0.825871   -0.977782        1.520441        -1.240955   \n",
       "\n",
       "       Station_Number     X_COR     Y_COR  LATITUDE  LONGITUDE       ALT  \\\n",
       "0            0.808311  0.408091 -0.111122 -0.529267  -0.542452 -0.120135   \n",
       "1            1.084628  0.408091 -0.111122 -0.529267  -0.542452 -0.120135   \n",
       "2            0.979944  0.408091 -0.111122 -0.529267  -0.542452 -0.120135   \n",
       "3            1.029851  0.408091 -0.111122 -0.529267  -0.542452 -0.120135   \n",
       "4            0.359144  0.408091 -0.111122 -0.529267  -0.542452 -0.120135   \n",
       "...               ...       ...       ...       ...        ...       ...   \n",
       "20539       -1.498387  1.722582  1.594962 -2.069986  -2.126576  1.593595   \n",
       "20540       -1.269543  1.722582  1.594962 -2.069986  -2.126576  1.593595   \n",
       "20541       -0.468590  1.722582  1.594962 -2.069986  -2.126576  1.593595   \n",
       "20542        1.133318  1.722582  1.594962 -2.069986  -2.126576  1.593595   \n",
       "20543        0.961685  1.722582  1.594962 -2.069986  -2.126576  1.593595   \n",
       "\n",
       "        Period  \n",
       "0     -0.69165  \n",
       "1     -0.69165  \n",
       "2     -0.69165  \n",
       "3     -0.69165  \n",
       "4     -0.69165  \n",
       "...        ...  \n",
       "20539 -0.69165  \n",
       "20540 -0.69165  \n",
       "20541 -0.69165  \n",
       "20542 -0.69165  \n",
       "20543 -0.69165  \n",
       "\n",
       "[20544 rows x 17 columns]"
      ]
     },
     "execution_count": 73,
     "metadata": {},
     "output_type": "execute_result"
    }
   ],
   "source": [
    "df_feat"
   ]
  },
  {
   "cell_type": "code",
   "execution_count": 74,
   "id": "690a0fa3",
   "metadata": {},
   "outputs": [],
   "source": [
    "df_feat = pd.concat([pd.DataFrame(df_feat), pd.DataFrame(df['Flood'])], axis=1)"
   ]
  },
  {
   "cell_type": "code",
   "execution_count": 75,
   "id": "4d72904e",
   "metadata": {},
   "outputs": [
    {
     "data": {
      "text/html": [
       "<div>\n",
       "<style scoped>\n",
       "    .dataframe tbody tr th:only-of-type {\n",
       "        vertical-align: middle;\n",
       "    }\n",
       "\n",
       "    .dataframe tbody tr th {\n",
       "        vertical-align: top;\n",
       "    }\n",
       "\n",
       "    .dataframe thead th {\n",
       "        text-align: right;\n",
       "    }\n",
       "</style>\n",
       "<table border=\"1\" class=\"dataframe\">\n",
       "  <thead>\n",
       "    <tr style=\"text-align: right;\">\n",
       "      <th></th>\n",
       "      <th>Station_Names</th>\n",
       "      <th>Year</th>\n",
       "      <th>Month</th>\n",
       "      <th>Max_Temp</th>\n",
       "      <th>Min_Temp</th>\n",
       "      <th>Rainfall</th>\n",
       "      <th>Relative_Humidity</th>\n",
       "      <th>Wind_Speed</th>\n",
       "      <th>Cloud_Coverage</th>\n",
       "      <th>Bright_Sunshine</th>\n",
       "      <th>Station_Number</th>\n",
       "      <th>X_COR</th>\n",
       "      <th>Y_COR</th>\n",
       "      <th>LATITUDE</th>\n",
       "      <th>LONGITUDE</th>\n",
       "      <th>ALT</th>\n",
       "      <th>Period</th>\n",
       "      <th>Flood</th>\n",
       "    </tr>\n",
       "  </thead>\n",
       "  <tbody>\n",
       "    <tr>\n",
       "      <th>0</th>\n",
       "      <td>-1.731967</td>\n",
       "      <td>-1.647379</td>\n",
       "      <td>-2.063156</td>\n",
       "      <td>-1.593255</td>\n",
       "      <td>-1.370192</td>\n",
       "      <td>-1.791480</td>\n",
       "      <td>-0.825871</td>\n",
       "      <td>-1.499448</td>\n",
       "      <td>-0.922217</td>\n",
       "      <td>-1.384926</td>\n",
       "      <td>0.808311</td>\n",
       "      <td>0.408091</td>\n",
       "      <td>-0.111122</td>\n",
       "      <td>-0.529267</td>\n",
       "      <td>-0.542452</td>\n",
       "      <td>-0.120135</td>\n",
       "      <td>-0.69165</td>\n",
       "      <td>0</td>\n",
       "    </tr>\n",
       "    <tr>\n",
       "      <th>1</th>\n",
       "      <td>-1.731798</td>\n",
       "      <td>-1.647379</td>\n",
       "      <td>-2.063156</td>\n",
       "      <td>-1.303572</td>\n",
       "      <td>0.151966</td>\n",
       "      <td>-1.205559</td>\n",
       "      <td>-0.788478</td>\n",
       "      <td>-2.151531</td>\n",
       "      <td>-0.725028</td>\n",
       "      <td>-1.240955</td>\n",
       "      <td>1.084628</td>\n",
       "      <td>0.408091</td>\n",
       "      <td>-0.111122</td>\n",
       "      <td>-0.529267</td>\n",
       "      <td>-0.542452</td>\n",
       "      <td>-0.120135</td>\n",
       "      <td>-0.69165</td>\n",
       "      <td>0</td>\n",
       "    </tr>\n",
       "    <tr>\n",
       "      <th>2</th>\n",
       "      <td>-1.731629</td>\n",
       "      <td>-1.647379</td>\n",
       "      <td>-2.063156</td>\n",
       "      <td>-1.013890</td>\n",
       "      <td>1.099087</td>\n",
       "      <td>-0.195349</td>\n",
       "      <td>-0.792633</td>\n",
       "      <td>-2.673197</td>\n",
       "      <td>-0.316438</td>\n",
       "      <td>-0.953011</td>\n",
       "      <td>0.979944</td>\n",
       "      <td>0.408091</td>\n",
       "      <td>-0.111122</td>\n",
       "      <td>-0.529267</td>\n",
       "      <td>-0.542452</td>\n",
       "      <td>-0.120135</td>\n",
       "      <td>-0.69165</td>\n",
       "      <td>0</td>\n",
       "    </tr>\n",
       "    <tr>\n",
       "      <th>3</th>\n",
       "      <td>-1.731461</td>\n",
       "      <td>-1.647379</td>\n",
       "      <td>-2.063156</td>\n",
       "      <td>-0.724207</td>\n",
       "      <td>0.151966</td>\n",
       "      <td>0.552207</td>\n",
       "      <td>-0.244203</td>\n",
       "      <td>-1.108198</td>\n",
       "      <td>0.342636</td>\n",
       "      <td>0.198764</td>\n",
       "      <td>1.029851</td>\n",
       "      <td>0.408091</td>\n",
       "      <td>-0.111122</td>\n",
       "      <td>-0.529267</td>\n",
       "      <td>-0.542452</td>\n",
       "      <td>-0.120135</td>\n",
       "      <td>-0.69165</td>\n",
       "      <td>0</td>\n",
       "    </tr>\n",
       "    <tr>\n",
       "      <th>4</th>\n",
       "      <td>-1.731292</td>\n",
       "      <td>-1.647379</td>\n",
       "      <td>-2.063156</td>\n",
       "      <td>-0.434524</td>\n",
       "      <td>0.727003</td>\n",
       "      <td>0.774453</td>\n",
       "      <td>0.075714</td>\n",
       "      <td>-0.456116</td>\n",
       "      <td>0.276906</td>\n",
       "      <td>0.294745</td>\n",
       "      <td>0.359144</td>\n",
       "      <td>0.408091</td>\n",
       "      <td>-0.111122</td>\n",
       "      <td>-0.529267</td>\n",
       "      <td>-0.542452</td>\n",
       "      <td>-0.120135</td>\n",
       "      <td>-0.69165</td>\n",
       "      <td>0</td>\n",
       "    </tr>\n",
       "    <tr>\n",
       "      <th>...</th>\n",
       "      <td>...</td>\n",
       "      <td>...</td>\n",
       "      <td>...</td>\n",
       "      <td>...</td>\n",
       "      <td>...</td>\n",
       "      <td>...</td>\n",
       "      <td>...</td>\n",
       "      <td>...</td>\n",
       "      <td>...</td>\n",
       "      <td>...</td>\n",
       "      <td>...</td>\n",
       "      <td>...</td>\n",
       "      <td>...</td>\n",
       "      <td>...</td>\n",
       "      <td>...</td>\n",
       "      <td>...</td>\n",
       "      <td>...</td>\n",
       "      <td>...</td>\n",
       "    </tr>\n",
       "    <tr>\n",
       "      <th>20539</th>\n",
       "      <td>1.731292</td>\n",
       "      <td>1.744713</td>\n",
       "      <td>1.571066</td>\n",
       "      <td>0.434524</td>\n",
       "      <td>-0.321594</td>\n",
       "      <td>0.855270</td>\n",
       "      <td>2.709837</td>\n",
       "      <td>1.108883</td>\n",
       "      <td>1.040792</td>\n",
       "      <td>1.302549</td>\n",
       "      <td>-1.498387</td>\n",
       "      <td>1.722582</td>\n",
       "      <td>1.594962</td>\n",
       "      <td>-2.069986</td>\n",
       "      <td>-2.126576</td>\n",
       "      <td>1.593595</td>\n",
       "      <td>-0.69165</td>\n",
       "      <td>1</td>\n",
       "    </tr>\n",
       "    <tr>\n",
       "      <th>20540</th>\n",
       "      <td>1.731461</td>\n",
       "      <td>1.744713</td>\n",
       "      <td>1.571066</td>\n",
       "      <td>0.724207</td>\n",
       "      <td>-0.287769</td>\n",
       "      <td>0.915882</td>\n",
       "      <td>0.541048</td>\n",
       "      <td>1.108883</td>\n",
       "      <td>1.520441</td>\n",
       "      <td>1.254558</td>\n",
       "      <td>-1.269543</td>\n",
       "      <td>1.722582</td>\n",
       "      <td>1.594962</td>\n",
       "      <td>-2.069986</td>\n",
       "      <td>-2.126576</td>\n",
       "      <td>1.593595</td>\n",
       "      <td>-0.69165</td>\n",
       "      <td>0</td>\n",
       "    </tr>\n",
       "    <tr>\n",
       "      <th>20541</th>\n",
       "      <td>1.731629</td>\n",
       "      <td>1.744713</td>\n",
       "      <td>1.571066</td>\n",
       "      <td>1.013890</td>\n",
       "      <td>-0.118640</td>\n",
       "      <td>0.734044</td>\n",
       "      <td>0.300071</td>\n",
       "      <td>0.717633</td>\n",
       "      <td>1.040792</td>\n",
       "      <td>0.438717</td>\n",
       "      <td>-0.468590</td>\n",
       "      <td>1.722582</td>\n",
       "      <td>1.594962</td>\n",
       "      <td>-2.069986</td>\n",
       "      <td>-2.126576</td>\n",
       "      <td>1.593595</td>\n",
       "      <td>-0.69165</td>\n",
       "      <td>0</td>\n",
       "    </tr>\n",
       "    <tr>\n",
       "      <th>20542</th>\n",
       "      <td>1.731798</td>\n",
       "      <td>1.744713</td>\n",
       "      <td>1.571066</td>\n",
       "      <td>1.303572</td>\n",
       "      <td>-0.321594</td>\n",
       "      <td>-0.235757</td>\n",
       "      <td>-0.825871</td>\n",
       "      <td>-0.064866</td>\n",
       "      <td>0.657073</td>\n",
       "      <td>-0.857030</td>\n",
       "      <td>1.133318</td>\n",
       "      <td>1.722582</td>\n",
       "      <td>1.594962</td>\n",
       "      <td>-2.069986</td>\n",
       "      <td>-2.126576</td>\n",
       "      <td>1.593595</td>\n",
       "      <td>-0.69165</td>\n",
       "      <td>0</td>\n",
       "    </tr>\n",
       "    <tr>\n",
       "      <th>20543</th>\n",
       "      <td>1.731967</td>\n",
       "      <td>1.744713</td>\n",
       "      <td>1.571066</td>\n",
       "      <td>1.593255</td>\n",
       "      <td>-1.201064</td>\n",
       "      <td>-0.942904</td>\n",
       "      <td>-0.825871</td>\n",
       "      <td>-0.977782</td>\n",
       "      <td>1.520441</td>\n",
       "      <td>-1.240955</td>\n",
       "      <td>0.961685</td>\n",
       "      <td>1.722582</td>\n",
       "      <td>1.594962</td>\n",
       "      <td>-2.069986</td>\n",
       "      <td>-2.126576</td>\n",
       "      <td>1.593595</td>\n",
       "      <td>-0.69165</td>\n",
       "      <td>0</td>\n",
       "    </tr>\n",
       "  </tbody>\n",
       "</table>\n",
       "<p>20544 rows × 18 columns</p>\n",
       "</div>"
      ],
      "text/plain": [
       "       Station_Names      Year     Month  Max_Temp  Min_Temp  Rainfall  \\\n",
       "0          -1.731967 -1.647379 -2.063156 -1.593255 -1.370192 -1.791480   \n",
       "1          -1.731798 -1.647379 -2.063156 -1.303572  0.151966 -1.205559   \n",
       "2          -1.731629 -1.647379 -2.063156 -1.013890  1.099087 -0.195349   \n",
       "3          -1.731461 -1.647379 -2.063156 -0.724207  0.151966  0.552207   \n",
       "4          -1.731292 -1.647379 -2.063156 -0.434524  0.727003  0.774453   \n",
       "...              ...       ...       ...       ...       ...       ...   \n",
       "20539       1.731292  1.744713  1.571066  0.434524 -0.321594  0.855270   \n",
       "20540       1.731461  1.744713  1.571066  0.724207 -0.287769  0.915882   \n",
       "20541       1.731629  1.744713  1.571066  1.013890 -0.118640  0.734044   \n",
       "20542       1.731798  1.744713  1.571066  1.303572 -0.321594 -0.235757   \n",
       "20543       1.731967  1.744713  1.571066  1.593255 -1.201064 -0.942904   \n",
       "\n",
       "       Relative_Humidity  Wind_Speed  Cloud_Coverage  Bright_Sunshine  \\\n",
       "0              -0.825871   -1.499448       -0.922217        -1.384926   \n",
       "1              -0.788478   -2.151531       -0.725028        -1.240955   \n",
       "2              -0.792633   -2.673197       -0.316438        -0.953011   \n",
       "3              -0.244203   -1.108198        0.342636         0.198764   \n",
       "4               0.075714   -0.456116        0.276906         0.294745   \n",
       "...                  ...         ...             ...              ...   \n",
       "20539           2.709837    1.108883        1.040792         1.302549   \n",
       "20540           0.541048    1.108883        1.520441         1.254558   \n",
       "20541           0.300071    0.717633        1.040792         0.438717   \n",
       "20542          -0.825871   -0.064866        0.657073        -0.857030   \n",
       "20543          -0.825871   -0.977782        1.520441        -1.240955   \n",
       "\n",
       "       Station_Number     X_COR     Y_COR  LATITUDE  LONGITUDE       ALT  \\\n",
       "0            0.808311  0.408091 -0.111122 -0.529267  -0.542452 -0.120135   \n",
       "1            1.084628  0.408091 -0.111122 -0.529267  -0.542452 -0.120135   \n",
       "2            0.979944  0.408091 -0.111122 -0.529267  -0.542452 -0.120135   \n",
       "3            1.029851  0.408091 -0.111122 -0.529267  -0.542452 -0.120135   \n",
       "4            0.359144  0.408091 -0.111122 -0.529267  -0.542452 -0.120135   \n",
       "...               ...       ...       ...       ...        ...       ...   \n",
       "20539       -1.498387  1.722582  1.594962 -2.069986  -2.126576  1.593595   \n",
       "20540       -1.269543  1.722582  1.594962 -2.069986  -2.126576  1.593595   \n",
       "20541       -0.468590  1.722582  1.594962 -2.069986  -2.126576  1.593595   \n",
       "20542        1.133318  1.722582  1.594962 -2.069986  -2.126576  1.593595   \n",
       "20543        0.961685  1.722582  1.594962 -2.069986  -2.126576  1.593595   \n",
       "\n",
       "        Period  Flood  \n",
       "0     -0.69165      0  \n",
       "1     -0.69165      0  \n",
       "2     -0.69165      0  \n",
       "3     -0.69165      0  \n",
       "4     -0.69165      0  \n",
       "...        ...    ...  \n",
       "20539 -0.69165      1  \n",
       "20540 -0.69165      0  \n",
       "20541 -0.69165      0  \n",
       "20542 -0.69165      0  \n",
       "20543 -0.69165      0  \n",
       "\n",
       "[20544 rows x 18 columns]"
      ]
     },
     "execution_count": 75,
     "metadata": {},
     "output_type": "execute_result"
    }
   ],
   "source": [
    "df_feat"
   ]
  },
  {
   "cell_type": "code",
   "execution_count": 76,
   "id": "768c2a32",
   "metadata": {},
   "outputs": [
    {
     "data": {
      "text/plain": [
       "0    16412\n",
       "1     4132\n",
       "Name: Flood, dtype: int64"
      ]
     },
     "execution_count": 76,
     "metadata": {},
     "output_type": "execute_result"
    }
   ],
   "source": [
    "df['Flood'].value_counts()"
   ]
  },
  {
   "cell_type": "code",
   "execution_count": 77,
   "id": "b68a3fd9",
   "metadata": {},
   "outputs": [
    {
     "data": {
      "text/plain": [
       "0    16412\n",
       "1     4132\n",
       "Name: Flood, dtype: int64"
      ]
     },
     "execution_count": 77,
     "metadata": {},
     "output_type": "execute_result"
    }
   ],
   "source": [
    "df_feat['Flood'].value_counts()"
   ]
  },
  {
   "cell_type": "code",
   "execution_count": 78,
   "id": "7773a476",
   "metadata": {},
   "outputs": [],
   "source": [
    "# from imblearn.over_sampling import RandomOverSampler\n",
    "# oversample = RandomOverSampler(sampling_strategy='minority')\n",
    "# oversampled_X, oversampled_Y = oversample.fit_resample(df_feat.drop('Flood', axis=1), df_feat['Flood'])\n",
    "# df_feat = pd.concat([pd.DataFrame(oversampled_Y), pd.DataFrame(oversampled_X)], axis=1)"
   ]
  },
  {
   "cell_type": "code",
   "execution_count": 79,
   "id": "89f96356",
   "metadata": {},
   "outputs": [],
   "source": [
    "from imblearn.over_sampling import ADASYN\n",
    "oversample = ADASYN(sampling_strategy='minority', random_state=42)\n",
    "oversampled_X, oversampled_Y = oversample.fit_resample(df_feat.drop('Flood', axis=1), df_feat['Flood'])\n",
    "df_feat = pd.concat([pd.DataFrame(oversampled_Y), pd.DataFrame(oversampled_X)], axis=1)"
   ]
  },
  {
   "cell_type": "code",
   "execution_count": 80,
   "id": "bc699e51",
   "metadata": {},
   "outputs": [
    {
     "data": {
      "text/plain": [
       "0    16412\n",
       "1    16083\n",
       "Name: Flood, dtype: int64"
      ]
     },
     "execution_count": 80,
     "metadata": {},
     "output_type": "execute_result"
    }
   ],
   "source": [
    "df_feat['Flood'].value_counts()"
   ]
  },
  {
   "cell_type": "code",
   "execution_count": 81,
   "id": "7b5dedae",
   "metadata": {},
   "outputs": [
    {
     "data": {
      "text/html": [
       "<div>\n",
       "<style scoped>\n",
       "    .dataframe tbody tr th:only-of-type {\n",
       "        vertical-align: middle;\n",
       "    }\n",
       "\n",
       "    .dataframe tbody tr th {\n",
       "        vertical-align: top;\n",
       "    }\n",
       "\n",
       "    .dataframe thead th {\n",
       "        text-align: right;\n",
       "    }\n",
       "</style>\n",
       "<table border=\"1\" class=\"dataframe\">\n",
       "  <thead>\n",
       "    <tr style=\"text-align: right;\">\n",
       "      <th></th>\n",
       "      <th>Flood</th>\n",
       "      <th>Station_Names</th>\n",
       "      <th>Year</th>\n",
       "      <th>Month</th>\n",
       "      <th>Max_Temp</th>\n",
       "      <th>Min_Temp</th>\n",
       "      <th>Rainfall</th>\n",
       "      <th>Relative_Humidity</th>\n",
       "      <th>Wind_Speed</th>\n",
       "      <th>Cloud_Coverage</th>\n",
       "      <th>Bright_Sunshine</th>\n",
       "      <th>Station_Number</th>\n",
       "      <th>X_COR</th>\n",
       "      <th>Y_COR</th>\n",
       "      <th>LATITUDE</th>\n",
       "      <th>LONGITUDE</th>\n",
       "      <th>ALT</th>\n",
       "      <th>Period</th>\n",
       "    </tr>\n",
       "  </thead>\n",
       "  <tbody>\n",
       "    <tr>\n",
       "      <th>0</th>\n",
       "      <td>0</td>\n",
       "      <td>-1.731967</td>\n",
       "      <td>-1.647379</td>\n",
       "      <td>-2.063156</td>\n",
       "      <td>-1.593255</td>\n",
       "      <td>-1.370192</td>\n",
       "      <td>-1.791480</td>\n",
       "      <td>-0.825871</td>\n",
       "      <td>-1.499448</td>\n",
       "      <td>-0.922217</td>\n",
       "      <td>-1.384926</td>\n",
       "      <td>0.808311</td>\n",
       "      <td>0.408091</td>\n",
       "      <td>-0.111122</td>\n",
       "      <td>-0.529267</td>\n",
       "      <td>-0.542452</td>\n",
       "      <td>-0.120135</td>\n",
       "      <td>-0.69165</td>\n",
       "    </tr>\n",
       "    <tr>\n",
       "      <th>1</th>\n",
       "      <td>0</td>\n",
       "      <td>-1.731798</td>\n",
       "      <td>-1.647379</td>\n",
       "      <td>-2.063156</td>\n",
       "      <td>-1.303572</td>\n",
       "      <td>0.151966</td>\n",
       "      <td>-1.205559</td>\n",
       "      <td>-0.788478</td>\n",
       "      <td>-2.151531</td>\n",
       "      <td>-0.725028</td>\n",
       "      <td>-1.240955</td>\n",
       "      <td>1.084628</td>\n",
       "      <td>0.408091</td>\n",
       "      <td>-0.111122</td>\n",
       "      <td>-0.529267</td>\n",
       "      <td>-0.542452</td>\n",
       "      <td>-0.120135</td>\n",
       "      <td>-0.69165</td>\n",
       "    </tr>\n",
       "    <tr>\n",
       "      <th>2</th>\n",
       "      <td>0</td>\n",
       "      <td>-1.731629</td>\n",
       "      <td>-1.647379</td>\n",
       "      <td>-2.063156</td>\n",
       "      <td>-1.013890</td>\n",
       "      <td>1.099087</td>\n",
       "      <td>-0.195349</td>\n",
       "      <td>-0.792633</td>\n",
       "      <td>-2.673197</td>\n",
       "      <td>-0.316438</td>\n",
       "      <td>-0.953011</td>\n",
       "      <td>0.979944</td>\n",
       "      <td>0.408091</td>\n",
       "      <td>-0.111122</td>\n",
       "      <td>-0.529267</td>\n",
       "      <td>-0.542452</td>\n",
       "      <td>-0.120135</td>\n",
       "      <td>-0.69165</td>\n",
       "    </tr>\n",
       "    <tr>\n",
       "      <th>3</th>\n",
       "      <td>0</td>\n",
       "      <td>-1.731461</td>\n",
       "      <td>-1.647379</td>\n",
       "      <td>-2.063156</td>\n",
       "      <td>-0.724207</td>\n",
       "      <td>0.151966</td>\n",
       "      <td>0.552207</td>\n",
       "      <td>-0.244203</td>\n",
       "      <td>-1.108198</td>\n",
       "      <td>0.342636</td>\n",
       "      <td>0.198764</td>\n",
       "      <td>1.029851</td>\n",
       "      <td>0.408091</td>\n",
       "      <td>-0.111122</td>\n",
       "      <td>-0.529267</td>\n",
       "      <td>-0.542452</td>\n",
       "      <td>-0.120135</td>\n",
       "      <td>-0.69165</td>\n",
       "    </tr>\n",
       "    <tr>\n",
       "      <th>4</th>\n",
       "      <td>0</td>\n",
       "      <td>-1.731292</td>\n",
       "      <td>-1.647379</td>\n",
       "      <td>-2.063156</td>\n",
       "      <td>-0.434524</td>\n",
       "      <td>0.727003</td>\n",
       "      <td>0.774453</td>\n",
       "      <td>0.075714</td>\n",
       "      <td>-0.456116</td>\n",
       "      <td>0.276906</td>\n",
       "      <td>0.294745</td>\n",
       "      <td>0.359144</td>\n",
       "      <td>0.408091</td>\n",
       "      <td>-0.111122</td>\n",
       "      <td>-0.529267</td>\n",
       "      <td>-0.542452</td>\n",
       "      <td>-0.120135</td>\n",
       "      <td>-0.69165</td>\n",
       "    </tr>\n",
       "    <tr>\n",
       "      <th>...</th>\n",
       "      <td>...</td>\n",
       "      <td>...</td>\n",
       "      <td>...</td>\n",
       "      <td>...</td>\n",
       "      <td>...</td>\n",
       "      <td>...</td>\n",
       "      <td>...</td>\n",
       "      <td>...</td>\n",
       "      <td>...</td>\n",
       "      <td>...</td>\n",
       "      <td>...</td>\n",
       "      <td>...</td>\n",
       "      <td>...</td>\n",
       "      <td>...</td>\n",
       "      <td>...</td>\n",
       "      <td>...</td>\n",
       "      <td>...</td>\n",
       "      <td>...</td>\n",
       "    </tr>\n",
       "    <tr>\n",
       "      <th>32490</th>\n",
       "      <td>1</td>\n",
       "      <td>1.722091</td>\n",
       "      <td>1.744713</td>\n",
       "      <td>1.308120</td>\n",
       "      <td>0.724207</td>\n",
       "      <td>0.188378</td>\n",
       "      <td>0.805853</td>\n",
       "      <td>1.325400</td>\n",
       "      <td>1.096839</td>\n",
       "      <td>-0.483702</td>\n",
       "      <td>1.062596</td>\n",
       "      <td>-0.660448</td>\n",
       "      <td>1.722582</td>\n",
       "      <td>1.594962</td>\n",
       "      <td>-2.069986</td>\n",
       "      <td>-2.126576</td>\n",
       "      <td>1.593595</td>\n",
       "      <td>-0.69165</td>\n",
       "    </tr>\n",
       "    <tr>\n",
       "      <th>32491</th>\n",
       "      <td>1</td>\n",
       "      <td>1.725630</td>\n",
       "      <td>1.744713</td>\n",
       "      <td>1.402797</td>\n",
       "      <td>1.008571</td>\n",
       "      <td>0.180202</td>\n",
       "      <td>0.856383</td>\n",
       "      <td>1.667213</td>\n",
       "      <td>0.978466</td>\n",
       "      <td>1.126153</td>\n",
       "      <td>0.779939</td>\n",
       "      <td>-0.858562</td>\n",
       "      <td>1.722582</td>\n",
       "      <td>1.594962</td>\n",
       "      <td>-2.069986</td>\n",
       "      <td>-2.126576</td>\n",
       "      <td>1.593595</td>\n",
       "      <td>-0.69165</td>\n",
       "    </tr>\n",
       "    <tr>\n",
       "      <th>32492</th>\n",
       "      <td>1</td>\n",
       "      <td>1.729728</td>\n",
       "      <td>1.744713</td>\n",
       "      <td>1.530203</td>\n",
       "      <td>0.249072</td>\n",
       "      <td>-0.386559</td>\n",
       "      <td>0.835065</td>\n",
       "      <td>3.910370</td>\n",
       "      <td>1.286225</td>\n",
       "      <td>1.290484</td>\n",
       "      <td>1.481056</td>\n",
       "      <td>-1.633394</td>\n",
       "      <td>1.722582</td>\n",
       "      <td>1.594962</td>\n",
       "      <td>-2.069986</td>\n",
       "      <td>-2.126576</td>\n",
       "      <td>1.593595</td>\n",
       "      <td>-0.69165</td>\n",
       "    </tr>\n",
       "    <tr>\n",
       "      <th>32493</th>\n",
       "      <td>1</td>\n",
       "      <td>1.728892</td>\n",
       "      <td>1.744713</td>\n",
       "      <td>1.508457</td>\n",
       "      <td>0.144841</td>\n",
       "      <td>-0.348481</td>\n",
       "      <td>0.872193</td>\n",
       "      <td>3.480914</td>\n",
       "      <td>1.239300</td>\n",
       "      <td>1.490921</td>\n",
       "      <td>1.411245</td>\n",
       "      <td>-1.654862</td>\n",
       "      <td>1.722582</td>\n",
       "      <td>1.594962</td>\n",
       "      <td>-2.069986</td>\n",
       "      <td>-2.126576</td>\n",
       "      <td>1.593595</td>\n",
       "      <td>-0.69165</td>\n",
       "    </tr>\n",
       "    <tr>\n",
       "      <th>32494</th>\n",
       "      <td>1</td>\n",
       "      <td>1.723346</td>\n",
       "      <td>1.744713</td>\n",
       "      <td>1.348155</td>\n",
       "      <td>0.429132</td>\n",
       "      <td>-0.190698</td>\n",
       "      <td>0.874722</td>\n",
       "      <td>2.731180</td>\n",
       "      <td>1.367289</td>\n",
       "      <td>1.243365</td>\n",
       "      <td>1.587813</td>\n",
       "      <td>-2.174271</td>\n",
       "      <td>1.722582</td>\n",
       "      <td>1.594962</td>\n",
       "      <td>-2.069986</td>\n",
       "      <td>-2.126576</td>\n",
       "      <td>1.593595</td>\n",
       "      <td>-0.69165</td>\n",
       "    </tr>\n",
       "  </tbody>\n",
       "</table>\n",
       "<p>32495 rows × 18 columns</p>\n",
       "</div>"
      ],
      "text/plain": [
       "       Flood  Station_Names      Year     Month  Max_Temp  Min_Temp  Rainfall  \\\n",
       "0          0      -1.731967 -1.647379 -2.063156 -1.593255 -1.370192 -1.791480   \n",
       "1          0      -1.731798 -1.647379 -2.063156 -1.303572  0.151966 -1.205559   \n",
       "2          0      -1.731629 -1.647379 -2.063156 -1.013890  1.099087 -0.195349   \n",
       "3          0      -1.731461 -1.647379 -2.063156 -0.724207  0.151966  0.552207   \n",
       "4          0      -1.731292 -1.647379 -2.063156 -0.434524  0.727003  0.774453   \n",
       "...      ...            ...       ...       ...       ...       ...       ...   \n",
       "32490      1       1.722091  1.744713  1.308120  0.724207  0.188378  0.805853   \n",
       "32491      1       1.725630  1.744713  1.402797  1.008571  0.180202  0.856383   \n",
       "32492      1       1.729728  1.744713  1.530203  0.249072 -0.386559  0.835065   \n",
       "32493      1       1.728892  1.744713  1.508457  0.144841 -0.348481  0.872193   \n",
       "32494      1       1.723346  1.744713  1.348155  0.429132 -0.190698  0.874722   \n",
       "\n",
       "       Relative_Humidity  Wind_Speed  Cloud_Coverage  Bright_Sunshine  \\\n",
       "0              -0.825871   -1.499448       -0.922217        -1.384926   \n",
       "1              -0.788478   -2.151531       -0.725028        -1.240955   \n",
       "2              -0.792633   -2.673197       -0.316438        -0.953011   \n",
       "3              -0.244203   -1.108198        0.342636         0.198764   \n",
       "4               0.075714   -0.456116        0.276906         0.294745   \n",
       "...                  ...         ...             ...              ...   \n",
       "32490           1.325400    1.096839       -0.483702         1.062596   \n",
       "32491           1.667213    0.978466        1.126153         0.779939   \n",
       "32492           3.910370    1.286225        1.290484         1.481056   \n",
       "32493           3.480914    1.239300        1.490921         1.411245   \n",
       "32494           2.731180    1.367289        1.243365         1.587813   \n",
       "\n",
       "       Station_Number     X_COR     Y_COR  LATITUDE  LONGITUDE       ALT  \\\n",
       "0            0.808311  0.408091 -0.111122 -0.529267  -0.542452 -0.120135   \n",
       "1            1.084628  0.408091 -0.111122 -0.529267  -0.542452 -0.120135   \n",
       "2            0.979944  0.408091 -0.111122 -0.529267  -0.542452 -0.120135   \n",
       "3            1.029851  0.408091 -0.111122 -0.529267  -0.542452 -0.120135   \n",
       "4            0.359144  0.408091 -0.111122 -0.529267  -0.542452 -0.120135   \n",
       "...               ...       ...       ...       ...        ...       ...   \n",
       "32490       -0.660448  1.722582  1.594962 -2.069986  -2.126576  1.593595   \n",
       "32491       -0.858562  1.722582  1.594962 -2.069986  -2.126576  1.593595   \n",
       "32492       -1.633394  1.722582  1.594962 -2.069986  -2.126576  1.593595   \n",
       "32493       -1.654862  1.722582  1.594962 -2.069986  -2.126576  1.593595   \n",
       "32494       -2.174271  1.722582  1.594962 -2.069986  -2.126576  1.593595   \n",
       "\n",
       "        Period  \n",
       "0     -0.69165  \n",
       "1     -0.69165  \n",
       "2     -0.69165  \n",
       "3     -0.69165  \n",
       "4     -0.69165  \n",
       "...        ...  \n",
       "32490 -0.69165  \n",
       "32491 -0.69165  \n",
       "32492 -0.69165  \n",
       "32493 -0.69165  \n",
       "32494 -0.69165  \n",
       "\n",
       "[32495 rows x 18 columns]"
      ]
     },
     "execution_count": 81,
     "metadata": {},
     "output_type": "execute_result"
    }
   ],
   "source": [
    "df_feat"
   ]
  },
  {
   "cell_type": "code",
   "execution_count": null,
   "id": "ec21ec9c",
   "metadata": {},
   "outputs": [],
   "source": []
  },
  {
   "cell_type": "markdown",
   "id": "3a095ac5",
   "metadata": {
    "id": "3a095ac5"
   },
   "source": [
    "#### Train test seperation"
   ]
  },
  {
   "cell_type": "code",
   "execution_count": 82,
   "id": "3a11042e",
   "metadata": {
    "id": "3a11042e"
   },
   "outputs": [],
   "source": [
    "from sklearn.model_selection import train_test_split"
   ]
  },
  {
   "cell_type": "code",
   "execution_count": 83,
   "id": "07ce8c68",
   "metadata": {
    "id": "07ce8c68"
   },
   "outputs": [
    {
     "data": {
      "text/plain": [
       "(6499, 5)"
      ]
     },
     "execution_count": 83,
     "metadata": {},
     "output_type": "execute_result"
    }
   ],
   "source": [
    "#X = df_feat.drop(['Sl','Station_Names','Year', 'Month', 'Max_Temp', 'Wind_Speed', 'Bright_Sunshine','Station_Number','X_COR','Y_COR','LATITUDE','LONGITUDE','ALT','Period' ],axis=1)\n",
    "\n",
    "X = df_feat.drop(['Station_Names','Year', 'Month', 'Max_Temp', 'Wind_Speed','Station_Number','X_COR','Y_COR','LATITUDE','LONGITUDE','ALT','Period','Flood'],axis=1)\n",
    "y = df_feat['Flood']\n",
    "X_train, X_test, y_train, y_test = train_test_split(X, y, test_size=0.2, random_state=50)\n",
    "X_test.shape"
   ]
  },
  {
   "cell_type": "code",
   "execution_count": null,
   "id": "b32ee610",
   "metadata": {},
   "outputs": [],
   "source": []
  },
  {
   "cell_type": "markdown",
   "id": "60e5f2a9",
   "metadata": {
    "id": "60e5f2a9"
   },
   "source": [
    "#### KNN"
   ]
  },
  {
   "cell_type": "code",
   "execution_count": 84,
   "id": "6bae8522",
   "metadata": {
    "id": "6bae8522"
   },
   "outputs": [],
   "source": [
    "knn = KNeighborsClassifier(algorithm='ball_tree', leaf_size=6, metric='manhattan', n_neighbors=8, weights='distance')"
   ]
  },
  {
   "cell_type": "code",
   "execution_count": 85,
   "id": "d5f0aece",
   "metadata": {
    "colab": {
     "base_uri": "https://localhost:8080/"
    },
    "id": "d5f0aece",
    "outputId": "0c33e0d5-664e-4c7c-fc0d-4f360f13f3bf"
   },
   "outputs": [
    {
     "data": {
      "text/html": [
       "<style>#sk-container-id-4 {color: black;background-color: white;}#sk-container-id-4 pre{padding: 0;}#sk-container-id-4 div.sk-toggleable {background-color: white;}#sk-container-id-4 label.sk-toggleable__label {cursor: pointer;display: block;width: 100%;margin-bottom: 0;padding: 0.3em;box-sizing: border-box;text-align: center;}#sk-container-id-4 label.sk-toggleable__label-arrow:before {content: \"▸\";float: left;margin-right: 0.25em;color: #696969;}#sk-container-id-4 label.sk-toggleable__label-arrow:hover:before {color: black;}#sk-container-id-4 div.sk-estimator:hover label.sk-toggleable__label-arrow:before {color: black;}#sk-container-id-4 div.sk-toggleable__content {max-height: 0;max-width: 0;overflow: hidden;text-align: left;background-color: #f0f8ff;}#sk-container-id-4 div.sk-toggleable__content pre {margin: 0.2em;color: black;border-radius: 0.25em;background-color: #f0f8ff;}#sk-container-id-4 input.sk-toggleable__control:checked~div.sk-toggleable__content {max-height: 200px;max-width: 100%;overflow: auto;}#sk-container-id-4 input.sk-toggleable__control:checked~label.sk-toggleable__label-arrow:before {content: \"▾\";}#sk-container-id-4 div.sk-estimator input.sk-toggleable__control:checked~label.sk-toggleable__label {background-color: #d4ebff;}#sk-container-id-4 div.sk-label input.sk-toggleable__control:checked~label.sk-toggleable__label {background-color: #d4ebff;}#sk-container-id-4 input.sk-hidden--visually {border: 0;clip: rect(1px 1px 1px 1px);clip: rect(1px, 1px, 1px, 1px);height: 1px;margin: -1px;overflow: hidden;padding: 0;position: absolute;width: 1px;}#sk-container-id-4 div.sk-estimator {font-family: monospace;background-color: #f0f8ff;border: 1px dotted black;border-radius: 0.25em;box-sizing: border-box;margin-bottom: 0.5em;}#sk-container-id-4 div.sk-estimator:hover {background-color: #d4ebff;}#sk-container-id-4 div.sk-parallel-item::after {content: \"\";width: 100%;border-bottom: 1px solid gray;flex-grow: 1;}#sk-container-id-4 div.sk-label:hover label.sk-toggleable__label {background-color: #d4ebff;}#sk-container-id-4 div.sk-serial::before {content: \"\";position: absolute;border-left: 1px solid gray;box-sizing: border-box;top: 0;bottom: 0;left: 50%;z-index: 0;}#sk-container-id-4 div.sk-serial {display: flex;flex-direction: column;align-items: center;background-color: white;padding-right: 0.2em;padding-left: 0.2em;position: relative;}#sk-container-id-4 div.sk-item {position: relative;z-index: 1;}#sk-container-id-4 div.sk-parallel {display: flex;align-items: stretch;justify-content: center;background-color: white;position: relative;}#sk-container-id-4 div.sk-item::before, #sk-container-id-4 div.sk-parallel-item::before {content: \"\";position: absolute;border-left: 1px solid gray;box-sizing: border-box;top: 0;bottom: 0;left: 50%;z-index: -1;}#sk-container-id-4 div.sk-parallel-item {display: flex;flex-direction: column;z-index: 1;position: relative;background-color: white;}#sk-container-id-4 div.sk-parallel-item:first-child::after {align-self: flex-end;width: 50%;}#sk-container-id-4 div.sk-parallel-item:last-child::after {align-self: flex-start;width: 50%;}#sk-container-id-4 div.sk-parallel-item:only-child::after {width: 0;}#sk-container-id-4 div.sk-dashed-wrapped {border: 1px dashed gray;margin: 0 0.4em 0.5em 0.4em;box-sizing: border-box;padding-bottom: 0.4em;background-color: white;}#sk-container-id-4 div.sk-label label {font-family: monospace;font-weight: bold;display: inline-block;line-height: 1.2em;}#sk-container-id-4 div.sk-label-container {text-align: center;}#sk-container-id-4 div.sk-container {/* jupyter's `normalize.less` sets `[hidden] { display: none; }` but bootstrap.min.css set `[hidden] { display: none !important; }` so we also need the `!important` here to be able to override the default hidden behavior on the sphinx rendered scikit-learn.org. See: https://github.com/scikit-learn/scikit-learn/issues/21755 */display: inline-block !important;position: relative;}#sk-container-id-4 div.sk-text-repr-fallback {display: none;}</style><div id=\"sk-container-id-4\" class=\"sk-top-container\"><div class=\"sk-text-repr-fallback\"><pre>KNeighborsClassifier(algorithm=&#x27;ball_tree&#x27;, leaf_size=6, metric=&#x27;manhattan&#x27;,\n",
       "                     n_neighbors=8, weights=&#x27;distance&#x27;)</pre><b>In a Jupyter environment, please rerun this cell to show the HTML representation or trust the notebook. <br />On GitHub, the HTML representation is unable to render, please try loading this page with nbviewer.org.</b></div><div class=\"sk-container\" hidden><div class=\"sk-item\"><div class=\"sk-estimator sk-toggleable\"><input class=\"sk-toggleable__control sk-hidden--visually\" id=\"sk-estimator-id-4\" type=\"checkbox\" checked><label for=\"sk-estimator-id-4\" class=\"sk-toggleable__label sk-toggleable__label-arrow\">KNeighborsClassifier</label><div class=\"sk-toggleable__content\"><pre>KNeighborsClassifier(algorithm=&#x27;ball_tree&#x27;, leaf_size=6, metric=&#x27;manhattan&#x27;,\n",
       "                     n_neighbors=8, weights=&#x27;distance&#x27;)</pre></div></div></div></div></div>"
      ],
      "text/plain": [
       "KNeighborsClassifier(algorithm='ball_tree', leaf_size=6, metric='manhattan',\n",
       "                     n_neighbors=8, weights='distance')"
      ]
     },
     "execution_count": 85,
     "metadata": {},
     "output_type": "execute_result"
    }
   ],
   "source": [
    "knn.fit(X_train,y_train)"
   ]
  },
  {
   "cell_type": "markdown",
   "id": "1d063722",
   "metadata": {},
   "source": [
    "#### Training Accuracy"
   ]
  },
  {
   "cell_type": "code",
   "execution_count": 86,
   "id": "1799cbb5",
   "metadata": {},
   "outputs": [],
   "source": [
    "pred = knn.predict(X_train)"
   ]
  },
  {
   "cell_type": "code",
   "execution_count": 87,
   "id": "48143974",
   "metadata": {},
   "outputs": [
    {
     "name": "stdout",
     "output_type": "stream",
     "text": [
      "0.9998845976304047\n"
     ]
    }
   ],
   "source": [
    "accuracy = accuracy_score(y_train,pred)\n",
    "print(accuracy)"
   ]
  },
  {
   "cell_type": "markdown",
   "id": "d2886155",
   "metadata": {},
   "source": [
    "#### Cross Validation"
   ]
  },
  {
   "cell_type": "code",
   "execution_count": 88,
   "id": "1540839e",
   "metadata": {},
   "outputs": [],
   "source": [
    "from sklearn.model_selection import cross_val_score,cross_val_predict\n",
    "knn_acc=cross_val_score(knn,X_train,y_train,cv=5,scoring='accuracy',n_jobs=-1)\n",
    "knn_proba=cross_val_predict(knn,X_train,y_train,cv=5,method='predict_proba')"
   ]
  },
  {
   "cell_type": "markdown",
   "id": "16af509d",
   "metadata": {},
   "source": [
    "#### Validation Accuracy"
   ]
  },
  {
   "cell_type": "code",
   "execution_count": 89,
   "id": "301eeca9",
   "metadata": {},
   "outputs": [
    {
     "data": {
      "text/plain": [
       "array([0.93326923, 0.92787074, 0.92556261, 0.93479515, 0.93729563])"
      ]
     },
     "execution_count": 89,
     "metadata": {},
     "output_type": "execute_result"
    }
   ],
   "source": [
    "knn_acc"
   ]
  },
  {
   "cell_type": "code",
   "execution_count": 90,
   "id": "d9f83ef4",
   "metadata": {},
   "outputs": [
    {
     "data": {
      "text/plain": [
       "0.9317586740053561"
      ]
     },
     "execution_count": 90,
     "metadata": {},
     "output_type": "execute_result"
    }
   ],
   "source": [
    "knn_acc.mean()"
   ]
  },
  {
   "cell_type": "code",
   "execution_count": 91,
   "id": "b137fc5f",
   "metadata": {
    "id": "b137fc5f"
   },
   "outputs": [],
   "source": [
    "from sklearn.metrics import classification_report, confusion_matrix"
   ]
  },
  {
   "cell_type": "markdown",
   "id": "702ca1af",
   "metadata": {},
   "source": [
    "#### Test Accuracy"
   ]
  },
  {
   "cell_type": "code",
   "execution_count": 92,
   "id": "41400cf3",
   "metadata": {},
   "outputs": [],
   "source": [
    "pred = knn.predict(X_test)"
   ]
  },
  {
   "cell_type": "code",
   "execution_count": 93,
   "id": "c32586b4",
   "metadata": {},
   "outputs": [
    {
     "name": "stdout",
     "output_type": "stream",
     "text": [
      "0.9336821049392214\n"
     ]
    }
   ],
   "source": [
    "accuracy = accuracy_score(y_test,pred)\n",
    "print(accuracy)"
   ]
  },
  {
   "cell_type": "markdown",
   "id": "1f20332f",
   "metadata": {
    "id": "1f20332f"
   },
   "source": [
    "#### Confusion Matrix"
   ]
  },
  {
   "cell_type": "code",
   "execution_count": 94,
   "id": "eca5bb37",
   "metadata": {
    "colab": {
     "base_uri": "https://localhost:8080/"
    },
    "id": "eca5bb37",
    "outputId": "968e90c8-74c9-4cf2-e35a-2a82e79b6bcb"
   },
   "outputs": [
    {
     "name": "stdout",
     "output_type": "stream",
     "text": [
      "confusion_matrix: \n",
      " [[2887  352]\n",
      " [  79 3181]]\n",
      "              precision    recall  f1-score   support\n",
      "\n",
      "           0       0.97      0.89      0.93      3239\n",
      "           1       0.90      0.98      0.94      3260\n",
      "\n",
      "    accuracy                           0.93      6499\n",
      "   macro avg       0.94      0.93      0.93      6499\n",
      "weighted avg       0.94      0.93      0.93      6499\n",
      "\n"
     ]
    }
   ],
   "source": [
    "confusion_matrix_ = confusion_matrix(y_test, pred)\n",
    "\n",
    "print('confusion_matrix: \\n', confusion_matrix_)\n",
    "print(classification_report(y_test, pred))\n"
   ]
  },
  {
   "cell_type": "code",
   "execution_count": 95,
   "id": "e5d25747",
   "metadata": {
    "colab": {
     "base_uri": "https://localhost:8080/"
    },
    "id": "e5d25747",
    "outputId": "9cc4f638-520a-4ee1-9109-05d3a22171dd"
   },
   "outputs": [
    {
     "name": "stdout",
     "output_type": "stream",
     "text": [
      "True Negatives =  2887\n",
      "False Negatives =  79\n",
      "False Positives =  352\n",
      "True Positives =  3181\n"
     ]
    }
   ],
   "source": [
    "TN = confusion_matrix_[0,0]\n",
    "print(\"True Negatives = \", TN)\n",
    "\n",
    "FN = confusion_matrix_[1,0]\n",
    "print(\"False Negatives = \", FN)\n",
    "\n",
    "FP = confusion_matrix_[0,1]\n",
    "print(\"False Positives = \", FP)\n",
    "\n",
    "TP = confusion_matrix_[1,1]\n",
    "print(\"True Positives = \", TP)\n"
   ]
  },
  {
   "cell_type": "markdown",
   "id": "38cdca08",
   "metadata": {},
   "source": [
    "#### True Positive Rate, Flase Positive Rate"
   ]
  },
  {
   "cell_type": "code",
   "execution_count": 96,
   "id": "af5eba07",
   "metadata": {},
   "outputs": [
    {
     "name": "stdout",
     "output_type": "stream",
     "text": [
      "True Positive Rate =  0.98\n",
      "False Positive Rate =  0.11\n"
     ]
    }
   ],
   "source": [
    "TPR = np.round(TP/(TP+FN), 2)\n",
    "FPR = np.round(FP/(FP+TN), 2)\n",
    "\n",
    "print(\"True Positive Rate = \", TPR)\n",
    "print(\"False Positive Rate = \", FPR)"
   ]
  },
  {
   "cell_type": "markdown",
   "id": "e98fa852",
   "metadata": {},
   "source": [
    "#### ROC: Receiver operating Characteristics and AUC: Area Under the Curve"
   ]
  },
  {
   "cell_type": "code",
   "execution_count": 97,
   "id": "3a805b1a",
   "metadata": {},
   "outputs": [
    {
     "data": {
      "image/png": "[encoded data removed]",
      "text/plain": [
       "<Figure size 1000x800 with 1 Axes>"
      ]
     },
     "metadata": {},
     "output_type": "display_data"
    }
   ],
   "source": [
    "fpr, tpr, thr = roc_curve(y_test, pred)\n",
    "auc = np.round(roc_auc_score(y_test, pred), 2)\n",
    "\n",
    "plt.figure(figsize=(10, 8))\n",
    "plt.plot(fpr, \n",
    "         tpr, \n",
    "         color='green', \n",
    "         lw=2, \n",
    "         label=\"Curve Area = \" +str(auc))\n",
    "\n",
    "plt.plot([0, 1], [0, 1], color='blue', lw=2, linestyle='--')\n",
    "plt.xlabel('False Positive Rate (FPR)')\n",
    "plt.ylabel('True Positive Rate (TPR)')\n",
    "plt.title('ROC curve')\n",
    "plt.legend(loc=\"lower right\")\n",
    "plt.show()"
   ]
  },
  {
   "cell_type": "code",
   "execution_count": 98,
   "id": "62e2d620",
   "metadata": {},
   "outputs": [
    {
     "name": "stdout",
     "output_type": "stream",
     "text": [
      ">1, train: 1.000, test: 0.935\n",
      ">2, train: 0.982, test: 0.927\n",
      ">3, train: 0.960, test: 0.928\n",
      ">4, train: 0.958, test: 0.929\n",
      ">5, train: 0.946, test: 0.927\n",
      ">6, train: 0.947, test: 0.929\n",
      ">7, train: 0.940, test: 0.924\n",
      ">8, train: 0.942, test: 0.928\n",
      ">9, train: 0.937, test: 0.925\n",
      ">10, train: 0.937, test: 0.924\n",
      ">11, train: 0.933, test: 0.922\n",
      ">12, train: 0.934, test: 0.923\n",
      ">13, train: 0.930, test: 0.922\n",
      ">14, train: 0.931, test: 0.923\n",
      ">15, train: 0.929, test: 0.920\n",
      ">16, train: 0.929, test: 0.921\n",
      ">17, train: 0.927, test: 0.920\n",
      ">18, train: 0.927, test: 0.920\n",
      ">19, train: 0.925, test: 0.919\n"
     ]
    },
    {
     "data": {
      "image/png": "[encoded data removed]",
      "text/plain": [
       "<Figure size 640x480 with 1 Axes>"
      ]
     },
     "metadata": {},
     "output_type": "display_data"
    }
   ],
   "source": [
    "from sklearn.datasets import make_classification\n",
    "from sklearn.model_selection import train_test_split\n",
    "from sklearn.metrics import accuracy_score\n",
    "from sklearn.neighbors import KNeighborsClassifier\n",
    "from matplotlib import pyplot\n",
    "\n",
    "train_scores, test_scores = list(), list()\n",
    "values = [i for i in range(1, 20)]\n",
    "for i in values:\n",
    "    model = KNeighborsClassifier(n_neighbors=i)\n",
    "    model.fit(X_train, y_train)\n",
    "    train_yhat = model.predict(X_train)\n",
    "    train_acc = accuracy_score(y_train, train_yhat)\n",
    "    train_scores.append(train_acc)\n",
    "    test_yhat = model.predict(X_test)\n",
    "    test_acc = accuracy_score(y_test, test_yhat)\n",
    "    test_scores.append(test_acc)\n",
    "    print('>%d, train: %.3f, test: %.3f' % (i, train_acc, test_acc))\n",
    "pyplot.plot(values, train_scores, '-o', label='Train')\n",
    "pyplot.plot(values, test_scores, '-o', label='Test')\n",
    "pyplot.legend()\n",
    "pyplot.show()"
   ]
  },
  {
   "cell_type": "code",
   "execution_count": 99,
   "id": "98238964",
   "metadata": {},
   "outputs": [],
   "source": [
    "error_rate = []\n",
    "\n",
    "for i in range(1,40):\n",
    "    \n",
    "    knn = KNeighborsClassifier(n_neighbors=i)\n",
    "    knn.fit(X_train,y_train)\n",
    "    pred_i = knn.predict(X_test)\n",
    "    error_rate.append(np.mean(pred_i != y_test))"
   ]
  },
  {
   "cell_type": "code",
   "execution_count": 100,
   "id": "79c1ce5f",
   "metadata": {},
   "outputs": [
    {
     "data": {
      "image/png": "[encoded data removed]",
      "text/plain": [
       "<Figure size 1000x600 with 1 Axes>"
      ]
     },
     "metadata": {},
     "output_type": "display_data"
    }
   ],
   "source": [
    "plt.figure(figsize=(10,6))\n",
    "plt.plot(range(1,40), error_rate, color='blue', linestyle='dashed', marker='o',\n",
    "        markerfacecolor='red', markersize=10)\n",
    "plt.title(\"Error Rate Vs K Value\")\n",
    "\n",
    "plt.xlabel('K')\n",
    "plt.xlabel('Error Rate')\n",
    "plt.show()"
   ]
  },
  {
   "cell_type": "markdown",
   "id": "5d956575",
   "metadata": {},
   "source": [
    "#### Determining the best value of K"
   ]
  },
  {
   "cell_type": "code",
   "execution_count": 101,
   "id": "f2db92e9",
   "metadata": {},
   "outputs": [
    {
     "name": "stdout",
     "output_type": "stream",
     "text": [
      "1\n",
      "Accuracy =  0.9347591937221111\n",
      "Precision =  0.91\n",
      "Recall =  0.96\n",
      "f1 score =  0.93\n",
      "\n",
      "2\n",
      "Accuracy =  0.9267579627635021\n",
      "Precision =  0.93\n",
      "Recall =  0.92\n",
      "f1 score =  0.92\n",
      "\n",
      "3\n",
      "Accuracy =  0.928142791198646\n",
      "Precision =  0.9\n",
      "Recall =  0.97\n",
      "f1 score =  0.93\n",
      "\n",
      "4\n",
      "Accuracy =  0.9293737498076627\n",
      "Precision =  0.91\n",
      "Recall =  0.95\n",
      "f1 score =  0.93\n",
      "\n",
      "5\n",
      "Accuracy =  0.9273734420680104\n",
      "Precision =  0.9\n",
      "Recall =  0.97\n",
      "f1 score =  0.93\n",
      "\n",
      "6\n",
      "Accuracy =  0.9293737498076627\n",
      "Precision =  0.91\n",
      "Recall =  0.96\n",
      "f1 score =  0.93\n",
      "\n",
      "7\n",
      "Accuracy =  0.9238344360670873\n",
      "Precision =  0.89\n",
      "Recall =  0.97\n",
      "f1 score =  0.93\n",
      "\n",
      "8\n",
      "Accuracy =  0.9275273118941375\n",
      "Precision =  0.9\n",
      "Recall =  0.96\n",
      "f1 score =  0.93\n",
      "\n",
      "9\n",
      "Accuracy =  0.924911524849977\n",
      "Precision =  0.89\n",
      "Recall =  0.97\n",
      "f1 score =  0.93\n",
      "\n",
      "10\n",
      "Accuracy =  0.9241421757193414\n",
      "Precision =  0.9\n",
      "Recall =  0.96\n",
      "f1 score =  0.93\n",
      "\n",
      "11\n",
      "Accuracy =  0.9224496076319434\n",
      "Precision =  0.89\n",
      "Recall =  0.97\n",
      "f1 score =  0.93\n",
      "\n",
      "12\n",
      "Accuracy =  0.9232189567625788\n",
      "Precision =  0.9\n",
      "Recall =  0.96\n",
      "f1 score =  0.93\n",
      "\n",
      "13\n",
      "Accuracy =  0.9218341283274349\n",
      "Precision =  0.89\n",
      "Recall =  0.96\n",
      "f1 score =  0.92\n",
      "\n",
      "14\n",
      "Accuracy =  0.9226034774580705\n",
      "Precision =  0.9\n",
      "Recall =  0.95\n",
      "f1 score =  0.92\n",
      "\n",
      "15\n",
      "Accuracy =  0.9198338205877827\n",
      "Precision =  0.89\n",
      "Recall =  0.96\n",
      "f1 score =  0.92\n",
      "\n",
      "16\n",
      "Accuracy =  0.9210647791967995\n",
      "Precision =  0.9\n",
      "Recall =  0.95\n",
      "f1 score =  0.92\n",
      "\n",
      "17\n",
      "Accuracy =  0.9198338205877827\n",
      "Precision =  0.89\n",
      "Recall =  0.96\n",
      "f1 score =  0.92\n",
      "\n",
      "18\n",
      "Accuracy =  0.9196799507616557\n",
      "Precision =  0.89\n",
      "Recall =  0.95\n",
      "f1 score =  0.92\n",
      "\n",
      "19\n",
      "Accuracy =  0.9192183412832744\n",
      "Precision =  0.89\n",
      "Recall =  0.96\n",
      "f1 score =  0.92\n",
      "\n"
     ]
    }
   ],
   "source": [
    "for i in range(1,20):\n",
    "    \n",
    "    knn = KNeighborsClassifier(n_neighbors=i)\n",
    "    knn.fit(X_train,y_train)\n",
    "    pred = knn.predict(X_test)\n",
    "    \n",
    "    confusion_matrix_ = confusion_matrix(y_test, pred)\n",
    "\n",
    "    TN = confusion_matrix_[0,0]\n",
    "   \n",
    "    FN = confusion_matrix_[1,0]\n",
    "\n",
    "    FP = confusion_matrix_[0,1]\n",
    "\n",
    "    TP = confusion_matrix_[1,1]\n",
    "\n",
    "    accuracy = accuracy_score(y_test,pred)\n",
    "    \n",
    "    precision = np.round(TP/(TP+FP), 2)\n",
    "    recall = np.round(TP/(TP+FN), 2)\n",
    "    f1_score_ = np.round((2*precision*recall)/(precision+recall), 2)\n",
    "    \n",
    "    print(i)\n",
    "    print(\"Accuracy = \",accuracy)\n",
    "    print(\"Precision = \", precision)\n",
    "    print(\"Recall = \", recall)\n",
    "    print(\"f1 score = \", f1_score_)\n",
    "    print()"
   ]
  },
  {
   "cell_type": "markdown",
   "id": "43f348fa",
   "metadata": {},
   "source": [
    "#### Hyperparameter Tuning"
   ]
  },
  {
   "cell_type": "code",
   "execution_count": 102,
   "id": "76532d97",
   "metadata": {},
   "outputs": [
    {
     "name": "stdout",
     "output_type": "stream",
     "text": [
      "              precision    recall  f1-score   support\n",
      "\n",
      "           0       0.96      0.91      0.93      3239\n",
      "           1       0.91      0.96      0.94      3260\n",
      "\n",
      "    accuracy                           0.94      6499\n",
      "   macro avg       0.94      0.94      0.94      6499\n",
      "weighted avg       0.94      0.94      0.94      6499\n",
      "\n",
      "[[2948  291]\n",
      " [ 128 3132]]\n",
      "{'leaf_size': 1, 'metric': 'manhattan', 'n_neighbors': 1, 'weights': 'uniform'}\n"
     ]
    }
   ],
   "source": [
    "from sklearn.model_selection import GridSearchCV\n",
    "from sklearn.model_selection import RepeatedStratifiedKFold\n",
    "seed=50\n",
    "knn_params = {   \n",
    "    \"n_neighbors\": range(1, 20, 2),\n",
    "    \"weights\": [\"uniform\", \"distance\"],\n",
    "    \"metric\": [\"euclidean\", \"manhattan\", \"minkowski\"],\n",
    "    \"leaf_size\": range(1, 35, 5)\n",
    "   \n",
    "}\n",
    "\n",
    "knn = KNeighborsClassifier()\n",
    "\n",
    "cv = RepeatedStratifiedKFold(n_splits=10, n_repeats=3, random_state=seed)\n",
    "grid_search = GridSearchCV(estimator=knn, param_grid=knn_params, n_jobs=1, cv=cv, scoring=\"accuracy\", error_score=0)\n",
    "grid_result = grid_search.fit(X_train,y_train)\n",
    "\n",
    "kfinal_model = knn.set_params(**grid_result.best_params_)\n",
    "kfinal_model.fit(X_train,y_train)\n",
    "kpred = kfinal_model.predict(X_test)\n",
    "\n",
    "print(classification_report(y_test, kpred))\n",
    "print(confusion_matrix(y_test, kpred))\n",
    "\n",
    "print(grid_result.best_params_)"
   ]
  },
  {
   "cell_type": "markdown",
   "id": "62d57264",
   "metadata": {},
   "source": [
    "#### 'leaf_size': 6, 'metric': 'manhattan', 'n_neighbors': 7, 'weights': 'distance'"
   ]
  },
  {
   "cell_type": "markdown",
   "id": "6255db26",
   "metadata": {},
   "source": [
    "#### ROC: Receiver operating Characteristics and AUC: Area Under the Curve"
   ]
  },
  {
   "cell_type": "code",
   "execution_count": 103,
   "id": "7f0f2607-27ae-461a-9a4a-7c2c7ed03c28",
   "metadata": {},
   "outputs": [
    {
     "data": {
      "image/png": "[encoded data removed]",
      "text/plain": [
       "<Figure size 1000x800 with 1 Axes>"
      ]
     },
     "metadata": {},
     "output_type": "display_data"
    }
   ],
   "source": [
    "fpr, tpr, thr = roc_curve(y_test, grid_result.predict_proba(X_test)[:,1])\n",
    "auc = np.round(roc_auc_score(y_test, kpred), 2)\n",
    "\n",
    "plt.figure(figsize=(10, 8))\n",
    "plt.plot(fpr, \n",
    "         tpr, \n",
    "         color='green', \n",
    "         lw=2, \n",
    "         label=\"Curve Area = \" +str(auc))\n",
    "\n",
    "plt.plot([0, 1], [0, 1], color='blue', lw=2, linestyle='--')\n",
    "plt.xlabel('False Positive Rate (FPR)')\n",
    "plt.ylabel('True Positive Rate (TPR)')\n",
    "plt.title('ROC curve of KNN')\n",
    "plt.legend(loc=\"lower right\")\n",
    "plt.show()"
   ]
  },
  {
   "cell_type": "markdown",
   "id": "d0009a7c",
   "metadata": {},
   "source": [
    "#### Training Accuracy"
   ]
  },
  {
   "cell_type": "code",
   "execution_count": 104,
   "id": "b5ad0f5d",
   "metadata": {},
   "outputs": [],
   "source": [
    "predh = kfinal_model.predict(X_train)"
   ]
  },
  {
   "cell_type": "code",
   "execution_count": 105,
   "id": "b2ac1504",
   "metadata": {},
   "outputs": [
    {
     "name": "stdout",
     "output_type": "stream",
     "text": [
      "0.9998845976304047\n"
     ]
    }
   ],
   "source": [
    "accuracy = accuracy_score(y_train,predh)\n",
    "print(accuracy)"
   ]
  },
  {
   "cell_type": "markdown",
   "id": "3063f219",
   "metadata": {},
   "source": [
    "#### Cross Validation"
   ]
  },
  {
   "cell_type": "code",
   "execution_count": 106,
   "id": "e2a33a61",
   "metadata": {},
   "outputs": [],
   "source": [
    "from sklearn.model_selection import cross_val_score,cross_val_predict\n",
    "knnh_acc=cross_val_score(kfinal_model,X_train,y_train,cv=5,scoring='accuracy',n_jobs=-1)\n",
    "knnh_proba=cross_val_predict(kfinal_model,X_train,y_train,cv=5,method='predict_proba')"
   ]
  },
  {
   "cell_type": "markdown",
   "id": "261285a6",
   "metadata": {},
   "source": [
    "#### Validation Accuracy"
   ]
  },
  {
   "cell_type": "code",
   "execution_count": 107,
   "id": "ea351fc8",
   "metadata": {},
   "outputs": [
    {
     "data": {
      "text/plain": [
       "array([0.93538462, 0.93056357, 0.92671668, 0.93710329, 0.93575688])"
      ]
     },
     "execution_count": 107,
     "metadata": {},
     "output_type": "execute_result"
    }
   ],
   "source": [
    "knnh_acc"
   ]
  },
  {
   "cell_type": "code",
   "execution_count": 108,
   "id": "95c7000e",
   "metadata": {},
   "outputs": [
    {
     "data": {
      "text/plain": [
       "0.9331050054004468"
      ]
     },
     "execution_count": 108,
     "metadata": {},
     "output_type": "execute_result"
    }
   ],
   "source": [
    "knnh_acc.mean()"
   ]
  },
  {
   "cell_type": "markdown",
   "id": "f4290167",
   "metadata": {
    "id": "f4290167"
   },
   "source": [
    "#### Test Accuracy"
   ]
  },
  {
   "cell_type": "code",
   "execution_count": 109,
   "id": "0563ca6c",
   "metadata": {},
   "outputs": [],
   "source": [
    "pred = kfinal_model.predict(X_test) "
   ]
  },
  {
   "cell_type": "code",
   "execution_count": 110,
   "id": "659da2a3",
   "metadata": {
    "colab": {
     "base_uri": "https://localhost:8080/"
    },
    "id": "659da2a3",
    "outputId": "725ad09f-7225-43a7-c3f1-254231f10889"
   },
   "outputs": [
    {
     "name": "stdout",
     "output_type": "stream",
     "text": [
      "0.9355285428527466\n"
     ]
    }
   ],
   "source": [
    "accuracy = accuracy_score(y_test,pred)\n",
    "print(accuracy)"
   ]
  },
  {
   "cell_type": "markdown",
   "id": "c197ae60",
   "metadata": {},
   "source": [
    "#### Confusion Matrix"
   ]
  },
  {
   "cell_type": "code",
   "execution_count": 111,
   "id": "63d06ac6",
   "metadata": {},
   "outputs": [
    {
     "name": "stdout",
     "output_type": "stream",
     "text": [
      "confusion_matrix: \n",
      " [[2948  291]\n",
      " [ 128 3132]]\n",
      "              precision    recall  f1-score   support\n",
      "\n",
      "           0       0.96      0.91      0.93      3239\n",
      "           1       0.91      0.96      0.94      3260\n",
      "\n",
      "    accuracy                           0.94      6499\n",
      "   macro avg       0.94      0.94      0.94      6499\n",
      "weighted avg       0.94      0.94      0.94      6499\n",
      "\n"
     ]
    }
   ],
   "source": [
    "confusion_matrix_ = confusion_matrix(y_test,pred)\n",
    "print('confusion_matrix: \\n', confusion_matrix_)\n",
    "print(classification_report(y_test,pred))"
   ]
  },
  {
   "cell_type": "code",
   "execution_count": 112,
   "id": "b4b6c9a7",
   "metadata": {},
   "outputs": [
    {
     "name": "stdout",
     "output_type": "stream",
     "text": [
      "True Negatives =  2948\n",
      "False Negatives =  128\n",
      "False Positives =  291\n",
      "True Positives =  3132\n"
     ]
    }
   ],
   "source": [
    "TN = confusion_matrix_[0,0]\n",
    "print(\"True Negatives = \", TN)\n",
    "\n",
    "FN = confusion_matrix_[1,0]\n",
    "print(\"False Negatives = \", FN)\n",
    "\n",
    "FP = confusion_matrix_[0,1]\n",
    "print(\"False Positives = \", FP)\n",
    "\n",
    "TP = confusion_matrix_[1,1]\n",
    "print(\"True Positives = \", TP)"
   ]
  },
  {
   "cell_type": "markdown",
   "id": "a6004a97",
   "metadata": {
    "id": "a6004a97"
   },
   "source": [
    "#### True Positive Rate, False Positive Rate"
   ]
  },
  {
   "cell_type": "code",
   "execution_count": 113,
   "id": "f5435353",
   "metadata": {
    "colab": {
     "base_uri": "https://localhost:8080/"
    },
    "id": "f5435353",
    "outputId": "b557a637-256a-42ed-dbbf-22bb1d483f63"
   },
   "outputs": [
    {
     "name": "stdout",
     "output_type": "stream",
     "text": [
      "True Positive Rate =  0.96\n",
      "False Positive Rate =  0.09\n"
     ]
    }
   ],
   "source": [
    "TPR = np.round(TP/(TP+FN), 2)\n",
    "FPR = np.round(FP/(FP+TN), 2)\n",
    "\n",
    "print(\"True Positive Rate = \", TPR)\n",
    "print(\"False Positive Rate = \", FPR)"
   ]
  },
  {
   "cell_type": "code",
   "execution_count": 114,
   "id": "d9641fbf",
   "metadata": {},
   "outputs": [],
   "source": [
    "# plot_confusion_matrix(grid_result, \n",
    "#                       X_test, \n",
    "#                       y_test, \n",
    "#                       display_labels=[\"No Flood\", \"Flood\"],\n",
    "#                       cmap='Blues')\n",
    "# plt.show()"
   ]
  },
  {
   "cell_type": "markdown",
   "id": "499cdea8",
   "metadata": {
    "id": "499cdea8"
   },
   "source": [
    "#### Decision Tree"
   ]
  },
  {
   "cell_type": "code",
   "execution_count": 115,
   "id": "4dc0ebe3",
   "metadata": {
    "id": "4dc0ebe3"
   },
   "outputs": [],
   "source": [
    "X = df_feat.drop(['Station_Names','Year', 'Month', 'Max_Temp', 'Wind_Speed','Station_Number','X_COR','Y_COR','LATITUDE','LONGITUDE','ALT','Period','Flood'],axis=1)\n",
    "y = df_feat['Flood']\n",
    "\n",
    "X_train, X_test, y_train, y_test = train_test_split(X, y, test_size=0.2, random_state=50)"
   ]
  },
  {
   "cell_type": "code",
   "execution_count": 116,
   "id": "c48e831f",
   "metadata": {
    "id": "c48e831f",
    "outputId": "88df8bf7-7d96-4445-f779-adc125e233f8"
   },
   "outputs": [
    {
     "data": {
      "text/html": [
       "<style>#sk-container-id-5 {color: black;background-color: white;}#sk-container-id-5 pre{padding: 0;}#sk-container-id-5 div.sk-toggleable {background-color: white;}#sk-container-id-5 label.sk-toggleable__label {cursor: pointer;display: block;width: 100%;margin-bottom: 0;padding: 0.3em;box-sizing: border-box;text-align: center;}#sk-container-id-5 label.sk-toggleable__label-arrow:before {content: \"▸\";float: left;margin-right: 0.25em;color: #696969;}#sk-container-id-5 label.sk-toggleable__label-arrow:hover:before {color: black;}#sk-container-id-5 div.sk-estimator:hover label.sk-toggleable__label-arrow:before {color: black;}#sk-container-id-5 div.sk-toggleable__content {max-height: 0;max-width: 0;overflow: hidden;text-align: left;background-color: #f0f8ff;}#sk-container-id-5 div.sk-toggleable__content pre {margin: 0.2em;color: black;border-radius: 0.25em;background-color: #f0f8ff;}#sk-container-id-5 input.sk-toggleable__control:checked~div.sk-toggleable__content {max-height: 200px;max-width: 100%;overflow: auto;}#sk-container-id-5 input.sk-toggleable__control:checked~label.sk-toggleable__label-arrow:before {content: \"▾\";}#sk-container-id-5 div.sk-estimator input.sk-toggleable__control:checked~label.sk-toggleable__label {background-color: #d4ebff;}#sk-container-id-5 div.sk-label input.sk-toggleable__control:checked~label.sk-toggleable__label {background-color: #d4ebff;}#sk-container-id-5 input.sk-hidden--visually {border: 0;clip: rect(1px 1px 1px 1px);clip: rect(1px, 1px, 1px, 1px);height: 1px;margin: -1px;overflow: hidden;padding: 0;position: absolute;width: 1px;}#sk-container-id-5 div.sk-estimator {font-family: monospace;background-color: #f0f8ff;border: 1px dotted black;border-radius: 0.25em;box-sizing: border-box;margin-bottom: 0.5em;}#sk-container-id-5 div.sk-estimator:hover {background-color: #d4ebff;}#sk-container-id-5 div.sk-parallel-item::after {content: \"\";width: 100%;border-bottom: 1px solid gray;flex-grow: 1;}#sk-container-id-5 div.sk-label:hover label.sk-toggleable__label {background-color: #d4ebff;}#sk-container-id-5 div.sk-serial::before {content: \"\";position: absolute;border-left: 1px solid gray;box-sizing: border-box;top: 0;bottom: 0;left: 50%;z-index: 0;}#sk-container-id-5 div.sk-serial {display: flex;flex-direction: column;align-items: center;background-color: white;padding-right: 0.2em;padding-left: 0.2em;position: relative;}#sk-container-id-5 div.sk-item {position: relative;z-index: 1;}#sk-container-id-5 div.sk-parallel {display: flex;align-items: stretch;justify-content: center;background-color: white;position: relative;}#sk-container-id-5 div.sk-item::before, #sk-container-id-5 div.sk-parallel-item::before {content: \"\";position: absolute;border-left: 1px solid gray;box-sizing: border-box;top: 0;bottom: 0;left: 50%;z-index: -1;}#sk-container-id-5 div.sk-parallel-item {display: flex;flex-direction: column;z-index: 1;position: relative;background-color: white;}#sk-container-id-5 div.sk-parallel-item:first-child::after {align-self: flex-end;width: 50%;}#sk-container-id-5 div.sk-parallel-item:last-child::after {align-self: flex-start;width: 50%;}#sk-container-id-5 div.sk-parallel-item:only-child::after {width: 0;}#sk-container-id-5 div.sk-dashed-wrapped {border: 1px dashed gray;margin: 0 0.4em 0.5em 0.4em;box-sizing: border-box;padding-bottom: 0.4em;background-color: white;}#sk-container-id-5 div.sk-label label {font-family: monospace;font-weight: bold;display: inline-block;line-height: 1.2em;}#sk-container-id-5 div.sk-label-container {text-align: center;}#sk-container-id-5 div.sk-container {/* jupyter's `normalize.less` sets `[hidden] { display: none; }` but bootstrap.min.css set `[hidden] { display: none !important; }` so we also need the `!important` here to be able to override the default hidden behavior on the sphinx rendered scikit-learn.org. See: https://github.com/scikit-learn/scikit-learn/issues/21755 */display: inline-block !important;position: relative;}#sk-container-id-5 div.sk-text-repr-fallback {display: none;}</style><div id=\"sk-container-id-5\" class=\"sk-top-container\"><div class=\"sk-text-repr-fallback\"><pre>DecisionTreeClassifier(random_state=50)</pre><b>In a Jupyter environment, please rerun this cell to show the HTML representation or trust the notebook. <br />On GitHub, the HTML representation is unable to render, please try loading this page with nbviewer.org.</b></div><div class=\"sk-container\" hidden><div class=\"sk-item\"><div class=\"sk-estimator sk-toggleable\"><input class=\"sk-toggleable__control sk-hidden--visually\" id=\"sk-estimator-id-5\" type=\"checkbox\" checked><label for=\"sk-estimator-id-5\" class=\"sk-toggleable__label sk-toggleable__label-arrow\">DecisionTreeClassifier</label><div class=\"sk-toggleable__content\"><pre>DecisionTreeClassifier(random_state=50)</pre></div></div></div></div></div>"
      ],
      "text/plain": [
       "DecisionTreeClassifier(random_state=50)"
      ]
     },
     "execution_count": 116,
     "metadata": {},
     "output_type": "execute_result"
    }
   ],
   "source": [
    "from sklearn.tree import DecisionTreeClassifier\n",
    "dtree = DecisionTreeClassifier(random_state=50)\n",
    "dtree.fit(X_train,y_train)"
   ]
  },
  {
   "cell_type": "code",
   "execution_count": 117,
   "id": "a049e798",
   "metadata": {
    "id": "a049e798",
    "outputId": "3dfec343-e771-40d3-ca53-d6918686c744"
   },
   "outputs": [
    {
     "data": {
      "image/png": "[encoded data removed]",
      "text/plain": [
       "<Figure size 1500x1500 with 1 Axes>"
      ]
     },
     "metadata": {},
     "output_type": "display_data"
    }
   ],
   "source": [
    "from sklearn.tree import plot_tree\n",
    "plt.figure(figsize=(15, 15))\n",
    "plot_tree(dtree, filled=True, rounded=True, class_names = [\"No Flood\", 'Flood'],\n",
    "         feature_names = X.columns, max_depth=2, fontsize=12)\n",
    "\n",
    "plt.show()"
   ]
  },
  {
   "cell_type": "code",
   "execution_count": 118,
   "id": "2b733b5c",
   "metadata": {
    "id": "2b733b5c"
   },
   "outputs": [],
   "source": [
    "dpred = dtree.predict(X_test)"
   ]
  },
  {
   "cell_type": "markdown",
   "id": "240c95da",
   "metadata": {
    "id": "240c95da"
   },
   "source": [
    "#### Confusion Matrix"
   ]
  },
  {
   "cell_type": "code",
   "execution_count": 119,
   "id": "8d3cb3ae",
   "metadata": {
    "id": "8d3cb3ae",
    "outputId": "aa4d2f57-6f79-463f-963b-bf72a81c4e78"
   },
   "outputs": [
    {
     "name": "stdout",
     "output_type": "stream",
     "text": [
      "confusion_matrix: \n",
      " [[2981  258]\n",
      " [ 275 2985]]\n",
      "              precision    recall  f1-score   support\n",
      "\n",
      "           0       0.92      0.92      0.92      3239\n",
      "           1       0.92      0.92      0.92      3260\n",
      "\n",
      "    accuracy                           0.92      6499\n",
      "   macro avg       0.92      0.92      0.92      6499\n",
      "weighted avg       0.92      0.92      0.92      6499\n",
      "\n"
     ]
    }
   ],
   "source": [
    "confusion_matrix_ = confusion_matrix(y_test, dpred)\n",
    "print('confusion_matrix: \\n', confusion_matrix_)\n",
    "print(classification_report(y_test, dpred))"
   ]
  },
  {
   "cell_type": "code",
   "execution_count": 120,
   "id": "756bbfaf",
   "metadata": {
    "id": "756bbfaf",
    "outputId": "2da6c99d-6981-4e39-b705-c869379cd6e0"
   },
   "outputs": [
    {
     "name": "stdout",
     "output_type": "stream",
     "text": [
      "True Negatives =  2981\n",
      "False Negatives =  275\n",
      "False Positives =  258\n",
      "True Positives =  2985\n"
     ]
    }
   ],
   "source": [
    "DTN = confusion_matrix_[0,0]\n",
    "print(\"True Negatives = \", DTN)\n",
    "\n",
    "DFN = confusion_matrix_[1,0]\n",
    "print(\"False Negatives = \", DFN)\n",
    "\n",
    "DFP = confusion_matrix_[0,1]\n",
    "print(\"False Positives = \", DFP)\n",
    "\n",
    "DTP = confusion_matrix_[1,1]\n",
    "print(\"True Positives = \", DTP)"
   ]
  },
  {
   "cell_type": "markdown",
   "id": "ce1deb3a",
   "metadata": {
    "id": "ce1deb3a"
   },
   "source": [
    "#### Test Accuracy"
   ]
  },
  {
   "cell_type": "code",
   "execution_count": 121,
   "id": "35503c93",
   "metadata": {
    "id": "35503c93",
    "outputId": "d3a914c1-5a95-46b4-d3d5-228b02326fac"
   },
   "outputs": [
    {
     "name": "stdout",
     "output_type": "stream",
     "text": [
      "0.9179873826742576\n"
     ]
    }
   ],
   "source": [
    "accuracy = accuracy_score(y_test,dpred)\n",
    "print(accuracy)"
   ]
  },
  {
   "cell_type": "markdown",
   "id": "cff5cf5b",
   "metadata": {
    "id": "cff5cf5b"
   },
   "source": [
    "#### True Positive Rate, False Positive Rate"
   ]
  },
  {
   "cell_type": "code",
   "execution_count": 122,
   "id": "9812926f",
   "metadata": {
    "id": "9812926f",
    "outputId": "1179a5d7-6dcc-421f-e556-4a16dfae0c80"
   },
   "outputs": [
    {
     "name": "stdout",
     "output_type": "stream",
     "text": [
      "True Positive Rate =  0.92\n",
      "False Positive Rate =  0.08\n"
     ]
    }
   ],
   "source": [
    "DTPR = np.round(DTP/(DTP+DFN), 2)\n",
    "DFPR = np.round(DFP/(DFP+DTN), 2)\n",
    "\n",
    "print(\"True Positive Rate = \", DTPR)\n",
    "print(\"False Positive Rate = \", DFPR)"
   ]
  },
  {
   "cell_type": "markdown",
   "id": "23b76a20",
   "metadata": {
    "id": "23b76a20"
   },
   "source": [
    "#### ROC: Receiver operating Characteristics and AUC: Area Under the Curve"
   ]
  },
  {
   "cell_type": "code",
   "execution_count": 123,
   "id": "26437637",
   "metadata": {
    "id": "26437637",
    "outputId": "96ffa98a-abfb-46d2-ae0a-e8e567d91809"
   },
   "outputs": [
    {
     "data": {
      "image/png": "[encoded data removed]",
      "text/plain": [
       "<Figure size 1000x800 with 1 Axes>"
      ]
     },
     "metadata": {},
     "output_type": "display_data"
    }
   ],
   "source": [
    "fpr, tpr, thr = roc_curve(y_test, dpred)\n",
    "auc = np.round(roc_auc_score(y_test, dpred), 2)\n",
    "\n",
    "plt.figure(figsize=(10, 8))\n",
    "plt.plot(fpr, \n",
    "         tpr, \n",
    "         color='green', \n",
    "         lw=2, \n",
    "         label=\"Curve Area = \" +str(auc))\n",
    "\n",
    "plt.plot([0, 1], [0, 1], color='blue', lw=2, linestyle='--')\n",
    "plt.xlabel('False Positive Rate (FPR)')\n",
    "plt.ylabel('True Positive Rate (TPR)')\n",
    "plt.title('ROC curve')\n",
    "plt.legend(loc=\"lower right\")\n",
    "plt.show()"
   ]
  },
  {
   "cell_type": "markdown",
   "id": "7c528fbe",
   "metadata": {
    "id": "7c528fbe"
   },
   "source": [
    "#### Hyperparameter Tuning"
   ]
  },
  {
   "cell_type": "code",
   "execution_count": 124,
   "id": "f730d896",
   "metadata": {
    "scrolled": true
   },
   "outputs": [
    {
     "name": "stdout",
     "output_type": "stream",
     "text": [
      "              precision    recall  f1-score   support\n",
      "\n",
      "           0       0.92      0.91      0.92      3239\n",
      "           1       0.91      0.92      0.92      3260\n",
      "\n",
      "    accuracy                           0.92      6499\n",
      "   macro avg       0.92      0.92      0.92      6499\n",
      "weighted avg       0.92      0.92      0.92      6499\n",
      "\n",
      "[[2952  287]\n",
      " [ 251 3009]]\n",
      "{'criterion': 'gini', 'max_depth': 16, 'max_features': 'auto'}\n"
     ]
    }
   ],
   "source": [
    "from sklearn.model_selection import GridSearchCV\n",
    "from sklearn.model_selection import RepeatedStratifiedKFold\n",
    "seed=50\n",
    "dtree_params = {   \n",
    "    \"max_depth\": range(1, 20, 2),\n",
    "    \"criterion\": ['gini','entropy'],\n",
    "    \"max_features\": ['auto'],\n",
    "    \"max_depth\": range(3,20 , 1),\n",
    "   \n",
    "}\n",
    "\n",
    "dtree = DecisionTreeClassifier()\n",
    "\n",
    "cv = RepeatedStratifiedKFold(n_splits=10, n_repeats=3, random_state=seed)\n",
    "grid_search = GridSearchCV(estimator=dtree, param_grid=dtree_params, n_jobs=1, cv=cv, scoring=\"accuracy\", error_score=0)\n",
    "grid_result = grid_search.fit(X_train,y_train)\n",
    "\n",
    "dfinal_model = dtree.set_params(**grid_result.best_params_)\n",
    "dfinal_model.fit(X_train,y_train)\n",
    "dpredh = dfinal_model.predict(X_test)\n",
    "\n",
    "print(classification_report(y_test, dpredh))\n",
    "print(confusion_matrix(y_test, dpredh))\n",
    "\n",
    "print(grid_result.best_params_)"
   ]
  },
  {
   "cell_type": "code",
   "execution_count": 125,
   "id": "13a11478",
   "metadata": {},
   "outputs": [],
   "source": [
    "#X = df_feat.drop(['Sl','Station_Names','Year', 'Month', 'Max_Temp', 'Wind_Speed', 'Bright_Sunshine','Station_Number','X_COR','Y_COR','LATITUDE','LONGITUDE','ALT','Period' ],axis=1)\n",
    "X = df_feat.drop(['Station_Names','Year', 'Month', 'Max_Temp', 'Wind_Speed','Station_Number','X_COR','Y_COR','LATITUDE','LONGITUDE','ALT','Period','Flood'],axis=1)\n",
    "y = df_feat['Flood']\n",
    "\n",
    "\n",
    "X_train, X_test, y_train, y_test = train_test_split(X, y, test_size=0.2, random_state=50)"
   ]
  },
  {
   "cell_type": "code",
   "execution_count": 126,
   "id": "618ff17c",
   "metadata": {},
   "outputs": [],
   "source": [
    "# dtreeh = DecisionTreeClassifier(criterion = 'gini', max_depth = 19, max_features = 'auto')\n",
    "# dtreeh.fit(X_train,y_train)"
   ]
  },
  {
   "cell_type": "markdown",
   "id": "96b3b33f",
   "metadata": {},
   "source": [
    "#### Training Accuracy"
   ]
  },
  {
   "cell_type": "code",
   "execution_count": 127,
   "id": "498c4c37",
   "metadata": {},
   "outputs": [],
   "source": [
    "dpredh = dfinal_model.predict(X_train)"
   ]
  },
  {
   "cell_type": "code",
   "execution_count": 128,
   "id": "e5af7d1f",
   "metadata": {},
   "outputs": [
    {
     "name": "stdout",
     "output_type": "stream",
     "text": [
      "0.9663409755346977\n"
     ]
    }
   ],
   "source": [
    "accuracy = accuracy_score(y_train,dpredh)\n",
    "print(accuracy)"
   ]
  },
  {
   "cell_type": "markdown",
   "id": "a6bee157",
   "metadata": {},
   "source": [
    "#### Cross Validation"
   ]
  },
  {
   "cell_type": "code",
   "execution_count": 129,
   "id": "4d4a8e01",
   "metadata": {},
   "outputs": [],
   "source": [
    "from sklearn.model_selection import cross_val_score,cross_val_predict\n",
    "dtc_acc=cross_val_score(dfinal_model,X_train,y_train,cv=5,scoring='accuracy',n_jobs=-1)\n",
    "dtc_proba=cross_val_predict(dfinal_model,X_train,y_train,cv=5,method='predict_proba')"
   ]
  },
  {
   "cell_type": "markdown",
   "id": "4cc935f1",
   "metadata": {},
   "source": [
    "#### Validation Accuracy"
   ]
  },
  {
   "cell_type": "code",
   "execution_count": 130,
   "id": "6c12ce95",
   "metadata": {},
   "outputs": [
    {
     "data": {
      "text/plain": [
       "array([0.91230769, 0.91556068, 0.91017503, 0.91729179, 0.91536834])"
      ]
     },
     "execution_count": 130,
     "metadata": {},
     "output_type": "execute_result"
    }
   ],
   "source": [
    "dtc_acc"
   ]
  },
  {
   "cell_type": "code",
   "execution_count": 131,
   "id": "dc46e4c3",
   "metadata": {},
   "outputs": [
    {
     "data": {
      "text/plain": [
       "0.9141407075325135"
      ]
     },
     "execution_count": 131,
     "metadata": {},
     "output_type": "execute_result"
    }
   ],
   "source": [
    "dtc_acc.mean()"
   ]
  },
  {
   "cell_type": "markdown",
   "id": "53a2dc5c",
   "metadata": {},
   "source": [
    "#### Test Accuracy"
   ]
  },
  {
   "cell_type": "code",
   "execution_count": 132,
   "id": "97d29571",
   "metadata": {},
   "outputs": [],
   "source": [
    "dpredht = dfinal_model.predict(X_test)"
   ]
  },
  {
   "cell_type": "code",
   "execution_count": 133,
   "id": "9c80fa05",
   "metadata": {
    "id": "9c80fa05",
    "outputId": "768df9ae-b968-46e5-d038-2fb88c3bfd19"
   },
   "outputs": [
    {
     "name": "stdout",
     "output_type": "stream",
     "text": [
      "0.9172180335436221\n"
     ]
    }
   ],
   "source": [
    "accuracy = accuracy_score(y_test,dpredht)\n",
    "print(accuracy)"
   ]
  },
  {
   "cell_type": "code",
   "execution_count": 134,
   "id": "ff92fe4f",
   "metadata": {},
   "outputs": [
    {
     "name": "stdout",
     "output_type": "stream",
     "text": [
      "confusion_matrix: \n",
      " [[2952  287]\n",
      " [ 251 3009]]\n",
      "              precision    recall  f1-score   support\n",
      "\n",
      "           0       0.92      0.91      0.92      3239\n",
      "           1       0.91      0.92      0.92      3260\n",
      "\n",
      "    accuracy                           0.92      6499\n",
      "   macro avg       0.92      0.92      0.92      6499\n",
      "weighted avg       0.92      0.92      0.92      6499\n",
      "\n"
     ]
    }
   ],
   "source": [
    "confusion_matrix_ = confusion_matrix(y_test, dpredht)\n",
    "print('confusion_matrix: \\n', confusion_matrix_)\n",
    "print(classification_report(y_test, dpredht))"
   ]
  },
  {
   "cell_type": "code",
   "execution_count": 135,
   "id": "53683edb",
   "metadata": {},
   "outputs": [],
   "source": [
    "# plot_confusion_matrix(dtreeh, \n",
    "#                       X_test, \n",
    "#                       y_test, \n",
    "#                       display_labels=[\"No Flood\", \"Flood\"],\n",
    "#                       cmap='Blues')\n",
    "# plt.show()"
   ]
  },
  {
   "cell_type": "code",
   "execution_count": 136,
   "id": "b7454bfa",
   "metadata": {
    "id": "b7454bfa",
    "outputId": "3d235b04-92f6-4081-d753-da281f010e47"
   },
   "outputs": [
    {
     "data": {
      "image/png": "[encoded data removed]",
      "text/plain": [
       "<Figure size 1000x800 with 1 Axes>"
      ]
     },
     "metadata": {},
     "output_type": "display_data"
    }
   ],
   "source": [
    "fpr, tpr, thr = roc_curve(y_test, grid_result.predict_proba(X_test)[:,1])\n",
    "auc = np.round(roc_auc_score(y_test, dpredht), 2)\n",
    "\n",
    "plt.figure(figsize=(10, 8))\n",
    "plt.plot(fpr, \n",
    "         tpr, \n",
    "         color='green', \n",
    "         lw=2, \n",
    "         label=\"Curve Area = \" +str(auc))\n",
    "\n",
    "plt.plot([0, 1], [0, 1], color='blue', lw=2, linestyle='--')\n",
    "plt.xlabel('False Positive Rate (FPR)')\n",
    "plt.ylabel('True Positive Rate (TPR)')\n",
    "plt.title('ROC curve')\n",
    "plt.legend(loc=\"lower right\")\n",
    "plt.show()"
   ]
  },
  {
   "cell_type": "markdown",
   "id": "6fce1fbb",
   "metadata": {
    "id": "6fce1fbb"
   },
   "source": [
    "#### Random Forest"
   ]
  },
  {
   "cell_type": "code",
   "execution_count": 137,
   "id": "db660b44",
   "metadata": {
    "id": "db660b44"
   },
   "outputs": [],
   "source": [
    "#X = df_feat.drop(['Sl','Station_Names','Year', 'Month', 'Max_Temp', 'Wind_Speed', 'Bright_Sunshine','Station_Number','X_COR','Y_COR','LATITUDE','LONGITUDE','ALT','Period' ],axis=1)\n",
    "X = df_feat.drop(['Station_Names','Year', 'Month', 'Max_Temp', 'Wind_Speed','Station_Number','X_COR','Y_COR','LATITUDE','LONGITUDE','ALT','Period','Flood'],axis=1)\n",
    "y = df_feat['Flood']\n",
    "\n",
    "X_train, X_test, y_train, y_test = train_test_split(X, y, test_size=0.2, random_state=50)"
   ]
  },
  {
   "cell_type": "code",
   "execution_count": 138,
   "id": "9a8ded3f",
   "metadata": {
    "id": "9a8ded3f",
    "outputId": "e5af7b2c-d9a7-4782-e208-9d78cc5137dd"
   },
   "outputs": [
    {
     "data": {
      "text/html": [
       "<style>#sk-container-id-6 {color: black;background-color: white;}#sk-container-id-6 pre{padding: 0;}#sk-container-id-6 div.sk-toggleable {background-color: white;}#sk-container-id-6 label.sk-toggleable__label {cursor: pointer;display: block;width: 100%;margin-bottom: 0;padding: 0.3em;box-sizing: border-box;text-align: center;}#sk-container-id-6 label.sk-toggleable__label-arrow:before {content: \"▸\";float: left;margin-right: 0.25em;color: #696969;}#sk-container-id-6 label.sk-toggleable__label-arrow:hover:before {color: black;}#sk-container-id-6 div.sk-estimator:hover label.sk-toggleable__label-arrow:before {color: black;}#sk-container-id-6 div.sk-toggleable__content {max-height: 0;max-width: 0;overflow: hidden;text-align: left;background-color: #f0f8ff;}#sk-container-id-6 div.sk-toggleable__content pre {margin: 0.2em;color: black;border-radius: 0.25em;background-color: #f0f8ff;}#sk-container-id-6 input.sk-toggleable__control:checked~div.sk-toggleable__content {max-height: 200px;max-width: 100%;overflow: auto;}#sk-container-id-6 input.sk-toggleable__control:checked~label.sk-toggleable__label-arrow:before {content: \"▾\";}#sk-container-id-6 div.sk-estimator input.sk-toggleable__control:checked~label.sk-toggleable__label {background-color: #d4ebff;}#sk-container-id-6 div.sk-label input.sk-toggleable__control:checked~label.sk-toggleable__label {background-color: #d4ebff;}#sk-container-id-6 input.sk-hidden--visually {border: 0;clip: rect(1px 1px 1px 1px);clip: rect(1px, 1px, 1px, 1px);height: 1px;margin: -1px;overflow: hidden;padding: 0;position: absolute;width: 1px;}#sk-container-id-6 div.sk-estimator {font-family: monospace;background-color: #f0f8ff;border: 1px dotted black;border-radius: 0.25em;box-sizing: border-box;margin-bottom: 0.5em;}#sk-container-id-6 div.sk-estimator:hover {background-color: #d4ebff;}#sk-container-id-6 div.sk-parallel-item::after {content: \"\";width: 100%;border-bottom: 1px solid gray;flex-grow: 1;}#sk-container-id-6 div.sk-label:hover label.sk-toggleable__label {background-color: #d4ebff;}#sk-container-id-6 div.sk-serial::before {content: \"\";position: absolute;border-left: 1px solid gray;box-sizing: border-box;top: 0;bottom: 0;left: 50%;z-index: 0;}#sk-container-id-6 div.sk-serial {display: flex;flex-direction: column;align-items: center;background-color: white;padding-right: 0.2em;padding-left: 0.2em;position: relative;}#sk-container-id-6 div.sk-item {position: relative;z-index: 1;}#sk-container-id-6 div.sk-parallel {display: flex;align-items: stretch;justify-content: center;background-color: white;position: relative;}#sk-container-id-6 div.sk-item::before, #sk-container-id-6 div.sk-parallel-item::before {content: \"\";position: absolute;border-left: 1px solid gray;box-sizing: border-box;top: 0;bottom: 0;left: 50%;z-index: -1;}#sk-container-id-6 div.sk-parallel-item {display: flex;flex-direction: column;z-index: 1;position: relative;background-color: white;}#sk-container-id-6 div.sk-parallel-item:first-child::after {align-self: flex-end;width: 50%;}#sk-container-id-6 div.sk-parallel-item:last-child::after {align-self: flex-start;width: 50%;}#sk-container-id-6 div.sk-parallel-item:only-child::after {width: 0;}#sk-container-id-6 div.sk-dashed-wrapped {border: 1px dashed gray;margin: 0 0.4em 0.5em 0.4em;box-sizing: border-box;padding-bottom: 0.4em;background-color: white;}#sk-container-id-6 div.sk-label label {font-family: monospace;font-weight: bold;display: inline-block;line-height: 1.2em;}#sk-container-id-6 div.sk-label-container {text-align: center;}#sk-container-id-6 div.sk-container {/* jupyter's `normalize.less` sets `[hidden] { display: none; }` but bootstrap.min.css set `[hidden] { display: none !important; }` so we also need the `!important` here to be able to override the default hidden behavior on the sphinx rendered scikit-learn.org. See: https://github.com/scikit-learn/scikit-learn/issues/21755 */display: inline-block !important;position: relative;}#sk-container-id-6 div.sk-text-repr-fallback {display: none;}</style><div id=\"sk-container-id-6\" class=\"sk-top-container\"><div class=\"sk-text-repr-fallback\"><pre>RandomForestClassifier(random_state=50)</pre><b>In a Jupyter environment, please rerun this cell to show the HTML representation or trust the notebook. <br />On GitHub, the HTML representation is unable to render, please try loading this page with nbviewer.org.</b></div><div class=\"sk-container\" hidden><div class=\"sk-item\"><div class=\"sk-estimator sk-toggleable\"><input class=\"sk-toggleable__control sk-hidden--visually\" id=\"sk-estimator-id-6\" type=\"checkbox\" checked><label for=\"sk-estimator-id-6\" class=\"sk-toggleable__label sk-toggleable__label-arrow\">RandomForestClassifier</label><div class=\"sk-toggleable__content\"><pre>RandomForestClassifier(random_state=50)</pre></div></div></div></div></div>"
      ],
      "text/plain": [
       "RandomForestClassifier(random_state=50)"
      ]
     },
     "execution_count": 138,
     "metadata": {},
     "output_type": "execute_result"
    }
   ],
   "source": [
    "from sklearn.ensemble import RandomForestClassifier\n",
    "#rfc = RandomForestClassifier(n_estimators=200)\n",
    "#n_estimators=48, 83, 100, 120\n",
    "rfc = RandomForestClassifier(random_state=50)\n",
    "rfc.fit(X_train,y_train)"
   ]
  },
  {
   "cell_type": "markdown",
   "id": "10bcc38e",
   "metadata": {},
   "source": [
    "#### Training Accuracy"
   ]
  },
  {
   "cell_type": "code",
   "execution_count": 139,
   "id": "ca4e6810",
   "metadata": {},
   "outputs": [],
   "source": [
    "rfc_pred = rfc.predict(X_train)"
   ]
  },
  {
   "cell_type": "code",
   "execution_count": 140,
   "id": "047ab7f1",
   "metadata": {},
   "outputs": [
    {
     "name": "stdout",
     "output_type": "stream",
     "text": [
      "0.9998461301738729\n"
     ]
    }
   ],
   "source": [
    "accuracy = accuracy_score(y_train,rfc_pred)\n",
    "print(accuracy)"
   ]
  },
  {
   "cell_type": "markdown",
   "id": "b73a39fc",
   "metadata": {},
   "source": [
    "#### Cross Validation"
   ]
  },
  {
   "cell_type": "code",
   "execution_count": 141,
   "id": "c2861ec2",
   "metadata": {},
   "outputs": [],
   "source": [
    "from sklearn.model_selection import cross_val_score,cross_val_predict\n",
    "rfc_acc=cross_val_score(rfc,X_train,y_train,cv=5,scoring='accuracy',n_jobs=-1)\n",
    "rfc_proba=cross_val_predict(rfc,X_train,y_train,cv=5,method='predict_proba')"
   ]
  },
  {
   "cell_type": "markdown",
   "id": "a619b4bc",
   "metadata": {},
   "source": [
    "#### Validation Accuracy"
   ]
  },
  {
   "cell_type": "code",
   "execution_count": 142,
   "id": "95b9fd24",
   "metadata": {},
   "outputs": [
    {
     "data": {
      "text/plain": [
       "array([0.94634615, 0.93998846, 0.94248894, 0.94864397, 0.9530679 ])"
      ]
     },
     "execution_count": 142,
     "metadata": {},
     "output_type": "execute_result"
    }
   ],
   "source": [
    "rfc_acc"
   ]
  },
  {
   "cell_type": "code",
   "execution_count": 143,
   "id": "1324ab61",
   "metadata": {},
   "outputs": [
    {
     "data": {
      "text/plain": [
       "0.9461070842025834"
      ]
     },
     "execution_count": 143,
     "metadata": {},
     "output_type": "execute_result"
    }
   ],
   "source": [
    "rfc_acc.mean()"
   ]
  },
  {
   "cell_type": "markdown",
   "id": "0e0955d0",
   "metadata": {},
   "source": [
    "#### Test Accuracy"
   ]
  },
  {
   "cell_type": "code",
   "execution_count": 144,
   "id": "88d898c7",
   "metadata": {},
   "outputs": [],
   "source": [
    "rfc_pred = rfc.predict(X_test)"
   ]
  },
  {
   "cell_type": "code",
   "execution_count": 145,
   "id": "27a0ec06",
   "metadata": {},
   "outputs": [
    {
     "name": "stdout",
     "output_type": "stream",
     "text": [
      "0.9462994306816433\n"
     ]
    }
   ],
   "source": [
    "accuracy = accuracy_score(y_test,rfc_pred)\n",
    "print(accuracy)"
   ]
  },
  {
   "cell_type": "markdown",
   "id": "cc5ae134",
   "metadata": {
    "id": "cc5ae134"
   },
   "source": [
    "#### Confusion Matrix"
   ]
  },
  {
   "cell_type": "code",
   "execution_count": 146,
   "id": "6b02750d",
   "metadata": {
    "id": "6b02750d",
    "outputId": "c44aae72-ec4d-498c-ccca-1ba5b7d4b75c"
   },
   "outputs": [
    {
     "name": "stdout",
     "output_type": "stream",
     "text": [
      "confusion_matrix: \n",
      " [[3032  207]\n",
      " [ 142 3118]]\n",
      "              precision    recall  f1-score   support\n",
      "\n",
      "           0       0.96      0.94      0.95      3239\n",
      "           1       0.94      0.96      0.95      3260\n",
      "\n",
      "    accuracy                           0.95      6499\n",
      "   macro avg       0.95      0.95      0.95      6499\n",
      "weighted avg       0.95      0.95      0.95      6499\n",
      "\n"
     ]
    }
   ],
   "source": [
    "confusion_matrix_ = confusion_matrix(y_test, rfc_pred)\n",
    "\n",
    "print('confusion_matrix: \\n', confusion_matrix_)\n",
    "print(classification_report(y_test, rfc_pred))"
   ]
  },
  {
   "cell_type": "code",
   "execution_count": 147,
   "id": "bbf261b4",
   "metadata": {
    "id": "bbf261b4",
    "outputId": "1bca5bfe-d7c4-41ca-bd5e-20321fc3556b"
   },
   "outputs": [
    {
     "name": "stdout",
     "output_type": "stream",
     "text": [
      "True Negatives =  3032\n",
      "False Negatives =  142\n",
      "False Positives =  207\n",
      "True Positives =  3118\n"
     ]
    }
   ],
   "source": [
    "TN = confusion_matrix_[0,0]\n",
    "print(\"True Negatives = \", TN)\n",
    "\n",
    "FN = confusion_matrix_[1,0]\n",
    "print(\"False Negatives = \", FN)\n",
    "\n",
    "FP = confusion_matrix_[0,1]\n",
    "print(\"False Positives = \", FP)\n",
    "\n",
    "TP = confusion_matrix_[1,1]\n",
    "print(\"True Positives = \", TP)"
   ]
  },
  {
   "cell_type": "markdown",
   "id": "d6fa4856",
   "metadata": {
    "id": "d6fa4856"
   },
   "source": [
    "#### True Positive Rate, False Positive Rate"
   ]
  },
  {
   "cell_type": "code",
   "execution_count": 148,
   "id": "06993b97",
   "metadata": {
    "id": "06993b97",
    "outputId": "746e57ef-5649-40c9-d650-51326bce4585"
   },
   "outputs": [
    {
     "name": "stdout",
     "output_type": "stream",
     "text": [
      "True Positive Rate =  0.96\n",
      "False Positive Rate =  0.06\n"
     ]
    }
   ],
   "source": [
    "TPR = np.round(TP/(TP+FN), 2)\n",
    "FPR = np.round(FP/(FP+TN), 2)\n",
    "\n",
    "print(\"True Positive Rate = \", TPR)\n",
    "print(\"False Positive Rate = \", FPR)"
   ]
  },
  {
   "cell_type": "markdown",
   "id": "78ed332e",
   "metadata": {
    "id": "78ed332e"
   },
   "source": [
    "#### ROC: Receiver operating Characteristics and AUC: Area Under the Curve"
   ]
  },
  {
   "cell_type": "code",
   "execution_count": 149,
   "id": "d3deb2c1",
   "metadata": {
    "id": "d3deb2c1",
    "outputId": "32395eed-da0b-46c1-9a5f-4c990005660d"
   },
   "outputs": [
    {
     "data": {
      "image/png": "[encoded data removed]",
      "text/plain": [
       "<Figure size 1000x800 with 1 Axes>"
      ]
     },
     "metadata": {},
     "output_type": "display_data"
    }
   ],
   "source": [
    "fpr, tpr, thr = roc_curve(y_test, rfc_pred)\n",
    "auc = np.round(roc_auc_score(y_test, rfc_pred), 2)\n",
    "\n",
    "plt.figure(figsize=(10, 8))\n",
    "plt.plot(fpr, \n",
    "         tpr, \n",
    "         color='green', \n",
    "         lw=2, \n",
    "         label=\"Curve Area = \" +str(auc))\n",
    "\n",
    "plt.plot([0, 1], [0, 1], color='blue', lw=2, linestyle='--')\n",
    "plt.xlabel('False Positive Rate (FPR)')\n",
    "plt.ylabel('True Positive Rate (TPR)')\n",
    "plt.title('ROC curve')\n",
    "plt.legend(loc=\"lower right\")\n",
    "plt.show()\n"
   ]
  },
  {
   "cell_type": "code",
   "execution_count": 150,
   "id": "0ea1f13f",
   "metadata": {},
   "outputs": [],
   "source": [
    "# plot_confusion_matrix(rfc, \n",
    "#                       X_test, \n",
    "#                       y_test, \n",
    "#                       display_labels=[\"No Flood\", \"Flood\"],\n",
    "#                       cmap='Blues')\n",
    "# plt.show()"
   ]
  },
  {
   "cell_type": "code",
   "execution_count": 151,
   "id": "b8e9973b",
   "metadata": {},
   "outputs": [],
   "source": [
    "# from sklearn.model_selection import GridSearchCV\n",
    "# from sklearn.model_selection import RepeatedStratifiedKFold\n",
    "# seed=50\n",
    "# rf_params = {   \n",
    "#     \"n_estimators\": [100, 200, 300],\n",
    "#     \"max_depth\": range(1, 20, 2),\n",
    "#     \"criterion\": ['gini','entropy'],\n",
    "#     \"max_features\": ['auto'],\n",
    "# }\n",
    "\n",
    "# rf = RandomForestClassifier()\n",
    "\n",
    "# cv = RepeatedStratifiedKFold(n_splits=10, n_repeats=3, random_state=seed)\n",
    "# grid_search = GridSearchCV(estimator=rf, param_grid=rf_params, n_jobs=1, cv=cv, scoring=\"accuracy\", error_score=0)\n",
    "# grid_result = grid_search.fit(X_train,y_train)\n",
    "\n",
    "# rf_final_model = rf.set_params(**grid_result.best_params_)\n",
    "# rf_final_model.fit(X_train,y_train)\n",
    "# rf_predh = rf_final_model.predict(X_test)\n",
    "\n",
    "# print(classification_report(y_test, rf_predh))\n",
    "# print(confusion_matrix(y_test, rf_predh))\n",
    "\n",
    "# print(grid_result.best_params_)"
   ]
  },
  {
   "cell_type": "code",
   "execution_count": 152,
   "id": "eaed112a",
   "metadata": {},
   "outputs": [],
   "source": [
    "# predh = rf_final_model.predict(X_train)"
   ]
  },
  {
   "cell_type": "code",
   "execution_count": 153,
   "id": "19ddbeeb",
   "metadata": {},
   "outputs": [],
   "source": [
    "# accuracy = accuracy_score(y_train,predh)\n",
    "# print(accuracy)"
   ]
  },
  {
   "cell_type": "markdown",
   "id": "8890cc4e",
   "metadata": {},
   "source": [
    "#### SVC"
   ]
  },
  {
   "cell_type": "code",
   "execution_count": 154,
   "id": "7681181b",
   "metadata": {},
   "outputs": [],
   "source": [
    "#X = df_feat.drop(['Sl','Station_Names','Year', 'Month', 'Max_Temp', 'Wind_Speed', 'Bright_Sunshine','Station_Number','X_COR','Y_COR','LATITUDE','LONGITUDE','ALT','Period' ],axis=1)\n",
    "X = df_feat.drop(['Station_Names','Year', 'Month', 'Max_Temp', 'Wind_Speed','Station_Number','X_COR','Y_COR','LATITUDE','LONGITUDE','ALT','Period','Flood'],axis=1)\n",
    "y = df_feat['Flood']\n",
    "\n",
    "\n",
    "X_train, X_test, y_train, y_test = train_test_split(X, y, test_size=0.2, random_state=50)"
   ]
  },
  {
   "cell_type": "code",
   "execution_count": 155,
   "id": "a3290679",
   "metadata": {},
   "outputs": [],
   "source": [
    "from sklearn.svm import SVC\n",
    "svc_algo = SVC(C=1000,gamma=1,random_state=50,probability=True)\n"
   ]
  },
  {
   "cell_type": "code",
   "execution_count": 156,
   "id": "2718955b",
   "metadata": {},
   "outputs": [
    {
     "data": {
      "text/html": [
       "<style>#sk-container-id-7 {color: black;background-color: white;}#sk-container-id-7 pre{padding: 0;}#sk-container-id-7 div.sk-toggleable {background-color: white;}#sk-container-id-7 label.sk-toggleable__label {cursor: pointer;display: block;width: 100%;margin-bottom: 0;padding: 0.3em;box-sizing: border-box;text-align: center;}#sk-container-id-7 label.sk-toggleable__label-arrow:before {content: \"▸\";float: left;margin-right: 0.25em;color: #696969;}#sk-container-id-7 label.sk-toggleable__label-arrow:hover:before {color: black;}#sk-container-id-7 div.sk-estimator:hover label.sk-toggleable__label-arrow:before {color: black;}#sk-container-id-7 div.sk-toggleable__content {max-height: 0;max-width: 0;overflow: hidden;text-align: left;background-color: #f0f8ff;}#sk-container-id-7 div.sk-toggleable__content pre {margin: 0.2em;color: black;border-radius: 0.25em;background-color: #f0f8ff;}#sk-container-id-7 input.sk-toggleable__control:checked~div.sk-toggleable__content {max-height: 200px;max-width: 100%;overflow: auto;}#sk-container-id-7 input.sk-toggleable__control:checked~label.sk-toggleable__label-arrow:before {content: \"▾\";}#sk-container-id-7 div.sk-estimator input.sk-toggleable__control:checked~label.sk-toggleable__label {background-color: #d4ebff;}#sk-container-id-7 div.sk-label input.sk-toggleable__control:checked~label.sk-toggleable__label {background-color: #d4ebff;}#sk-container-id-7 input.sk-hidden--visually {border: 0;clip: rect(1px 1px 1px 1px);clip: rect(1px, 1px, 1px, 1px);height: 1px;margin: -1px;overflow: hidden;padding: 0;position: absolute;width: 1px;}#sk-container-id-7 div.sk-estimator {font-family: monospace;background-color: #f0f8ff;border: 1px dotted black;border-radius: 0.25em;box-sizing: border-box;margin-bottom: 0.5em;}#sk-container-id-7 div.sk-estimator:hover {background-color: #d4ebff;}#sk-container-id-7 div.sk-parallel-item::after {content: \"\";width: 100%;border-bottom: 1px solid gray;flex-grow: 1;}#sk-container-id-7 div.sk-label:hover label.sk-toggleable__label {background-color: #d4ebff;}#sk-container-id-7 div.sk-serial::before {content: \"\";position: absolute;border-left: 1px solid gray;box-sizing: border-box;top: 0;bottom: 0;left: 50%;z-index: 0;}#sk-container-id-7 div.sk-serial {display: flex;flex-direction: column;align-items: center;background-color: white;padding-right: 0.2em;padding-left: 0.2em;position: relative;}#sk-container-id-7 div.sk-item {position: relative;z-index: 1;}#sk-container-id-7 div.sk-parallel {display: flex;align-items: stretch;justify-content: center;background-color: white;position: relative;}#sk-container-id-7 div.sk-item::before, #sk-container-id-7 div.sk-parallel-item::before {content: \"\";position: absolute;border-left: 1px solid gray;box-sizing: border-box;top: 0;bottom: 0;left: 50%;z-index: -1;}#sk-container-id-7 div.sk-parallel-item {display: flex;flex-direction: column;z-index: 1;position: relative;background-color: white;}#sk-container-id-7 div.sk-parallel-item:first-child::after {align-self: flex-end;width: 50%;}#sk-container-id-7 div.sk-parallel-item:last-child::after {align-self: flex-start;width: 50%;}#sk-container-id-7 div.sk-parallel-item:only-child::after {width: 0;}#sk-container-id-7 div.sk-dashed-wrapped {border: 1px dashed gray;margin: 0 0.4em 0.5em 0.4em;box-sizing: border-box;padding-bottom: 0.4em;background-color: white;}#sk-container-id-7 div.sk-label label {font-family: monospace;font-weight: bold;display: inline-block;line-height: 1.2em;}#sk-container-id-7 div.sk-label-container {text-align: center;}#sk-container-id-7 div.sk-container {/* jupyter's `normalize.less` sets `[hidden] { display: none; }` but bootstrap.min.css set `[hidden] { display: none !important; }` so we also need the `!important` here to be able to override the default hidden behavior on the sphinx rendered scikit-learn.org. See: https://github.com/scikit-learn/scikit-learn/issues/21755 */display: inline-block !important;position: relative;}#sk-container-id-7 div.sk-text-repr-fallback {display: none;}</style><div id=\"sk-container-id-7\" class=\"sk-top-container\"><div class=\"sk-text-repr-fallback\"><pre>SVC(C=1000, gamma=1, probability=True, random_state=50)</pre><b>In a Jupyter environment, please rerun this cell to show the HTML representation or trust the notebook. <br />On GitHub, the HTML representation is unable to render, please try loading this page with nbviewer.org.</b></div><div class=\"sk-container\" hidden><div class=\"sk-item\"><div class=\"sk-estimator sk-toggleable\"><input class=\"sk-toggleable__control sk-hidden--visually\" id=\"sk-estimator-id-7\" type=\"checkbox\" checked><label for=\"sk-estimator-id-7\" class=\"sk-toggleable__label sk-toggleable__label-arrow\">SVC</label><div class=\"sk-toggleable__content\"><pre>SVC(C=1000, gamma=1, probability=True, random_state=50)</pre></div></div></div></div></div>"
      ],
      "text/plain": [
       "SVC(C=1000, gamma=1, probability=True, random_state=50)"
      ]
     },
     "execution_count": 156,
     "metadata": {},
     "output_type": "execute_result"
    }
   ],
   "source": [
    "svc_algo.fit(X_train,y_train)"
   ]
  },
  {
   "cell_type": "markdown",
   "id": "9e39d35d",
   "metadata": {},
   "source": [
    "#### Training Accuracy"
   ]
  },
  {
   "cell_type": "code",
   "execution_count": 157,
   "id": "461aa0b2",
   "metadata": {},
   "outputs": [],
   "source": [
    "svc_pred = svc_algo.predict(X_train)"
   ]
  },
  {
   "cell_type": "code",
   "execution_count": 158,
   "id": "f53e7f3c",
   "metadata": {},
   "outputs": [
    {
     "name": "stdout",
     "output_type": "stream",
     "text": [
      "0.9421834128327435\n"
     ]
    }
   ],
   "source": [
    "accuracy = accuracy_score(y_train,svc_pred)\n",
    "print(accuracy)"
   ]
  },
  {
   "cell_type": "markdown",
   "id": "9a08fd85",
   "metadata": {},
   "source": [
    "#### Cross Validation"
   ]
  },
  {
   "cell_type": "code",
   "execution_count": 159,
   "id": "dda54d6b",
   "metadata": {},
   "outputs": [],
   "source": [
    "from sklearn.model_selection import cross_val_score,cross_val_predict\n",
    "svc_acc=cross_val_score(svc_algo,X_train,y_train,cv=5,scoring='accuracy',n_jobs=-1)\n",
    "svc_proba=cross_val_predict(svc_algo,X_train,y_train,cv=5,method='predict_proba')"
   ]
  },
  {
   "cell_type": "markdown",
   "id": "924b1f52",
   "metadata": {},
   "source": [
    "#### Validation Accuracy"
   ]
  },
  {
   "cell_type": "code",
   "execution_count": 160,
   "id": "21b31d02",
   "metadata": {},
   "outputs": [
    {
     "data": {
      "text/plain": [
       "array([0.92653846, 0.92229275, 0.91844585, 0.92190806, 0.92806309])"
      ]
     },
     "execution_count": 160,
     "metadata": {},
     "output_type": "execute_result"
    }
   ],
   "source": [
    "svc_acc"
   ]
  },
  {
   "cell_type": "code",
   "execution_count": 161,
   "id": "166fbba0",
   "metadata": {},
   "outputs": [
    {
     "data": {
      "text/plain": [
       "0.9234496426827643"
      ]
     },
     "execution_count": 161,
     "metadata": {},
     "output_type": "execute_result"
    }
   ],
   "source": [
    "svc_acc.mean()"
   ]
  },
  {
   "cell_type": "markdown",
   "id": "8435f133",
   "metadata": {},
   "source": [
    "#### Test Accuracy"
   ]
  },
  {
   "cell_type": "code",
   "execution_count": 162,
   "id": "f211af19",
   "metadata": {},
   "outputs": [],
   "source": [
    "svc_pred = svc_algo.predict(X_test)"
   ]
  },
  {
   "cell_type": "code",
   "execution_count": 163,
   "id": "9283b8df",
   "metadata": {},
   "outputs": [
    {
     "name": "stdout",
     "output_type": "stream",
     "text": [
      "0.9218341283274349\n"
     ]
    }
   ],
   "source": [
    "accuracy = accuracy_score(y_test,svc_pred)\n",
    "print(accuracy)"
   ]
  },
  {
   "cell_type": "markdown",
   "id": "8200c7f0",
   "metadata": {},
   "source": [
    "#### Confusion Matrix"
   ]
  },
  {
   "cell_type": "code",
   "execution_count": 164,
   "id": "b6b5cd82",
   "metadata": {},
   "outputs": [
    {
     "name": "stdout",
     "output_type": "stream",
     "text": [
      "confusion_matrix: \n",
      " [[2896  343]\n",
      " [ 165 3095]]\n",
      "              precision    recall  f1-score   support\n",
      "\n",
      "           0       0.95      0.89      0.92      3239\n",
      "           1       0.90      0.95      0.92      3260\n",
      "\n",
      "    accuracy                           0.92      6499\n",
      "   macro avg       0.92      0.92      0.92      6499\n",
      "weighted avg       0.92      0.92      0.92      6499\n",
      "\n"
     ]
    }
   ],
   "source": [
    "confusion_matrix_ = confusion_matrix(y_test, svc_pred)\n",
    "print('confusion_matrix: \\n', confusion_matrix_)\n",
    "\n",
    "print(classification_report(y_test, svc_pred))"
   ]
  },
  {
   "cell_type": "code",
   "execution_count": 165,
   "id": "0f4c31ed",
   "metadata": {},
   "outputs": [
    {
     "name": "stdout",
     "output_type": "stream",
     "text": [
      "True Negatives =  2896\n",
      "False Negatives =  165\n",
      "False Positives =  343\n",
      "True Positives =  3095\n"
     ]
    }
   ],
   "source": [
    "TN = confusion_matrix_[0,0]\n",
    "print(\"True Negatives = \", TN)\n",
    "\n",
    "FN = confusion_matrix_[1,0]\n",
    "print(\"False Negatives = \", FN)\n",
    "\n",
    "FP = confusion_matrix_[0,1]\n",
    "print(\"False Positives = \", FP)\n",
    "\n",
    "TP = confusion_matrix_[1,1]\n",
    "print(\"True Positives = \", TP)"
   ]
  },
  {
   "cell_type": "markdown",
   "id": "d8c5bb88",
   "metadata": {},
   "source": [
    "#### True Positive Rate, False Positive Rate"
   ]
  },
  {
   "cell_type": "code",
   "execution_count": 166,
   "id": "d0c0edd2",
   "metadata": {},
   "outputs": [
    {
     "name": "stdout",
     "output_type": "stream",
     "text": [
      "True Positive Rate =  0.95\n",
      "False Positive Rate =  0.11\n"
     ]
    }
   ],
   "source": [
    "TPR = np.round(TP/(TP+FN), 2)\n",
    "FPR = np.round(FP/(FP+TN), 2)\n",
    "\n",
    "print(\"True Positive Rate = \", TPR)\n",
    "print(\"False Positive Rate = \", FPR)"
   ]
  },
  {
   "cell_type": "markdown",
   "id": "2e1a582a",
   "metadata": {},
   "source": [
    "#### ROC: Receiver operating Characteristics and AUC: Area Under the Curve"
   ]
  },
  {
   "cell_type": "code",
   "execution_count": 167,
   "id": "b0b2690c",
   "metadata": {},
   "outputs": [
    {
     "data": {
      "image/png": "[encoded data removed]",
      "text/plain": [
       "<Figure size 1000x800 with 1 Axes>"
      ]
     },
     "metadata": {},
     "output_type": "display_data"
    }
   ],
   "source": [
    "fpr, tpr, thr = roc_curve(y_test, svc_pred)\n",
    "auc = np.round(roc_auc_score(y_test, svc_pred), 2)\n",
    "\n",
    "plt.figure(figsize=(10, 8))\n",
    "plt.plot(fpr, \n",
    "         tpr, \n",
    "         color='green', \n",
    "         lw=2, \n",
    "         label=\"Curve Area = \" +str(auc))\n",
    "\n",
    "plt.plot([0, 1], [0, 1], color='blue', lw=2, linestyle='--')\n",
    "plt.xlabel('False Positive Rate (FPR)')\n",
    "plt.ylabel('True Positive Rate (TPR)')\n",
    "plt.title('ROC curve')\n",
    "plt.legend(loc=\"lower right\")\n",
    "plt.show()"
   ]
  },
  {
   "cell_type": "code",
   "execution_count": 168,
   "id": "80e638d9",
   "metadata": {},
   "outputs": [],
   "source": [
    "# plot_confusion_matrix(svc_algo, \n",
    "#                       X_test, \n",
    "#                       y_test, \n",
    "#                       display_labels=[\"No Flood\", \"Flood\"],\n",
    "#                       cmap='Blues')\n",
    "# plt.show()"
   ]
  },
  {
   "cell_type": "markdown",
   "id": "4ecc7545",
   "metadata": {},
   "source": [
    "#### Xg Boost"
   ]
  },
  {
   "cell_type": "code",
   "execution_count": 169,
   "id": "74cd0051",
   "metadata": {},
   "outputs": [],
   "source": [
    "X = df_feat.drop(['Station_Names','Year', 'Month', 'Max_Temp', 'Wind_Speed','Station_Number','X_COR','Y_COR','LATITUDE','LONGITUDE','ALT','Period','Flood'],axis=1)\n",
    "y = df_feat['Flood']\n",
    "\n",
    "\n",
    "X_train, X_test, y_train, y_test = train_test_split(X, y, test_size=0.2, random_state=50)"
   ]
  },
  {
   "cell_type": "code",
   "execution_count": 170,
   "id": "f321d869",
   "metadata": {},
   "outputs": [],
   "source": [
    "from xgboost import XGBClassifier"
   ]
  },
  {
   "cell_type": "code",
   "execution_count": 171,
   "id": "32db8503",
   "metadata": {},
   "outputs": [],
   "source": [
    "xgb_model = XGBClassifier(objective=\"binary:logistic\", random_state=50, eval_metric=\"auc\")"
   ]
  },
  {
   "cell_type": "code",
   "execution_count": 172,
   "id": "60eb708e",
   "metadata": {},
   "outputs": [
    {
     "data": {
      "text/html": [
       "<style>#sk-container-id-8 {color: black;background-color: white;}#sk-container-id-8 pre{padding: 0;}#sk-container-id-8 div.sk-toggleable {background-color: white;}#sk-container-id-8 label.sk-toggleable__label {cursor: pointer;display: block;width: 100%;margin-bottom: 0;padding: 0.3em;box-sizing: border-box;text-align: center;}#sk-container-id-8 label.sk-toggleable__label-arrow:before {content: \"▸\";float: left;margin-right: 0.25em;color: #696969;}#sk-container-id-8 label.sk-toggleable__label-arrow:hover:before {color: black;}#sk-container-id-8 div.sk-estimator:hover label.sk-toggleable__label-arrow:before {color: black;}#sk-container-id-8 div.sk-toggleable__content {max-height: 0;max-width: 0;overflow: hidden;text-align: left;background-color: #f0f8ff;}#sk-container-id-8 div.sk-toggleable__content pre {margin: 0.2em;color: black;border-radius: 0.25em;background-color: #f0f8ff;}#sk-container-id-8 input.sk-toggleable__control:checked~div.sk-toggleable__content {max-height: 200px;max-width: 100%;overflow: auto;}#sk-container-id-8 input.sk-toggleable__control:checked~label.sk-toggleable__label-arrow:before {content: \"▾\";}#sk-container-id-8 div.sk-estimator input.sk-toggleable__control:checked~label.sk-toggleable__label {background-color: #d4ebff;}#sk-container-id-8 div.sk-label input.sk-toggleable__control:checked~label.sk-toggleable__label {background-color: #d4ebff;}#sk-container-id-8 input.sk-hidden--visually {border: 0;clip: rect(1px 1px 1px 1px);clip: rect(1px, 1px, 1px, 1px);height: 1px;margin: -1px;overflow: hidden;padding: 0;position: absolute;width: 1px;}#sk-container-id-8 div.sk-estimator {font-family: monospace;background-color: #f0f8ff;border: 1px dotted black;border-radius: 0.25em;box-sizing: border-box;margin-bottom: 0.5em;}#sk-container-id-8 div.sk-estimator:hover {background-color: #d4ebff;}#sk-container-id-8 div.sk-parallel-item::after {content: \"\";width: 100%;border-bottom: 1px solid gray;flex-grow: 1;}#sk-container-id-8 div.sk-label:hover label.sk-toggleable__label {background-color: #d4ebff;}#sk-container-id-8 div.sk-serial::before {content: \"\";position: absolute;border-left: 1px solid gray;box-sizing: border-box;top: 0;bottom: 0;left: 50%;z-index: 0;}#sk-container-id-8 div.sk-serial {display: flex;flex-direction: column;align-items: center;background-color: white;padding-right: 0.2em;padding-left: 0.2em;position: relative;}#sk-container-id-8 div.sk-item {position: relative;z-index: 1;}#sk-container-id-8 div.sk-parallel {display: flex;align-items: stretch;justify-content: center;background-color: white;position: relative;}#sk-container-id-8 div.sk-item::before, #sk-container-id-8 div.sk-parallel-item::before {content: \"\";position: absolute;border-left: 1px solid gray;box-sizing: border-box;top: 0;bottom: 0;left: 50%;z-index: -1;}#sk-container-id-8 div.sk-parallel-item {display: flex;flex-direction: column;z-index: 1;position: relative;background-color: white;}#sk-container-id-8 div.sk-parallel-item:first-child::after {align-self: flex-end;width: 50%;}#sk-container-id-8 div.sk-parallel-item:last-child::after {align-self: flex-start;width: 50%;}#sk-container-id-8 div.sk-parallel-item:only-child::after {width: 0;}#sk-container-id-8 div.sk-dashed-wrapped {border: 1px dashed gray;margin: 0 0.4em 0.5em 0.4em;box-sizing: border-box;padding-bottom: 0.4em;background-color: white;}#sk-container-id-8 div.sk-label label {font-family: monospace;font-weight: bold;display: inline-block;line-height: 1.2em;}#sk-container-id-8 div.sk-label-container {text-align: center;}#sk-container-id-8 div.sk-container {/* jupyter's `normalize.less` sets `[hidden] { display: none; }` but bootstrap.min.css set `[hidden] { display: none !important; }` so we also need the `!important` here to be able to override the default hidden behavior on the sphinx rendered scikit-learn.org. See: https://github.com/scikit-learn/scikit-learn/issues/21755 */display: inline-block !important;position: relative;}#sk-container-id-8 div.sk-text-repr-fallback {display: none;}</style><div id=\"sk-container-id-8\" class=\"sk-top-container\"><div class=\"sk-text-repr-fallback\"><pre>XGBClassifier(base_score=0.5, booster=&#x27;gbtree&#x27;, colsample_bylevel=1,\n",
       "              colsample_bynode=1, colsample_bytree=1, enable_categorical=False,\n",
       "              eval_metric=&#x27;auc&#x27;, gamma=0, gpu_id=-1, importance_type=None,\n",
       "              interaction_constraints=&#x27;&#x27;, learning_rate=0.300000012,\n",
       "              max_delta_step=0, max_depth=6, min_child_weight=1, missing=nan,\n",
       "              monotone_constraints=&#x27;()&#x27;, n_estimators=100, n_jobs=6,\n",
       "              num_parallel_tree=1, predictor=&#x27;auto&#x27;, random_state=50,\n",
       "              reg_alpha=0, reg_lambda=1, scale_pos_weight=1, subsample=1,\n",
       "              tree_method=&#x27;exact&#x27;, validate_parameters=1, verbosity=None)</pre><b>In a Jupyter environment, please rerun this cell to show the HTML representation or trust the notebook. <br />On GitHub, the HTML representation is unable to render, please try loading this page with nbviewer.org.</b></div><div class=\"sk-container\" hidden><div class=\"sk-item\"><div class=\"sk-estimator sk-toggleable\"><input class=\"sk-toggleable__control sk-hidden--visually\" id=\"sk-estimator-id-8\" type=\"checkbox\" checked><label for=\"sk-estimator-id-8\" class=\"sk-toggleable__label sk-toggleable__label-arrow\">XGBClassifier</label><div class=\"sk-toggleable__content\"><pre>XGBClassifier(base_score=0.5, booster=&#x27;gbtree&#x27;, colsample_bylevel=1,\n",
       "              colsample_bynode=1, colsample_bytree=1, enable_categorical=False,\n",
       "              eval_metric=&#x27;auc&#x27;, gamma=0, gpu_id=-1, importance_type=None,\n",
       "              interaction_constraints=&#x27;&#x27;, learning_rate=0.300000012,\n",
       "              max_delta_step=0, max_depth=6, min_child_weight=1, missing=nan,\n",
       "              monotone_constraints=&#x27;()&#x27;, n_estimators=100, n_jobs=6,\n",
       "              num_parallel_tree=1, predictor=&#x27;auto&#x27;, random_state=50,\n",
       "              reg_alpha=0, reg_lambda=1, scale_pos_weight=1, subsample=1,\n",
       "              tree_method=&#x27;exact&#x27;, validate_parameters=1, verbosity=None)</pre></div></div></div></div></div>"
      ],
      "text/plain": [
       "XGBClassifier(base_score=0.5, booster='gbtree', colsample_bylevel=1,\n",
       "              colsample_bynode=1, colsample_bytree=1, enable_categorical=False,\n",
       "              eval_metric='auc', gamma=0, gpu_id=-1, importance_type=None,\n",
       "              interaction_constraints='', learning_rate=0.300000012,\n",
       "              max_delta_step=0, max_depth=6, min_child_weight=1, missing=nan,\n",
       "              monotone_constraints='()', n_estimators=100, n_jobs=6,\n",
       "              num_parallel_tree=1, predictor='auto', random_state=50,\n",
       "              reg_alpha=0, reg_lambda=1, scale_pos_weight=1, subsample=1,\n",
       "              tree_method='exact', validate_parameters=1, verbosity=None)"
      ]
     },
     "execution_count": 172,
     "metadata": {},
     "output_type": "execute_result"
    }
   ],
   "source": [
    "xgb_model.fit(X_train,y_train)"
   ]
  },
  {
   "cell_type": "markdown",
   "id": "dd63655a",
   "metadata": {},
   "source": [
    "#### Training Accuracy "
   ]
  },
  {
   "cell_type": "code",
   "execution_count": 173,
   "id": "6de2c550",
   "metadata": {},
   "outputs": [],
   "source": [
    "xgb_pred = xgb_model.predict(X_train)"
   ]
  },
  {
   "cell_type": "code",
   "execution_count": 174,
   "id": "0fe6e490",
   "metadata": {},
   "outputs": [
    {
     "name": "stdout",
     "output_type": "stream",
     "text": [
      "0.9824203723649793\n"
     ]
    }
   ],
   "source": [
    "accuracy = accuracy_score(y_train,xgb_pred)\n",
    "print(accuracy)"
   ]
  },
  {
   "cell_type": "markdown",
   "id": "4c5658c8",
   "metadata": {},
   "source": [
    "#### Cross Validation"
   ]
  },
  {
   "cell_type": "code",
   "execution_count": 175,
   "id": "656fa6f6",
   "metadata": {},
   "outputs": [],
   "source": [
    "from sklearn.model_selection import cross_val_score,cross_val_predict\n",
    "xgb_acc=cross_val_score(xgb_model,X_train,y_train,cv=5,scoring='accuracy',n_jobs=-1)\n",
    "xgb_proba=cross_val_predict(xgb_model,X_train,y_train,cv=5,method='predict_proba')"
   ]
  },
  {
   "cell_type": "markdown",
   "id": "01c807b2",
   "metadata": {},
   "source": [
    "#### Validation Accuracy"
   ]
  },
  {
   "cell_type": "code",
   "execution_count": 176,
   "id": "2133deea",
   "metadata": {},
   "outputs": [
    {
     "data": {
      "text/plain": [
       "array([0.96211538, 0.95922293, 0.95845355, 0.95922293, 0.96268513])"
      ]
     },
     "execution_count": 176,
     "metadata": {},
     "output_type": "execute_result"
    }
   ],
   "source": [
    "xgb_acc"
   ]
  },
  {
   "cell_type": "code",
   "execution_count": 177,
   "id": "bad6416a",
   "metadata": {},
   "outputs": [
    {
     "data": {
      "text/plain": [
       "0.9603399840205956"
      ]
     },
     "execution_count": 177,
     "metadata": {},
     "output_type": "execute_result"
    }
   ],
   "source": [
    "xgb_acc.mean()"
   ]
  },
  {
   "cell_type": "markdown",
   "id": "ca61bbff",
   "metadata": {},
   "source": [
    "#### Test Accuracy"
   ]
  },
  {
   "cell_type": "code",
   "execution_count": 178,
   "id": "090d8b00",
   "metadata": {},
   "outputs": [],
   "source": [
    "xgb_pred = xgb_model.predict(X_test)"
   ]
  },
  {
   "cell_type": "code",
   "execution_count": 179,
   "id": "2bfdf4f0",
   "metadata": {},
   "outputs": [
    {
     "name": "stdout",
     "output_type": "stream",
     "text": [
      "0.9621480227727343\n"
     ]
    }
   ],
   "source": [
    "accuracy = accuracy_score(y_test,xgb_pred)\n",
    "print(accuracy)"
   ]
  },
  {
   "cell_type": "markdown",
   "id": "3b0b43f8",
   "metadata": {},
   "source": [
    "#### Confusion Matrix"
   ]
  },
  {
   "cell_type": "code",
   "execution_count": 180,
   "id": "051934df",
   "metadata": {},
   "outputs": [
    {
     "name": "stdout",
     "output_type": "stream",
     "text": [
      "confusion_matrix: \n",
      " [[3113  126]\n",
      " [ 120 3140]]\n",
      "              precision    recall  f1-score   support\n",
      "\n",
      "           0       0.96      0.96      0.96      3239\n",
      "           1       0.96      0.96      0.96      3260\n",
      "\n",
      "    accuracy                           0.96      6499\n",
      "   macro avg       0.96      0.96      0.96      6499\n",
      "weighted avg       0.96      0.96      0.96      6499\n",
      "\n"
     ]
    }
   ],
   "source": [
    "confusion_matrix_ = confusion_matrix(y_test, xgb_pred)\n",
    "print('confusion_matrix: \\n', confusion_matrix_)\n",
    "\n",
    "print(classification_report(y_test, xgb_pred))"
   ]
  },
  {
   "cell_type": "code",
   "execution_count": 181,
   "id": "91805ecd",
   "metadata": {},
   "outputs": [
    {
     "name": "stdout",
     "output_type": "stream",
     "text": [
      "True Negatives =  3113\n",
      "False Negatives =  120\n",
      "False Positives =  126\n",
      "True Positives =  3140\n"
     ]
    }
   ],
   "source": [
    "TN = confusion_matrix_[0,0]\n",
    "print(\"True Negatives = \", TN)\n",
    "\n",
    "FN = confusion_matrix_[1,0]\n",
    "print(\"False Negatives = \", FN)\n",
    "\n",
    "FP = confusion_matrix_[0,1]\n",
    "print(\"False Positives = \", FP)\n",
    "\n",
    "TP = confusion_matrix_[1,1]\n",
    "print(\"True Positives = \", TP)"
   ]
  },
  {
   "cell_type": "code",
   "execution_count": 182,
   "id": "337d5d0b",
   "metadata": {},
   "outputs": [],
   "source": [
    "# plot_confusion_matrix(xgb_model, \n",
    "#                       X_test, \n",
    "#                       y_test, \n",
    "#                       display_labels=[\"No Flood\", \"Flood\"],\n",
    "#                       cmap='Blues')\n",
    "# plt.show()"
   ]
  },
  {
   "cell_type": "markdown",
   "id": "37fed64d",
   "metadata": {},
   "source": [
    "#### ROC: Receiver operating Characteristics and AUC: Area Under the Curve"
   ]
  },
  {
   "cell_type": "code",
   "execution_count": 183,
   "id": "2d07474e",
   "metadata": {},
   "outputs": [
    {
     "data": {
      "image/png": "[encoded data removed]",
      "text/plain": [
       "<Figure size 1000x800 with 1 Axes>"
      ]
     },
     "metadata": {},
     "output_type": "display_data"
    }
   ],
   "source": [
    "fpr, tpr, thr = roc_curve(y_test, xgb_pred)\n",
    "auc = np.round(roc_auc_score(y_test, xgb_pred), 2)\n",
    "\n",
    "plt.figure(figsize=(10, 8))\n",
    "plt.plot(fpr, \n",
    "         tpr, \n",
    "         color='green', \n",
    "         lw=2, \n",
    "         label=\"Curve Area = \" +str(auc))\n",
    "\n",
    "plt.plot([0, 1], [0, 1], color='blue', lw=2, linestyle='--')\n",
    "plt.xlabel('False Positive Rate (FPR)')\n",
    "plt.ylabel('True Positive Rate (TPR)')\n",
    "plt.title('ROC curve')\n",
    "plt.legend(loc=\"lower right\")\n",
    "plt.show()"
   ]
  },
  {
   "cell_type": "code",
   "execution_count": 118,
   "id": "105495b5",
   "metadata": {},
   "outputs": [
    {
     "data": {
      "text/html": [
       "<div>\n",
       "<style scoped>\n",
       "    .dataframe tbody tr th:only-of-type {\n",
       "        vertical-align: middle;\n",
       "    }\n",
       "\n",
       "    .dataframe tbody tr th {\n",
       "        vertical-align: top;\n",
       "    }\n",
       "\n",
       "    .dataframe thead th {\n",
       "        text-align: right;\n",
       "    }\n",
       "</style>\n",
       "<table border=\"1\" class=\"dataframe\">\n",
       "  <thead>\n",
       "    <tr style=\"text-align: right;\">\n",
       "      <th></th>\n",
       "      <th>Name</th>\n",
       "      <th>Accuracy</th>\n",
       "      <th>Precision</th>\n",
       "      <th>Recall</th>\n",
       "      <th>F1-Score</th>\n",
       "      <th>ROC Score</th>\n",
       "    </tr>\n",
       "  </thead>\n",
       "  <tbody>\n",
       "    <tr>\n",
       "      <th>0</th>\n",
       "      <td>KNN</td>\n",
       "      <td>96.91</td>\n",
       "      <td>94.84</td>\n",
       "      <td>99.28</td>\n",
       "      <td>97.01</td>\n",
       "      <td>96.88</td>\n",
       "    </tr>\n",
       "    <tr>\n",
       "      <th>1</th>\n",
       "      <td>DTC</td>\n",
       "      <td>96.74</td>\n",
       "      <td>94.83</td>\n",
       "      <td>98.94</td>\n",
       "      <td>96.84</td>\n",
       "      <td>96.72</td>\n",
       "    </tr>\n",
       "    <tr>\n",
       "      <th>2</th>\n",
       "      <td>RFC</td>\n",
       "      <td>97.85</td>\n",
       "      <td>96.35</td>\n",
       "      <td>99.52</td>\n",
       "      <td>97.91</td>\n",
       "      <td>97.83</td>\n",
       "    </tr>\n",
       "    <tr>\n",
       "      <th>3</th>\n",
       "      <td>SVC</td>\n",
       "      <td>93.66</td>\n",
       "      <td>92.95</td>\n",
       "      <td>94.63</td>\n",
       "      <td>93.79</td>\n",
       "      <td>93.65</td>\n",
       "    </tr>\n",
       "    <tr>\n",
       "      <th>4</th>\n",
       "      <td>XG Boost</td>\n",
       "      <td>96.21</td>\n",
       "      <td>95.38</td>\n",
       "      <td>97.20</td>\n",
       "      <td>96.28</td>\n",
       "      <td>96.20</td>\n",
       "    </tr>\n",
       "  </tbody>\n",
       "</table>\n",
       "</div>"
      ],
      "text/plain": [
       "       Name  Accuracy  Precision  Recall  F1-Score  ROC Score\n",
       "0       KNN     96.91      94.84   99.28     97.01      96.88\n",
       "1       DTC     96.74      94.83   98.94     96.84      96.72\n",
       "2       RFC     97.85      96.35   99.52     97.91      97.83\n",
       "3       SVC     93.66      92.95   94.63     93.79      93.65\n",
       "4  XG Boost     96.21      95.38   97.20     96.28      96.20"
      ]
     },
     "execution_count": 118,
     "metadata": {},
     "output_type": "execute_result"
    }
   ],
   "source": [
    "models = []\n",
    "from sklearn.neighbors import KNeighborsClassifier\n",
    "from sklearn.tree import DecisionTreeClassifier\n",
    "from sklearn.ensemble import RandomForestClassifier\n",
    "from sklearn.svm import SVC\n",
    "from xgboost import XGBClassifier\n",
    "#{'leaf_size': 26, 'metric': 'manhattan', 'n_neighbors': 1, 'weights': 'uniform'}\n",
    "models.append(('KNN', KNeighborsClassifier(leaf_size = 26, metric ='manhattan', n_neighbors = 1, weights = 'uniform')))\n",
    "models.append(('DTC', DecisionTreeClassifier(criterion = 'gini', max_depth = 19, max_features = 'auto', random_state=50)))\n",
    "models.append(('RFC', RandomForestClassifier(random_state=50)))\n",
    "models.append(('SVC', SVC(C=1000,gamma=1,random_state=50,probability=True)))\n",
    "models.append(('XG Boost', XGBClassifier(objective=\"binary:logistic\", random_state=50, eval_metric=\"auc\")))\n",
    "\n",
    "names = []\n",
    "scores = []\n",
    "rec = []\n",
    "pre = []\n",
    "f = []\n",
    "roc = []\n",
    "for name, model in models:\n",
    "    model.fit(X_train, y_train)\n",
    "    y_pred = model.predict(X_test)\n",
    "    scores.append(round((accuracy_score(y_test, y_pred)*100), 2))\n",
    "    pre.append(round((precision_score(y_test,y_pred)*100), 2))\n",
    "    rec.append(round((recall_score(y_test,y_pred)*100), 2))           \n",
    "    f.append(round((f1_score(y_test,y_pred)*100), 2))          \n",
    "    roc.append(round((roc_auc_score(y_test,y_pred)*100), 2))\n",
    "    \n",
    "    names.append(name)\n",
    "tr_split = pd.DataFrame({'Name': names, 'Accuracy': scores, 'Precision': pre, 'Recall': rec, \"F1-Score\": f, \"ROC Score\": roc})\n",
    "tr_split\n"
   ]
  },
  {
   "cell_type": "code",
   "execution_count": 119,
   "id": "47bb28a6",
   "metadata": {},
   "outputs": [
    {
     "data": {
      "image/png": "[encoded data removed]",
      "text/plain": [
       "<Figure size 640x480 with 1 Axes>"
      ]
     },
     "metadata": {},
     "output_type": "display_data"
    }
   ],
   "source": [
    "import seaborn as sns\n",
    "axis = sns.barplot(x = 'Name', y = 'Accuracy', data =tr_split )\n",
    "axis.set(xlabel='Classifier Models', ylabel='Accuracy of the Model')\n",
    "for p in axis.patches:\n",
    "    height = p.get_height()\n",
    "    axis.text(p.get_x() + p.get_width()/2, height + 0.90, '{:1.4f}'.format(height), ha=\"center\") \n",
    "    \n",
    "plt.show()"
   ]
  },
  {
   "cell_type": "code",
   "execution_count": 120,
   "id": "79b1d682",
   "metadata": {},
   "outputs": [
    {
     "data": {
      "image/png": "[encoded data removed]",
      "text/plain": [
       "<Figure size 640x480 with 1 Axes>"
      ]
     },
     "metadata": {},
     "output_type": "display_data"
    }
   ],
   "source": [
    "import seaborn as sns\n",
    "axis = sns.barplot(x = 'Name', y = 'Precision', data =tr_split )\n",
    "axis.set(xlabel='Classifier Models', ylabel='Precision of the Model')\n",
    "for p in axis.patches:\n",
    "    height = p.get_height()\n",
    "    axis.text(p.get_x() + p.get_width()/2, height + 0.90, '{:1.4f}'.format(height), ha=\"center\") \n",
    "    \n",
    "plt.show()"
   ]
  },
  {
   "cell_type": "code",
   "execution_count": 121,
   "id": "625687d7",
   "metadata": {},
   "outputs": [
    {
     "data": {
      "image/png": "[encoded data removed]",
      "text/plain": [
       "<Figure size 640x480 with 1 Axes>"
      ]
     },
     "metadata": {},
     "output_type": "display_data"
    }
   ],
   "source": [
    "import seaborn as sns\n",
    "axis = sns.barplot(x = 'Name', y = 'Recall', data =tr_split )\n",
    "axis.set(xlabel='Classifier Models', ylabel='Recall of the Model')\n",
    "for p in axis.patches:\n",
    "    height = p.get_height()\n",
    "    axis.text(p.get_x() + p.get_width()/2, height + 0.90, '{:1.4f}'.format(height), ha=\"center\") \n",
    "    \n",
    "plt.show()"
   ]
  },
  {
   "cell_type": "code",
   "execution_count": 122,
   "id": "a5e764a5",
   "metadata": {},
   "outputs": [
    {
     "data": {
      "image/png": "[encoded data removed]",
      "text/plain": [
       "<Figure size 640x480 with 1 Axes>"
      ]
     },
     "metadata": {},
     "output_type": "display_data"
    }
   ],
   "source": [
    "import seaborn as sns\n",
    "axis = sns.barplot(x = 'Name', y = 'F1-Score', data =tr_split )\n",
    "axis.set(xlabel='Classifier Models', ylabel='F1-Score of the Model')\n",
    "for p in axis.patches:\n",
    "    height = p.get_height()\n",
    "    axis.text(p.get_x() + p.get_width()/2, height + 0.90, '{:1.4f}'.format(height), ha=\"center\") \n",
    "    \n",
    "plt.show()"
   ]
  },
  {
   "cell_type": "code",
   "execution_count": 123,
   "id": "ba686b13",
   "metadata": {},
   "outputs": [
    {
     "data": {
      "image/png": "[encoded data removed]",
      "text/plain": [
       "<Figure size 640x480 with 1 Axes>"
      ]
     },
     "metadata": {},
     "output_type": "display_data"
    }
   ],
   "source": [
    "import seaborn as sns\n",
    "axis = sns.barplot(x = 'Name', y = 'ROC Score', data =tr_split )\n",
    "axis.set(xlabel='Classifier Models', ylabel='ROC Score of the Model')\n",
    "for p in axis.patches:\n",
    "    height = p.get_height()\n",
    "    axis.text(p.get_x() + p.get_width()/2, height + 0.90, '{:1.4f}'.format(height), ha=\"center\") \n",
    "    \n",
    "plt.show()\n"
   ]
  },
  {
   "cell_type": "code",
   "execution_count": null,
   "id": "4836e6cf",
   "metadata": {},
   "outputs": [],
   "source": []
  }
 ],
 "metadata": {
  "colab": {
   "collapsed_sections": [
    "1f20332f",
    "04b02011",
    "f4290167",
    "a6004a97",
    "a3853f18",
    "499cdea8",
    "240c95da",
    "ce1deb3a",
    "cff5cf5b",
    "23b76a20",
    "7c528fbe",
    "6fce1fbb",
    "cc5ae134",
    "8473e37c",
    "d6fa4856",
    "78ed332e"
   ],
   "provenance": []
  },
  "kernelspec": {
   "display_name": "Python 3 (ipykernel)",
   "language": "python",
   "name": "python3"
  },
  "language_info": {
   "codemirror_mode": {
    "name": "ipython",
    "version": 3
   },
   "file_extension": ".py",
   "mimetype": "text/x-python",
   "name": "python",
   "nbconvert_exporter": "python",
   "pygments_lexer": "ipython3",
   "version": "3.9.12"
  }
 },
 "nbformat": 4,
 "nbformat_minor": 5
}
